{
 "cells": [
  {
   "cell_type": "markdown",
   "id": "closing-philippines",
   "metadata": {},
   "source": [
    "## Analysis on the E-Commerce Dataset from the UCI Machine Learning Repository. "
   ]
  },
  {
   "cell_type": "markdown",
   "id": "elementary-commonwealth",
   "metadata": {},
   "source": [
    "From knowing which products to buy, how many of them and when, to marketing the right products to the right customers at the right time, there are plenty of uses for data in retail - from the biggest multi-nationals to the smallest, single-outlet shop. By analysing customer purchase and product sales history, we can group products and customers into groups that behave similarly, and make data-driven business decisions that can improve a wide range of inventory and sales key performance indicators (KPIs)."
   ]
  },
  {
   "cell_type": "markdown",
   "id": "classical-latest",
   "metadata": {},
   "source": [
    "### Link for dataset\n",
    "\n",
    "https://www.kaggle.com/carrie1/ecommerce-data"
   ]
  },
  {
   "cell_type": "code",
   "execution_count": 1,
   "id": "extra-improvement",
   "metadata": {},
   "outputs": [
    {
     "name": "stderr",
     "output_type": "stream",
     "text": [
      "Warning message:\n",
      "\"package 'readr' was built under R version 3.6.3\""
     ]
    }
   ],
   "source": [
    "library(readr)"
   ]
  },
  {
   "cell_type": "code",
   "execution_count": 2,
   "id": "deluxe-withdrawal",
   "metadata": {},
   "outputs": [
    {
     "name": "stderr",
     "output_type": "stream",
     "text": [
      "\n",
      "-- Column specification --------------------------------------------------------\n",
      "cols(\n",
      "  InvoiceNo = col_character(),\n",
      "  StockCode = col_character(),\n",
      "  Description = col_character(),\n",
      "  Quantity = col_double(),\n",
      "  InvoiceDate = col_character(),\n",
      "  UnitPrice = col_double(),\n",
      "  CustomerID = col_double(),\n",
      "  Country = col_character()\n",
      ")\n",
      "\n"
     ]
    }
   ],
   "source": [
    "custData <- read_csv(\"data.csv\")"
   ]
  },
  {
   "cell_type": "code",
   "execution_count": 3,
   "id": "expected-nickname",
   "metadata": {},
   "outputs": [
    {
     "name": "stderr",
     "output_type": "stream",
     "text": [
      "Warning message:\n",
      "\"package 'ggplot2' was built under R version 3.6.3\""
     ]
    }
   ],
   "source": [
    "library(ggplot2)"
   ]
  },
  {
   "cell_type": "code",
   "execution_count": 4,
   "id": "interracial-camera",
   "metadata": {},
   "outputs": [
    {
     "name": "stderr",
     "output_type": "stream",
     "text": [
      "Warning message:\n",
      "\"package 'data.table' was built under R version 3.6.3\""
     ]
    }
   ],
   "source": [
    "library(data.table)"
   ]
  },
  {
   "cell_type": "code",
   "execution_count": 5,
   "id": "hungry-glucose",
   "metadata": {},
   "outputs": [
    {
     "name": "stderr",
     "output_type": "stream",
     "text": [
      "Warning message:\n",
      "\"package 'dplyr' was built under R version 3.6.3\"\n",
      "Attaching package: 'dplyr'\n",
      "\n",
      "The following objects are masked from 'package:data.table':\n",
      "\n",
      "    between, first, last\n",
      "\n",
      "The following objects are masked from 'package:stats':\n",
      "\n",
      "    filter, lag\n",
      "\n",
      "The following objects are masked from 'package:base':\n",
      "\n",
      "    intersect, setdiff, setequal, union\n",
      "\n"
     ]
    },
    {
     "name": "stdout",
     "output_type": "stream",
     "text": [
      "Rows: 541,909\n",
      "Columns: 8\n",
      "$ InvoiceNo   <chr> \"536365\", \"536365\", \"536365\", \"536365\", \"536365\", \"536365\"~\n",
      "$ StockCode   <chr> \"85123A\", \"71053\", \"84406B\", \"84029G\", \"84029E\", \"22752\", ~\n",
      "$ Description <chr> \"WHITE HANGING HEART T-LIGHT HOLDER\", \"WHITE METAL LANTERN~\n",
      "$ Quantity    <dbl> 6, 6, 8, 6, 6, 2, 6, 6, 6, 32, 6, 6, 8, 6, 6, 3, 2, 3, 3, ~\n",
      "$ InvoiceDate <chr> \"12/1/2010 8:26\", \"12/1/2010 8:26\", \"12/1/2010 8:26\", \"12/~\n",
      "$ UnitPrice   <dbl> 2.55, 3.39, 2.75, 3.39, 3.39, 7.65, 4.25, 1.85, 1.85, 1.69~\n",
      "$ CustomerID  <dbl> 17850, 17850, 17850, 17850, 17850, 17850, 17850, 17850, 17~\n",
      "$ Country     <chr> \"United Kingdom\", \"United Kingdom\", \"United Kingdom\", \"Uni~\n"
     ]
    },
    {
     "data": {
      "text/html": [
       "<ol class=list-inline>\n",
       "\t<li>541909</li>\n",
       "\t<li>8</li>\n",
       "</ol>\n"
      ],
      "text/latex": [
       "\\begin{enumerate*}\n",
       "\\item 541909\n",
       "\\item 8\n",
       "\\end{enumerate*}\n"
      ],
      "text/markdown": [
       "1. 541909\n",
       "2. 8\n",
       "\n",
       "\n"
      ],
      "text/plain": [
       "[1] 541909      8"
      ]
     },
     "metadata": {},
     "output_type": "display_data"
    }
   ],
   "source": [
    "#Data glimpse\n",
    "library(dplyr)\n",
    "glimpse(custData)\n",
    "dim(custData)"
   ]
  },
  {
   "cell_type": "code",
   "execution_count": 6,
   "id": "congressional-arlington",
   "metadata": {},
   "outputs": [],
   "source": [
    "options(repr.plot.width=8, repr.plot.height=3)"
   ]
  },
  {
   "cell_type": "code",
   "execution_count": 7,
   "id": "young-sending",
   "metadata": {},
   "outputs": [],
   "source": [
    "library(dplyr)"
   ]
  },
  {
   "cell_type": "code",
   "execution_count": 8,
   "id": "lonely-venture",
   "metadata": {},
   "outputs": [],
   "source": [
    "#install.packages('DT')"
   ]
  },
  {
   "cell_type": "code",
   "execution_count": 9,
   "id": "pending-pipeline",
   "metadata": {},
   "outputs": [
    {
     "name": "stdout",
     "output_type": "stream",
     "text": [
      "package 'Rcpp' successfully unpacked and MD5 sums checked\n"
     ]
    },
    {
     "name": "stderr",
     "output_type": "stream",
     "text": [
      "Warning message:\n",
      "\"cannot remove prior installation of package 'Rcpp'\"Warning message in file.copy(savedcopy, lib, recursive = TRUE):\n",
      "\"problem copying C:\\Users\\DELL\\anaconda3\\envs\\r-tutoria\\Lib\\R\\library\\00LOCK\\Rcpp\\libs\\x64\\Rcpp.dll to C:\\Users\\DELL\\anaconda3\\envs\\r-tutoria\\Lib\\R\\library\\Rcpp\\libs\\x64\\Rcpp.dll: Permission denied\"Warning message:\n",
      "\"restored 'Rcpp'\""
     ]
    },
    {
     "name": "stdout",
     "output_type": "stream",
     "text": [
      "\n",
      "The downloaded binary packages are in\n",
      "\tC:\\Users\\DELL\\AppData\\Local\\Temp\\RtmpGuo5jr\\downloaded_packages\n"
     ]
    }
   ],
   "source": [
    "install.packages('Rcpp', dependencies = TRUE)\n",
    "#install.packages('ggplot2', dependencies = TRUE)\n",
    "#install.packages('data.table', dependencies = TRUE)"
   ]
  },
  {
   "cell_type": "code",
   "execution_count": 10,
   "id": "creative-africa",
   "metadata": {},
   "outputs": [],
   "source": [
    "\n",
    "#install.packages(\"data.table\")\n"
   ]
  },
  {
   "cell_type": "code",
   "execution_count": 11,
   "id": "loving-orange",
   "metadata": {},
   "outputs": [
    {
     "name": "stdout",
     "output_type": "stream",
     "text": [
      "package 'Rcpp' successfully unpacked and MD5 sums checked\n"
     ]
    },
    {
     "name": "stderr",
     "output_type": "stream",
     "text": [
      "Warning message:\n",
      "\"cannot remove prior installation of package 'Rcpp'\"Warning message in file.copy(savedcopy, lib, recursive = TRUE):\n",
      "\"problem copying C:\\Users\\DELL\\anaconda3\\envs\\r-tutoria\\Lib\\R\\library\\00LOCK\\Rcpp\\libs\\x64\\Rcpp.dll to C:\\Users\\DELL\\anaconda3\\envs\\r-tutoria\\Lib\\R\\library\\Rcpp\\libs\\x64\\Rcpp.dll: Permission denied\"Warning message:\n",
      "\"restored 'Rcpp'\""
     ]
    },
    {
     "name": "stdout",
     "output_type": "stream",
     "text": [
      "\n",
      "The downloaded binary packages are in\n",
      "\tC:\\Users\\DELL\\AppData\\Local\\Temp\\RtmpGuo5jr\\downloaded_packages\n"
     ]
    }
   ],
   "source": [
    "install.packages(\"Rcpp\")"
   ]
  },
  {
   "cell_type": "code",
   "execution_count": 12,
   "id": "animal-harbor",
   "metadata": {},
   "outputs": [],
   "source": [
    "library(Rcpp)"
   ]
  },
  {
   "cell_type": "code",
   "execution_count": 13,
   "id": "diagnostic-radiation",
   "metadata": {},
   "outputs": [
    {
     "data": {
      "text/html": [
       "<ol class=list-inline>\n",
       "\t<li>406829</li>\n",
       "\t<li>8</li>\n",
       "</ol>\n"
      ],
      "text/latex": [
       "\\begin{enumerate*}\n",
       "\\item 406829\n",
       "\\item 8\n",
       "\\end{enumerate*}\n"
      ],
      "text/markdown": [
       "1. 406829\n",
       "2. 8\n",
       "\n",
       "\n"
      ],
      "text/plain": [
       "[1] 406829      8"
      ]
     },
     "metadata": {},
     "output_type": "display_data"
    }
   ],
   "source": [
    "#Remove missing values\n",
    "custData <- na.omit(custData)\n",
    "dim(custData)"
   ]
  },
  {
   "cell_type": "code",
   "execution_count": 14,
   "id": "worse-sandwich",
   "metadata": {},
   "outputs": [],
   "source": [
    "# separate date and time components of invoice date\n",
    "custData$date <- sapply(custData$InvoiceDate, FUN = function(x) {strsplit(x, split = '[ ]')[[1]][1]})\n",
    "custData$time <- sapply(custData$InvoiceDate, FUN = function(x) {strsplit(x, split = '[ ]')[[1]][2]})"
   ]
  },
  {
   "cell_type": "code",
   "execution_count": 15,
   "id": "owned-industry",
   "metadata": {},
   "outputs": [],
   "source": [
    "# create month, year and hour of day variables\n",
    "custData$month <- sapply(custData$date, FUN = function(x) {strsplit(x, split = '[/]')[[1]][1]})\n",
    "custData$year <- sapply(custData$date, FUN = function(x) {strsplit(x, split = '[/]')[[1]][3]})\n",
    "custData$hourOfDay <- sapply(custData$time, FUN = function(x) {strsplit(x, split = '[:]')[[1]][1]})"
   ]
  },
  {
   "cell_type": "code",
   "execution_count": 16,
   "id": "naked-placement",
   "metadata": {},
   "outputs": [
    {
     "data": {
      "text/html": [
       "<table>\n",
       "<thead><tr><th scope=col>InvoiceNo</th><th scope=col>StockCode</th><th scope=col>Description</th><th scope=col>Quantity</th><th scope=col>InvoiceDate</th><th scope=col>UnitPrice</th><th scope=col>CustomerID</th><th scope=col>Country</th><th scope=col>date</th><th scope=col>time</th><th scope=col>month</th><th scope=col>year</th><th scope=col>hourOfDay</th></tr></thead>\n",
       "<tbody>\n",
       "\t<tr><td>536365                             </td><td>85123A                             </td><td>WHITE HANGING HEART T-LIGHT HOLDER </td><td>6                                  </td><td>12/1/2010 8:26                     </td><td>2.55                               </td><td>17850                              </td><td>United Kingdom                     </td><td>12/1/2010                          </td><td>8:26                               </td><td>12                                 </td><td>2010                               </td><td>8                                  </td></tr>\n",
       "\t<tr><td>536365                             </td><td>71053                              </td><td>WHITE METAL LANTERN                </td><td>6                                  </td><td>12/1/2010 8:26                     </td><td>3.39                               </td><td>17850                              </td><td>United Kingdom                     </td><td>12/1/2010                          </td><td>8:26                               </td><td>12                                 </td><td>2010                               </td><td>8                                  </td></tr>\n",
       "\t<tr><td>536365                             </td><td>84406B                             </td><td>CREAM CUPID HEARTS COAT HANGER     </td><td>8                                  </td><td>12/1/2010 8:26                     </td><td>2.75                               </td><td>17850                              </td><td>United Kingdom                     </td><td>12/1/2010                          </td><td>8:26                               </td><td>12                                 </td><td>2010                               </td><td>8                                  </td></tr>\n",
       "\t<tr><td>536365                             </td><td>84029G                             </td><td>KNITTED UNION FLAG HOT WATER BOTTLE</td><td>6                                  </td><td>12/1/2010 8:26                     </td><td>3.39                               </td><td>17850                              </td><td>United Kingdom                     </td><td>12/1/2010                          </td><td>8:26                               </td><td>12                                 </td><td>2010                               </td><td>8                                  </td></tr>\n",
       "\t<tr><td>536365                             </td><td>84029E                             </td><td>RED WOOLLY HOTTIE WHITE HEART.     </td><td>6                                  </td><td>12/1/2010 8:26                     </td><td>3.39                               </td><td>17850                              </td><td>United Kingdom                     </td><td>12/1/2010                          </td><td>8:26                               </td><td>12                                 </td><td>2010                               </td><td>8                                  </td></tr>\n",
       "</tbody>\n",
       "</table>\n"
      ],
      "text/latex": [
       "\\begin{tabular}{r|lllllllllllll}\n",
       " InvoiceNo & StockCode & Description & Quantity & InvoiceDate & UnitPrice & CustomerID & Country & date & time & month & year & hourOfDay\\\\\n",
       "\\hline\n",
       "\t 536365                              & 85123A                              & WHITE HANGING HEART T-LIGHT HOLDER  & 6                                   & 12/1/2010 8:26                      & 2.55                                & 17850                               & United Kingdom                      & 12/1/2010                           & 8:26                                & 12                                  & 2010                                & 8                                  \\\\\n",
       "\t 536365                              & 71053                               & WHITE METAL LANTERN                 & 6                                   & 12/1/2010 8:26                      & 3.39                                & 17850                               & United Kingdom                      & 12/1/2010                           & 8:26                                & 12                                  & 2010                                & 8                                  \\\\\n",
       "\t 536365                              & 84406B                              & CREAM CUPID HEARTS COAT HANGER      & 8                                   & 12/1/2010 8:26                      & 2.75                                & 17850                               & United Kingdom                      & 12/1/2010                           & 8:26                                & 12                                  & 2010                                & 8                                  \\\\\n",
       "\t 536365                              & 84029G                              & KNITTED UNION FLAG HOT WATER BOTTLE & 6                                   & 12/1/2010 8:26                      & 3.39                                & 17850                               & United Kingdom                      & 12/1/2010                           & 8:26                                & 12                                  & 2010                                & 8                                  \\\\\n",
       "\t 536365                              & 84029E                              & RED WOOLLY HOTTIE WHITE HEART.      & 6                                   & 12/1/2010 8:26                      & 3.39                                & 17850                               & United Kingdom                      & 12/1/2010                           & 8:26                                & 12                                  & 2010                                & 8                                  \\\\\n",
       "\\end{tabular}\n"
      ],
      "text/markdown": [
       "\n",
       "| InvoiceNo | StockCode | Description | Quantity | InvoiceDate | UnitPrice | CustomerID | Country | date | time | month | year | hourOfDay |\n",
       "|---|---|---|---|---|---|---|---|---|---|---|---|---|\n",
       "| 536365                              | 85123A                              | WHITE HANGING HEART T-LIGHT HOLDER  | 6                                   | 12/1/2010 8:26                      | 2.55                                | 17850                               | United Kingdom                      | 12/1/2010                           | 8:26                                | 12                                  | 2010                                | 8                                   |\n",
       "| 536365                              | 71053                               | WHITE METAL LANTERN                 | 6                                   | 12/1/2010 8:26                      | 3.39                                | 17850                               | United Kingdom                      | 12/1/2010                           | 8:26                                | 12                                  | 2010                                | 8                                   |\n",
       "| 536365                              | 84406B                              | CREAM CUPID HEARTS COAT HANGER      | 8                                   | 12/1/2010 8:26                      | 2.75                                | 17850                               | United Kingdom                      | 12/1/2010                           | 8:26                                | 12                                  | 2010                                | 8                                   |\n",
       "| 536365                              | 84029G                              | KNITTED UNION FLAG HOT WATER BOTTLE | 6                                   | 12/1/2010 8:26                      | 3.39                                | 17850                               | United Kingdom                      | 12/1/2010                           | 8:26                                | 12                                  | 2010                                | 8                                   |\n",
       "| 536365                              | 84029E                              | RED WOOLLY HOTTIE WHITE HEART.      | 6                                   | 12/1/2010 8:26                      | 3.39                                | 17850                               | United Kingdom                      | 12/1/2010                           | 8:26                                | 12                                  | 2010                                | 8                                   |\n",
       "\n"
      ],
      "text/plain": [
       "  InvoiceNo StockCode Description                         Quantity\n",
       "1 536365    85123A    WHITE HANGING HEART T-LIGHT HOLDER  6       \n",
       "2 536365    71053     WHITE METAL LANTERN                 6       \n",
       "3 536365    84406B    CREAM CUPID HEARTS COAT HANGER      8       \n",
       "4 536365    84029G    KNITTED UNION FLAG HOT WATER BOTTLE 6       \n",
       "5 536365    84029E    RED WOOLLY HOTTIE WHITE HEART.      6       \n",
       "  InvoiceDate    UnitPrice CustomerID Country        date      time month year\n",
       "1 12/1/2010 8:26 2.55      17850      United Kingdom 12/1/2010 8:26 12    2010\n",
       "2 12/1/2010 8:26 3.39      17850      United Kingdom 12/1/2010 8:26 12    2010\n",
       "3 12/1/2010 8:26 2.75      17850      United Kingdom 12/1/2010 8:26 12    2010\n",
       "4 12/1/2010 8:26 3.39      17850      United Kingdom 12/1/2010 8:26 12    2010\n",
       "5 12/1/2010 8:26 3.39      17850      United Kingdom 12/1/2010 8:26 12    2010\n",
       "  hourOfDay\n",
       "1 8        \n",
       "2 8        \n",
       "3 8        \n",
       "4 8        \n",
       "5 8        "
      ]
     },
     "metadata": {},
     "output_type": "display_data"
    }
   ],
   "source": [
    "head(custData, n =5)"
   ]
  },
  {
   "cell_type": "code",
   "execution_count": 17,
   "id": "documentary-meaning",
   "metadata": {},
   "outputs": [],
   "source": [
    "custData$date <- as.Date(custData$date, \"%m/%d/%Y\")"
   ]
  },
  {
   "cell_type": "code",
   "execution_count": 18,
   "id": "bored-clock",
   "metadata": {},
   "outputs": [
    {
     "name": "stderr",
     "output_type": "stream",
     "text": [
      "\n",
      "Attaching package: 'lubridate'\n",
      "\n",
      "The following objects are masked from 'package:data.table':\n",
      "\n",
      "    hour, isoweek, mday, minute, month, quarter, second, wday, week,\n",
      "    yday, year\n",
      "\n",
      "The following object is masked from 'package:base':\n",
      "\n",
      "    date\n",
      "\n"
     ]
    }
   ],
   "source": [
    "#We have converted the date variable to a date class, we can create a new variable that tells us the day of the week, using the wday function from the lubridate package\n",
    "library(lubridate)\n",
    "custData$dayOfWeek <- wday(custData$date, label=TRUE)"
   ]
  },
  {
   "cell_type": "code",
   "execution_count": 19,
   "id": "judicial-subscriber",
   "metadata": {},
   "outputs": [],
   "source": [
    "# calculate the line total \n",
    "custData <- custData %>% mutate(lineTotal = Quantity * UnitPrice)"
   ]
  },
  {
   "cell_type": "code",
   "execution_count": 20,
   "id": "figured-aerospace",
   "metadata": {},
   "outputs": [
    {
     "data": {
      "text/html": [
       "<table>\n",
       "<thead><tr><th scope=col>InvoiceNo</th><th scope=col>StockCode</th><th scope=col>Description</th><th scope=col>Quantity</th><th scope=col>InvoiceDate</th><th scope=col>UnitPrice</th><th scope=col>CustomerID</th><th scope=col>Country</th><th scope=col>date</th><th scope=col>time</th><th scope=col>month</th><th scope=col>year</th><th scope=col>hourOfDay</th><th scope=col>dayOfWeek</th><th scope=col>lineTotal</th></tr></thead>\n",
       "<tbody>\n",
       "\t<tr><td>536365                             </td><td>85123A                             </td><td>WHITE HANGING HEART T-LIGHT HOLDER </td><td>6                                  </td><td>12/1/2010 8:26                     </td><td>2.55                               </td><td>17850                              </td><td>United Kingdom                     </td><td>2010-12-01                         </td><td>8:26                               </td><td>12                                 </td><td>2010                               </td><td>8                                  </td><td>Wed                                </td><td>15.30                              </td></tr>\n",
       "\t<tr><td>536365                             </td><td>71053                              </td><td>WHITE METAL LANTERN                </td><td>6                                  </td><td>12/1/2010 8:26                     </td><td>3.39                               </td><td>17850                              </td><td>United Kingdom                     </td><td>2010-12-01                         </td><td>8:26                               </td><td>12                                 </td><td>2010                               </td><td>8                                  </td><td>Wed                                </td><td>20.34                              </td></tr>\n",
       "\t<tr><td>536365                             </td><td>84406B                             </td><td>CREAM CUPID HEARTS COAT HANGER     </td><td>8                                  </td><td>12/1/2010 8:26                     </td><td>2.75                               </td><td>17850                              </td><td>United Kingdom                     </td><td>2010-12-01                         </td><td>8:26                               </td><td>12                                 </td><td>2010                               </td><td>8                                  </td><td>Wed                                </td><td>22.00                              </td></tr>\n",
       "\t<tr><td>536365                             </td><td>84029G                             </td><td>KNITTED UNION FLAG HOT WATER BOTTLE</td><td>6                                  </td><td>12/1/2010 8:26                     </td><td>3.39                               </td><td>17850                              </td><td>United Kingdom                     </td><td>2010-12-01                         </td><td>8:26                               </td><td>12                                 </td><td>2010                               </td><td>8                                  </td><td>Wed                                </td><td>20.34                              </td></tr>\n",
       "\t<tr><td>536365                             </td><td>84029E                             </td><td>RED WOOLLY HOTTIE WHITE HEART.     </td><td>6                                  </td><td>12/1/2010 8:26                     </td><td>3.39                               </td><td>17850                              </td><td>United Kingdom                     </td><td>2010-12-01                         </td><td>8:26                               </td><td>12                                 </td><td>2010                               </td><td>8                                  </td><td>Wed                                </td><td>20.34                              </td></tr>\n",
       "\t<tr><td>536365                             </td><td>22752                              </td><td>SET 7 BABUSHKA NESTING BOXES       </td><td>2                                  </td><td>12/1/2010 8:26                     </td><td>7.65                               </td><td>17850                              </td><td>United Kingdom                     </td><td>2010-12-01                         </td><td>8:26                               </td><td>12                                 </td><td>2010                               </td><td>8                                  </td><td>Wed                                </td><td>15.30                              </td></tr>\n",
       "</tbody>\n",
       "</table>\n"
      ],
      "text/latex": [
       "\\begin{tabular}{r|lllllllllllllll}\n",
       " InvoiceNo & StockCode & Description & Quantity & InvoiceDate & UnitPrice & CustomerID & Country & date & time & month & year & hourOfDay & dayOfWeek & lineTotal\\\\\n",
       "\\hline\n",
       "\t 536365                              & 85123A                              & WHITE HANGING HEART T-LIGHT HOLDER  & 6                                   & 12/1/2010 8:26                      & 2.55                                & 17850                               & United Kingdom                      & 2010-12-01                          & 8:26                                & 12                                  & 2010                                & 8                                   & Wed                                 & 15.30                              \\\\\n",
       "\t 536365                              & 71053                               & WHITE METAL LANTERN                 & 6                                   & 12/1/2010 8:26                      & 3.39                                & 17850                               & United Kingdom                      & 2010-12-01                          & 8:26                                & 12                                  & 2010                                & 8                                   & Wed                                 & 20.34                              \\\\\n",
       "\t 536365                              & 84406B                              & CREAM CUPID HEARTS COAT HANGER      & 8                                   & 12/1/2010 8:26                      & 2.75                                & 17850                               & United Kingdom                      & 2010-12-01                          & 8:26                                & 12                                  & 2010                                & 8                                   & Wed                                 & 22.00                              \\\\\n",
       "\t 536365                              & 84029G                              & KNITTED UNION FLAG HOT WATER BOTTLE & 6                                   & 12/1/2010 8:26                      & 3.39                                & 17850                               & United Kingdom                      & 2010-12-01                          & 8:26                                & 12                                  & 2010                                & 8                                   & Wed                                 & 20.34                              \\\\\n",
       "\t 536365                              & 84029E                              & RED WOOLLY HOTTIE WHITE HEART.      & 6                                   & 12/1/2010 8:26                      & 3.39                                & 17850                               & United Kingdom                      & 2010-12-01                          & 8:26                                & 12                                  & 2010                                & 8                                   & Wed                                 & 20.34                              \\\\\n",
       "\t 536365                              & 22752                               & SET 7 BABUSHKA NESTING BOXES        & 2                                   & 12/1/2010 8:26                      & 7.65                                & 17850                               & United Kingdom                      & 2010-12-01                          & 8:26                                & 12                                  & 2010                                & 8                                   & Wed                                 & 15.30                              \\\\\n",
       "\\end{tabular}\n"
      ],
      "text/markdown": [
       "\n",
       "| InvoiceNo | StockCode | Description | Quantity | InvoiceDate | UnitPrice | CustomerID | Country | date | time | month | year | hourOfDay | dayOfWeek | lineTotal |\n",
       "|---|---|---|---|---|---|---|---|---|---|---|---|---|---|---|\n",
       "| 536365                              | 85123A                              | WHITE HANGING HEART T-LIGHT HOLDER  | 6                                   | 12/1/2010 8:26                      | 2.55                                | 17850                               | United Kingdom                      | 2010-12-01                          | 8:26                                | 12                                  | 2010                                | 8                                   | Wed                                 | 15.30                               |\n",
       "| 536365                              | 71053                               | WHITE METAL LANTERN                 | 6                                   | 12/1/2010 8:26                      | 3.39                                | 17850                               | United Kingdom                      | 2010-12-01                          | 8:26                                | 12                                  | 2010                                | 8                                   | Wed                                 | 20.34                               |\n",
       "| 536365                              | 84406B                              | CREAM CUPID HEARTS COAT HANGER      | 8                                   | 12/1/2010 8:26                      | 2.75                                | 17850                               | United Kingdom                      | 2010-12-01                          | 8:26                                | 12                                  | 2010                                | 8                                   | Wed                                 | 22.00                               |\n",
       "| 536365                              | 84029G                              | KNITTED UNION FLAG HOT WATER BOTTLE | 6                                   | 12/1/2010 8:26                      | 3.39                                | 17850                               | United Kingdom                      | 2010-12-01                          | 8:26                                | 12                                  | 2010                                | 8                                   | Wed                                 | 20.34                               |\n",
       "| 536365                              | 84029E                              | RED WOOLLY HOTTIE WHITE HEART.      | 6                                   | 12/1/2010 8:26                      | 3.39                                | 17850                               | United Kingdom                      | 2010-12-01                          | 8:26                                | 12                                  | 2010                                | 8                                   | Wed                                 | 20.34                               |\n",
       "| 536365                              | 22752                               | SET 7 BABUSHKA NESTING BOXES        | 2                                   | 12/1/2010 8:26                      | 7.65                                | 17850                               | United Kingdom                      | 2010-12-01                          | 8:26                                | 12                                  | 2010                                | 8                                   | Wed                                 | 15.30                               |\n",
       "\n"
      ],
      "text/plain": [
       "  InvoiceNo StockCode Description                         Quantity\n",
       "1 536365    85123A    WHITE HANGING HEART T-LIGHT HOLDER  6       \n",
       "2 536365    71053     WHITE METAL LANTERN                 6       \n",
       "3 536365    84406B    CREAM CUPID HEARTS COAT HANGER      8       \n",
       "4 536365    84029G    KNITTED UNION FLAG HOT WATER BOTTLE 6       \n",
       "5 536365    84029E    RED WOOLLY HOTTIE WHITE HEART.      6       \n",
       "6 536365    22752     SET 7 BABUSHKA NESTING BOXES        2       \n",
       "  InvoiceDate    UnitPrice CustomerID Country        date       time month year\n",
       "1 12/1/2010 8:26 2.55      17850      United Kingdom 2010-12-01 8:26 12    2010\n",
       "2 12/1/2010 8:26 3.39      17850      United Kingdom 2010-12-01 8:26 12    2010\n",
       "3 12/1/2010 8:26 2.75      17850      United Kingdom 2010-12-01 8:26 12    2010\n",
       "4 12/1/2010 8:26 3.39      17850      United Kingdom 2010-12-01 8:26 12    2010\n",
       "5 12/1/2010 8:26 3.39      17850      United Kingdom 2010-12-01 8:26 12    2010\n",
       "6 12/1/2010 8:26 7.65      17850      United Kingdom 2010-12-01 8:26 12    2010\n",
       "  hourOfDay dayOfWeek lineTotal\n",
       "1 8         Wed       15.30    \n",
       "2 8         Wed       20.34    \n",
       "3 8         Wed       22.00    \n",
       "4 8         Wed       20.34    \n",
       "5 8         Wed       20.34    \n",
       "6 8         Wed       15.30    "
      ]
     },
     "metadata": {},
     "output_type": "display_data"
    }
   ],
   "source": [
    "head(custData)"
   ]
  },
  {
   "cell_type": "code",
   "execution_count": 21,
   "id": "stuffed-oxford",
   "metadata": {},
   "outputs": [],
   "source": [
    "#summary analyses\n",
    "# Turn the appropriate variables into factors\n",
    "custData$Country <- as.factor(custData$Country)\n",
    "custData$month <- as.factor(custData$month)\n",
    "custData$year <- as.factor(custData$year)\n",
    "levels(custData$year) <- c(2010,2011)\n",
    "custData$hourOfDay <- as.factor(custData$hourOfDay)\n",
    "custData$dayOfWeek <- as.factor(custData$dayOfWeek)"
   ]
  },
  {
   "cell_type": "code",
   "execution_count": 22,
   "id": "round-hamilton",
   "metadata": {},
   "outputs": [
    {
     "name": "stderr",
     "output_type": "stream",
     "text": [
      "`geom_smooth()` using method = 'loess' and formula 'y ~ x'\n"
     ]
    },
    {
     "data": {
      "image/png": "[encoded data removed]",
      "text/plain": [
       "plot without title"
      ]
     },
     "metadata": {},
     "output_type": "display_data"
    }
   ],
   "source": [
    "#'big picture' aspects of the dataset\n",
    "options(repr.plot.width=8, repr.plot.height=3)\n",
    "custData %>%\n",
    "  group_by(date) %>%\n",
    "  summarise(revenue = sum(lineTotal)) %>%\n",
    "  ggplot(aes(x = date, y = revenue)) + geom_line() + geom_smooth(method = 'auto', se = FALSE) + labs(x = 'Date', y = 'Revenue (£)', title = 'Revenue by Date')"
   ]
  },
  {
   "cell_type": "markdown",
   "id": "physical-retrieval",
   "metadata": {},
   "source": [
    "Sales are trending up, so that is a good sign, but that does not really generate any actionable insight"
   ]
  },
  {
   "cell_type": "markdown",
   "id": "tribal-genius",
   "metadata": {},
   "source": [
    "## Day of week analysis"
   ]
  },
  {
   "cell_type": "code",
   "execution_count": 23,
   "id": "forbidden-bundle",
   "metadata": {},
   "outputs": [
    {
     "data": {
      "image/png": "[encoded data removed]",
      "text/plain": [
       "plot without title"
      ]
     },
     "metadata": {},
     "output_type": "display_data"
    }
   ],
   "source": [
    "#Analysis of days of the week side of our data\n",
    "custData %>%\n",
    "  group_by(dayOfWeek) %>%\n",
    "  summarise(revenue = sum(lineTotal)) %>%\n",
    "  ggplot(aes(x = dayOfWeek, y = revenue)) + geom_col() + labs(x = 'Day of Week', y = 'Revenue (£)', title = 'Revenue by Day of Week')"
   ]
  },
  {
   "cell_type": "code",
   "execution_count": 24,
   "id": "imposed-diagnosis",
   "metadata": {},
   "outputs": [
    {
     "name": "stderr",
     "output_type": "stream",
     "text": [
      "`summarise()` has grouped output by 'date'. You can override using the `.groups` argument.\n"
     ]
    },
    {
     "data": {
      "text/html": [
       "<table>\n",
       "<thead><tr><th scope=col>date</th><th scope=col>dayOfWeek</th><th scope=col>revenue</th><th scope=col>transactions</th><th scope=col>aveOrdVal</th></tr></thead>\n",
       "<tbody>\n",
       "\t<tr><td>2010-12-01</td><td>Wed       </td><td>46051.26  </td><td>127       </td><td>362.61    </td></tr>\n",
       "\t<tr><td>2010-12-02</td><td>Thu       </td><td>45775.43  </td><td>160       </td><td>286.10    </td></tr>\n",
       "\t<tr><td>2010-12-03</td><td>Fri       </td><td>22598.46  </td><td> 64       </td><td>353.10    </td></tr>\n",
       "\t<tr><td>2010-12-05</td><td>Sun       </td><td>31380.60  </td><td> 94       </td><td>333.84    </td></tr>\n",
       "\t<tr><td>2010-12-06</td><td>Mon       </td><td>30465.08  </td><td>111       </td><td>274.46    </td></tr>\n",
       "\t<tr><td>2010-12-07</td><td>Tue       </td><td>53125.99  </td><td> 79       </td><td>672.48    </td></tr>\n",
       "\t<tr><td>2010-12-08</td><td>Wed       </td><td>38048.68  </td><td>134       </td><td>283.95    </td></tr>\n",
       "\t<tr><td>2010-12-09</td><td>Thu       </td><td>37177.85  </td><td>132       </td><td>281.65    </td></tr>\n",
       "\t<tr><td>2010-12-10</td><td>Fri       </td><td>32005.35  </td><td> 78       </td><td>410.32    </td></tr>\n",
       "\t<tr><td>2010-12-12</td><td>Sun       </td><td>17217.62  </td><td> 50       </td><td>344.35    </td></tr>\n",
       "</tbody>\n",
       "</table>\n"
      ],
      "text/latex": [
       "\\begin{tabular}{r|lllll}\n",
       " date & dayOfWeek & revenue & transactions & aveOrdVal\\\\\n",
       "\\hline\n",
       "\t 2010-12-01 & Wed        & 46051.26   & 127        & 362.61    \\\\\n",
       "\t 2010-12-02 & Thu        & 45775.43   & 160        & 286.10    \\\\\n",
       "\t 2010-12-03 & Fri        & 22598.46   &  64        & 353.10    \\\\\n",
       "\t 2010-12-05 & Sun        & 31380.60   &  94        & 333.84    \\\\\n",
       "\t 2010-12-06 & Mon        & 30465.08   & 111        & 274.46    \\\\\n",
       "\t 2010-12-07 & Tue        & 53125.99   &  79        & 672.48    \\\\\n",
       "\t 2010-12-08 & Wed        & 38048.68   & 134        & 283.95    \\\\\n",
       "\t 2010-12-09 & Thu        & 37177.85   & 132        & 281.65    \\\\\n",
       "\t 2010-12-10 & Fri        & 32005.35   &  78        & 410.32    \\\\\n",
       "\t 2010-12-12 & Sun        & 17217.62   &  50        & 344.35    \\\\\n",
       "\\end{tabular}\n"
      ],
      "text/markdown": [
       "\n",
       "| date | dayOfWeek | revenue | transactions | aveOrdVal |\n",
       "|---|---|---|---|---|\n",
       "| 2010-12-01 | Wed        | 46051.26   | 127        | 362.61     |\n",
       "| 2010-12-02 | Thu        | 45775.43   | 160        | 286.10     |\n",
       "| 2010-12-03 | Fri        | 22598.46   |  64        | 353.10     |\n",
       "| 2010-12-05 | Sun        | 31380.60   |  94        | 333.84     |\n",
       "| 2010-12-06 | Mon        | 30465.08   | 111        | 274.46     |\n",
       "| 2010-12-07 | Tue        | 53125.99   |  79        | 672.48     |\n",
       "| 2010-12-08 | Wed        | 38048.68   | 134        | 283.95     |\n",
       "| 2010-12-09 | Thu        | 37177.85   | 132        | 281.65     |\n",
       "| 2010-12-10 | Fri        | 32005.35   |  78        | 410.32     |\n",
       "| 2010-12-12 | Sun        | 17217.62   |  50        | 344.35     |\n",
       "\n"
      ],
      "text/plain": [
       "   date       dayOfWeek revenue  transactions aveOrdVal\n",
       "1  2010-12-01 Wed       46051.26 127          362.61   \n",
       "2  2010-12-02 Thu       45775.43 160          286.10   \n",
       "3  2010-12-03 Fri       22598.46  64          353.10   \n",
       "4  2010-12-05 Sun       31380.60  94          333.84   \n",
       "5  2010-12-06 Mon       30465.08 111          274.46   \n",
       "6  2010-12-07 Tue       53125.99  79          672.48   \n",
       "7  2010-12-08 Wed       38048.68 134          283.95   \n",
       "8  2010-12-09 Thu       37177.85 132          281.65   \n",
       "9  2010-12-10 Fri       32005.35  78          410.32   \n",
       "10 2010-12-12 Sun       17217.62  50          344.35   "
      ]
     },
     "metadata": {},
     "output_type": "display_data"
    }
   ],
   "source": [
    "#Creating a new dataframe that we can use to look at what's going on at the day of the week level in a bit more detail:\n",
    "weekdaySummary <- custData %>%\n",
    "  group_by(date, dayOfWeek) %>%\n",
    "  summarise(revenue = sum(lineTotal), transactions = n_distinct(InvoiceNo)) %>%\n",
    "  mutate(aveOrdVal = (round((revenue / transactions),2))) %>%\n",
    "  ungroup()\n",
    "\n",
    "head(weekdaySummary, n = 10)"
   ]
  },
  {
   "cell_type": "code",
   "execution_count": 25,
   "id": "effective-energy",
   "metadata": {},
   "outputs": [
    {
     "data": {
      "image/png": "[encoded data removed]",
      "text/plain": [
       "plot without title"
      ]
     },
     "metadata": {},
     "output_type": "display_data"
    },
    {
     "data": {
      "image/png": "[encoded data removed]",
      "text/plain": [
       "plot without title"
      ]
     },
     "metadata": {},
     "output_type": "display_data"
    },
    {
     "data": {
      "image/png": "[encoded data removed]",
      "text/plain": [
       "plot without title"
      ]
     },
     "metadata": {},
     "output_type": "display_data"
    }
   ],
   "source": [
    "ggplot(weekdaySummary, aes(x = dayOfWeek, y = revenue)) + geom_boxplot() + labs(x = 'Day of the Week', y = 'Revenue', title = 'Revenue by Day of the Week')\n",
    "ggplot(weekdaySummary, aes(x = dayOfWeek, y = transactions)) + geom_boxplot() + labs(x = 'Day of the Week', y = 'Number of Daily Transactions', title = 'Number of Transactions by Day of the Week')\n",
    "ggplot(weekdaySummary, aes(x = dayOfWeek, y = aveOrdVal)) + geom_boxplot() + labs(x = 'Day of the Week', y = 'Average Order Value', title = 'Average Order Value by Day of the Week')"
   ]
  },
  {
   "cell_type": "code",
   "execution_count": 26,
   "id": "owned-marks",
   "metadata": {},
   "outputs": [
    {
     "data": {
      "image/png": "[encoded data removed]",
      "text/plain": [
       "plot without title"
      ]
     },
     "metadata": {},
     "output_type": "display_data"
    }
   ],
   "source": [
    "# plot the data as a density plot to get a better feel for how these data are distributed\n",
    "ggplot(weekdaySummary, aes(transactions, fill = dayOfWeek)) + geom_density(alpha = 0.2)"
   ]
  },
  {
   "cell_type": "code",
   "execution_count": 27,
   "id": "shaped-ownership",
   "metadata": {},
   "outputs": [
    {
     "data": {
      "text/plain": [
       "\n",
       "\tKruskal-Wallis rank sum test\n",
       "\n",
       "data:  transactions by dayOfWeek\n",
       "Kruskal-Wallis chi-squared = 71.744, df = 5, p-value = 4.441e-14\n"
      ]
     },
     "metadata": {},
     "output_type": "display_data"
    }
   ],
   "source": [
    "#There appears to be a reasonable amount of skewness in our distributions, so we'll use a non-parametric test to look for statistically significant differences in our data.\n",
    "kruskal.test(transactions ~ dayOfWeek, data = weekdaySummary)"
   ]
  },
  {
   "cell_type": "code",
   "execution_count": 28,
   "id": "legislative-source",
   "metadata": {},
   "outputs": [
    {
     "name": "stdout",
     "output_type": "stream",
     "text": [
      "package 'agricolae' successfully unpacked and MD5 sums checked\n",
      "\n",
      "The downloaded binary packages are in\n",
      "\tC:\\Users\\DELL\\AppData\\Local\\Temp\\RtmpGuo5jr\\downloaded_packages\n"
     ]
    }
   ],
   "source": [
    "install.packages(\"agricolae\")"
   ]
  },
  {
   "cell_type": "code",
   "execution_count": 29,
   "id": "subject-departure",
   "metadata": {},
   "outputs": [
    {
     "name": "stderr",
     "output_type": "stream",
     "text": [
      "Warning message:\n",
      "\"package 'agricolae' was built under R version 3.6.3\""
     ]
    },
    {
     "name": "stdout",
     "output_type": "stream",
     "text": [
      "\n",
      "Study: weekdaySummary$transactions ~ weekdaySummary$dayOfWeek\n",
      "Kruskal-Wallis test's\n",
      "Ties or no Ties\n",
      "\n",
      "Critical Value: 71.7443\n",
      "Degrees of freedom: 5\n",
      "Pvalue Chisq  : 4.440892e-14 \n",
      "\n",
      "weekdaySummary$dayOfWeek,  means of the ranks\n",
      "\n",
      "    weekdaySummary.transactions  r\n",
      "Fri                    135.0100 50\n",
      "Mon                    162.4574 47\n",
      "Sun                     72.3600 50\n",
      "Thu                    213.5000 53\n",
      "Tue                    160.0769 52\n",
      "Wed                    170.2170 53\n",
      "\n",
      "Post Hoc Analysis\n",
      "\n",
      "t-Student: 1.96793\n",
      "Alpha    : 0.05\n",
      "Groups according to probability of treatment differences and alpha level.\n",
      "\n",
      "Treatments with the same letter are not significantly different.\n",
      "\n",
      "    weekdaySummary$transactions groups\n",
      "Thu                    213.5000      a\n",
      "Wed                    170.2170      b\n",
      "Mon                    162.4574     bc\n",
      "Tue                    160.0769     bc\n",
      "Fri                    135.0100      c\n",
      "Sun                     72.3600      d\n"
     ]
    }
   ],
   "source": [
    "#Using the kruskal function from the agricolae package, we can look to see which days are significantly different from the others\n",
    "library(agricolae)\n",
    "kruskal(weekdaySummary$transactions, weekdaySummary$dayOfWeek, console = TRUE)"
   ]
  },
  {
   "cell_type": "markdown",
   "id": "threatened-newark",
   "metadata": {},
   "source": [
    "### Conclusion\n",
    "We can see that there are statistically significant differences in the number of transactions that take place on different days of the week, with Sunday having the lowest number of transactions, and Thursday the highest. As the average order value remains relatively consistent, this translates to differences in revenue."
   ]
  },
  {
   "cell_type": "markdown",
   "id": "satisfied-bobby",
   "metadata": {},
   "source": [
    "## Hour of day analysis"
   ]
  },
  {
   "cell_type": "code",
   "execution_count": 30,
   "id": "advanced-binary",
   "metadata": {},
   "outputs": [
    {
     "data": {
      "image/png": "[encoded data removed]",
      "text/plain": [
       "plot without title"
      ]
     },
     "metadata": {},
     "output_type": "display_data"
    },
    {
     "data": {
      "image/png": "[encoded data removed]",
      "text/plain": [
       "plot without title"
      ]
     },
     "metadata": {},
     "output_type": "display_data"
    }
   ],
   "source": [
    "custData %>%\n",
    "  group_by(hourOfDay) %>%\n",
    "  summarise(revenue = sum(lineTotal)) %>%\n",
    "  ggplot(aes(x = hourOfDay, y = revenue)) + geom_col() + labs(x = 'Hour Of Day', y = 'Revenue (£)', title = 'Revenue by Hour Of Day')\n",
    "\n",
    "custData %>%\n",
    "  group_by(hourOfDay) %>%\n",
    "  summarise(transactions = n_distinct(InvoiceNo)) %>%\n",
    "  ggplot(aes(x = hourOfDay, y = transactions)) + geom_col() + labs(x = 'Hour Of Day', y = 'Number of Transactions', title = 'Transactions by Hour Of Day')"
   ]
  },
  {
   "cell_type": "markdown",
   "id": "irish-stage",
   "metadata": {},
   "source": [
    " We have more transactions and more revenue in the morning to mid-afternoon, tailing of quickly towards the early evening."
   ]
  },
  {
   "cell_type": "markdown",
   "id": "invalid-qualification",
   "metadata": {},
   "source": [
    "## Country summary"
   ]
  },
  {
   "cell_type": "code",
   "execution_count": 31,
   "id": "temporal-founder",
   "metadata": {},
   "outputs": [
    {
     "data": {
      "text/html": [
       "<table>\n",
       "<thead><tr><th scope=col>Country</th><th scope=col>revenue</th><th scope=col>transactions</th><th scope=col>aveOrdVal</th></tr></thead>\n",
       "<tbody>\n",
       "\t<tr><td>United Kingdom</td><td>6767873.39    </td><td>19857         </td><td> 340.83       </td></tr>\n",
       "\t<tr><td>Netherlands   </td><td> 284661.54    </td><td>  101         </td><td>2818.43       </td></tr>\n",
       "\t<tr><td>EIRE          </td><td> 250285.22    </td><td>  319         </td><td> 784.59       </td></tr>\n",
       "\t<tr><td>Germany       </td><td> 221698.21    </td><td>  603         </td><td> 367.66       </td></tr>\n",
       "\t<tr><td>France        </td><td> 196712.84    </td><td>  458         </td><td> 429.50       </td></tr>\n",
       "\t<tr><td>Australia     </td><td> 137077.27    </td><td>   69         </td><td>1986.63       </td></tr>\n",
       "\t<tr><td>Switzerland   </td><td>  55739.40    </td><td>   71         </td><td> 785.06       </td></tr>\n",
       "\t<tr><td>Spain         </td><td>  54774.58    </td><td>  105         </td><td> 521.66       </td></tr>\n",
       "\t<tr><td>Belgium       </td><td>  40910.96    </td><td>  119         </td><td> 343.79       </td></tr>\n",
       "\t<tr><td>Sweden        </td><td>  36595.91    </td><td>   46         </td><td> 795.56       </td></tr>\n",
       "</tbody>\n",
       "</table>\n"
      ],
      "text/latex": [
       "\\begin{tabular}{r|llll}\n",
       " Country & revenue & transactions & aveOrdVal\\\\\n",
       "\\hline\n",
       "\t United Kingdom & 6767873.39     & 19857          &  340.83       \\\\\n",
       "\t Netherlands    &  284661.54     &   101          & 2818.43       \\\\\n",
       "\t EIRE           &  250285.22     &   319          &  784.59       \\\\\n",
       "\t Germany        &  221698.21     &   603          &  367.66       \\\\\n",
       "\t France         &  196712.84     &   458          &  429.50       \\\\\n",
       "\t Australia      &  137077.27     &    69          & 1986.63       \\\\\n",
       "\t Switzerland    &   55739.40     &    71          &  785.06       \\\\\n",
       "\t Spain          &   54774.58     &   105          &  521.66       \\\\\n",
       "\t Belgium        &   40910.96     &   119          &  343.79       \\\\\n",
       "\t Sweden         &   36595.91     &    46          &  795.56       \\\\\n",
       "\\end{tabular}\n"
      ],
      "text/markdown": [
       "\n",
       "| Country | revenue | transactions | aveOrdVal |\n",
       "|---|---|---|---|\n",
       "| United Kingdom | 6767873.39     | 19857          |  340.83        |\n",
       "| Netherlands    |  284661.54     |   101          | 2818.43        |\n",
       "| EIRE           |  250285.22     |   319          |  784.59        |\n",
       "| Germany        |  221698.21     |   603          |  367.66        |\n",
       "| France         |  196712.84     |   458          |  429.50        |\n",
       "| Australia      |  137077.27     |    69          | 1986.63        |\n",
       "| Switzerland    |   55739.40     |    71          |  785.06        |\n",
       "| Spain          |   54774.58     |   105          |  521.66        |\n",
       "| Belgium        |   40910.96     |   119          |  343.79        |\n",
       "| Sweden         |   36595.91     |    46          |  795.56        |\n",
       "\n"
      ],
      "text/plain": [
       "   Country        revenue    transactions aveOrdVal\n",
       "1  United Kingdom 6767873.39 19857         340.83  \n",
       "2  Netherlands     284661.54   101        2818.43  \n",
       "3  EIRE            250285.22   319         784.59  \n",
       "4  Germany         221698.21   603         367.66  \n",
       "5  France          196712.84   458         429.50  \n",
       "6  Australia       137077.27    69        1986.63  \n",
       "7  Switzerland      55739.40    71         785.06  \n",
       "8  Spain            54774.58   105         521.66  \n",
       "9  Belgium          40910.96   119         343.79  \n",
       "10 Sweden           36595.91    46         795.56  "
      ]
     },
     "metadata": {},
     "output_type": "display_data"
    },
    {
     "data": {
      "text/html": [
       "<ol class=list-inline>\n",
       "\t<li>United Kingdom</li>\n",
       "\t<li>Netherlands</li>\n",
       "\t<li>EIRE</li>\n",
       "\t<li>Germany</li>\n",
       "\t<li>France</li>\n",
       "\t<li>Australia</li>\n",
       "\t<li>Switzerland</li>\n",
       "\t<li>Spain</li>\n",
       "\t<li>Belgium</li>\n",
       "\t<li>Sweden</li>\n",
       "\t<li>Japan</li>\n",
       "\t<li>Norway</li>\n",
       "\t<li>Portugal</li>\n",
       "\t<li>Finland</li>\n",
       "\t<li>Channel Islands</li>\n",
       "\t<li>Denmark</li>\n",
       "\t<li>Italy</li>\n",
       "\t<li>Cyprus</li>\n",
       "\t<li>Austria</li>\n",
       "\t<li>Singapore</li>\n",
       "\t<li>Poland</li>\n",
       "\t<li>Israel</li>\n",
       "\t<li>Greece</li>\n",
       "\t<li>Iceland</li>\n",
       "\t<li>Canada</li>\n",
       "\t<li>Unspecified</li>\n",
       "\t<li>Malta</li>\n",
       "\t<li>United Arab Emirates</li>\n",
       "\t<li>USA</li>\n",
       "\t<li>Lebanon</li>\n",
       "\t<li>Lithuania</li>\n",
       "\t<li>European Community</li>\n",
       "\t<li>Brazil</li>\n",
       "\t<li>RSA</li>\n",
       "\t<li>Czech Republic</li>\n",
       "\t<li>Bahrain</li>\n",
       "\t<li>Saudi Arabia</li>\n",
       "</ol>\n",
       "\n",
       "<details>\n",
       "\t<summary style=display:list-item;cursor:pointer>\n",
       "\t\t<strong>Levels</strong>:\n",
       "\t</summary>\n",
       "\t<ol class=list-inline>\n",
       "\t\t<li>'Australia'</li>\n",
       "\t\t<li>'Austria'</li>\n",
       "\t\t<li>'Bahrain'</li>\n",
       "\t\t<li>'Belgium'</li>\n",
       "\t\t<li>'Brazil'</li>\n",
       "\t\t<li>'Canada'</li>\n",
       "\t\t<li>'Channel Islands'</li>\n",
       "\t\t<li>'Cyprus'</li>\n",
       "\t\t<li>'Czech Republic'</li>\n",
       "\t\t<li>'Denmark'</li>\n",
       "\t\t<li>'EIRE'</li>\n",
       "\t\t<li>'European Community'</li>\n",
       "\t\t<li>'Finland'</li>\n",
       "\t\t<li>'France'</li>\n",
       "\t\t<li>'Germany'</li>\n",
       "\t\t<li>'Greece'</li>\n",
       "\t\t<li>'Iceland'</li>\n",
       "\t\t<li>'Israel'</li>\n",
       "\t\t<li>'Italy'</li>\n",
       "\t\t<li>'Japan'</li>\n",
       "\t\t<li>'Lebanon'</li>\n",
       "\t\t<li>'Lithuania'</li>\n",
       "\t\t<li>'Malta'</li>\n",
       "\t\t<li>'Netherlands'</li>\n",
       "\t\t<li>'Norway'</li>\n",
       "\t\t<li>'Poland'</li>\n",
       "\t\t<li>'Portugal'</li>\n",
       "\t\t<li>'RSA'</li>\n",
       "\t\t<li>'Saudi Arabia'</li>\n",
       "\t\t<li>'Singapore'</li>\n",
       "\t\t<li>'Spain'</li>\n",
       "\t\t<li>'Sweden'</li>\n",
       "\t\t<li>'Switzerland'</li>\n",
       "\t\t<li>'United Arab Emirates'</li>\n",
       "\t\t<li>'United Kingdom'</li>\n",
       "\t\t<li>'Unspecified'</li>\n",
       "\t\t<li>'USA'</li>\n",
       "\t</ol>\n",
       "</details>"
      ],
      "text/latex": [
       "\\begin{enumerate*}\n",
       "\\item United Kingdom\n",
       "\\item Netherlands\n",
       "\\item EIRE\n",
       "\\item Germany\n",
       "\\item France\n",
       "\\item Australia\n",
       "\\item Switzerland\n",
       "\\item Spain\n",
       "\\item Belgium\n",
       "\\item Sweden\n",
       "\\item Japan\n",
       "\\item Norway\n",
       "\\item Portugal\n",
       "\\item Finland\n",
       "\\item Channel Islands\n",
       "\\item Denmark\n",
       "\\item Italy\n",
       "\\item Cyprus\n",
       "\\item Austria\n",
       "\\item Singapore\n",
       "\\item Poland\n",
       "\\item Israel\n",
       "\\item Greece\n",
       "\\item Iceland\n",
       "\\item Canada\n",
       "\\item Unspecified\n",
       "\\item Malta\n",
       "\\item United Arab Emirates\n",
       "\\item USA\n",
       "\\item Lebanon\n",
       "\\item Lithuania\n",
       "\\item European Community\n",
       "\\item Brazil\n",
       "\\item RSA\n",
       "\\item Czech Republic\n",
       "\\item Bahrain\n",
       "\\item Saudi Arabia\n",
       "\\end{enumerate*}\n",
       "\n",
       "\\emph{Levels}: \\begin{enumerate*}\n",
       "\\item 'Australia'\n",
       "\\item 'Austria'\n",
       "\\item 'Bahrain'\n",
       "\\item 'Belgium'\n",
       "\\item 'Brazil'\n",
       "\\item 'Canada'\n",
       "\\item 'Channel Islands'\n",
       "\\item 'Cyprus'\n",
       "\\item 'Czech Republic'\n",
       "\\item 'Denmark'\n",
       "\\item 'EIRE'\n",
       "\\item 'European Community'\n",
       "\\item 'Finland'\n",
       "\\item 'France'\n",
       "\\item 'Germany'\n",
       "\\item 'Greece'\n",
       "\\item 'Iceland'\n",
       "\\item 'Israel'\n",
       "\\item 'Italy'\n",
       "\\item 'Japan'\n",
       "\\item 'Lebanon'\n",
       "\\item 'Lithuania'\n",
       "\\item 'Malta'\n",
       "\\item 'Netherlands'\n",
       "\\item 'Norway'\n",
       "\\item 'Poland'\n",
       "\\item 'Portugal'\n",
       "\\item 'RSA'\n",
       "\\item 'Saudi Arabia'\n",
       "\\item 'Singapore'\n",
       "\\item 'Spain'\n",
       "\\item 'Sweden'\n",
       "\\item 'Switzerland'\n",
       "\\item 'United Arab Emirates'\n",
       "\\item 'United Kingdom'\n",
       "\\item 'Unspecified'\n",
       "\\item 'USA'\n",
       "\\end{enumerate*}\n"
      ],
      "text/markdown": [
       "1. United Kingdom\n",
       "2. Netherlands\n",
       "3. EIRE\n",
       "4. Germany\n",
       "5. France\n",
       "6. Australia\n",
       "7. Switzerland\n",
       "8. Spain\n",
       "9. Belgium\n",
       "10. Sweden\n",
       "11. Japan\n",
       "12. Norway\n",
       "13. Portugal\n",
       "14. Finland\n",
       "15. Channel Islands\n",
       "16. Denmark\n",
       "17. Italy\n",
       "18. Cyprus\n",
       "19. Austria\n",
       "20. Singapore\n",
       "21. Poland\n",
       "22. Israel\n",
       "23. Greece\n",
       "24. Iceland\n",
       "25. Canada\n",
       "26. Unspecified\n",
       "27. Malta\n",
       "28. United Arab Emirates\n",
       "29. USA\n",
       "30. Lebanon\n",
       "31. Lithuania\n",
       "32. European Community\n",
       "33. Brazil\n",
       "34. RSA\n",
       "35. Czech Republic\n",
       "36. Bahrain\n",
       "37. Saudi Arabia\n",
       "\n",
       "\n",
       "\n",
       "**Levels**: 1. 'Australia'\n",
       "2. 'Austria'\n",
       "3. 'Bahrain'\n",
       "4. 'Belgium'\n",
       "5. 'Brazil'\n",
       "6. 'Canada'\n",
       "7. 'Channel Islands'\n",
       "8. 'Cyprus'\n",
       "9. 'Czech Republic'\n",
       "10. 'Denmark'\n",
       "11. 'EIRE'\n",
       "12. 'European Community'\n",
       "13. 'Finland'\n",
       "14. 'France'\n",
       "15. 'Germany'\n",
       "16. 'Greece'\n",
       "17. 'Iceland'\n",
       "18. 'Israel'\n",
       "19. 'Italy'\n",
       "20. 'Japan'\n",
       "21. 'Lebanon'\n",
       "22. 'Lithuania'\n",
       "23. 'Malta'\n",
       "24. 'Netherlands'\n",
       "25. 'Norway'\n",
       "26. 'Poland'\n",
       "27. 'Portugal'\n",
       "28. 'RSA'\n",
       "29. 'Saudi Arabia'\n",
       "30. 'Singapore'\n",
       "31. 'Spain'\n",
       "32. 'Sweden'\n",
       "33. 'Switzerland'\n",
       "34. 'United Arab Emirates'\n",
       "35. 'United Kingdom'\n",
       "36. 'Unspecified'\n",
       "37. 'USA'\n",
       "\n",
       "\n"
      ],
      "text/plain": [
       " [1] United Kingdom       Netherlands          EIRE                \n",
       " [4] Germany              France               Australia           \n",
       " [7] Switzerland          Spain                Belgium             \n",
       "[10] Sweden               Japan                Norway              \n",
       "[13] Portugal             Finland              Channel Islands     \n",
       "[16] Denmark              Italy                Cyprus              \n",
       "[19] Austria              Singapore            Poland              \n",
       "[22] Israel               Greece               Iceland             \n",
       "[25] Canada               Unspecified          Malta               \n",
       "[28] United Arab Emirates USA                  Lebanon             \n",
       "[31] Lithuania            European Community   Brazil              \n",
       "[34] RSA                  Czech Republic       Bahrain             \n",
       "[37] Saudi Arabia        \n",
       "37 Levels: Australia Austria Bahrain Belgium Brazil Canada ... USA"
      ]
     },
     "metadata": {},
     "output_type": "display_data"
    }
   ],
   "source": [
    "#Analysis of our data from e-commerce retailer perspective in a number of countries around the world.\n",
    "countrySummary <- custData %>%\n",
    "  group_by(Country) %>%\n",
    "  summarise(revenue = sum(lineTotal), transactions = n_distinct(InvoiceNo)) %>%\n",
    "  mutate(aveOrdVal = (round((revenue / transactions),2))) %>%\n",
    "  ungroup() %>%\n",
    "  arrange(desc(revenue))\n",
    "\n",
    "head(countrySummary, n = 10)\n",
    "unique(countrySummary$Country)"
   ]
  },
  {
   "cell_type": "code",
   "execution_count": 32,
   "id": "turned-beads",
   "metadata": {},
   "outputs": [
    {
     "data": {
      "text/html": [
       "<table>\n",
       "<thead><tr><th scope=col>Country</th><th scope=col>revenue</th><th scope=col>customers</th><th scope=col>aveCustVal</th></tr></thead>\n",
       "<tbody>\n",
       "\t<tr><td>United Kingdom</td><td>6767873.39    </td><td>3950          </td><td> 1713.39      </td></tr>\n",
       "\t<tr><td>Netherlands   </td><td> 284661.54    </td><td>   9          </td><td>31629.06      </td></tr>\n",
       "\t<tr><td>EIRE          </td><td> 250285.22    </td><td>   3          </td><td>83428.41      </td></tr>\n",
       "\t<tr><td>Germany       </td><td> 221698.21    </td><td>  95          </td><td> 2333.67      </td></tr>\n",
       "\t<tr><td>France        </td><td> 196712.84    </td><td>  87          </td><td> 2261.07      </td></tr>\n",
       "\t<tr><td>Australia     </td><td> 137077.27    </td><td>   9          </td><td>15230.81      </td></tr>\n",
       "\t<tr><td>Switzerland   </td><td>  55739.40    </td><td>  21          </td><td> 2654.26      </td></tr>\n",
       "\t<tr><td>Spain         </td><td>  54774.58    </td><td>  31          </td><td> 1766.92      </td></tr>\n",
       "\t<tr><td>Belgium       </td><td>  40910.96    </td><td>  25          </td><td> 1636.44      </td></tr>\n",
       "\t<tr><td>Sweden        </td><td>  36595.91    </td><td>   8          </td><td> 4574.49      </td></tr>\n",
       "</tbody>\n",
       "</table>\n"
      ],
      "text/latex": [
       "\\begin{tabular}{r|llll}\n",
       " Country & revenue & customers & aveCustVal\\\\\n",
       "\\hline\n",
       "\t United Kingdom & 6767873.39     & 3950           &  1713.39      \\\\\n",
       "\t Netherlands    &  284661.54     &    9           & 31629.06      \\\\\n",
       "\t EIRE           &  250285.22     &    3           & 83428.41      \\\\\n",
       "\t Germany        &  221698.21     &   95           &  2333.67      \\\\\n",
       "\t France         &  196712.84     &   87           &  2261.07      \\\\\n",
       "\t Australia      &  137077.27     &    9           & 15230.81      \\\\\n",
       "\t Switzerland    &   55739.40     &   21           &  2654.26      \\\\\n",
       "\t Spain          &   54774.58     &   31           &  1766.92      \\\\\n",
       "\t Belgium        &   40910.96     &   25           &  1636.44      \\\\\n",
       "\t Sweden         &   36595.91     &    8           &  4574.49      \\\\\n",
       "\\end{tabular}\n"
      ],
      "text/markdown": [
       "\n",
       "| Country | revenue | customers | aveCustVal |\n",
       "|---|---|---|---|\n",
       "| United Kingdom | 6767873.39     | 3950           |  1713.39       |\n",
       "| Netherlands    |  284661.54     |    9           | 31629.06       |\n",
       "| EIRE           |  250285.22     |    3           | 83428.41       |\n",
       "| Germany        |  221698.21     |   95           |  2333.67       |\n",
       "| France         |  196712.84     |   87           |  2261.07       |\n",
       "| Australia      |  137077.27     |    9           | 15230.81       |\n",
       "| Switzerland    |   55739.40     |   21           |  2654.26       |\n",
       "| Spain          |   54774.58     |   31           |  1766.92       |\n",
       "| Belgium        |   40910.96     |   25           |  1636.44       |\n",
       "| Sweden         |   36595.91     |    8           |  4574.49       |\n",
       "\n"
      ],
      "text/plain": [
       "   Country        revenue    customers aveCustVal\n",
       "1  United Kingdom 6767873.39 3950       1713.39  \n",
       "2  Netherlands     284661.54    9      31629.06  \n",
       "3  EIRE            250285.22    3      83428.41  \n",
       "4  Germany         221698.21   95       2333.67  \n",
       "5  France          196712.84   87       2261.07  \n",
       "6  Australia       137077.27    9      15230.81  \n",
       "7  Switzerland      55739.40   21       2654.26  \n",
       "8  Spain            54774.58   31       1766.92  \n",
       "9  Belgium          40910.96   25       1636.44  \n",
       "10 Sweden           36595.91    8       4574.49  "
      ]
     },
     "metadata": {},
     "output_type": "display_data"
    }
   ],
   "source": [
    "#looking at the top five countries in terms of revenue contribution\n",
    "countryCustSummary <- custData %>%\n",
    "  group_by(Country) %>%\n",
    "  summarise(revenue = sum(lineTotal), customers = n_distinct(CustomerID)) %>%\n",
    "  mutate(aveCustVal = (round((revenue / customers),2))) %>%\n",
    "  ungroup() %>%\n",
    "  arrange(desc(revenue))\n",
    "\n",
    "head(countryCustSummary, n = 10)"
   ]
  },
  {
   "cell_type": "code",
   "execution_count": 33,
   "id": "municipal-cancer",
   "metadata": {},
   "outputs": [],
   "source": [
    "topFiveCountries <- custData %>%\n",
    "  filter(Country == 'Netherlands' | Country == 'EIRE' | Country == 'Germany' | Country == 'France' | Country == 'Australia')\n"
   ]
  },
  {
   "cell_type": "code",
   "execution_count": 34,
   "id": "elegant-omega",
   "metadata": {},
   "outputs": [
    {
     "name": "stderr",
     "output_type": "stream",
     "text": [
      "`summarise()` has grouped output by 'Country'. You can override using the `.groups` argument.\n"
     ]
    },
    {
     "data": {
      "text/html": [
       "<table>\n",
       "<thead><tr><th scope=col>Country</th><th scope=col>date</th><th scope=col>revenue</th><th scope=col>transactions</th><th scope=col>customers</th><th scope=col>aveOrdVal</th></tr></thead>\n",
       "<tbody>\n",
       "\t<tr><td>Netherlands</td><td>2011-10-20 </td><td>25833.56   </td><td>3          </td><td>1          </td><td> 8611.19   </td></tr>\n",
       "\t<tr><td>Australia  </td><td>2011-06-15 </td><td>23426.81   </td><td>2          </td><td>1          </td><td>11713.41   </td></tr>\n",
       "\t<tr><td>Australia  </td><td>2011-08-18 </td><td>21880.44   </td><td>1          </td><td>1          </td><td>21880.44   </td></tr>\n",
       "\t<tr><td>Netherlands</td><td>2011-08-11 </td><td>19150.66   </td><td>1          </td><td>1          </td><td>19150.66   </td></tr>\n",
       "\t<tr><td>Netherlands</td><td>2011-02-21 </td><td>18279.48   </td><td>2          </td><td>1          </td><td> 9139.74   </td></tr>\n",
       "\t<tr><td>Netherlands</td><td>2011-03-29 </td><td>18247.50   </td><td>2          </td><td>1          </td><td> 9123.75   </td></tr>\n",
       "</tbody>\n",
       "</table>\n"
      ],
      "text/latex": [
       "\\begin{tabular}{r|llllll}\n",
       " Country & date & revenue & transactions & customers & aveOrdVal\\\\\n",
       "\\hline\n",
       "\t Netherlands & 2011-10-20  & 25833.56    & 3           & 1           &  8611.19   \\\\\n",
       "\t Australia   & 2011-06-15  & 23426.81    & 2           & 1           & 11713.41   \\\\\n",
       "\t Australia   & 2011-08-18  & 21880.44    & 1           & 1           & 21880.44   \\\\\n",
       "\t Netherlands & 2011-08-11  & 19150.66    & 1           & 1           & 19150.66   \\\\\n",
       "\t Netherlands & 2011-02-21  & 18279.48    & 2           & 1           &  9139.74   \\\\\n",
       "\t Netherlands & 2011-03-29  & 18247.50    & 2           & 1           &  9123.75   \\\\\n",
       "\\end{tabular}\n"
      ],
      "text/markdown": [
       "\n",
       "| Country | date | revenue | transactions | customers | aveOrdVal |\n",
       "|---|---|---|---|---|---|\n",
       "| Netherlands | 2011-10-20  | 25833.56    | 3           | 1           |  8611.19    |\n",
       "| Australia   | 2011-06-15  | 23426.81    | 2           | 1           | 11713.41    |\n",
       "| Australia   | 2011-08-18  | 21880.44    | 1           | 1           | 21880.44    |\n",
       "| Netherlands | 2011-08-11  | 19150.66    | 1           | 1           | 19150.66    |\n",
       "| Netherlands | 2011-02-21  | 18279.48    | 2           | 1           |  9139.74    |\n",
       "| Netherlands | 2011-03-29  | 18247.50    | 2           | 1           |  9123.75    |\n",
       "\n"
      ],
      "text/plain": [
       "  Country     date       revenue  transactions customers aveOrdVal\n",
       "1 Netherlands 2011-10-20 25833.56 3            1          8611.19 \n",
       "2 Australia   2011-06-15 23426.81 2            1         11713.41 \n",
       "3 Australia   2011-08-18 21880.44 1            1         21880.44 \n",
       "4 Netherlands 2011-08-11 19150.66 1            1         19150.66 \n",
       "5 Netherlands 2011-02-21 18279.48 2            1          9139.74 \n",
       "6 Netherlands 2011-03-29 18247.50 2            1          9123.75 "
      ]
     },
     "metadata": {},
     "output_type": "display_data"
    }
   ],
   "source": [
    "topFiveCountrySummary <- topFiveCountries %>%\n",
    "  group_by(Country, date) %>%\n",
    "  summarise(revenue = sum(lineTotal), transactions = n_distinct(InvoiceNo), customers = n_distinct(CustomerID)) %>%\n",
    "  mutate(aveOrdVal = (round((revenue / transactions),2))) %>%\n",
    "  ungroup() %>%\n",
    "  arrange(desc(revenue))\n",
    "\n",
    "head(topFiveCountrySummary)\n"
   ]
  },
  {
   "cell_type": "code",
   "execution_count": 35,
   "id": "former-lunch",
   "metadata": {},
   "outputs": [
    {
     "name": "stderr",
     "output_type": "stream",
     "text": [
      "`geom_smooth()` using method = 'loess' and formula 'y ~ x'\n"
     ]
    },
    {
     "data": {
      "image/png": "[encoded data removed]",
      "text/plain": [
       "plot without title"
      ]
     },
     "metadata": {},
     "output_type": "display_data"
    },
    {
     "name": "stderr",
     "output_type": "stream",
     "text": [
      "Warning message in self$trans$transform(x):\n",
      "\"NaNs produced\"Warning message:\n",
      "\"Transformation introduced infinite values in continuous y-axis\"Warning message:\n",
      "\"Removed 78 rows containing non-finite values (stat_boxplot).\""
     ]
    },
    {
     "data": {
      "image/png": "[encoded data removed]",
      "text/plain": [
       "plot without title"
      ]
     },
     "metadata": {},
     "output_type": "display_data"
    },
    {
     "data": {
      "image/png": "[encoded data removed]",
      "text/plain": [
       "plot without title"
      ]
     },
     "metadata": {},
     "output_type": "display_data"
    },
    {
     "data": {
      "image/png": "[encoded data removed]",
      "text/plain": [
       "plot without title"
      ]
     },
     "metadata": {},
     "output_type": "display_data"
    }
   ],
   "source": [
    "ggplot(topFiveCountrySummary, aes(x = Country, y = revenue)) + geom_col() + labs(x = ' Country', y = 'Revenue (£)', title = 'Revenue by Country')\n",
    "ggplot(topFiveCountrySummary, aes(x = date, y = revenue, colour = Country)) + geom_smooth(method = 'auto', se = FALSE) + labs(x = ' Country', y = 'Revenue (£)', title = 'Revenue by Country over Time')\n",
    "ggplot(topFiveCountrySummary, aes(x = Country, y = aveOrdVal)) + geom_boxplot() + labs(x = ' Country', y = 'Average Order Value (£)', title = 'Average Order Value by Country') + scale_y_log10()\n",
    "ggplot(topFiveCountrySummary, aes(x = Country, y = transactions)) + geom_boxplot() + labs(x = ' Country', y = 'Transactions', title = 'Number of Daily Transactions by Country')"
   ]
  },
  {
   "cell_type": "markdown",
   "id": "found-survivor",
   "metadata": {},
   "source": [
    "## Customer segmentation"
   ]
  },
  {
   "cell_type": "code",
   "execution_count": 36,
   "id": "finnish-crack",
   "metadata": {},
   "outputs": [
    {
     "data": {
      "text/html": [
       "<table>\n",
       "<thead><tr><th scope=col>CustomerID</th><th scope=col>revenue</th><th scope=col>transactions</th><th scope=col>aveOrdVal</th></tr></thead>\n",
       "<tbody>\n",
       "\t<tr><td>14646    </td><td>279489.02</td><td> 77      </td><td>3629.73  </td></tr>\n",
       "\t<tr><td>18102    </td><td>256438.49</td><td> 62      </td><td>4136.10  </td></tr>\n",
       "\t<tr><td>17450    </td><td>187482.17</td><td> 55      </td><td>3408.77  </td></tr>\n",
       "\t<tr><td>14911    </td><td>132572.62</td><td>248      </td><td> 534.57  </td></tr>\n",
       "\t<tr><td>12415    </td><td>123725.45</td><td> 26      </td><td>4758.67  </td></tr>\n",
       "\t<tr><td>14156    </td><td>113384.14</td><td> 66      </td><td>1717.94  </td></tr>\n",
       "\t<tr><td>17511    </td><td> 88125.38</td><td> 46      </td><td>1915.77  </td></tr>\n",
       "\t<tr><td>16684    </td><td> 65892.08</td><td> 31      </td><td>2125.55  </td></tr>\n",
       "\t<tr><td>13694    </td><td> 62653.10</td><td> 60      </td><td>1044.22  </td></tr>\n",
       "\t<tr><td>15311    </td><td> 59419.34</td><td>118      </td><td> 503.55  </td></tr>\n",
       "</tbody>\n",
       "</table>\n"
      ],
      "text/latex": [
       "\\begin{tabular}{r|llll}\n",
       " CustomerID & revenue & transactions & aveOrdVal\\\\\n",
       "\\hline\n",
       "\t 14646     & 279489.02 &  77       & 3629.73  \\\\\n",
       "\t 18102     & 256438.49 &  62       & 4136.10  \\\\\n",
       "\t 17450     & 187482.17 &  55       & 3408.77  \\\\\n",
       "\t 14911     & 132572.62 & 248       &  534.57  \\\\\n",
       "\t 12415     & 123725.45 &  26       & 4758.67  \\\\\n",
       "\t 14156     & 113384.14 &  66       & 1717.94  \\\\\n",
       "\t 17511     &  88125.38 &  46       & 1915.77  \\\\\n",
       "\t 16684     &  65892.08 &  31       & 2125.55  \\\\\n",
       "\t 13694     &  62653.10 &  60       & 1044.22  \\\\\n",
       "\t 15311     &  59419.34 & 118       &  503.55  \\\\\n",
       "\\end{tabular}\n"
      ],
      "text/markdown": [
       "\n",
       "| CustomerID | revenue | transactions | aveOrdVal |\n",
       "|---|---|---|---|\n",
       "| 14646     | 279489.02 |  77       | 3629.73   |\n",
       "| 18102     | 256438.49 |  62       | 4136.10   |\n",
       "| 17450     | 187482.17 |  55       | 3408.77   |\n",
       "| 14911     | 132572.62 | 248       |  534.57   |\n",
       "| 12415     | 123725.45 |  26       | 4758.67   |\n",
       "| 14156     | 113384.14 |  66       | 1717.94   |\n",
       "| 17511     |  88125.38 |  46       | 1915.77   |\n",
       "| 16684     |  65892.08 |  31       | 2125.55   |\n",
       "| 13694     |  62653.10 |  60       | 1044.22   |\n",
       "| 15311     |  59419.34 | 118       |  503.55   |\n",
       "\n"
      ],
      "text/plain": [
       "   CustomerID revenue   transactions aveOrdVal\n",
       "1  14646      279489.02  77          3629.73  \n",
       "2  18102      256438.49  62          4136.10  \n",
       "3  17450      187482.17  55          3408.77  \n",
       "4  14911      132572.62 248           534.57  \n",
       "5  12415      123725.45  26          4758.67  \n",
       "6  14156      113384.14  66          1717.94  \n",
       "7  17511       88125.38  46          1915.77  \n",
       "8  16684       65892.08  31          2125.55  \n",
       "9  13694       62653.10  60          1044.22  \n",
       "10 15311       59419.34 118           503.55  "
      ]
     },
     "metadata": {},
     "output_type": "display_data"
    }
   ],
   "source": [
    "custSummary <- custData %>%\n",
    "  group_by(CustomerID) %>%\n",
    "  summarise(revenue = sum(lineTotal), transactions = n_distinct(InvoiceNo)) %>%\n",
    "  mutate(aveOrdVal = (round((revenue / transactions),2))) %>%\n",
    "  ungroup() %>%\n",
    "  arrange(desc(revenue))\n",
    "\n",
    "head(custSummary, n = 10)"
   ]
  },
  {
   "cell_type": "code",
   "execution_count": 37,
   "id": "interracial-record",
   "metadata": {},
   "outputs": [
    {
     "name": "stderr",
     "output_type": "stream",
     "text": [
      "Warning message in self$trans$transform(x):\n",
      "\"NaNs produced\"Warning message:\n",
      "\"Transformation introduced infinite values in continuous x-axis\"`stat_bin()` using `bins = 30`. Pick better value with `binwidth`.\n",
      "Warning message:\n",
      "\"Removed 55 rows containing non-finite values (stat_bin).\""
     ]
    },
    {
     "data": {
      "image/png": "[encoded data removed]",
      "text/plain": [
       "plot without title"
      ]
     },
     "metadata": {},
     "output_type": "display_data"
    },
    {
     "name": "stderr",
     "output_type": "stream",
     "text": [
      "`stat_bin()` using `bins = 30`. Pick better value with `binwidth`.\n"
     ]
    },
    {
     "data": {
      "image/png": "[encoded data removed]",
      "text/plain": [
       "plot without title"
      ]
     },
     "metadata": {},
     "output_type": "display_data"
    },
    {
     "data": {
      "image/png": "[encoded data removed]",
      "text/plain": [
       "plot without title"
      ]
     },
     "metadata": {},
     "output_type": "display_data"
    }
   ],
   "source": [
    "ggplot(custSummary, aes(revenue)) + geom_histogram(binwidth = 10) + labs(x = 'Revenue', y = 'Count of Customers', title = 'Histogram of Revenue per customer')\n",
    "ggplot(custSummary, aes(revenue)) + geom_histogram() + scale_x_log10() + labs(x = 'Revenue', y = 'Count of Customers', title = 'Histogram of Revenue per customer (Log Scale)')\n",
    "ggplot(custSummary, aes(transactions)) + geom_histogram() + scale_x_log10() + labs(x = 'Number of Transactions', y = 'Count of Customers', title = 'Histogram of Transactions per customer')"
   ]
  },
  {
   "cell_type": "code",
   "execution_count": 38,
   "id": "approximate-server",
   "metadata": {},
   "outputs": [
    {
     "name": "stderr",
     "output_type": "stream",
     "text": [
      "`summarise()` has grouped output by 'CustomerID'. You can override using the `.groups` argument.\n"
     ]
    },
    {
     "data": {
      "text/html": [
       "<table>\n",
       "<thead><tr><th scope=col>CustomerID</th><th scope=col>InvoiceNo</th><th scope=col>revenue</th><th scope=col>transactions</th><th scope=col>aveOrdVal</th><th scope=col>cumsum</th></tr></thead>\n",
       "<tbody>\n",
       "\t<tr><td>16446     </td><td>C581484   </td><td>-168469.60</td><td>1         </td><td>-168469.60</td><td>-168469.6 </td></tr>\n",
       "\t<tr><td>12346     </td><td>C541433   </td><td> -77183.60</td><td>1         </td><td> -77183.60</td><td>-245653.2 </td></tr>\n",
       "\t<tr><td>15098     </td><td>C556445   </td><td> -38970.00</td><td>1         </td><td> -38970.00</td><td>-284623.2 </td></tr>\n",
       "\t<tr><td>15749     </td><td>C550456   </td><td> -22998.40</td><td>1         </td><td> -22998.40</td><td>-307621.6 </td></tr>\n",
       "\t<tr><td>16029     </td><td>C570556   </td><td> -11816.64</td><td>1         </td><td> -11816.64</td><td>-319438.2 </td></tr>\n",
       "\t<tr><td>12536     </td><td>C573079   </td><td>  -8322.12</td><td>1         </td><td>  -8322.12</td><td>-327760.4 </td></tr>\n",
       "\t<tr><td>16029     </td><td>C551685   </td><td>  -8142.75</td><td>1         </td><td>  -8142.75</td><td>-335903.1 </td></tr>\n",
       "\t<tr><td>16029     </td><td>C551699   </td><td>  -6930.00</td><td>1         </td><td>  -6930.00</td><td>-342833.1 </td></tr>\n",
       "\t<tr><td>12744     </td><td>C571750   </td><td>  -6068.06</td><td>1         </td><td>  -6068.06</td><td>-348901.2 </td></tr>\n",
       "\t<tr><td>14911     </td><td>C562375   </td><td>  -4345.10</td><td>1         </td><td>  -4345.10</td><td>-353246.3 </td></tr>\n",
       "</tbody>\n",
       "</table>\n"
      ],
      "text/latex": [
       "\\begin{tabular}{r|llllll}\n",
       " CustomerID & InvoiceNo & revenue & transactions & aveOrdVal & cumsum\\\\\n",
       "\\hline\n",
       "\t 16446      & C581484    & -168469.60 & 1          & -168469.60 & -168469.6 \\\\\n",
       "\t 12346      & C541433    &  -77183.60 & 1          &  -77183.60 & -245653.2 \\\\\n",
       "\t 15098      & C556445    &  -38970.00 & 1          &  -38970.00 & -284623.2 \\\\\n",
       "\t 15749      & C550456    &  -22998.40 & 1          &  -22998.40 & -307621.6 \\\\\n",
       "\t 16029      & C570556    &  -11816.64 & 1          &  -11816.64 & -319438.2 \\\\\n",
       "\t 12536      & C573079    &   -8322.12 & 1          &   -8322.12 & -327760.4 \\\\\n",
       "\t 16029      & C551685    &   -8142.75 & 1          &   -8142.75 & -335903.1 \\\\\n",
       "\t 16029      & C551699    &   -6930.00 & 1          &   -6930.00 & -342833.1 \\\\\n",
       "\t 12744      & C571750    &   -6068.06 & 1          &   -6068.06 & -348901.2 \\\\\n",
       "\t 14911      & C562375    &   -4345.10 & 1          &   -4345.10 & -353246.3 \\\\\n",
       "\\end{tabular}\n"
      ],
      "text/markdown": [
       "\n",
       "| CustomerID | InvoiceNo | revenue | transactions | aveOrdVal | cumsum |\n",
       "|---|---|---|---|---|---|\n",
       "| 16446      | C581484    | -168469.60 | 1          | -168469.60 | -168469.6  |\n",
       "| 12346      | C541433    |  -77183.60 | 1          |  -77183.60 | -245653.2  |\n",
       "| 15098      | C556445    |  -38970.00 | 1          |  -38970.00 | -284623.2  |\n",
       "| 15749      | C550456    |  -22998.40 | 1          |  -22998.40 | -307621.6  |\n",
       "| 16029      | C570556    |  -11816.64 | 1          |  -11816.64 | -319438.2  |\n",
       "| 12536      | C573079    |   -8322.12 | 1          |   -8322.12 | -327760.4  |\n",
       "| 16029      | C551685    |   -8142.75 | 1          |   -8142.75 | -335903.1  |\n",
       "| 16029      | C551699    |   -6930.00 | 1          |   -6930.00 | -342833.1  |\n",
       "| 12744      | C571750    |   -6068.06 | 1          |   -6068.06 | -348901.2  |\n",
       "| 14911      | C562375    |   -4345.10 | 1          |   -4345.10 | -353246.3  |\n",
       "\n"
      ],
      "text/plain": [
       "   CustomerID InvoiceNo revenue    transactions aveOrdVal  cumsum   \n",
       "1  16446      C581484   -168469.60 1            -168469.60 -168469.6\n",
       "2  12346      C541433    -77183.60 1             -77183.60 -245653.2\n",
       "3  15098      C556445    -38970.00 1             -38970.00 -284623.2\n",
       "4  15749      C550456    -22998.40 1             -22998.40 -307621.6\n",
       "5  16029      C570556    -11816.64 1             -11816.64 -319438.2\n",
       "6  12536      C573079     -8322.12 1              -8322.12 -327760.4\n",
       "7  16029      C551685     -8142.75 1              -8142.75 -335903.1\n",
       "8  16029      C551699     -6930.00 1              -6930.00 -342833.1\n",
       "9  12744      C571750     -6068.06 1              -6068.06 -348901.2\n",
       "10 14911      C562375     -4345.10 1              -4345.10 -353246.3"
      ]
     },
     "metadata": {},
     "output_type": "display_data"
    }
   ],
   "source": [
    "custSummaryB <- custData %>%\n",
    "  group_by(CustomerID, InvoiceNo) %>%\n",
    "  summarise(revenue = sum(lineTotal), transactions = n_distinct(InvoiceNo)) %>%\n",
    "  mutate(aveOrdVal = (round((revenue / transactions),2))) %>%\n",
    "  ungroup() %>%\n",
    "  arrange(revenue) %>%\n",
    "  mutate(cumsum=cumsum(revenue))\n",
    "\n",
    "head(custSummaryB, n =10)"
   ]
  },
  {
   "cell_type": "code",
   "execution_count": 39,
   "id": "international-swimming",
   "metadata": {},
   "outputs": [
    {
     "data": {
      "text/html": [
       "<table>\n",
       "<thead><tr><th scope=col>InvoiceNo</th><th scope=col>StockCode</th><th scope=col>Description</th><th scope=col>Quantity</th><th scope=col>InvoiceDate</th><th scope=col>UnitPrice</th><th scope=col>CustomerID</th><th scope=col>Country</th><th scope=col>date</th><th scope=col>time</th><th scope=col>month</th><th scope=col>year</th><th scope=col>hourOfDay</th><th scope=col>dayOfWeek</th><th scope=col>lineTotal</th></tr></thead>\n",
       "<tbody>\n",
       "\t<tr><td>553573                     </td><td>22980                      </td><td>PANTRY SCRUBBING BRUSH     </td><td>     1                     </td><td>5/18/2011 9:52             </td><td>1.65                       </td><td>16446                      </td><td>United Kingdom             </td><td>2011-05-18                 </td><td>9:52                       </td><td>5                          </td><td>2011                       </td><td>9                          </td><td>Wed                        </td><td>      1.65                 </td></tr>\n",
       "\t<tr><td>553573                     </td><td>22982                      </td><td>PANTRY PASTRY BRUSH        </td><td>     1                     </td><td>5/18/2011 9:52             </td><td>1.25                       </td><td>16446                      </td><td>United Kingdom             </td><td>2011-05-18                 </td><td>9:52                       </td><td>5                          </td><td>2011                       </td><td>9                          </td><td>Wed                        </td><td>      1.25                 </td></tr>\n",
       "\t<tr><td>581483                     </td><td>23843                      </td><td>PAPER CRAFT , LITTLE BIRDIE</td><td> 80995                     </td><td>12/9/2011 9:15             </td><td>2.08                       </td><td>16446                      </td><td>United Kingdom             </td><td>2011-12-09                 </td><td>9:15                       </td><td>12                         </td><td>2011                       </td><td>9                          </td><td>Fri                        </td><td> 168469.60                 </td></tr>\n",
       "\t<tr><td>C581484                    </td><td>23843                      </td><td>PAPER CRAFT , LITTLE BIRDIE</td><td>-80995                     </td><td>12/9/2011 9:27             </td><td>2.08                       </td><td>16446                      </td><td>United Kingdom             </td><td>2011-12-09                 </td><td>9:27                       </td><td>12                         </td><td>2011                       </td><td>9                          </td><td>Fri                        </td><td>-168469.60                 </td></tr>\n",
       "</tbody>\n",
       "</table>\n"
      ],
      "text/latex": [
       "\\begin{tabular}{r|lllllllllllllll}\n",
       " InvoiceNo & StockCode & Description & Quantity & InvoiceDate & UnitPrice & CustomerID & Country & date & time & month & year & hourOfDay & dayOfWeek & lineTotal\\\\\n",
       "\\hline\n",
       "\t 553573                      & 22980                       & PANTRY SCRUBBING BRUSH      &      1                      & 5/18/2011 9:52              & 1.65                        & 16446                       & United Kingdom              & 2011-05-18                  & 9:52                        & 5                           & 2011                        & 9                           & Wed                         &       1.65                 \\\\\n",
       "\t 553573                      & 22982                       & PANTRY PASTRY BRUSH         &      1                      & 5/18/2011 9:52              & 1.25                        & 16446                       & United Kingdom              & 2011-05-18                  & 9:52                        & 5                           & 2011                        & 9                           & Wed                         &       1.25                 \\\\\n",
       "\t 581483                      & 23843                       & PAPER CRAFT , LITTLE BIRDIE &  80995                      & 12/9/2011 9:15              & 2.08                        & 16446                       & United Kingdom              & 2011-12-09                  & 9:15                        & 12                          & 2011                        & 9                           & Fri                         &  168469.60                 \\\\\n",
       "\t C581484                     & 23843                       & PAPER CRAFT , LITTLE BIRDIE & -80995                      & 12/9/2011 9:27              & 2.08                        & 16446                       & United Kingdom              & 2011-12-09                  & 9:27                        & 12                          & 2011                        & 9                           & Fri                         & -168469.60                 \\\\\n",
       "\\end{tabular}\n"
      ],
      "text/markdown": [
       "\n",
       "| InvoiceNo | StockCode | Description | Quantity | InvoiceDate | UnitPrice | CustomerID | Country | date | time | month | year | hourOfDay | dayOfWeek | lineTotal |\n",
       "|---|---|---|---|---|---|---|---|---|---|---|---|---|---|---|\n",
       "| 553573                      | 22980                       | PANTRY SCRUBBING BRUSH      |      1                      | 5/18/2011 9:52              | 1.65                        | 16446                       | United Kingdom              | 2011-05-18                  | 9:52                        | 5                           | 2011                        | 9                           | Wed                         |       1.65                  |\n",
       "| 553573                      | 22982                       | PANTRY PASTRY BRUSH         |      1                      | 5/18/2011 9:52              | 1.25                        | 16446                       | United Kingdom              | 2011-05-18                  | 9:52                        | 5                           | 2011                        | 9                           | Wed                         |       1.25                  |\n",
       "| 581483                      | 23843                       | PAPER CRAFT , LITTLE BIRDIE |  80995                      | 12/9/2011 9:15              | 2.08                        | 16446                       | United Kingdom              | 2011-12-09                  | 9:15                        | 12                          | 2011                        | 9                           | Fri                         |  168469.60                  |\n",
       "| C581484                     | 23843                       | PAPER CRAFT , LITTLE BIRDIE | -80995                      | 12/9/2011 9:27              | 2.08                        | 16446                       | United Kingdom              | 2011-12-09                  | 9:27                        | 12                          | 2011                        | 9                           | Fri                         | -168469.60                  |\n",
       "\n"
      ],
      "text/plain": [
       "  InvoiceNo StockCode Description                 Quantity InvoiceDate   \n",
       "1 553573    22980     PANTRY SCRUBBING BRUSH           1   5/18/2011 9:52\n",
       "2 553573    22982     PANTRY PASTRY BRUSH              1   5/18/2011 9:52\n",
       "3 581483    23843     PAPER CRAFT , LITTLE BIRDIE  80995   12/9/2011 9:15\n",
       "4 C581484   23843     PAPER CRAFT , LITTLE BIRDIE -80995   12/9/2011 9:27\n",
       "  UnitPrice CustomerID Country        date       time month year hourOfDay\n",
       "1 1.65      16446      United Kingdom 2011-05-18 9:52 5     2011 9        \n",
       "2 1.25      16446      United Kingdom 2011-05-18 9:52 5     2011 9        \n",
       "3 2.08      16446      United Kingdom 2011-12-09 9:15 12    2011 9        \n",
       "4 2.08      16446      United Kingdom 2011-12-09 9:27 12    2011 9        \n",
       "  dayOfWeek lineTotal \n",
       "1 Wed             1.65\n",
       "2 Wed             1.25\n",
       "3 Fri        168469.60\n",
       "4 Fri       -168469.60"
      ]
     },
     "metadata": {},
     "output_type": "display_data"
    }
   ],
   "source": [
    "custData %>% filter(CustomerID == 16446)"
   ]
  },
  {
   "cell_type": "code",
   "execution_count": 40,
   "id": "advance-chassis",
   "metadata": {},
   "outputs": [
    {
     "name": "stderr",
     "output_type": "stream",
     "text": [
      "`summarise()` has grouped output by 'InvoiceNo', 'CustomerID', 'Country', 'date', 'month', 'year', 'hourOfDay'. You can override using the `.groups` argument.\n"
     ]
    },
    {
     "data": {
      "text/html": [
       "<table>\n",
       "<thead><tr><th scope=col>InvoiceNo</th><th scope=col>CustomerID</th><th scope=col>Country</th><th scope=col>date</th><th scope=col>month</th><th scope=col>year</th><th scope=col>hourOfDay</th><th scope=col>dayOfWeek</th><th scope=col>orderVal</th><th scope=col>recent</th><th scope=col>recentDays</th></tr></thead>\n",
       "<tbody>\n",
       "\t<tr><td>536365        </td><td>17850         </td><td>United Kingdom</td><td>2010-12-01    </td><td>12            </td><td>2010          </td><td>8             </td><td>Wed           </td><td>139.12        </td><td>3820          </td><td>3820          </td></tr>\n",
       "\t<tr><td>536366        </td><td>17850         </td><td>United Kingdom</td><td>2010-12-01    </td><td>12            </td><td>2010          </td><td>8             </td><td>Wed           </td><td> 22.20        </td><td>3820          </td><td>3820          </td></tr>\n",
       "\t<tr><td>536367        </td><td>13047         </td><td>United Kingdom</td><td>2010-12-01    </td><td>12            </td><td>2010          </td><td>8             </td><td>Wed           </td><td>278.73        </td><td>3820          </td><td>3820          </td></tr>\n",
       "\t<tr><td>536368        </td><td>13047         </td><td>United Kingdom</td><td>2010-12-01    </td><td>12            </td><td>2010          </td><td>8             </td><td>Wed           </td><td> 70.05        </td><td>3820          </td><td>3820          </td></tr>\n",
       "\t<tr><td>536369        </td><td>13047         </td><td>United Kingdom</td><td>2010-12-01    </td><td>12            </td><td>2010          </td><td>8             </td><td>Wed           </td><td> 17.85        </td><td>3820          </td><td>3820          </td></tr>\n",
       "</tbody>\n",
       "</table>\n"
      ],
      "text/latex": [
       "\\begin{tabular}{r|lllllllllll}\n",
       " InvoiceNo & CustomerID & Country & date & month & year & hourOfDay & dayOfWeek & orderVal & recent & recentDays\\\\\n",
       "\\hline\n",
       "\t 536365         & 17850          & United Kingdom & 2010-12-01     & 12             & 2010           & 8              & Wed            & 139.12         & 3820           & 3820          \\\\\n",
       "\t 536366         & 17850          & United Kingdom & 2010-12-01     & 12             & 2010           & 8              & Wed            &  22.20         & 3820           & 3820          \\\\\n",
       "\t 536367         & 13047          & United Kingdom & 2010-12-01     & 12             & 2010           & 8              & Wed            & 278.73         & 3820           & 3820          \\\\\n",
       "\t 536368         & 13047          & United Kingdom & 2010-12-01     & 12             & 2010           & 8              & Wed            &  70.05         & 3820           & 3820          \\\\\n",
       "\t 536369         & 13047          & United Kingdom & 2010-12-01     & 12             & 2010           & 8              & Wed            &  17.85         & 3820           & 3820          \\\\\n",
       "\\end{tabular}\n"
      ],
      "text/markdown": [
       "\n",
       "| InvoiceNo | CustomerID | Country | date | month | year | hourOfDay | dayOfWeek | orderVal | recent | recentDays |\n",
       "|---|---|---|---|---|---|---|---|---|---|---|\n",
       "| 536365         | 17850          | United Kingdom | 2010-12-01     | 12             | 2010           | 8              | Wed            | 139.12         | 3820           | 3820           |\n",
       "| 536366         | 17850          | United Kingdom | 2010-12-01     | 12             | 2010           | 8              | Wed            |  22.20         | 3820           | 3820           |\n",
       "| 536367         | 13047          | United Kingdom | 2010-12-01     | 12             | 2010           | 8              | Wed            | 278.73         | 3820           | 3820           |\n",
       "| 536368         | 13047          | United Kingdom | 2010-12-01     | 12             | 2010           | 8              | Wed            |  70.05         | 3820           | 3820           |\n",
       "| 536369         | 13047          | United Kingdom | 2010-12-01     | 12             | 2010           | 8              | Wed            |  17.85         | 3820           | 3820           |\n",
       "\n"
      ],
      "text/plain": [
       "  InvoiceNo CustomerID Country        date       month year hourOfDay dayOfWeek\n",
       "1 536365    17850      United Kingdom 2010-12-01 12    2010 8         Wed      \n",
       "2 536366    17850      United Kingdom 2010-12-01 12    2010 8         Wed      \n",
       "3 536367    13047      United Kingdom 2010-12-01 12    2010 8         Wed      \n",
       "4 536368    13047      United Kingdom 2010-12-01 12    2010 8         Wed      \n",
       "5 536369    13047      United Kingdom 2010-12-01 12    2010 8         Wed      \n",
       "  orderVal recent recentDays\n",
       "1 139.12   3820   3820      \n",
       "2  22.20   3820   3820      \n",
       "3 278.73   3820   3820      \n",
       "4  70.05   3820   3820      \n",
       "5  17.85   3820   3820      "
      ]
     },
     "metadata": {},
     "output_type": "display_data"
    }
   ],
   "source": [
    "custSummaryB <- custData %>%\n",
    "  group_by(InvoiceNo, CustomerID, Country, date, month, year, hourOfDay, dayOfWeek) %>%\n",
    "  summarise(orderVal = sum(lineTotal)) %>%\n",
    "  mutate(recent = Sys.Date() - date) %>%\n",
    "  ungroup()\n",
    "\n",
    "custSummaryB$recent <- as.character(custSummaryB$recent)\n",
    "custSummaryB$recentDays <- sapply(custSummaryB$recent, FUN = function(x) {strsplit(x, split = '[ ]')[[1]][1]})\n",
    "custSummaryB$recentDays <- as.integer(custSummaryB$recentDays)\n",
    "\n",
    "head(custSummaryB, n = 5)"
   ]
  },
  {
   "cell_type": "code",
   "execution_count": 41,
   "id": "familiar-infection",
   "metadata": {},
   "outputs": [
    {
     "name": "stderr",
     "output_type": "stream",
     "text": [
      "`summarise()` has grouped output by 'CustomerID'. You can override using the `.groups` argument.\n"
     ]
    },
    {
     "data": {
      "text/html": [
       "<table>\n",
       "<thead><tr><th scope=col>CustomerID</th><th scope=col>Country</th><th scope=col>orders</th><th scope=col>revenue</th><th scope=col>meanRevenue</th><th scope=col>medianRevenue</th><th scope=col>mostDay</th><th scope=col>mostHour</th><th scope=col>recency</th></tr></thead>\n",
       "<tbody>\n",
       "\t<tr><td>12346         </td><td>United Kingdom</td><td> 2            </td><td>   0.00       </td><td>   0.00       </td><td>   0.00       </td><td>Tue           </td><td>10            </td><td>3772          </td></tr>\n",
       "\t<tr><td>12347         </td><td>Iceland       </td><td> 7            </td><td>4310.00       </td><td> 615.71       </td><td> 584.91       </td><td>Tue           </td><td>14            </td><td>3449          </td></tr>\n",
       "\t<tr><td>12348         </td><td>Finland       </td><td> 4            </td><td>1797.24       </td><td> 449.31       </td><td> 338.50       </td><td>Tue           </td><td>10            </td><td>3522          </td></tr>\n",
       "\t<tr><td>12349         </td><td>Italy         </td><td> 1            </td><td>1757.55       </td><td>1757.55       </td><td>1757.55       </td><td>Mon           </td><td>9             </td><td>3465          </td></tr>\n",
       "\t<tr><td>12350         </td><td>Norway        </td><td> 1            </td><td> 334.40       </td><td> 334.40       </td><td> 334.40       </td><td>Wed           </td><td>16            </td><td>3757          </td></tr>\n",
       "\t<tr><td>12352         </td><td>Norway        </td><td>11            </td><td>1545.41       </td><td> 140.49       </td><td> 160.33       </td><td>Tue           </td><td>14            </td><td>3483          </td></tr>\n",
       "</tbody>\n",
       "</table>\n"
      ],
      "text/latex": [
       "\\begin{tabular}{r|lllllllll}\n",
       " CustomerID & Country & orders & revenue & meanRevenue & medianRevenue & mostDay & mostHour & recency\\\\\n",
       "\\hline\n",
       "\t 12346          & United Kingdom &  2             &    0.00        &    0.00        &    0.00        & Tue            & 10             & 3772          \\\\\n",
       "\t 12347          & Iceland        &  7             & 4310.00        &  615.71        &  584.91        & Tue            & 14             & 3449          \\\\\n",
       "\t 12348          & Finland        &  4             & 1797.24        &  449.31        &  338.50        & Tue            & 10             & 3522          \\\\\n",
       "\t 12349          & Italy          &  1             & 1757.55        & 1757.55        & 1757.55        & Mon            & 9              & 3465          \\\\\n",
       "\t 12350          & Norway         &  1             &  334.40        &  334.40        &  334.40        & Wed            & 16             & 3757          \\\\\n",
       "\t 12352          & Norway         & 11             & 1545.41        &  140.49        &  160.33        & Tue            & 14             & 3483          \\\\\n",
       "\\end{tabular}\n"
      ],
      "text/markdown": [
       "\n",
       "| CustomerID | Country | orders | revenue | meanRevenue | medianRevenue | mostDay | mostHour | recency |\n",
       "|---|---|---|---|---|---|---|---|---|\n",
       "| 12346          | United Kingdom |  2             |    0.00        |    0.00        |    0.00        | Tue            | 10             | 3772           |\n",
       "| 12347          | Iceland        |  7             | 4310.00        |  615.71        |  584.91        | Tue            | 14             | 3449           |\n",
       "| 12348          | Finland        |  4             | 1797.24        |  449.31        |  338.50        | Tue            | 10             | 3522           |\n",
       "| 12349          | Italy          |  1             | 1757.55        | 1757.55        | 1757.55        | Mon            | 9              | 3465           |\n",
       "| 12350          | Norway         |  1             |  334.40        |  334.40        |  334.40        | Wed            | 16             | 3757           |\n",
       "| 12352          | Norway         | 11             | 1545.41        |  140.49        |  160.33        | Tue            | 14             | 3483           |\n",
       "\n"
      ],
      "text/plain": [
       "  CustomerID Country        orders revenue meanRevenue medianRevenue mostDay\n",
       "1 12346      United Kingdom  2        0.00    0.00        0.00       Tue    \n",
       "2 12347      Iceland         7     4310.00  615.71      584.91       Tue    \n",
       "3 12348      Finland         4     1797.24  449.31      338.50       Tue    \n",
       "4 12349      Italy           1     1757.55 1757.55     1757.55       Mon    \n",
       "5 12350      Norway          1      334.40  334.40      334.40       Wed    \n",
       "6 12352      Norway         11     1545.41  140.49      160.33       Tue    \n",
       "  mostHour recency\n",
       "1 10       3772   \n",
       "2 14       3449   \n",
       "3 10       3522   \n",
       "4 9        3465   \n",
       "5 16       3757   \n",
       "6 14       3483   "
      ]
     },
     "metadata": {},
     "output_type": "display_data"
    }
   ],
   "source": [
    "customerBreakdown <- custSummaryB %>%\n",
    "  group_by(CustomerID, Country) %>%\n",
    "  summarise(orders = n_distinct(InvoiceNo), revenue = sum(orderVal), meanRevenue = round(mean(orderVal), 2), medianRevenue = median(orderVal), \n",
    "            mostDay = names(which.max(table(dayOfWeek))), mostHour = names(which.max(table(hourOfDay))),\n",
    "           recency = min(recentDays))%>%\n",
    "  ungroup()\n",
    "\n",
    "head(customerBreakdown)\n"
   ]
  },
  {
   "cell_type": "code",
   "execution_count": 42,
   "id": "burning-workstation",
   "metadata": {},
   "outputs": [
    {
     "data": {
      "text/html": [
       "<table>\n",
       "<thead><tr><th scope=col>CustomerID</th><th scope=col>Country</th><th scope=col>orders</th><th scope=col>revenue</th><th scope=col>meanRevenue</th><th scope=col>medianRevenue</th><th scope=col>mostDay</th><th scope=col>mostHour</th><th scope=col>recency</th></tr></thead>\n",
       "<tbody>\n",
       "\t<tr><td>12347   </td><td>Iceland </td><td> 7      </td><td>4310.00 </td><td> 615.71 </td><td>584.91  </td><td>Tue     </td><td>14      </td><td>3449    </td></tr>\n",
       "\t<tr><td>12348   </td><td>Finland </td><td> 4      </td><td>1797.24 </td><td> 449.31 </td><td>338.50  </td><td>Tue     </td><td>10      </td><td>3522    </td></tr>\n",
       "\t<tr><td>12352   </td><td>Norway  </td><td>11      </td><td>1545.41 </td><td> 140.49 </td><td>160.33  </td><td>Tue     </td><td>14      </td><td>3483    </td></tr>\n",
       "\t<tr><td>12356   </td><td>Portugal</td><td> 3      </td><td>2811.43 </td><td> 937.14 </td><td>481.46  </td><td>Tue     </td><td>12      </td><td>3469    </td></tr>\n",
       "\t<tr><td>12358   </td><td>Austria </td><td> 2      </td><td>1168.06 </td><td> 584.03 </td><td>584.03  </td><td>Tue     </td><td>10      </td><td>3448    </td></tr>\n",
       "\t<tr><td>12359   </td><td>Cyprus  </td><td> 6      </td><td>6245.53 </td><td>1040.92 </td><td>828.41  </td><td>Wed     </td><td>12      </td><td>3454    </td></tr>\n",
       "</tbody>\n",
       "</table>\n"
      ],
      "text/latex": [
       "\\begin{tabular}{r|lllllllll}\n",
       " CustomerID & Country & orders & revenue & meanRevenue & medianRevenue & mostDay & mostHour & recency\\\\\n",
       "\\hline\n",
       "\t 12347    & Iceland  &  7       & 4310.00  &  615.71  & 584.91   & Tue      & 14       & 3449    \\\\\n",
       "\t 12348    & Finland  &  4       & 1797.24  &  449.31  & 338.50   & Tue      & 10       & 3522    \\\\\n",
       "\t 12352    & Norway   & 11       & 1545.41  &  140.49  & 160.33   & Tue      & 14       & 3483    \\\\\n",
       "\t 12356    & Portugal &  3       & 2811.43  &  937.14  & 481.46   & Tue      & 12       & 3469    \\\\\n",
       "\t 12358    & Austria  &  2       & 1168.06  &  584.03  & 584.03   & Tue      & 10       & 3448    \\\\\n",
       "\t 12359    & Cyprus   &  6       & 6245.53  & 1040.92  & 828.41   & Wed      & 12       & 3454    \\\\\n",
       "\\end{tabular}\n"
      ],
      "text/markdown": [
       "\n",
       "| CustomerID | Country | orders | revenue | meanRevenue | medianRevenue | mostDay | mostHour | recency |\n",
       "|---|---|---|---|---|---|---|---|---|\n",
       "| 12347    | Iceland  |  7       | 4310.00  |  615.71  | 584.91   | Tue      | 14       | 3449     |\n",
       "| 12348    | Finland  |  4       | 1797.24  |  449.31  | 338.50   | Tue      | 10       | 3522     |\n",
       "| 12352    | Norway   | 11       | 1545.41  |  140.49  | 160.33   | Tue      | 14       | 3483     |\n",
       "| 12356    | Portugal |  3       | 2811.43  |  937.14  | 481.46   | Tue      | 12       | 3469     |\n",
       "| 12358    | Austria  |  2       | 1168.06  |  584.03  | 584.03   | Tue      | 10       | 3448     |\n",
       "| 12359    | Cyprus   |  6       | 6245.53  | 1040.92  | 828.41   | Wed      | 12       | 3454     |\n",
       "\n"
      ],
      "text/plain": [
       "  CustomerID Country  orders revenue meanRevenue medianRevenue mostDay mostHour\n",
       "1 12347      Iceland   7     4310.00  615.71     584.91        Tue     14      \n",
       "2 12348      Finland   4     1797.24  449.31     338.50        Tue     10      \n",
       "3 12352      Norway   11     1545.41  140.49     160.33        Tue     14      \n",
       "4 12356      Portugal  3     2811.43  937.14     481.46        Tue     12      \n",
       "5 12358      Austria   2     1168.06  584.03     584.03        Tue     10      \n",
       "6 12359      Cyprus    6     6245.53 1040.92     828.41        Wed     12      \n",
       "  recency\n",
       "1 3449   \n",
       "2 3522   \n",
       "3 3483   \n",
       "4 3469   \n",
       "5 3448   \n",
       "6 3454   "
      ]
     },
     "metadata": {},
     "output_type": "display_data"
    },
    {
     "data": {
      "text/html": [
       "<ol class=list-inline>\n",
       "\t<li>3032</li>\n",
       "\t<li>9</li>\n",
       "</ol>\n"
      ],
      "text/latex": [
       "\\begin{enumerate*}\n",
       "\\item 3032\n",
       "\\item 9\n",
       "\\end{enumerate*}\n"
      ],
      "text/markdown": [
       "1. 3032\n",
       "2. 9\n",
       "\n",
       "\n"
      ],
      "text/plain": [
       "[1] 3032    9"
      ]
     },
     "metadata": {},
     "output_type": "display_data"
    }
   ],
   "source": [
    "#Filter the dataframe\n",
    "custBreakSum <- customerBreakdown %>%\n",
    "  filter(orders > 1, revenue > 50)\n",
    "\n",
    "head(custBreakSum)\n",
    "dim(custBreakSum)"
   ]
  },
  {
   "cell_type": "code",
   "execution_count": 43,
   "id": "seasonal-apollo",
   "metadata": {},
   "outputs": [],
   "source": [
    "#We've created a dataframe that gives us a list of repeat customers and tells us their country, how many orders they have made, total revenue and average order value as well as the day of the week and the time of the day they most frequently place orders.\n",
    "#install.packages(\"heatmaply\")"
   ]
  },
  {
   "cell_type": "code",
   "execution_count": 44,
   "id": "concerned-stupid",
   "metadata": {},
   "outputs": [
    {
     "name": "stderr",
     "output_type": "stream",
     "text": [
      "Warning message:\n",
      "\"package 'ploty' is not available (for R version 3.6.1)\""
     ]
    }
   ],
   "source": [
    "install.packages(\"ploty\")"
   ]
  },
  {
   "cell_type": "code",
   "execution_count": 45,
   "id": "accredited-simpson",
   "metadata": {},
   "outputs": [
    {
     "name": "stderr",
     "output_type": "stream",
     "text": [
      "Warning message:\n",
      "\"package 'heatmaply' was built under R version 3.6.3\"Loading required package: plotly\n",
      "Warning message:\n",
      "\"package 'plotly' was built under R version 3.6.3\"\n",
      "Attaching package: 'plotly'\n",
      "\n",
      "The following object is masked from 'package:ggplot2':\n",
      "\n",
      "    last_plot\n",
      "\n",
      "The following object is masked from 'package:stats':\n",
      "\n",
      "    filter\n",
      "\n",
      "The following object is masked from 'package:graphics':\n",
      "\n",
      "    layout\n",
      "\n",
      "Loading required package: viridis\n",
      "Warning message:\n",
      "\"package 'viridis' was built under R version 3.6.3\"Loading required package: viridisLite\n",
      "Warning message:\n",
      "\"package 'viridisLite' was built under R version 3.6.3\"\n",
      "======================\n",
      "Welcome to heatmaply version 1.2.1\n",
      "\n",
      "Type citation('heatmaply') for how to cite the package.\n",
      "Type ?heatmaply for the main documentation.\n",
      "\n",
      "The github page is: https://github.com/talgalili/heatmaply/\n",
      "Please submit your suggestions and bug-reports at: https://github.com/talgalili/heatmaply/issues\n",
      "Or contact: <tal.galili@gmail.com>\n",
      "======================\n",
      "\n"
     ]
    }
   ],
   "source": [
    "library(heatmaply)"
   ]
  },
  {
   "cell_type": "code",
   "execution_count": 46,
   "id": "instrumental-cocktail",
   "metadata": {},
   "outputs": [
    {
     "data": {
      "text/html": [
       "<table>\n",
       "<thead><tr><th></th><th scope=col>recency</th><th scope=col>revenue</th><th scope=col>meanRevenue</th><th scope=col>medianRevenue</th><th scope=col>orders</th></tr></thead>\n",
       "<tbody>\n",
       "\t<tr><th scope=row>12347</th><td>3449   </td><td>4310.00</td><td> 615.71</td><td>584.91 </td><td> 7     </td></tr>\n",
       "\t<tr><th scope=row>12348</th><td>3522   </td><td>1797.24</td><td> 449.31</td><td>338.50 </td><td> 4     </td></tr>\n",
       "\t<tr><th scope=row>12352</th><td>3483   </td><td>1545.41</td><td> 140.49</td><td>160.33 </td><td>11     </td></tr>\n",
       "\t<tr><th scope=row>12356</th><td>3469   </td><td>2811.43</td><td> 937.14</td><td>481.46 </td><td> 3     </td></tr>\n",
       "\t<tr><th scope=row>12358</th><td>3448   </td><td>1168.06</td><td> 584.03</td><td>584.03 </td><td> 2     </td></tr>\n",
       "\t<tr><th scope=row>12359</th><td>3454   </td><td>6245.53</td><td>1040.92</td><td>828.41 </td><td> 6     </td></tr>\n",
       "</tbody>\n",
       "</table>\n"
      ],
      "text/latex": [
       "\\begin{tabular}{r|lllll}\n",
       "  & recency & revenue & meanRevenue & medianRevenue & orders\\\\\n",
       "\\hline\n",
       "\t12347 & 3449    & 4310.00 &  615.71 & 584.91  &  7     \\\\\n",
       "\t12348 & 3522    & 1797.24 &  449.31 & 338.50  &  4     \\\\\n",
       "\t12352 & 3483    & 1545.41 &  140.49 & 160.33  & 11     \\\\\n",
       "\t12356 & 3469    & 2811.43 &  937.14 & 481.46  &  3     \\\\\n",
       "\t12358 & 3448    & 1168.06 &  584.03 & 584.03  &  2     \\\\\n",
       "\t12359 & 3454    & 6245.53 & 1040.92 & 828.41  &  6     \\\\\n",
       "\\end{tabular}\n"
      ],
      "text/markdown": [
       "\n",
       "| <!--/--> | recency | revenue | meanRevenue | medianRevenue | orders |\n",
       "|---|---|---|---|---|---|\n",
       "| 12347 | 3449    | 4310.00 |  615.71 | 584.91  |  7      |\n",
       "| 12348 | 3522    | 1797.24 |  449.31 | 338.50  |  4      |\n",
       "| 12352 | 3483    | 1545.41 |  140.49 | 160.33  | 11      |\n",
       "| 12356 | 3469    | 2811.43 |  937.14 | 481.46  |  3      |\n",
       "| 12358 | 3448    | 1168.06 |  584.03 | 584.03  |  2      |\n",
       "| 12359 | 3454    | 6245.53 | 1040.92 | 828.41  |  6      |\n",
       "\n"
      ],
      "text/plain": [
       "      recency revenue meanRevenue medianRevenue orders\n",
       "12347 3449    4310.00  615.71     584.91         7    \n",
       "12348 3522    1797.24  449.31     338.50         4    \n",
       "12352 3483    1545.41  140.49     160.33        11    \n",
       "12356 3469    2811.43  937.14     481.46         3    \n",
       "12358 3448    1168.06  584.03     584.03         2    \n",
       "12359 3454    6245.53 1040.92     828.41         6    "
      ]
     },
     "metadata": {},
     "output_type": "display_data"
    },
    {
     "data": {
      "text/html": [
       "'matrix'"
      ],
      "text/latex": [
       "'matrix'"
      ],
      "text/markdown": [
       "'matrix'"
      ],
      "text/plain": [
       "[1] \"matrix\""
      ]
     },
     "metadata": {},
     "output_type": "display_data"
    }
   ],
   "source": [
    "custMat <- custBreakSum %>%\n",
    "  select(recency, revenue, meanRevenue, medianRevenue, orders) %>%\n",
    "  as.matrix()\n",
    "\n",
    "rownames(custMat) <- custBreakSum$CustomerID\n",
    "\n",
    "head(custMat)\n",
    "class(custMat)"
   ]
  },
  {
   "cell_type": "code",
   "execution_count": 47,
   "id": "engaged-inspection",
   "metadata": {},
   "outputs": [
    {
     "data": {
      "image/png": "[encoded data removed]",
      "text/plain": [
       "plot without title"
      ]
     },
     "metadata": {},
     "output_type": "display_data"
    }
   ],
   "source": [
    "options(repr.plot.width=7, repr.plot.height=6)\n",
    "heatmap(scale(custMat), cexCol = 0.7)"
   ]
  },
  {
   "cell_type": "markdown",
   "id": "conservative-glory",
   "metadata": {},
   "source": [
    "Looking at the heatmap, we can see that the total revenue clusters with the number of orders as we would expect, that the mean and median order values cluster together, again, as expected, and that the order recency sits in its own group. However, the main point of interest here is how the rows (customers) cluster\n"
   ]
  },
  {
   "cell_type": "markdown",
   "id": "lyric-anchor",
   "metadata": {},
   "source": [
    "## Summary & Conclusion\n"
   ]
  },
  {
   "cell_type": "markdown",
   "id": "tight-poison",
   "metadata": {},
   "source": [
    "This dataset offers myriad opportunities for practising skills in e-commerce sales analysis and customer segmentation. There are some other variables it would be nice to have in the dataset such as categories for the products. Additionally, before performing analysis it would be important to talk with the e-commerce team to understand the business and its customers and its strategic and tactical objectives. Knowing what the business wants to achieve, and what questions it has are central to performing a relevant analysis that generates actionable insight."
   ]
  },
  {
   "cell_type": "markdown",
   "id": "descending-laundry",
   "metadata": {},
   "source": [
    "## Future Aspects"
   ]
  },
  {
   "cell_type": "markdown",
   "id": "changed-diagnosis",
   "metadata": {},
   "source": [
    "There is still a lot more that we can do with this dataset. We haven't looked at the frequency of purchases, and we've not looked at the products. While a simple 'product category' variable would have been very useful. We may well be able to extract some additional features from the description field with some text analysis, and we could look at using the stock code, perhaps using PCA to reduce the dimensionality."
   ]
  }
 ],
 "metadata": {
  "kernelspec": {
   "display_name": "R",
   "language": "R",
   "name": "ir"
  },
  "language_info": {
   "codemirror_mode": "r",
   "file_extension": ".r",
   "mimetype": "text/x-r-source",
   "name": "R",
   "pygments_lexer": "r",
   "version": "3.6.1"
  }
 },
 "nbformat": 4,
 "nbformat_minor": 5
}
