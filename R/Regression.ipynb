{
 "cells": [
  {
   "cell_type": "code",
   "execution_count": 1,
   "id": "dirty-supplier",
   "metadata": {},
   "outputs": [
    {
     "name": "stdout",
     "output_type": "stream",
     "text": [
      "package 'datarium' successfully unpacked and MD5 sums checked\n",
      "\n",
      "The downloaded binary packages are in\n",
      "\tC:\\Users\\DELL\\AppData\\Local\\Temp\\RtmpCsAl2r\\downloaded_packages\n"
     ]
    }
   ],
   "source": [
    "# Install the package, if not already installed.\n",
    " install.packages(\"datarium\")\n",
    "#Importing the package\n"
   ]
  },
  {
   "cell_type": "code",
   "execution_count": 2,
   "id": "oriented-actor",
   "metadata": {},
   "outputs": [
    {
     "name": "stderr",
     "output_type": "stream",
     "text": [
      "Warning message:\n",
      "\"package 'datarium' was built under R version 3.6.3\""
     ]
    }
   ],
   "source": [
    "library(datarium)"
   ]
  },
  {
   "cell_type": "code",
   "execution_count": 3,
   "id": "friendly-turner",
   "metadata": {},
   "outputs": [
    {
     "data": {
      "text/html": [
       "<table>\n",
       "<thead><tr><th scope=col>youtube</th><th scope=col>facebook</th><th scope=col>newspaper</th><th scope=col>sales</th></tr></thead>\n",
       "<tbody>\n",
       "\t<tr><td>276.12</td><td>45.36 </td><td>83.04 </td><td>26.52 </td></tr>\n",
       "\t<tr><td> 53.40</td><td>47.16 </td><td>54.12 </td><td>12.48 </td></tr>\n",
       "\t<tr><td> 20.64</td><td>55.08 </td><td>83.16 </td><td>11.16 </td></tr>\n",
       "\t<tr><td>181.80</td><td>49.56 </td><td>70.20 </td><td>22.20 </td></tr>\n",
       "\t<tr><td>216.96</td><td>12.96 </td><td>70.08 </td><td>15.48 </td></tr>\n",
       "\t<tr><td> 10.44</td><td>58.68 </td><td>90.00 </td><td> 8.64 </td></tr>\n",
       "</tbody>\n",
       "</table>\n"
      ],
      "text/latex": [
       "\\begin{tabular}{r|llll}\n",
       " youtube & facebook & newspaper & sales\\\\\n",
       "\\hline\n",
       "\t 276.12 & 45.36  & 83.04  & 26.52 \\\\\n",
       "\t  53.40 & 47.16  & 54.12  & 12.48 \\\\\n",
       "\t  20.64 & 55.08  & 83.16  & 11.16 \\\\\n",
       "\t 181.80 & 49.56  & 70.20  & 22.20 \\\\\n",
       "\t 216.96 & 12.96  & 70.08  & 15.48 \\\\\n",
       "\t  10.44 & 58.68  & 90.00  &  8.64 \\\\\n",
       "\\end{tabular}\n"
      ],
      "text/markdown": [
       "\n",
       "| youtube | facebook | newspaper | sales |\n",
       "|---|---|---|---|\n",
       "| 276.12 | 45.36  | 83.04  | 26.52  |\n",
       "|  53.40 | 47.16  | 54.12  | 12.48  |\n",
       "|  20.64 | 55.08  | 83.16  | 11.16  |\n",
       "| 181.80 | 49.56  | 70.20  | 22.20  |\n",
       "| 216.96 | 12.96  | 70.08  | 15.48  |\n",
       "|  10.44 | 58.68  | 90.00  |  8.64  |\n",
       "\n"
      ],
      "text/plain": [
       "  youtube facebook newspaper sales\n",
       "1 276.12  45.36    83.04     26.52\n",
       "2  53.40  47.16    54.12     12.48\n",
       "3  20.64  55.08    83.16     11.16\n",
       "4 181.80  49.56    70.20     22.20\n",
       "5 216.96  12.96    70.08     15.48\n",
       "6  10.44  58.68    90.00      8.64"
      ]
     },
     "metadata": {},
     "output_type": "display_data"
    }
   ],
   "source": [
    "data <- marketing\n",
    "head(data)"
   ]
  },
  {
   "cell_type": "code",
   "execution_count": 4,
   "id": "crude-think",
   "metadata": {},
   "outputs": [
    {
     "data": {
      "text/plain": [
       "    youtube          facebook       newspaper          sales      \n",
       " Min.   :  0.84   Min.   : 0.00   Min.   :  0.36   Min.   : 1.92  \n",
       " 1st Qu.: 89.25   1st Qu.:11.97   1st Qu.: 15.30   1st Qu.:12.45  \n",
       " Median :179.70   Median :27.48   Median : 30.90   Median :15.48  \n",
       " Mean   :176.45   Mean   :27.92   Mean   : 36.66   Mean   :16.83  \n",
       " 3rd Qu.:262.59   3rd Qu.:43.83   3rd Qu.: 54.12   3rd Qu.:20.88  \n",
       " Max.   :355.68   Max.   :59.52   Max.   :136.80   Max.   :32.40  "
      ]
     },
     "metadata": {},
     "output_type": "display_data"
    }
   ],
   "source": [
    "summary(data)"
   ]
  },
  {
   "cell_type": "code",
   "execution_count": 5,
   "id": "generous-argument",
   "metadata": {},
   "outputs": [
    {
     "data": {
      "text/html": [
       "<table>\n",
       "<thead><tr><th></th><th scope=col>youtube</th><th scope=col>facebook</th><th scope=col>newspaper</th><th scope=col>sales</th></tr></thead>\n",
       "<tbody>\n",
       "\t<tr><th scope=row>youtube</th><td>1.00000000</td><td>0.05480866</td><td>0.05664787</td><td>0.7822244 </td></tr>\n",
       "\t<tr><th scope=row>facebook</th><td>0.05480866</td><td>1.00000000</td><td>0.35410375</td><td>0.5762226 </td></tr>\n",
       "\t<tr><th scope=row>newspaper</th><td>0.05664787</td><td>0.35410375</td><td>1.00000000</td><td>0.2282990 </td></tr>\n",
       "\t<tr><th scope=row>sales</th><td>0.78222442</td><td>0.57622257</td><td>0.22829903</td><td>1.0000000 </td></tr>\n",
       "</tbody>\n",
       "</table>\n"
      ],
      "text/latex": [
       "\\begin{tabular}{r|llll}\n",
       "  & youtube & facebook & newspaper & sales\\\\\n",
       "\\hline\n",
       "\tyoutube & 1.00000000 & 0.05480866 & 0.05664787 & 0.7822244 \\\\\n",
       "\tfacebook & 0.05480866 & 1.00000000 & 0.35410375 & 0.5762226 \\\\\n",
       "\tnewspaper & 0.05664787 & 0.35410375 & 1.00000000 & 0.2282990 \\\\\n",
       "\tsales & 0.78222442 & 0.57622257 & 0.22829903 & 1.0000000 \\\\\n",
       "\\end{tabular}\n"
      ],
      "text/markdown": [
       "\n",
       "| <!--/--> | youtube | facebook | newspaper | sales |\n",
       "|---|---|---|---|---|\n",
       "| youtube | 1.00000000 | 0.05480866 | 0.05664787 | 0.7822244  |\n",
       "| facebook | 0.05480866 | 1.00000000 | 0.35410375 | 0.5762226  |\n",
       "| newspaper | 0.05664787 | 0.35410375 | 1.00000000 | 0.2282990  |\n",
       "| sales | 0.78222442 | 0.57622257 | 0.22829903 | 1.0000000  |\n",
       "\n"
      ],
      "text/plain": [
       "          youtube    facebook   newspaper  sales    \n",
       "youtube   1.00000000 0.05480866 0.05664787 0.7822244\n",
       "facebook  0.05480866 1.00000000 0.35410375 0.5762226\n",
       "newspaper 0.05664787 0.35410375 1.00000000 0.2282990\n",
       "sales     0.78222442 0.57622257 0.22829903 1.0000000"
      ]
     },
     "metadata": {},
     "output_type": "display_data"
    }
   ],
   "source": [
    "#Correlation matrix for the dataset\n",
    "cor(data)"
   ]
  },
  {
   "cell_type": "markdown",
   "id": "regulated-black",
   "metadata": {},
   "source": [
    "# Task 5.1: Perform different types of regression on the data\n",
    "Linear Regression Since sales has highest correlation with youtube column, we'll consider linear regression between sales and youtube.\n",
    "Formula: y = ax + b"
   ]
  },
  {
   "cell_type": "code",
   "execution_count": 6,
   "id": "cutting-venture",
   "metadata": {},
   "outputs": [
    {
     "data": {
      "text/plain": [
       "\n",
       "Call:\n",
       "lm(formula = sales ~ youtube, data = data)\n",
       "\n",
       "Residuals:\n",
       "     Min       1Q   Median       3Q      Max \n",
       "-10.0632  -2.3454  -0.2295   2.4805   8.6548 \n",
       "\n",
       "Coefficients:\n",
       "            Estimate Std. Error t value Pr(>|t|)    \n",
       "(Intercept) 8.439112   0.549412   15.36   <2e-16 ***\n",
       "youtube     0.047537   0.002691   17.67   <2e-16 ***\n",
       "---\n",
       "Signif. codes:  0 '***' 0.001 '**' 0.01 '*' 0.05 '.' 0.1 ' ' 1\n",
       "\n",
       "Residual standard error: 3.91 on 198 degrees of freedom\n",
       "Multiple R-squared:  0.6119,\tAdjusted R-squared:  0.6099 \n",
       "F-statistic: 312.1 on 1 and 198 DF,  p-value: < 2.2e-16\n"
      ]
     },
     "metadata": {},
     "output_type": "display_data"
    }
   ],
   "source": [
    "#Creating Linear Regression model and printing the summary\n",
    "lr <- lm(sales~youtube,data = data)\n",
    "summary(lr)"
   ]
  },
  {
   "cell_type": "code",
   "execution_count": 7,
   "id": "dietary-segment",
   "metadata": {},
   "outputs": [
    {
     "data": {
      "text/html": [
       "<strong>1:</strong> 16.9957075368968"
      ],
      "text/latex": [
       "\\textbf{1:} 16.9957075368968"
      ],
      "text/markdown": [
       "**1:** 16.9957075368968"
      ],
      "text/plain": [
       "       1 \n",
       "16.99571 "
      ]
     },
     "metadata": {},
     "output_type": "display_data"
    }
   ],
   "source": [
    "#Making a prediction using the model for tuple = (180, 30, 30)\n",
    "new_data <- data.frame(youtube=180,facebook=30,newspaper=30)\n",
    "predict(lr,new_data)"
   ]
  },
  {
   "cell_type": "code",
   "execution_count": 8,
   "id": "divine-example",
   "metadata": {},
   "outputs": [
    {
     "data": {
      "image/png": "[encoded data removed]",
      "text/plain": [
       "Plot with title \"Sales-Youtube Regression\""
      ]
     },
     "metadata": {},
     "output_type": "display_data"
    }
   ],
   "source": [
    "#Visualising the regression line created\n",
    "plot(x=data$youtube, y=data$sales, col=\"red\", main=\"Sales-Youtube Regression\",xlab=\"Youtube\",ylab=\"Sales\")\n",
    "abline(lr,col=\"blue\")"
   ]
  },
  {
   "cell_type": "markdown",
   "id": "exciting-balloon",
   "metadata": {},
   "source": [
    "# Multiple Regression: \n",
    "For multiple regression, we'll use all the independent columns to create our model.\n",
    "Formula: y = ax1 + bx2 + cx3 + d\n"
   ]
  },
  {
   "cell_type": "code",
   "execution_count": 9,
   "id": "secure-basket",
   "metadata": {},
   "outputs": [
    {
     "data": {
      "text/plain": [
       "\n",
       "Call:\n",
       "lm(formula = sales ~ youtube + facebook + newspaper, data = data)\n",
       "\n",
       "Residuals:\n",
       "     Min       1Q   Median       3Q      Max \n",
       "-10.5932  -1.0690   0.2902   1.4272   3.3951 \n",
       "\n",
       "Coefficients:\n",
       "             Estimate Std. Error t value Pr(>|t|)    \n",
       "(Intercept)  3.526667   0.374290   9.422   <2e-16 ***\n",
       "youtube      0.045765   0.001395  32.809   <2e-16 ***\n",
       "facebook     0.188530   0.008611  21.893   <2e-16 ***\n",
       "newspaper   -0.001037   0.005871  -0.177     0.86    \n",
       "---\n",
       "Signif. codes:  0 '***' 0.001 '**' 0.01 '*' 0.05 '.' 0.1 ' ' 1\n",
       "\n",
       "Residual standard error: 2.023 on 196 degrees of freedom\n",
       "Multiple R-squared:  0.8972,\tAdjusted R-squared:  0.8956 \n",
       "F-statistic: 570.3 on 3 and 196 DF,  p-value: < 2.2e-16\n"
      ]
     },
     "metadata": {},
     "output_type": "display_data"
    }
   ],
   "source": [
    "#Creating the multiple regression model and printing its summary\n",
    "mr <- lm(sales~youtube+facebook+newspaper, data = data)\n",
    "summary(mr)"
   ]
  },
  {
   "cell_type": "code",
   "execution_count": 10,
   "id": "functional-provincial",
   "metadata": {},
   "outputs": [
    {
     "data": {
      "text/html": [
       "<strong>1:</strong> 17.3890791415947"
      ],
      "text/latex": [
       "\\textbf{1:} 17.3890791415947"
      ],
      "text/markdown": [
       "**1:** 17.3890791415947"
      ],
      "text/plain": [
       "       1 \n",
       "17.38908 "
      ]
     },
     "metadata": {},
     "output_type": "display_data"
    }
   ],
   "source": [
    "# Predicting on new_data\n",
    "predict(mr,newdata = new_data)"
   ]
  },
  {
   "cell_type": "code",
   "execution_count": 11,
   "id": "superior-stadium",
   "metadata": {},
   "outputs": [
    {
     "data": {
      "image/png": "[encoded data removed]",
      "text/plain": [
       "Plot with title \"\""
      ]
     },
     "metadata": {},
     "output_type": "display_data"
    }
   ],
   "source": [
    "#Visualising the multiple regression model\n",
    "layout(matrix(c(1,2,3,4),2,2))\n",
    "plot(mr)"
   ]
  },
  {
   "cell_type": "markdown",
   "id": "numerous-butter",
   "metadata": {},
   "source": [
    "# Curvilinear (Polynomial) Regression\n",
    "Formula: y = a + bx + cx2\n"
   ]
  },
  {
   "cell_type": "code",
   "execution_count": 12,
   "id": "democratic-washington",
   "metadata": {},
   "outputs": [
    {
     "data": {
      "text/plain": [
       "\n",
       "Call:\n",
       "lm(formula = sales ~ youtube + I(youtube^2), data = data)\n",
       "\n",
       "Residuals:\n",
       "    Min      1Q  Median      3Q     Max \n",
       "-9.2213 -2.1412 -0.1874  2.4106  9.0117 \n",
       "\n",
       "Coefficients:\n",
       "               Estimate Std. Error t value Pr(>|t|)    \n",
       "(Intercept)   7.337e+00  7.911e-01   9.275  < 2e-16 ***\n",
       "youtube       6.727e-02  1.059e-02   6.349 1.46e-09 ***\n",
       "I(youtube^2) -5.706e-05  2.965e-05  -1.924   0.0557 .  \n",
       "---\n",
       "Signif. codes:  0 '***' 0.001 '**' 0.01 '*' 0.05 '.' 0.1 ' ' 1\n",
       "\n",
       "Residual standard error: 3.884 on 197 degrees of freedom\n",
       "Multiple R-squared:  0.619,\tAdjusted R-squared:  0.6152 \n",
       "F-statistic: 160.1 on 2 and 197 DF,  p-value: < 2.2e-16\n"
      ]
     },
     "metadata": {},
     "output_type": "display_data"
    }
   ],
   "source": [
    "#Generating curvilinear regression model using lm function\n",
    "cpr.lm <- lm(sales~youtube+I(youtube^2),data = data)\n",
    "summary(cpr.lm)"
   ]
  },
  {
   "cell_type": "code",
   "execution_count": 13,
   "id": "sunrise-affairs",
   "metadata": {},
   "outputs": [
    {
     "data": {
      "image/png": "[encoded data removed]",
      "text/plain": [
       "Plot with title \"\""
      ]
     },
     "metadata": {},
     "output_type": "display_data"
    }
   ],
   "source": [
    "#Visualising the model\n",
    "layout(matrix(c(1,2,3,4),2,2))\n",
    "plot(cpr.lm)"
   ]
  },
  {
   "cell_type": "code",
   "execution_count": 14,
   "id": "sharp-france",
   "metadata": {},
   "outputs": [
    {
     "data": {
      "text/plain": [
       "\n",
       "Formula: sales ~ a + b * I(youtube^z)\n",
       "\n",
       "Parameters:\n",
       "  Estimate Std. Error t value Pr(>|t|)    \n",
       "a   4.8546     1.9635   2.472   0.0143 *  \n",
       "b   0.5754     0.4754   1.210   0.2276    \n",
       "z   0.5977     0.1281   4.667 5.64e-06 ***\n",
       "---\n",
       "Signif. codes:  0 '***' 0.001 '**' 0.01 '*' 0.05 '.' 0.1 ' ' 1\n",
       "\n",
       "Residual standard error: 3.859 on 197 degrees of freedom\n",
       "\n",
       "Number of iterations to convergence: 47 \n",
       "Achieved convergence tolerance: 4.195e-06\n"
      ]
     },
     "metadata": {},
     "output_type": "display_data"
    }
   ],
   "source": [
    "#Generating curvilinear regression model using nls function\n",
    "cpr.nls <- nls(formula = sales~a+b*I(youtube^z),data = data,\n",
    " start = list(a=1,b=1,z=2))\n",
    "summary(cpr.nls)"
   ]
  },
  {
   "cell_type": "markdown",
   "id": "professional-progressive",
   "metadata": {},
   "source": [
    "# Power Curve Regression\n",
    "Formula: y = ax^b\n"
   ]
  },
  {
   "cell_type": "code",
   "execution_count": 15,
   "id": "incomplete-hampton",
   "metadata": {},
   "outputs": [
    {
     "data": {
      "text/plain": [
       "\n",
       "Call:\n",
       "lm(formula = log(data$sales) ~ log(data$youtube))\n",
       "\n",
       "Residuals:\n",
       "     Min       1Q   Median       3Q      Max \n",
       "-0.43349 -0.15917  0.01696  0.16910  0.39399 \n",
       "\n",
       "Coefficients:\n",
       "                  Estimate Std. Error t value Pr(>|t|)    \n",
       "(Intercept)        1.02284    0.07372   13.87   <2e-16 ***\n",
       "log(data$youtube)  0.35504    0.01487   23.87   <2e-16 ***\n",
       "---\n",
       "Signif. codes:  0 '***' 0.001 '**' 0.01 '*' 0.05 '.' 0.1 ' ' 1\n",
       "\n",
       "Residual standard error: 0.2109 on 198 degrees of freedom\n",
       "Multiple R-squared:  0.7421,\tAdjusted R-squared:  0.7408 \n",
       "F-statistic: 569.8 on 1 and 198 DF,  p-value: < 2.2e-16\n"
      ]
     },
     "metadata": {},
     "output_type": "display_data"
    }
   ],
   "source": [
    "# Generating the model\n",
    "pcr <- lm(log(data$sales)~log(data$youtube))\n",
    "summary(pcr)\n"
   ]
  },
  {
   "cell_type": "code",
   "execution_count": 16,
   "id": "scheduled-tunnel",
   "metadata": {},
   "outputs": [
    {
     "data": {
      "image/png": "[encoded data removed]",
      "text/plain": [
       "Plot with title \"Sales-Youtube Power Regression Curve\""
      ]
     },
     "metadata": {},
     "output_type": "display_data"
    }
   ],
   "source": [
    "# Visualising the model\n",
    "plot(x=log(data$youtube), y=log(data$sales), col=\"blue\",main=\"Sales-Youtube Power Regression Curve\", xlab=\"log(Youtube)\",ylab=\"log(Sales)\")\n",
    "abline(pcr,col=\"red\")"
   ]
  },
  {
   "cell_type": "code",
   "execution_count": 17,
   "id": "eastern-temperature",
   "metadata": {},
   "outputs": [
    {
     "data": {
      "image/png": "[encoded data removed]",
      "text/plain": [
       "Plot with title \"\""
      ]
     },
     "metadata": {},
     "output_type": "display_data"
    }
   ],
   "source": [
    "layout(matrix(c(1,2,3,4),2,2))\n",
    "plot(pcr)"
   ]
  },
  {
   "cell_type": "markdown",
   "id": "revised-diagram",
   "metadata": {},
   "source": [
    "# Exponential Regression Curve\n",
    "Formula: y = abx\n"
   ]
  },
  {
   "cell_type": "code",
   "execution_count": 18,
   "id": "square-ecology",
   "metadata": {},
   "outputs": [
    {
     "data": {
      "text/plain": [
       "\n",
       "Call:\n",
       "lm(formula = log(data$sales) ~ data$youtube)\n",
       "\n",
       "Residuals:\n",
       "     Min       1Q   Median       3Q      Max \n",
       "-1.53984 -0.13125  0.03008  0.16696  0.42554 \n",
       "\n",
       "Coefficients:\n",
       "              Estimate Std. Error t value Pr(>|t|)    \n",
       "(Intercept)  2.1895138  0.0361853   60.51   <2e-16 ***\n",
       "data$youtube 0.0031555  0.0001772   17.81   <2e-16 ***\n",
       "---\n",
       "Signif. codes:  0 '***' 0.001 '**' 0.01 '*' 0.05 '.' 0.1 ' ' 1\n",
       "\n",
       "Residual standard error: 0.2575 on 198 degrees of freedom\n",
       "Multiple R-squared:  0.6156,\tAdjusted R-squared:  0.6137 \n",
       "F-statistic: 317.1 on 1 and 198 DF,  p-value: < 2.2e-16\n"
      ]
     },
     "metadata": {},
     "output_type": "display_data"
    }
   ],
   "source": [
    "# Creating the model\n",
    "erc <- lm(log(data$sales)~data$youtube)\n",
    "summary(erc)"
   ]
  },
  {
   "cell_type": "code",
   "execution_count": 19,
   "id": "wicked-quantum",
   "metadata": {},
   "outputs": [
    {
     "data": {
      "image/png": "[encoded data removed]",
      "text/plain": [
       "Plot with title \"Sales-Youtube Exponential Regression Curve\""
      ]
     },
     "metadata": {},
     "output_type": "display_data"
    }
   ],
   "source": [
    "# Visualising the model\n",
    "plot(x=data$youtube, y=log(data$sales), col=\"blue\",main=\"Sales-Youtube Exponential Regression Curve\",xlab=\"Youtube\",ylab=\"log(Sales)\")\n",
    "abline(erc,col=\"red\")\n"
   ]
  },
  {
   "cell_type": "code",
   "execution_count": 20,
   "id": "wireless-gateway",
   "metadata": {},
   "outputs": [
    {
     "data": {
      "image/png": "[encoded data removed]",
      "text/plain": [
       "Plot with title \"\""
      ]
     },
     "metadata": {},
     "output_type": "display_data"
    }
   ],
   "source": [
    "layout(matrix(c(1,2,3,4),2,2))\n",
    "plot(erc)"
   ]
  },
  {
   "cell_type": "markdown",
   "id": "capable-cosmetic",
   "metadata": {},
   "source": [
    "# Lasso Regression\n"
   ]
  },
  {
   "cell_type": "code",
   "execution_count": 21,
   "id": "angry-trinity",
   "metadata": {},
   "outputs": [
    {
     "name": "stderr",
     "output_type": "stream",
     "text": [
      "Loading required package: Matrix\n",
      "Loading required package: foreach\n",
      "Loaded glmnet 2.0-16\n",
      "\n"
     ]
    }
   ],
   "source": [
    "#Importing the required package\n",
    "library(glmnet)"
   ]
  },
  {
   "cell_type": "code",
   "execution_count": 22,
   "id": "contemporary-stopping",
   "metadata": {},
   "outputs": [
    {
     "data": {
      "text/plain": [
       "\n",
       "Call:  glmnet(x = x, y = y, alpha = 1, lambda = lambda_best, standardize = TRUE) \n",
       "\n",
       "     Df   %Dev  Lambda\n",
       "[1,]  2 0.8969 0.07943"
      ]
     },
     "metadata": {},
     "output_type": "display_data"
    }
   ],
   "source": [
    "#Preparing data to pass into function\n",
    "x <- as.matrix(data[1:3])\n",
    "y <- data$sales\n",
    "lambdas <- 10^seq(2, -3, by = -.1)\n",
    "\n",
    "\n",
    "#Implementing the lasso regression for different lambdas\n",
    "lasso_reg <- cv.glmnet(x, y, alpha = 1, lambda = lambdas,\n",
    " standardize = TRUE, nfolds = 5)\n",
    "\n",
    "\n",
    "#Setting the best value of lambda\n",
    "lambda_best <- lasso_reg$lambda.min\n",
    "\n",
    "\n",
    "#Creating the model\n",
    "lasso_model <- glmnet(x, y, alpha = 1, lambda = lambda_best, standardize = TRUE)\n",
    "lasso_model\n"
   ]
  },
  {
   "cell_type": "code",
   "execution_count": 23,
   "id": "noble-connecticut",
   "metadata": {},
   "outputs": [
    {
     "data": {
      "text/plain": [
       "          Length Class     Mode   \n",
       "a0        1      -none-    numeric\n",
       "beta      3      dgCMatrix S4     \n",
       "df        1      -none-    numeric\n",
       "dim       2      -none-    numeric\n",
       "lambda    1      -none-    numeric\n",
       "dev.ratio 1      -none-    numeric\n",
       "nulldev   1      -none-    numeric\n",
       "npasses   1      -none-    numeric\n",
       "jerr      1      -none-    numeric\n",
       "offset    1      -none-    logical\n",
       "call      6      -none-    call   \n",
       "nobs      1      -none-    numeric"
      ]
     },
     "metadata": {},
     "output_type": "display_data"
    }
   ],
   "source": [
    "#Printing the summary of model\n",
    "summary(lasso_model)"
   ]
  },
  {
   "cell_type": "markdown",
   "id": "after-visit",
   "metadata": {},
   "source": [
    "# Ridge Regression\n"
   ]
  },
  {
   "cell_type": "code",
   "execution_count": 24,
   "id": "rental-premises",
   "metadata": {},
   "outputs": [
    {
     "data": {
      "text/plain": [
       "\n",
       "Call:  glmnet(x = x, y = y, family = \"gaussian\", alpha = 0, lambda = optimal_lambda) \n",
       "\n",
       "     Df   %Dev   Lambda\n",
       "[1,]  3 0.8972 0.003981"
      ]
     },
     "metadata": {},
     "output_type": "display_data"
    }
   ],
   "source": [
    "#Finding optimal value of lambda\n",
    "cv_ridge <- cv.glmnet(x, y, alpha = 0, lambda = lambdas)\n",
    "optimal_lambda <- cv_ridge$lambda.min\n",
    "\n",
    "#Generating the model\n",
    "ridge_model = glmnet(x, y, alpha = 0, family = 'gaussian',lambda = optimal_lambda)\n",
    "ridge_model\n"
   ]
  },
  {
   "cell_type": "code",
   "execution_count": 25,
   "id": "dimensional-daughter",
   "metadata": {},
   "outputs": [
    {
     "data": {
      "text/plain": [
       "          Length Class     Mode   \n",
       "a0        1      -none-    numeric\n",
       "beta      3      dgCMatrix S4     \n",
       "df        1      -none-    numeric\n",
       "dim       2      -none-    numeric\n",
       "lambda    1      -none-    numeric\n",
       "dev.ratio 1      -none-    numeric\n",
       "nulldev   1      -none-    numeric\n",
       "npasses   1      -none-    numeric\n",
       "jerr      1      -none-    numeric\n",
       "offset    1      -none-    logical\n",
       "call      6      -none-    call   \n",
       "nobs      1      -none-    numeric"
      ]
     },
     "metadata": {},
     "output_type": "display_data"
    }
   ],
   "source": [
    "#Printing the summary of model\n",
    "summary(ridge_model)"
   ]
  },
  {
   "cell_type": "markdown",
   "id": "fuzzy-irrigation",
   "metadata": {},
   "source": [
    "# Task 5.2: Design your function to calculate linear regression with gradient descent.\n"
   ]
  },
  {
   "cell_type": "code",
   "execution_count": 26,
   "id": "portuguese-intersection",
   "metadata": {},
   "outputs": [
    {
     "name": "stdout",
     "output_type": "stream",
     "text": [
      "[1] \"Required regression line is: y =  1.072 x +  1.394\"\n"
     ]
    }
   ],
   "source": [
    "lr_gradientDescent <- function(x, y, lr=0.0001, epochs=1000){\n",
    " # x = values of independent variable\n",
    " # y = actual values of target variable\n",
    " # lr = Learning rate\n",
    " # epochs = no. of iterations the algorithm should run for\n",
    "\n",
    " #Initial values of m and c\n",
    " m <- rnorm(1,0,1)\n",
    " c <- rnorm(1,0,1)\n",
    "\n",
    " n <- length(x)\n",
    "\n",
    " #Initial prediction and error\n",
    " predicted <- m*x + c\n",
    " sse <- (sum((y - predicted))**2) / 2\n",
    "\n",
    " for(i in c(1:epochs)){\n",
    " #Finding out the derivatives w.r.t. m and c, resp.\n",
    " curl_m <- (-1/n) * sum((y - predicted)*x)\n",
    " curl_c <- (-1/n) * sum(y-predicted)\n",
    "\n",
    " #Finding out new values of m, c\n",
    " m_new <- m + lr*curl_m\n",
    " c_new <- c + lr*curl_c\n",
    "\n",
    " #Calculating prediction and error with updated values\n",
    " predicted <- m_new*x + c_new\n",
    " sse_new <- (sum((y - predicted))**2) / 2\n",
    "\n",
    " #Break if the error increases\n",
    " if(sse_new > sse ){\n",
    " break\n",
    " }else{\n",
    " sse <- sse_new\n",
    " m <- m_new\n",
    " c <- c_new\n",
    " }\n",
    " }\n",
    "\n",
    " m <- format(m,digits = 4)\n",
    " c <- format(c,digits = 4)\n",
    "\n",
    " print(paste(\"Required regression line is: y = \",m,\"x + \",c))\n",
    "}\n",
    "lr_gradientDescent(data$youtube, data$sales)"
   ]
  },
  {
   "cell_type": "markdown",
   "id": "front-nickel",
   "metadata": {},
   "source": [
    "# END"
   ]
  }
 ],
 "metadata": {
  "kernelspec": {
   "display_name": "R",
   "language": "R",
   "name": "ir"
  },
  "language_info": {
   "codemirror_mode": "r",
   "file_extension": ".r",
   "mimetype": "text/x-r-source",
   "name": "R",
   "pygments_lexer": "r",
   "version": "3.6.1"
  }
 },
 "nbformat": 4,
 "nbformat_minor": 5
}
