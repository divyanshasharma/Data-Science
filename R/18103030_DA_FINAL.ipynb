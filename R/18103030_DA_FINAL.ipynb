{
 "cells": [
  {
   "cell_type": "markdown",
   "id": "casual-stuff",
   "metadata": {},
   "source": [
    "## Lab Assignment - FINAL\n",
    "\n",
    "Submitted By:\n",
    "\n",
    "Name: Divyansha Sharma¶\n",
    "\n",
    "Branch/Sem.: CSE/6th Semester\n",
    "\n",
    "Roll No.: 18103030\n",
    "\n",
    "Group: G2"
   ]
  },
  {
   "cell_type": "code",
   "execution_count": 1,
   "id": "medium-marathon",
   "metadata": {},
   "outputs": [
    {
     "name": "stderr",
     "output_type": "stream",
     "text": [
      "Warning message:\n",
      "\"package 'party' was built under R version 3.6.3\"Loading required package: grid\n",
      "Loading required package: mvtnorm\n",
      "Warning message:\n",
      "\"package 'mvtnorm' was built under R version 3.6.3\"Loading required package: modeltools\n",
      "Warning message:\n",
      "\"package 'modeltools' was built under R version 3.6.3\"Loading required package: stats4\n",
      "Loading required package: strucchange\n",
      "Warning message:\n",
      "\"package 'strucchange' was built under R version 3.6.3\"Loading required package: zoo\n",
      "\n",
      "Attaching package: 'zoo'\n",
      "\n",
      "The following objects are masked from 'package:base':\n",
      "\n",
      "    as.Date, as.Date.numeric\n",
      "\n",
      "Loading required package: sandwich\n",
      "Warning message:\n",
      "\"package 'sandwich' was built under R version 3.6.3\"Warning message:\n",
      "\"package 'caret' was built under R version 3.6.3\"Loading required package: lattice\n",
      "Loading required package: ggplot2\n",
      "Registered S3 methods overwritten by 'ggplot2':\n",
      "  method         from \n",
      "  [.quosures     rlang\n",
      "  c.quosures     rlang\n",
      "  print.quosures rlang\n",
      "Warning message:\n",
      "\"package 'e1071' was built under R version 3.6.3\"Warning message:\n",
      "\"package 'caTools' was built under R version 3.6.3\""
     ]
    }
   ],
   "source": [
    "library(party)\n",
    "library(caret)\n",
    "library(e1071)\n",
    "library(caTools)\n",
    "library(class)"
   ]
  },
  {
   "cell_type": "code",
   "execution_count": 2,
   "id": "powered-playlist",
   "metadata": {},
   "outputs": [
    {
     "data": {
      "text/html": [
       "<table>\n",
       "<thead><tr><th scope=col>Item_Identifier</th><th scope=col>Item_Weight</th><th scope=col>Item_Fat_Content</th><th scope=col>Item_Visibility</th><th scope=col>Item_Type</th><th scope=col>Item_MRP</th><th scope=col>Outlet_Identifier</th><th scope=col>Outlet_Establishment_Year</th><th scope=col>Outlet_Size</th><th scope=col>Outlet_Location_Type</th><th scope=col>Outlet_Type</th></tr></thead>\n",
       "<tbody>\n",
       "\t<tr><td>FDW58                </td><td>20.750               </td><td>Low Fat              </td><td>0.007564836          </td><td>Snack Foods          </td><td>107.8622             </td><td>OUT049               </td><td>1999                 </td><td>Medium               </td><td>Tier 1               </td><td>Supermarket Type1    </td></tr>\n",
       "\t<tr><td>FDW14                </td><td> 8.300               </td><td>reg                  </td><td>0.038427677          </td><td>Dairy                </td><td> 87.3198             </td><td>OUT017               </td><td>2007                 </td><td>                     </td><td>Tier 2               </td><td>Supermarket Type1    </td></tr>\n",
       "\t<tr><td>NCN55                </td><td>14.600               </td><td>Low Fat              </td><td>0.099574908          </td><td>Others               </td><td>241.7538             </td><td>OUT010               </td><td>1998                 </td><td>                     </td><td>Tier 3               </td><td>Grocery Store        </td></tr>\n",
       "\t<tr><td>FDQ58                </td><td> 7.315               </td><td>Low Fat              </td><td>0.015388393          </td><td>Snack Foods          </td><td>155.0340             </td><td>OUT017               </td><td>2007                 </td><td>                     </td><td>Tier 2               </td><td>Supermarket Type1    </td></tr>\n",
       "\t<tr><td>FDY38                </td><td>    NA               </td><td>Regular              </td><td>0.118599314          </td><td>Dairy                </td><td>234.2300             </td><td>OUT027               </td><td>1985                 </td><td>Medium               </td><td>Tier 3               </td><td>Supermarket Type3    </td></tr>\n",
       "\t<tr><td>FDH56                </td><td> 9.800               </td><td>Regular              </td><td>0.063817206          </td><td>Fruits and Vegetables</td><td>117.1492             </td><td>OUT046               </td><td>1997                 </td><td>Small                </td><td>Tier 1               </td><td>Supermarket Type1    </td></tr>\n",
       "</tbody>\n",
       "</table>\n"
      ],
      "text/latex": [
       "\\begin{tabular}{r|lllllllllll}\n",
       " Item\\_Identifier & Item\\_Weight & Item\\_Fat\\_Content & Item\\_Visibility & Item\\_Type & Item\\_MRP & Outlet\\_Identifier & Outlet\\_Establishment\\_Year & Outlet\\_Size & Outlet\\_Location\\_Type & Outlet\\_Type\\\\\n",
       "\\hline\n",
       "\t FDW58                 & 20.750                & Low Fat               & 0.007564836           & Snack Foods           & 107.8622              & OUT049                & 1999                  & Medium                & Tier 1                & Supermarket Type1    \\\\\n",
       "\t FDW14                 &  8.300                & reg                   & 0.038427677           & Dairy                 &  87.3198              & OUT017                & 2007                  &                       & Tier 2                & Supermarket Type1    \\\\\n",
       "\t NCN55                 & 14.600                & Low Fat               & 0.099574908           & Others                & 241.7538              & OUT010                & 1998                  &                       & Tier 3                & Grocery Store        \\\\\n",
       "\t FDQ58                 &  7.315                & Low Fat               & 0.015388393           & Snack Foods           & 155.0340              & OUT017                & 2007                  &                       & Tier 2                & Supermarket Type1    \\\\\n",
       "\t FDY38                 &     NA                & Regular               & 0.118599314           & Dairy                 & 234.2300              & OUT027                & 1985                  & Medium                & Tier 3                & Supermarket Type3    \\\\\n",
       "\t FDH56                 &  9.800                & Regular               & 0.063817206           & Fruits and Vegetables & 117.1492              & OUT046                & 1997                  & Small                 & Tier 1                & Supermarket Type1    \\\\\n",
       "\\end{tabular}\n"
      ],
      "text/markdown": [
       "\n",
       "| Item_Identifier | Item_Weight | Item_Fat_Content | Item_Visibility | Item_Type | Item_MRP | Outlet_Identifier | Outlet_Establishment_Year | Outlet_Size | Outlet_Location_Type | Outlet_Type |\n",
       "|---|---|---|---|---|---|---|---|---|---|---|\n",
       "| FDW58                 | 20.750                | Low Fat               | 0.007564836           | Snack Foods           | 107.8622              | OUT049                | 1999                  | Medium                | Tier 1                | Supermarket Type1     |\n",
       "| FDW14                 |  8.300                | reg                   | 0.038427677           | Dairy                 |  87.3198              | OUT017                | 2007                  |                       | Tier 2                | Supermarket Type1     |\n",
       "| NCN55                 | 14.600                | Low Fat               | 0.099574908           | Others                | 241.7538              | OUT010                | 1998                  |                       | Tier 3                | Grocery Store         |\n",
       "| FDQ58                 |  7.315                | Low Fat               | 0.015388393           | Snack Foods           | 155.0340              | OUT017                | 2007                  |                       | Tier 2                | Supermarket Type1     |\n",
       "| FDY38                 |     NA                | Regular               | 0.118599314           | Dairy                 | 234.2300              | OUT027                | 1985                  | Medium                | Tier 3                | Supermarket Type3     |\n",
       "| FDH56                 |  9.800                | Regular               | 0.063817206           | Fruits and Vegetables | 117.1492              | OUT046                | 1997                  | Small                 | Tier 1                | Supermarket Type1     |\n",
       "\n"
      ],
      "text/plain": [
       "  Item_Identifier Item_Weight Item_Fat_Content Item_Visibility\n",
       "1 FDW58           20.750      Low Fat          0.007564836    \n",
       "2 FDW14            8.300      reg              0.038427677    \n",
       "3 NCN55           14.600      Low Fat          0.099574908    \n",
       "4 FDQ58            7.315      Low Fat          0.015388393    \n",
       "5 FDY38               NA      Regular          0.118599314    \n",
       "6 FDH56            9.800      Regular          0.063817206    \n",
       "  Item_Type             Item_MRP Outlet_Identifier Outlet_Establishment_Year\n",
       "1 Snack Foods           107.8622 OUT049            1999                     \n",
       "2 Dairy                  87.3198 OUT017            2007                     \n",
       "3 Others                241.7538 OUT010            1998                     \n",
       "4 Snack Foods           155.0340 OUT017            2007                     \n",
       "5 Dairy                 234.2300 OUT027            1985                     \n",
       "6 Fruits and Vegetables 117.1492 OUT046            1997                     \n",
       "  Outlet_Size Outlet_Location_Type Outlet_Type      \n",
       "1 Medium      Tier 1               Supermarket Type1\n",
       "2             Tier 2               Supermarket Type1\n",
       "3             Tier 3               Grocery Store    \n",
       "4             Tier 2               Supermarket Type1\n",
       "5 Medium      Tier 3               Supermarket Type3\n",
       "6 Small       Tier 1               Supermarket Type1"
      ]
     },
     "metadata": {},
     "output_type": "display_data"
    }
   ],
   "source": [
    "test = read.csv(\"Test.csv\")\n",
    "test = data.frame(test)\n",
    "head(test)"
   ]
  },
  {
   "cell_type": "code",
   "execution_count": 3,
   "id": "going-secretary",
   "metadata": {},
   "outputs": [
    {
     "data": {
      "text/html": [
       "<table>\n",
       "<thead><tr><th scope=col>Item_Identifier</th><th scope=col>Item_Weight</th><th scope=col>Item_Fat_Content</th><th scope=col>Item_Visibility</th><th scope=col>Item_Type</th><th scope=col>Item_MRP</th><th scope=col>Outlet_Identifier</th><th scope=col>Outlet_Establishment_Year</th><th scope=col>Outlet_Size</th><th scope=col>Outlet_Location_Type</th><th scope=col>Outlet_Type</th><th scope=col>Item_Outlet_Sales</th></tr></thead>\n",
       "<tbody>\n",
       "\t<tr><td>FDA15                </td><td> 9.300               </td><td>Low Fat              </td><td>0.01604730           </td><td>Dairy                </td><td>249.8092             </td><td>OUT049               </td><td>1999                 </td><td>Medium               </td><td>Tier 1               </td><td>Supermarket Type1    </td><td>3735.1380            </td></tr>\n",
       "\t<tr><td>DRC01                </td><td> 5.920               </td><td>Regular              </td><td>0.01927822           </td><td>Soft Drinks          </td><td> 48.2692             </td><td>OUT018               </td><td>2009                 </td><td>Medium               </td><td>Tier 3               </td><td>Supermarket Type2    </td><td> 443.4228            </td></tr>\n",
       "\t<tr><td>FDN15                </td><td>17.500               </td><td>Low Fat              </td><td>0.01676007           </td><td>Meat                 </td><td>141.6180             </td><td>OUT049               </td><td>1999                 </td><td>Medium               </td><td>Tier 1               </td><td>Supermarket Type1    </td><td>2097.2700            </td></tr>\n",
       "\t<tr><td>FDX07                </td><td>19.200               </td><td>Regular              </td><td>0.00000000           </td><td>Fruits and Vegetables</td><td>182.0950             </td><td>OUT010               </td><td>1998                 </td><td>                     </td><td>Tier 3               </td><td>Grocery Store        </td><td> 732.3800            </td></tr>\n",
       "\t<tr><td>NCD19                </td><td> 8.930               </td><td>Low Fat              </td><td>0.00000000           </td><td>Household            </td><td> 53.8614             </td><td>OUT013               </td><td>1987                 </td><td>High                 </td><td>Tier 3               </td><td>Supermarket Type1    </td><td> 994.7052            </td></tr>\n",
       "\t<tr><td>FDP36                </td><td>10.395               </td><td>Regular              </td><td>0.00000000           </td><td>Baking Goods         </td><td> 51.4008             </td><td>OUT018               </td><td>2009                 </td><td>Medium               </td><td>Tier 3               </td><td>Supermarket Type2    </td><td> 556.6088            </td></tr>\n",
       "</tbody>\n",
       "</table>\n"
      ],
      "text/latex": [
       "\\begin{tabular}{r|llllllllllll}\n",
       " Item\\_Identifier & Item\\_Weight & Item\\_Fat\\_Content & Item\\_Visibility & Item\\_Type & Item\\_MRP & Outlet\\_Identifier & Outlet\\_Establishment\\_Year & Outlet\\_Size & Outlet\\_Location\\_Type & Outlet\\_Type & Item\\_Outlet\\_Sales\\\\\n",
       "\\hline\n",
       "\t FDA15                 &  9.300                & Low Fat               & 0.01604730            & Dairy                 & 249.8092              & OUT049                & 1999                  & Medium                & Tier 1                & Supermarket Type1     & 3735.1380            \\\\\n",
       "\t DRC01                 &  5.920                & Regular               & 0.01927822            & Soft Drinks           &  48.2692              & OUT018                & 2009                  & Medium                & Tier 3                & Supermarket Type2     &  443.4228            \\\\\n",
       "\t FDN15                 & 17.500                & Low Fat               & 0.01676007            & Meat                  & 141.6180              & OUT049                & 1999                  & Medium                & Tier 1                & Supermarket Type1     & 2097.2700            \\\\\n",
       "\t FDX07                 & 19.200                & Regular               & 0.00000000            & Fruits and Vegetables & 182.0950              & OUT010                & 1998                  &                       & Tier 3                & Grocery Store         &  732.3800            \\\\\n",
       "\t NCD19                 &  8.930                & Low Fat               & 0.00000000            & Household             &  53.8614              & OUT013                & 1987                  & High                  & Tier 3                & Supermarket Type1     &  994.7052            \\\\\n",
       "\t FDP36                 & 10.395                & Regular               & 0.00000000            & Baking Goods          &  51.4008              & OUT018                & 2009                  & Medium                & Tier 3                & Supermarket Type2     &  556.6088            \\\\\n",
       "\\end{tabular}\n"
      ],
      "text/markdown": [
       "\n",
       "| Item_Identifier | Item_Weight | Item_Fat_Content | Item_Visibility | Item_Type | Item_MRP | Outlet_Identifier | Outlet_Establishment_Year | Outlet_Size | Outlet_Location_Type | Outlet_Type | Item_Outlet_Sales |\n",
       "|---|---|---|---|---|---|---|---|---|---|---|---|\n",
       "| FDA15                 |  9.300                | Low Fat               | 0.01604730            | Dairy                 | 249.8092              | OUT049                | 1999                  | Medium                | Tier 1                | Supermarket Type1     | 3735.1380             |\n",
       "| DRC01                 |  5.920                | Regular               | 0.01927822            | Soft Drinks           |  48.2692              | OUT018                | 2009                  | Medium                | Tier 3                | Supermarket Type2     |  443.4228             |\n",
       "| FDN15                 | 17.500                | Low Fat               | 0.01676007            | Meat                  | 141.6180              | OUT049                | 1999                  | Medium                | Tier 1                | Supermarket Type1     | 2097.2700             |\n",
       "| FDX07                 | 19.200                | Regular               | 0.00000000            | Fruits and Vegetables | 182.0950              | OUT010                | 1998                  |                       | Tier 3                | Grocery Store         |  732.3800             |\n",
       "| NCD19                 |  8.930                | Low Fat               | 0.00000000            | Household             |  53.8614              | OUT013                | 1987                  | High                  | Tier 3                | Supermarket Type1     |  994.7052             |\n",
       "| FDP36                 | 10.395                | Regular               | 0.00000000            | Baking Goods          |  51.4008              | OUT018                | 2009                  | Medium                | Tier 3                | Supermarket Type2     |  556.6088             |\n",
       "\n"
      ],
      "text/plain": [
       "  Item_Identifier Item_Weight Item_Fat_Content Item_Visibility\n",
       "1 FDA15            9.300      Low Fat          0.01604730     \n",
       "2 DRC01            5.920      Regular          0.01927822     \n",
       "3 FDN15           17.500      Low Fat          0.01676007     \n",
       "4 FDX07           19.200      Regular          0.00000000     \n",
       "5 NCD19            8.930      Low Fat          0.00000000     \n",
       "6 FDP36           10.395      Regular          0.00000000     \n",
       "  Item_Type             Item_MRP Outlet_Identifier Outlet_Establishment_Year\n",
       "1 Dairy                 249.8092 OUT049            1999                     \n",
       "2 Soft Drinks            48.2692 OUT018            2009                     \n",
       "3 Meat                  141.6180 OUT049            1999                     \n",
       "4 Fruits and Vegetables 182.0950 OUT010            1998                     \n",
       "5 Household              53.8614 OUT013            1987                     \n",
       "6 Baking Goods           51.4008 OUT018            2009                     \n",
       "  Outlet_Size Outlet_Location_Type Outlet_Type       Item_Outlet_Sales\n",
       "1 Medium      Tier 1               Supermarket Type1 3735.1380        \n",
       "2 Medium      Tier 3               Supermarket Type2  443.4228        \n",
       "3 Medium      Tier 1               Supermarket Type1 2097.2700        \n",
       "4             Tier 3               Grocery Store      732.3800        \n",
       "5 High        Tier 3               Supermarket Type1  994.7052        \n",
       "6 Medium      Tier 3               Supermarket Type2  556.6088        "
      ]
     },
     "metadata": {},
     "output_type": "display_data"
    }
   ],
   "source": [
    "train = read.csv(\"Train.csv\")\n",
    "train = data.frame(train)\n",
    "head(train)"
   ]
  },
  {
   "cell_type": "code",
   "execution_count": 4,
   "id": "unnecessary-parish",
   "metadata": {},
   "outputs": [
    {
     "name": "stderr",
     "output_type": "stream",
     "text": [
      "Loading required package: Matrix\n",
      "Loading required package: foreach\n",
      "Loaded glmnet 2.0-16\n",
      "\n"
     ]
    }
   ],
   "source": [
    "library(glmnet)"
   ]
  },
  {
   "cell_type": "code",
   "execution_count": 5,
   "id": "metric-foundation",
   "metadata": {},
   "outputs": [],
   "source": [
    "#sapply() function takes list, vector or data frame as input and gives output in vector or matrix\n",
    "x <- sapply( train, is.character)\n",
    "#apply() function is useful for performing operations on list objects and returns a list object of same length of original set\n",
    "train[x] <- lapply( train[x], factor)\n",
    "train[x] <- lapply(train[x], as.numeric)\n"
   ]
  },
  {
   "cell_type": "code",
   "execution_count": 6,
   "id": "dependent-distribution",
   "metadata": {},
   "outputs": [
    {
     "data": {
      "text/html": [
       "<table>\n",
       "<thead><tr><th scope=col>Item_Identifier</th><th scope=col>Item_Weight</th><th scope=col>Item_Fat_Content</th><th scope=col>Item_Visibility</th><th scope=col>Item_Type</th><th scope=col>Item_MRP</th><th scope=col>Outlet_Identifier</th><th scope=col>Outlet_Establishment_Year</th><th scope=col>Outlet_Size</th><th scope=col>Outlet_Location_Type</th><th scope=col>Outlet_Type</th><th scope=col>Item_Outlet_Sales</th></tr></thead>\n",
       "<tbody>\n",
       "\t<tr><td>FDA15                </td><td> 9.300               </td><td>Low Fat              </td><td>0.01604730           </td><td>Dairy                </td><td>249.8092             </td><td>OUT049               </td><td>1999                 </td><td>Medium               </td><td>Tier 1               </td><td>Supermarket Type1    </td><td>3735.1380            </td></tr>\n",
       "\t<tr><td>DRC01                </td><td> 5.920               </td><td>Regular              </td><td>0.01927822           </td><td>Soft Drinks          </td><td> 48.2692             </td><td>OUT018               </td><td>2009                 </td><td>Medium               </td><td>Tier 3               </td><td>Supermarket Type2    </td><td> 443.4228            </td></tr>\n",
       "\t<tr><td>FDN15                </td><td>17.500               </td><td>Low Fat              </td><td>0.01676007           </td><td>Meat                 </td><td>141.6180             </td><td>OUT049               </td><td>1999                 </td><td>Medium               </td><td>Tier 1               </td><td>Supermarket Type1    </td><td>2097.2700            </td></tr>\n",
       "\t<tr><td>FDX07                </td><td>19.200               </td><td>Regular              </td><td>0.00000000           </td><td>Fruits and Vegetables</td><td>182.0950             </td><td>OUT010               </td><td>1998                 </td><td>                     </td><td>Tier 3               </td><td>Grocery Store        </td><td> 732.3800            </td></tr>\n",
       "\t<tr><td>NCD19                </td><td> 8.930               </td><td>Low Fat              </td><td>0.00000000           </td><td>Household            </td><td> 53.8614             </td><td>OUT013               </td><td>1987                 </td><td>High                 </td><td>Tier 3               </td><td>Supermarket Type1    </td><td> 994.7052            </td></tr>\n",
       "\t<tr><td>FDP36                </td><td>10.395               </td><td>Regular              </td><td>0.00000000           </td><td>Baking Goods         </td><td> 51.4008             </td><td>OUT018               </td><td>2009                 </td><td>Medium               </td><td>Tier 3               </td><td>Supermarket Type2    </td><td> 556.6088            </td></tr>\n",
       "</tbody>\n",
       "</table>\n"
      ],
      "text/latex": [
       "\\begin{tabular}{r|llllllllllll}\n",
       " Item\\_Identifier & Item\\_Weight & Item\\_Fat\\_Content & Item\\_Visibility & Item\\_Type & Item\\_MRP & Outlet\\_Identifier & Outlet\\_Establishment\\_Year & Outlet\\_Size & Outlet\\_Location\\_Type & Outlet\\_Type & Item\\_Outlet\\_Sales\\\\\n",
       "\\hline\n",
       "\t FDA15                 &  9.300                & Low Fat               & 0.01604730            & Dairy                 & 249.8092              & OUT049                & 1999                  & Medium                & Tier 1                & Supermarket Type1     & 3735.1380            \\\\\n",
       "\t DRC01                 &  5.920                & Regular               & 0.01927822            & Soft Drinks           &  48.2692              & OUT018                & 2009                  & Medium                & Tier 3                & Supermarket Type2     &  443.4228            \\\\\n",
       "\t FDN15                 & 17.500                & Low Fat               & 0.01676007            & Meat                  & 141.6180              & OUT049                & 1999                  & Medium                & Tier 1                & Supermarket Type1     & 2097.2700            \\\\\n",
       "\t FDX07                 & 19.200                & Regular               & 0.00000000            & Fruits and Vegetables & 182.0950              & OUT010                & 1998                  &                       & Tier 3                & Grocery Store         &  732.3800            \\\\\n",
       "\t NCD19                 &  8.930                & Low Fat               & 0.00000000            & Household             &  53.8614              & OUT013                & 1987                  & High                  & Tier 3                & Supermarket Type1     &  994.7052            \\\\\n",
       "\t FDP36                 & 10.395                & Regular               & 0.00000000            & Baking Goods          &  51.4008              & OUT018                & 2009                  & Medium                & Tier 3                & Supermarket Type2     &  556.6088            \\\\\n",
       "\\end{tabular}\n"
      ],
      "text/markdown": [
       "\n",
       "| Item_Identifier | Item_Weight | Item_Fat_Content | Item_Visibility | Item_Type | Item_MRP | Outlet_Identifier | Outlet_Establishment_Year | Outlet_Size | Outlet_Location_Type | Outlet_Type | Item_Outlet_Sales |\n",
       "|---|---|---|---|---|---|---|---|---|---|---|---|\n",
       "| FDA15                 |  9.300                | Low Fat               | 0.01604730            | Dairy                 | 249.8092              | OUT049                | 1999                  | Medium                | Tier 1                | Supermarket Type1     | 3735.1380             |\n",
       "| DRC01                 |  5.920                | Regular               | 0.01927822            | Soft Drinks           |  48.2692              | OUT018                | 2009                  | Medium                | Tier 3                | Supermarket Type2     |  443.4228             |\n",
       "| FDN15                 | 17.500                | Low Fat               | 0.01676007            | Meat                  | 141.6180              | OUT049                | 1999                  | Medium                | Tier 1                | Supermarket Type1     | 2097.2700             |\n",
       "| FDX07                 | 19.200                | Regular               | 0.00000000            | Fruits and Vegetables | 182.0950              | OUT010                | 1998                  |                       | Tier 3                | Grocery Store         |  732.3800             |\n",
       "| NCD19                 |  8.930                | Low Fat               | 0.00000000            | Household             |  53.8614              | OUT013                | 1987                  | High                  | Tier 3                | Supermarket Type1     |  994.7052             |\n",
       "| FDP36                 | 10.395                | Regular               | 0.00000000            | Baking Goods          |  51.4008              | OUT018                | 2009                  | Medium                | Tier 3                | Supermarket Type2     |  556.6088             |\n",
       "\n"
      ],
      "text/plain": [
       "  Item_Identifier Item_Weight Item_Fat_Content Item_Visibility\n",
       "1 FDA15            9.300      Low Fat          0.01604730     \n",
       "2 DRC01            5.920      Regular          0.01927822     \n",
       "3 FDN15           17.500      Low Fat          0.01676007     \n",
       "4 FDX07           19.200      Regular          0.00000000     \n",
       "5 NCD19            8.930      Low Fat          0.00000000     \n",
       "6 FDP36           10.395      Regular          0.00000000     \n",
       "  Item_Type             Item_MRP Outlet_Identifier Outlet_Establishment_Year\n",
       "1 Dairy                 249.8092 OUT049            1999                     \n",
       "2 Soft Drinks            48.2692 OUT018            2009                     \n",
       "3 Meat                  141.6180 OUT049            1999                     \n",
       "4 Fruits and Vegetables 182.0950 OUT010            1998                     \n",
       "5 Household              53.8614 OUT013            1987                     \n",
       "6 Baking Goods           51.4008 OUT018            2009                     \n",
       "  Outlet_Size Outlet_Location_Type Outlet_Type       Item_Outlet_Sales\n",
       "1 Medium      Tier 1               Supermarket Type1 3735.1380        \n",
       "2 Medium      Tier 3               Supermarket Type2  443.4228        \n",
       "3 Medium      Tier 1               Supermarket Type1 2097.2700        \n",
       "4             Tier 3               Grocery Store      732.3800        \n",
       "5 High        Tier 3               Supermarket Type1  994.7052        \n",
       "6 Medium      Tier 3               Supermarket Type2  556.6088        "
      ]
     },
     "metadata": {},
     "output_type": "display_data"
    }
   ],
   "source": [
    "train  = na.omit(train)\n",
    "head(train)"
   ]
  },
  {
   "cell_type": "code",
   "execution_count": 7,
   "id": "swiss-adventure",
   "metadata": {},
   "outputs": [],
   "source": [
    "y <- sapply( test, is.character)\n",
    "test[y] <- lapply( test[y], factor)\n",
    "test[y] <- lapply(test[y], as.numeric)\n"
   ]
  },
  {
   "cell_type": "code",
   "execution_count": 8,
   "id": "sensitive-german",
   "metadata": {},
   "outputs": [
    {
     "data": {
      "text/html": [
       "<table>\n",
       "<thead><tr><th></th><th scope=col>Item_Identifier</th><th scope=col>Item_Weight</th><th scope=col>Item_Fat_Content</th><th scope=col>Item_Visibility</th><th scope=col>Item_Type</th><th scope=col>Item_MRP</th><th scope=col>Outlet_Identifier</th><th scope=col>Outlet_Establishment_Year</th><th scope=col>Outlet_Size</th><th scope=col>Outlet_Location_Type</th><th scope=col>Outlet_Type</th></tr></thead>\n",
       "<tbody>\n",
       "\t<tr><th scope=row>1</th><td>FDW58                </td><td>20.750               </td><td>Low Fat              </td><td>0.007564836          </td><td>Snack Foods          </td><td>107.8622             </td><td>OUT049               </td><td>1999                 </td><td>Medium               </td><td>Tier 1               </td><td>Supermarket Type1    </td></tr>\n",
       "\t<tr><th scope=row>2</th><td>FDW14                </td><td> 8.300               </td><td>reg                  </td><td>0.038427677          </td><td>Dairy                </td><td> 87.3198             </td><td>OUT017               </td><td>2007                 </td><td>                     </td><td>Tier 2               </td><td>Supermarket Type1    </td></tr>\n",
       "\t<tr><th scope=row>3</th><td>NCN55                </td><td>14.600               </td><td>Low Fat              </td><td>0.099574908          </td><td>Others               </td><td>241.7538             </td><td>OUT010               </td><td>1998                 </td><td>                     </td><td>Tier 3               </td><td>Grocery Store        </td></tr>\n",
       "\t<tr><th scope=row>4</th><td>FDQ58                </td><td> 7.315               </td><td>Low Fat              </td><td>0.015388393          </td><td>Snack Foods          </td><td>155.0340             </td><td>OUT017               </td><td>2007                 </td><td>                     </td><td>Tier 2               </td><td>Supermarket Type1    </td></tr>\n",
       "\t<tr><th scope=row>6</th><td>FDH56                </td><td> 9.800               </td><td>Regular              </td><td>0.063817206          </td><td>Fruits and Vegetables</td><td>117.1492             </td><td>OUT046               </td><td>1997                 </td><td>Small                </td><td>Tier 1               </td><td>Supermarket Type1    </td></tr>\n",
       "\t<tr><th scope=row>7</th><td>FDL48                </td><td>19.350               </td><td>Regular              </td><td>0.082601537          </td><td>Baking Goods         </td><td> 50.1034             </td><td>OUT018               </td><td>2009                 </td><td>Medium               </td><td>Tier 3               </td><td>Supermarket Type2    </td></tr>\n",
       "</tbody>\n",
       "</table>\n"
      ],
      "text/latex": [
       "\\begin{tabular}{r|lllllllllll}\n",
       "  & Item\\_Identifier & Item\\_Weight & Item\\_Fat\\_Content & Item\\_Visibility & Item\\_Type & Item\\_MRP & Outlet\\_Identifier & Outlet\\_Establishment\\_Year & Outlet\\_Size & Outlet\\_Location\\_Type & Outlet\\_Type\\\\\n",
       "\\hline\n",
       "\t1 & FDW58                 & 20.750                & Low Fat               & 0.007564836           & Snack Foods           & 107.8622              & OUT049                & 1999                  & Medium                & Tier 1                & Supermarket Type1    \\\\\n",
       "\t2 & FDW14                 &  8.300                & reg                   & 0.038427677           & Dairy                 &  87.3198              & OUT017                & 2007                  &                       & Tier 2                & Supermarket Type1    \\\\\n",
       "\t3 & NCN55                 & 14.600                & Low Fat               & 0.099574908           & Others                & 241.7538              & OUT010                & 1998                  &                       & Tier 3                & Grocery Store        \\\\\n",
       "\t4 & FDQ58                 &  7.315                & Low Fat               & 0.015388393           & Snack Foods           & 155.0340              & OUT017                & 2007                  &                       & Tier 2                & Supermarket Type1    \\\\\n",
       "\t6 & FDH56                 &  9.800                & Regular               & 0.063817206           & Fruits and Vegetables & 117.1492              & OUT046                & 1997                  & Small                 & Tier 1                & Supermarket Type1    \\\\\n",
       "\t7 & FDL48                 & 19.350                & Regular               & 0.082601537           & Baking Goods          &  50.1034              & OUT018                & 2009                  & Medium                & Tier 3                & Supermarket Type2    \\\\\n",
       "\\end{tabular}\n"
      ],
      "text/markdown": [
       "\n",
       "| <!--/--> | Item_Identifier | Item_Weight | Item_Fat_Content | Item_Visibility | Item_Type | Item_MRP | Outlet_Identifier | Outlet_Establishment_Year | Outlet_Size | Outlet_Location_Type | Outlet_Type |\n",
       "|---|---|---|---|---|---|---|---|---|---|---|---|\n",
       "| 1 | FDW58                 | 20.750                | Low Fat               | 0.007564836           | Snack Foods           | 107.8622              | OUT049                | 1999                  | Medium                | Tier 1                | Supermarket Type1     |\n",
       "| 2 | FDW14                 |  8.300                | reg                   | 0.038427677           | Dairy                 |  87.3198              | OUT017                | 2007                  |                       | Tier 2                | Supermarket Type1     |\n",
       "| 3 | NCN55                 | 14.600                | Low Fat               | 0.099574908           | Others                | 241.7538              | OUT010                | 1998                  |                       | Tier 3                | Grocery Store         |\n",
       "| 4 | FDQ58                 |  7.315                | Low Fat               | 0.015388393           | Snack Foods           | 155.0340              | OUT017                | 2007                  |                       | Tier 2                | Supermarket Type1     |\n",
       "| 6 | FDH56                 |  9.800                | Regular               | 0.063817206           | Fruits and Vegetables | 117.1492              | OUT046                | 1997                  | Small                 | Tier 1                | Supermarket Type1     |\n",
       "| 7 | FDL48                 | 19.350                | Regular               | 0.082601537           | Baking Goods          |  50.1034              | OUT018                | 2009                  | Medium                | Tier 3                | Supermarket Type2     |\n",
       "\n"
      ],
      "text/plain": [
       "  Item_Identifier Item_Weight Item_Fat_Content Item_Visibility\n",
       "1 FDW58           20.750      Low Fat          0.007564836    \n",
       "2 FDW14            8.300      reg              0.038427677    \n",
       "3 NCN55           14.600      Low Fat          0.099574908    \n",
       "4 FDQ58            7.315      Low Fat          0.015388393    \n",
       "6 FDH56            9.800      Regular          0.063817206    \n",
       "7 FDL48           19.350      Regular          0.082601537    \n",
       "  Item_Type             Item_MRP Outlet_Identifier Outlet_Establishment_Year\n",
       "1 Snack Foods           107.8622 OUT049            1999                     \n",
       "2 Dairy                  87.3198 OUT017            2007                     \n",
       "3 Others                241.7538 OUT010            1998                     \n",
       "4 Snack Foods           155.0340 OUT017            2007                     \n",
       "6 Fruits and Vegetables 117.1492 OUT046            1997                     \n",
       "7 Baking Goods           50.1034 OUT018            2009                     \n",
       "  Outlet_Size Outlet_Location_Type Outlet_Type      \n",
       "1 Medium      Tier 1               Supermarket Type1\n",
       "2             Tier 2               Supermarket Type1\n",
       "3             Tier 3               Grocery Store    \n",
       "4             Tier 2               Supermarket Type1\n",
       "6 Small       Tier 1               Supermarket Type1\n",
       "7 Medium      Tier 3               Supermarket Type2"
      ]
     },
     "metadata": {},
     "output_type": "display_data"
    }
   ],
   "source": [
    "test  = na.omit(test)\n",
    "head(test)"
   ]
  },
  {
   "cell_type": "code",
   "execution_count": 9,
   "id": "relevant-costs",
   "metadata": {},
   "outputs": [
    {
     "name": "stdout",
     "output_type": "stream",
     "text": [
      "\n",
      "Call:  glmnet(x = as.matrix(train[, c(2, 4, 6, 8)]), y = train$Item_Outlet_Sales,      alpha = 0, lambda = 0.1) \n",
      "\n",
      "     Df   %Dev Lambda\n",
      "[1,]  4 0.3924    0.1\n"
     ]
    }
   ],
   "source": [
    "### Ridge Regression \n",
    "ridgeReg = glmnet(as.matrix(train[,c(2,4,6,8)]), train$Item_Outlet_Sales, alpha = 0, lambda = 0.1)\n",
    "#Model\n",
    "print((ridgeReg))"
   ]
  },
  {
   "cell_type": "code",
   "execution_count": 10,
   "id": "complicated-sport",
   "metadata": {},
   "outputs": [],
   "source": [
    "# Multiple regression \n",
    "multreg <- lm(train$Item_Outlet_Sales ~ train$Item_Weight+ train$Item_Visibility, data = train)"
   ]
  },
  {
   "cell_type": "code",
   "execution_count": 11,
   "id": "bronze-relaxation",
   "metadata": {},
   "outputs": [
    {
     "data": {
      "text/plain": [
       "\n",
       "Call:\n",
       "lm(formula = train$Item_Outlet_Sales ~ train$Item_Weight + train$Item_Visibility, \n",
       "    data = train)\n",
       "\n",
       "Coefficients:\n",
       "          (Intercept)      train$Item_Weight  train$Item_Visibility  \n",
       "             2235.506                  4.269              -2685.388  \n"
      ]
     },
     "metadata": {},
     "output_type": "display_data"
    }
   ],
   "source": [
    "multreg"
   ]
  },
  {
   "cell_type": "code",
   "execution_count": 12,
   "id": "loaded-implementation",
   "metadata": {},
   "outputs": [
    {
     "data": {
      "text/plain": [
       "\n",
       "Call:\n",
       "lm(formula = train$Item_Outlet_Sales ~ train$Item_Weight + train$Item_Visibility, \n",
       "    data = train)\n",
       "\n",
       "Residuals:\n",
       "    Min      1Q  Median      3Q     Max \n",
       "-2275.6 -1194.3  -335.4   831.3  8010.1 \n",
       "\n",
       "Coefficients:\n",
       "                       Estimate Std. Error t value Pr(>|t|)    \n",
       "(Intercept)            2235.506     58.934  37.932  < 2e-16 ***\n",
       "train$Item_Weight         4.269      3.917   1.090    0.276    \n",
       "train$Item_Visibility -2685.388    374.041  -7.179 7.72e-13 ***\n",
       "---\n",
       "Signif. codes:  0 '***' 0.001 '**' 0.01 '*' 0.05 '.' 0.1 ' ' 1\n",
       "\n",
       "Residual standard error: 1528 on 7057 degrees of freedom\n",
       "Multiple R-squared:  0.007449,\tAdjusted R-squared:  0.007168 \n",
       "F-statistic: 26.48 on 2 and 7057 DF,  p-value: 3.487e-12\n"
      ]
     },
     "metadata": {},
     "output_type": "display_data"
    }
   ],
   "source": [
    "summary(multreg)"
   ]
  },
  {
   "cell_type": "code",
   "execution_count": null,
   "id": "august-recipe",
   "metadata": {},
   "outputs": [],
   "source": []
  }
 ],
 "metadata": {
  "kernelspec": {
   "display_name": "R",
   "language": "R",
   "name": "ir"
  },
  "language_info": {
   "codemirror_mode": "r",
   "file_extension": ".r",
   "mimetype": "text/x-r-source",
   "name": "R",
   "pygments_lexer": "r",
   "version": "3.6.1"
  }
 },
 "nbformat": 4,
 "nbformat_minor": 5
}
