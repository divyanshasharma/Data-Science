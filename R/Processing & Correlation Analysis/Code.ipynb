{
 "cells": [
  {
   "cell_type": "markdown",
   "id": "great-driving",
   "metadata": {},
   "source": [
    "\n",
    "### Task: Define Dataset using the descriptive measures of statistics and perform correlation and regression analysis in R.\n"
   ]
  },
  {
   "cell_type": "markdown",
   "id": "settled-export",
   "metadata": {},
   "source": [
    "Dataset Details: The dataset being used in the following notebook is the Heart Failure\n",
    "Prediction Dataset by Larxel downloaded from Kaggle.\n",
    "Task 1.1: Understand data attributes and their significance and then import the data in R\n"
   ]
  },
  {
   "cell_type": "code",
   "execution_count": 5,
   "id": "nervous-illinois",
   "metadata": {},
   "outputs": [
    {
     "data": {
      "text/html": [
       "<table>\n",
       "<thead><tr><th scope=col>Country</th><th scope=col>Year</th><th scope=col>Status</th><th scope=col>Life.expectancy</th><th scope=col>Adult.Mortality</th><th scope=col>infant.deaths</th><th scope=col>Alcohol</th><th scope=col>percentage.expenditure</th><th scope=col>Hepatitis.B</th><th scope=col>Measles</th><th scope=col>...</th><th scope=col>Polio</th><th scope=col>Total.expenditure</th><th scope=col>Diphtheria</th><th scope=col>HIV.AIDS</th><th scope=col>GDP</th><th scope=col>Population</th><th scope=col>thinness..1.19.years</th><th scope=col>thinness.5.9.years</th><th scope=col>Income.composition.of.resources</th><th scope=col>Schooling</th></tr></thead>\n",
       "<tbody>\n",
       "\t<tr><td>Afghanistan</td><td>2015       </td><td>Developing </td><td>65.0       </td><td>263        </td><td>62         </td><td>0.01       </td><td>71.279624  </td><td>65         </td><td>1154       </td><td>...        </td><td> 6         </td><td>8.16       </td><td>65         </td><td>0.1        </td><td>584.25921  </td><td>33736494   </td><td>17.2       </td><td>17.3       </td><td>0.479      </td><td>10.1       </td></tr>\n",
       "\t<tr><td>Afghanistan</td><td>2014       </td><td>Developing </td><td>59.9       </td><td>271        </td><td>64         </td><td>0.01       </td><td>73.523582  </td><td>62         </td><td> 492       </td><td>...        </td><td>58         </td><td>8.18       </td><td>62         </td><td>0.1        </td><td>612.69651  </td><td>  327582   </td><td>17.5       </td><td>17.5       </td><td>0.476      </td><td>10.0       </td></tr>\n",
       "\t<tr><td>Afghanistan</td><td>2013       </td><td>Developing </td><td>59.9       </td><td>268        </td><td>66         </td><td>0.01       </td><td>73.219243  </td><td>64         </td><td> 430       </td><td>...        </td><td>62         </td><td>8.13       </td><td>64         </td><td>0.1        </td><td>631.74498  </td><td>31731688   </td><td>17.7       </td><td>17.7       </td><td>0.470      </td><td> 9.9       </td></tr>\n",
       "\t<tr><td>Afghanistan</td><td>2012       </td><td>Developing </td><td>59.5       </td><td>272        </td><td>69         </td><td>0.01       </td><td>78.184215  </td><td>67         </td><td>2787       </td><td>...        </td><td>67         </td><td>8.52       </td><td>67         </td><td>0.1        </td><td>669.95900  </td><td> 3696958   </td><td>17.9       </td><td>18.0       </td><td>0.463      </td><td> 9.8       </td></tr>\n",
       "\t<tr><td>Afghanistan</td><td>2011       </td><td>Developing </td><td>59.2       </td><td>275        </td><td>71         </td><td>0.01       </td><td> 7.097109  </td><td>68         </td><td>3013       </td><td>...        </td><td>68         </td><td>7.87       </td><td>68         </td><td>0.1        </td><td> 63.53723  </td><td> 2978599   </td><td>18.2       </td><td>18.2       </td><td>0.454      </td><td> 9.5       </td></tr>\n",
       "\t<tr><td>Afghanistan</td><td>2010       </td><td>Developing </td><td>58.8       </td><td>279        </td><td>74         </td><td>0.01       </td><td>79.679367  </td><td>66         </td><td>1989       </td><td>...        </td><td>66         </td><td>9.20       </td><td>66         </td><td>0.1        </td><td>553.32894  </td><td> 2883167   </td><td>18.4       </td><td>18.4       </td><td>0.448      </td><td> 9.2       </td></tr>\n",
       "</tbody>\n",
       "</table>\n"
      ],
      "text/latex": [
       "\\begin{tabular}{r|llllllllllllllllllllll}\n",
       " Country & Year & Status & Life.expectancy & Adult.Mortality & infant.deaths & Alcohol & percentage.expenditure & Hepatitis.B & Measles & ... & Polio & Total.expenditure & Diphtheria & HIV.AIDS & GDP & Population & thinness..1.19.years & thinness.5.9.years & Income.composition.of.resources & Schooling\\\\\n",
       "\\hline\n",
       "\t Afghanistan & 2015        & Developing  & 65.0        & 263         & 62          & 0.01        & 71.279624   & 65          & 1154        & ...         &  6          & 8.16        & 65          & 0.1         & 584.25921   & 33736494    & 17.2        & 17.3        & 0.479       & 10.1       \\\\\n",
       "\t Afghanistan & 2014        & Developing  & 59.9        & 271         & 64          & 0.01        & 73.523582   & 62          &  492        & ...         & 58          & 8.18        & 62          & 0.1         & 612.69651   &   327582    & 17.5        & 17.5        & 0.476       & 10.0       \\\\\n",
       "\t Afghanistan & 2013        & Developing  & 59.9        & 268         & 66          & 0.01        & 73.219243   & 64          &  430        & ...         & 62          & 8.13        & 64          & 0.1         & 631.74498   & 31731688    & 17.7        & 17.7        & 0.470       &  9.9       \\\\\n",
       "\t Afghanistan & 2012        & Developing  & 59.5        & 272         & 69          & 0.01        & 78.184215   & 67          & 2787        & ...         & 67          & 8.52        & 67          & 0.1         & 669.95900   &  3696958    & 17.9        & 18.0        & 0.463       &  9.8       \\\\\n",
       "\t Afghanistan & 2011        & Developing  & 59.2        & 275         & 71          & 0.01        &  7.097109   & 68          & 3013        & ...         & 68          & 7.87        & 68          & 0.1         &  63.53723   &  2978599    & 18.2        & 18.2        & 0.454       &  9.5       \\\\\n",
       "\t Afghanistan & 2010        & Developing  & 58.8        & 279         & 74          & 0.01        & 79.679367   & 66          & 1989        & ...         & 66          & 9.20        & 66          & 0.1         & 553.32894   &  2883167    & 18.4        & 18.4        & 0.448       &  9.2       \\\\\n",
       "\\end{tabular}\n"
      ],
      "text/markdown": [
       "\n",
       "| Country | Year | Status | Life.expectancy | Adult.Mortality | infant.deaths | Alcohol | percentage.expenditure | Hepatitis.B | Measles | ... | Polio | Total.expenditure | Diphtheria | HIV.AIDS | GDP | Population | thinness..1.19.years | thinness.5.9.years | Income.composition.of.resources | Schooling |\n",
       "|---|---|---|---|---|---|---|---|---|---|---|---|---|---|---|---|---|---|---|---|---|\n",
       "| Afghanistan | 2015        | Developing  | 65.0        | 263         | 62          | 0.01        | 71.279624   | 65          | 1154        | ...         |  6          | 8.16        | 65          | 0.1         | 584.25921   | 33736494    | 17.2        | 17.3        | 0.479       | 10.1        |\n",
       "| Afghanistan | 2014        | Developing  | 59.9        | 271         | 64          | 0.01        | 73.523582   | 62          |  492        | ...         | 58          | 8.18        | 62          | 0.1         | 612.69651   |   327582    | 17.5        | 17.5        | 0.476       | 10.0        |\n",
       "| Afghanistan | 2013        | Developing  | 59.9        | 268         | 66          | 0.01        | 73.219243   | 64          |  430        | ...         | 62          | 8.13        | 64          | 0.1         | 631.74498   | 31731688    | 17.7        | 17.7        | 0.470       |  9.9        |\n",
       "| Afghanistan | 2012        | Developing  | 59.5        | 272         | 69          | 0.01        | 78.184215   | 67          | 2787        | ...         | 67          | 8.52        | 67          | 0.1         | 669.95900   |  3696958    | 17.9        | 18.0        | 0.463       |  9.8        |\n",
       "| Afghanistan | 2011        | Developing  | 59.2        | 275         | 71          | 0.01        |  7.097109   | 68          | 3013        | ...         | 68          | 7.87        | 68          | 0.1         |  63.53723   |  2978599    | 18.2        | 18.2        | 0.454       |  9.5        |\n",
       "| Afghanistan | 2010        | Developing  | 58.8        | 279         | 74          | 0.01        | 79.679367   | 66          | 1989        | ...         | 66          | 9.20        | 66          | 0.1         | 553.32894   |  2883167    | 18.4        | 18.4        | 0.448       |  9.2        |\n",
       "\n"
      ],
      "text/plain": [
       "  Country     Year Status     Life.expectancy Adult.Mortality infant.deaths\n",
       "1 Afghanistan 2015 Developing 65.0            263             62           \n",
       "2 Afghanistan 2014 Developing 59.9            271             64           \n",
       "3 Afghanistan 2013 Developing 59.9            268             66           \n",
       "4 Afghanistan 2012 Developing 59.5            272             69           \n",
       "5 Afghanistan 2011 Developing 59.2            275             71           \n",
       "6 Afghanistan 2010 Developing 58.8            279             74           \n",
       "  Alcohol percentage.expenditure Hepatitis.B Measles ... Polio\n",
       "1 0.01    71.279624              65          1154    ...  6   \n",
       "2 0.01    73.523582              62           492    ... 58   \n",
       "3 0.01    73.219243              64           430    ... 62   \n",
       "4 0.01    78.184215              67          2787    ... 67   \n",
       "5 0.01     7.097109              68          3013    ... 68   \n",
       "6 0.01    79.679367              66          1989    ... 66   \n",
       "  Total.expenditure Diphtheria HIV.AIDS GDP       Population\n",
       "1 8.16              65         0.1      584.25921 33736494  \n",
       "2 8.18              62         0.1      612.69651   327582  \n",
       "3 8.13              64         0.1      631.74498 31731688  \n",
       "4 8.52              67         0.1      669.95900  3696958  \n",
       "5 7.87              68         0.1       63.53723  2978599  \n",
       "6 9.20              66         0.1      553.32894  2883167  \n",
       "  thinness..1.19.years thinness.5.9.years Income.composition.of.resources\n",
       "1 17.2                 17.3               0.479                          \n",
       "2 17.5                 17.5               0.476                          \n",
       "3 17.7                 17.7               0.470                          \n",
       "4 17.9                 18.0               0.463                          \n",
       "5 18.2                 18.2               0.454                          \n",
       "6 18.4                 18.4               0.448                          \n",
       "  Schooling\n",
       "1 10.1     \n",
       "2 10.0     \n",
       "3  9.9     \n",
       "4  9.8     \n",
       "5  9.5     \n",
       "6  9.2     "
      ]
     },
     "metadata": {},
     "output_type": "display_data"
    }
   ],
   "source": [
    "data <- read.csv(\"Life Expectancy Data.csv\",header=TRUE)\n",
    "head(data) "
   ]
  },
  {
   "cell_type": "code",
   "execution_count": 6,
   "id": "brave-hamilton",
   "metadata": {},
   "outputs": [
    {
     "name": "stdout",
     "output_type": "stream",
     "text": [
      "'data.frame':\t2938 obs. of  22 variables:\n",
      " $ Country                        : Factor w/ 193 levels \"Afghanistan\",..: 1 1 1 1 1 1 1 1 1 1 ...\n",
      " $ Year                           : int  2015 2014 2013 2012 2011 2010 2009 2008 2007 2006 ...\n",
      " $ Status                         : Factor w/ 2 levels \"Developed\",\"Developing\": 2 2 2 2 2 2 2 2 2 2 ...\n",
      " $ Life.expectancy                : num  65 59.9 59.9 59.5 59.2 58.8 58.6 58.1 57.5 57.3 ...\n",
      " $ Adult.Mortality                : int  263 271 268 272 275 279 281 287 295 295 ...\n",
      " $ infant.deaths                  : int  62 64 66 69 71 74 77 80 82 84 ...\n",
      " $ Alcohol                        : num  0.01 0.01 0.01 0.01 0.01 0.01 0.01 0.03 0.02 0.03 ...\n",
      " $ percentage.expenditure         : num  71.3 73.5 73.2 78.2 7.1 ...\n",
      " $ Hepatitis.B                    : int  65 62 64 67 68 66 63 64 63 64 ...\n",
      " $ Measles                        : int  1154 492 430 2787 3013 1989 2861 1599 1141 1990 ...\n",
      " $ BMI                            : num  19.1 18.6 18.1 17.6 17.2 16.7 16.2 15.7 15.2 14.7 ...\n",
      " $ under.five.deaths              : int  83 86 89 93 97 102 106 110 113 116 ...\n",
      " $ Polio                          : int  6 58 62 67 68 66 63 64 63 58 ...\n",
      " $ Total.expenditure              : num  8.16 8.18 8.13 8.52 7.87 9.2 9.42 8.33 6.73 7.43 ...\n",
      " $ Diphtheria                     : int  65 62 64 67 68 66 63 64 63 58 ...\n",
      " $ HIV.AIDS                       : num  0.1 0.1 0.1 0.1 0.1 0.1 0.1 0.1 0.1 0.1 ...\n",
      " $ GDP                            : num  584.3 612.7 631.7 670 63.5 ...\n",
      " $ Population                     : num  33736494 327582 31731688 3696958 2978599 ...\n",
      " $ thinness..1.19.years           : num  17.2 17.5 17.7 17.9 18.2 18.4 18.6 18.8 19 19.2 ...\n",
      " $ thinness.5.9.years             : num  17.3 17.5 17.7 18 18.2 18.4 18.7 18.9 19.1 19.3 ...\n",
      " $ Income.composition.of.resources: num  0.479 0.476 0.47 0.463 0.454 0.448 0.434 0.433 0.415 0.405 ...\n",
      " $ Schooling                      : num  10.1 10 9.9 9.8 9.5 9.2 8.9 8.7 8.4 8.1 ...\n"
     ]
    }
   ],
   "source": [
    "#Understanding the structure of data\n",
    "str(data)"
   ]
  },
  {
   "cell_type": "markdown",
   "id": "mathematical-colors",
   "metadata": {},
   "source": [
    "##### Here we can see that the data consists of 22 attributes\n",
    "##### Country,Year,Status,Life expectancy ,Adult Mortality,infant deaths,Alcohol,percentage expenditure,Hepatitis B,Measles , BMI ,under-five deaths ,Polio,Total expenditure,Diphtheria , HIV/AIDS,GDP,Population, thinness  1-19 years, thinness 5-9 years,Income composition of resources,Schooling"
   ]
  },
  {
   "cell_type": "markdown",
   "id": "durable-complaint",
   "metadata": {},
   "source": [
    "##### Task 1.2: Subset any 5-10 attributes from the selected dataset and then clean the data for (NA) values."
   ]
  },
  {
   "cell_type": "code",
   "execution_count": 7,
   "id": "inappropriate-centre",
   "metadata": {},
   "outputs": [
    {
     "data": {
      "text/html": [
       "<table>\n",
       "<thead><tr><th scope=col>Country</th><th scope=col>Year</th><th scope=col>Status</th><th scope=col>Life.expectancy</th><th scope=col>Adult.Mortality</th><th scope=col>infant.deaths</th><th scope=col>Alcohol</th><th scope=col>percentage.expenditure</th><th scope=col>Hepatitis.B</th><th scope=col>Measles</th><th scope=col>GDP</th><th scope=col>BMI</th></tr></thead>\n",
       "<tbody>\n",
       "\t<tr><td>Afghanistan</td><td>2015       </td><td>Developing </td><td>65.0       </td><td>263        </td><td>62         </td><td>0.01       </td><td>71.279624  </td><td>65         </td><td>1154       </td><td>584.25921  </td><td>19.1       </td></tr>\n",
       "\t<tr><td>Afghanistan</td><td>2014       </td><td>Developing </td><td>59.9       </td><td>271        </td><td>64         </td><td>0.01       </td><td>73.523582  </td><td>62         </td><td> 492       </td><td>612.69651  </td><td>18.6       </td></tr>\n",
       "\t<tr><td>Afghanistan</td><td>2013       </td><td>Developing </td><td>59.9       </td><td>268        </td><td>66         </td><td>0.01       </td><td>73.219243  </td><td>64         </td><td> 430       </td><td>631.74498  </td><td>18.1       </td></tr>\n",
       "\t<tr><td>Afghanistan</td><td>2012       </td><td>Developing </td><td>59.5       </td><td>272        </td><td>69         </td><td>0.01       </td><td>78.184215  </td><td>67         </td><td>2787       </td><td>669.95900  </td><td>17.6       </td></tr>\n",
       "\t<tr><td>Afghanistan</td><td>2011       </td><td>Developing </td><td>59.2       </td><td>275        </td><td>71         </td><td>0.01       </td><td> 7.097109  </td><td>68         </td><td>3013       </td><td> 63.53723  </td><td>17.2       </td></tr>\n",
       "\t<tr><td>Afghanistan</td><td>2010       </td><td>Developing </td><td>58.8       </td><td>279        </td><td>74         </td><td>0.01       </td><td>79.679367  </td><td>66         </td><td>1989       </td><td>553.32894  </td><td>16.7       </td></tr>\n",
       "</tbody>\n",
       "</table>\n"
      ],
      "text/latex": [
       "\\begin{tabular}{r|llllllllllll}\n",
       " Country & Year & Status & Life.expectancy & Adult.Mortality & infant.deaths & Alcohol & percentage.expenditure & Hepatitis.B & Measles & GDP & BMI\\\\\n",
       "\\hline\n",
       "\t Afghanistan & 2015        & Developing  & 65.0        & 263         & 62          & 0.01        & 71.279624   & 65          & 1154        & 584.25921   & 19.1       \\\\\n",
       "\t Afghanistan & 2014        & Developing  & 59.9        & 271         & 64          & 0.01        & 73.523582   & 62          &  492        & 612.69651   & 18.6       \\\\\n",
       "\t Afghanistan & 2013        & Developing  & 59.9        & 268         & 66          & 0.01        & 73.219243   & 64          &  430        & 631.74498   & 18.1       \\\\\n",
       "\t Afghanistan & 2012        & Developing  & 59.5        & 272         & 69          & 0.01        & 78.184215   & 67          & 2787        & 669.95900   & 17.6       \\\\\n",
       "\t Afghanistan & 2011        & Developing  & 59.2        & 275         & 71          & 0.01        &  7.097109   & 68          & 3013        &  63.53723   & 17.2       \\\\\n",
       "\t Afghanistan & 2010        & Developing  & 58.8        & 279         & 74          & 0.01        & 79.679367   & 66          & 1989        & 553.32894   & 16.7       \\\\\n",
       "\\end{tabular}\n"
      ],
      "text/markdown": [
       "\n",
       "| Country | Year | Status | Life.expectancy | Adult.Mortality | infant.deaths | Alcohol | percentage.expenditure | Hepatitis.B | Measles | GDP | BMI |\n",
       "|---|---|---|---|---|---|---|---|---|---|---|---|\n",
       "| Afghanistan | 2015        | Developing  | 65.0        | 263         | 62          | 0.01        | 71.279624   | 65          | 1154        | 584.25921   | 19.1        |\n",
       "| Afghanistan | 2014        | Developing  | 59.9        | 271         | 64          | 0.01        | 73.523582   | 62          |  492        | 612.69651   | 18.6        |\n",
       "| Afghanistan | 2013        | Developing  | 59.9        | 268         | 66          | 0.01        | 73.219243   | 64          |  430        | 631.74498   | 18.1        |\n",
       "| Afghanistan | 2012        | Developing  | 59.5        | 272         | 69          | 0.01        | 78.184215   | 67          | 2787        | 669.95900   | 17.6        |\n",
       "| Afghanistan | 2011        | Developing  | 59.2        | 275         | 71          | 0.01        |  7.097109   | 68          | 3013        |  63.53723   | 17.2        |\n",
       "| Afghanistan | 2010        | Developing  | 58.8        | 279         | 74          | 0.01        | 79.679367   | 66          | 1989        | 553.32894   | 16.7        |\n",
       "\n"
      ],
      "text/plain": [
       "  Country     Year Status     Life.expectancy Adult.Mortality infant.deaths\n",
       "1 Afghanistan 2015 Developing 65.0            263             62           \n",
       "2 Afghanistan 2014 Developing 59.9            271             64           \n",
       "3 Afghanistan 2013 Developing 59.9            268             66           \n",
       "4 Afghanistan 2012 Developing 59.5            272             69           \n",
       "5 Afghanistan 2011 Developing 59.2            275             71           \n",
       "6 Afghanistan 2010 Developing 58.8            279             74           \n",
       "  Alcohol percentage.expenditure Hepatitis.B Measles GDP       BMI \n",
       "1 0.01    71.279624              65          1154    584.25921 19.1\n",
       "2 0.01    73.523582              62           492    612.69651 18.6\n",
       "3 0.01    73.219243              64           430    631.74498 18.1\n",
       "4 0.01    78.184215              67          2787    669.95900 17.6\n",
       "5 0.01     7.097109              68          3013     63.53723 17.2\n",
       "6 0.01    79.679367              66          1989    553.32894 16.7"
      ]
     },
     "metadata": {},
     "output_type": "display_data"
    }
   ],
   "source": [
    "#Selecting attributes to subset from the dataset\n",
    "sub_attr <- c(\"Country\",\"Year\",\"Status\",\"Life.expectancy\",\"Adult.Mortality\",\"infant.deaths\",\"Alcohol\",\"percentage.expenditure\",\"Hepatitis.B\",\"Measles\",\"GDP\",\"BMI\")\n",
    "#Subset from dataset\n",
    "data_sub <- data[sub_attr]\n",
    "#Preview of new data\n",
    "head(data_sub)\n"
   ]
  },
  {
   "cell_type": "code",
   "execution_count": 8,
   "id": "increasing-pastor",
   "metadata": {},
   "outputs": [
    {
     "data": {
      "text/html": [
       "1249"
      ],
      "text/latex": [
       "1249"
      ],
      "text/markdown": [
       "1249"
      ],
      "text/plain": [
       "[1] 1249"
      ]
     },
     "metadata": {},
     "output_type": "display_data"
    }
   ],
   "source": [
    "#Checking for NA Values\n",
    "sum(is.na(data_sub))"
   ]
  },
  {
   "cell_type": "code",
   "execution_count": null,
   "id": "recreational-communist",
   "metadata": {},
   "outputs": [],
   "source": []
  },
  {
   "cell_type": "markdown",
   "id": "valued-attraction",
   "metadata": {},
   "source": [
    "### Task 1.3: Define dataset using the descriptive measures like mean, median and standard deviation, etc and discuss their significance.\n",
    "#### The different descriptive measures being used to describe the dataset are: Min, Max, Range, Mean, Median, Variance, Standard Deviation, Inter-quartile range.\n",
    "The mean signifies the average of all the values of an attribute.\n",
    "Median signifies the middle value in the range of values of the attribute.\n",
    "Range is the difference between the maximum and minimum value of an attribute.\n",
    "The variance measures the average degree to which each point differs from the mean of all\n",
    "data points.\n",
    "Standard deviation is used to tell how measurements for the attribute are spread out from the mean (or expected value).\n",
    "The summary() function returns a basic summary of dataset's attributes using descriptive measures as shown below"
   ]
  },
  {
   "cell_type": "code",
   "execution_count": 9,
   "id": "intelligent-mustang",
   "metadata": {},
   "outputs": [
    {
     "data": {
      "text/html": [
       "'Life.expectancy'"
      ],
      "text/latex": [
       "'Life.expectancy'"
      ],
      "text/markdown": [
       "'Life.expectancy'"
      ],
      "text/plain": [
       "[1] \"Life.expectancy\""
      ]
     },
     "metadata": {},
     "output_type": "display_data"
    },
    {
     "name": "stdout",
     "output_type": "stream",
     "text": [
      "   Min. 1st Qu.  Median    Mean 3rd Qu.    Max.    NA's \n",
      "  36.30   63.10   72.10   69.22   75.70   89.00      10 \n"
     ]
    },
    {
     "data": {
      "text/html": [
       "<span style=white-space:pre-wrap>'Standard Deviation:  9.5238674878243'</span>"
      ],
      "text/latex": [
       "'Standard Deviation:  9.5238674878243'"
      ],
      "text/markdown": [
       "<span style=white-space:pre-wrap>'Standard Deviation:  9.5238674878243'</span>"
      ],
      "text/plain": [
       "[1] \"Standard Deviation:  9.5238674878243\""
      ]
     },
     "metadata": {},
     "output_type": "display_data"
    },
    {
     "data": {
      "text/html": [
       "<span style=white-space:pre-wrap>'Variance:  90.7040519256368'</span>"
      ],
      "text/latex": [
       "'Variance:  90.7040519256368'"
      ],
      "text/markdown": [
       "<span style=white-space:pre-wrap>'Variance:  90.7040519256368'</span>"
      ],
      "text/plain": [
       "[1] \"Variance:  90.7040519256368\""
      ]
     },
     "metadata": {},
     "output_type": "display_data"
    },
    {
     "data": {
      "text/html": [
       "<span style=white-space:pre-wrap>'Inter-quartile range:  12.6'</span>"
      ],
      "text/latex": [
       "'Inter-quartile range:  12.6'"
      ],
      "text/markdown": [
       "<span style=white-space:pre-wrap>'Inter-quartile range:  12.6'</span>"
      ],
      "text/plain": [
       "[1] \"Inter-quartile range:  12.6\""
      ]
     },
     "metadata": {},
     "output_type": "display_data"
    },
    {
     "data": {
      "text/html": [
       "<span style=white-space:pre-wrap>'Range:  52.7'</span>"
      ],
      "text/latex": [
       "'Range:  52.7'"
      ],
      "text/markdown": [
       "<span style=white-space:pre-wrap>'Range:  52.7'</span>"
      ],
      "text/plain": [
       "[1] \"Range:  52.7\""
      ]
     },
     "metadata": {},
     "output_type": "display_data"
    }
   ],
   "source": [
    "\"Life.expectancy\"\n",
    "print(summary(data_sub$Life.expectancy))\n",
    "paste(\"Standard Deviation: \",sd(data_sub$Life.expectancy,na.rm = TRUE))\n",
    "paste(\"Variance: \",var(data_sub$Life.expectancy,na.rm=TRUE))\n",
    "paste(\"Inter-quartile range: \",IQR(data_sub$Life.expectancy,na.rm=TRUE))\n",
    "paste(\"Range: \",max(data_sub$Life.expectancy,na.rm=TRUE)-min(data_sub$Life.expectancy,na.rm=TRUE))"
   ]
  },
  {
   "cell_type": "code",
   "execution_count": 10,
   "id": "proper-agriculture",
   "metadata": {},
   "outputs": [
    {
     "data": {
      "text/html": [
       "'BMI'"
      ],
      "text/latex": [
       "'BMI'"
      ],
      "text/markdown": [
       "'BMI'"
      ],
      "text/plain": [
       "[1] \"BMI\""
      ]
     },
     "metadata": {},
     "output_type": "display_data"
    },
    {
     "name": "stdout",
     "output_type": "stream",
     "text": [
      "   Min. 1st Qu.  Median    Mean 3rd Qu.    Max.    NA's \n",
      "   1.00   19.30   43.50   38.32   56.20   87.30      34 \n"
     ]
    },
    {
     "data": {
      "text/html": [
       "<span style=white-space:pre-wrap>'Standard Deviation:  20.0440335025621'</span>"
      ],
      "text/latex": [
       "'Standard Deviation:  20.0440335025621'"
      ],
      "text/markdown": [
       "<span style=white-space:pre-wrap>'Standard Deviation:  20.0440335025621'</span>"
      ],
      "text/plain": [
       "[1] \"Standard Deviation:  20.0440335025621\""
      ]
     },
     "metadata": {},
     "output_type": "display_data"
    },
    {
     "data": {
      "text/html": [
       "<span style=white-space:pre-wrap>'Variance:  401.763279051831'</span>"
      ],
      "text/latex": [
       "'Variance:  401.763279051831'"
      ],
      "text/markdown": [
       "<span style=white-space:pre-wrap>'Variance:  401.763279051831'</span>"
      ],
      "text/plain": [
       "[1] \"Variance:  401.763279051831\""
      ]
     },
     "metadata": {},
     "output_type": "display_data"
    },
    {
     "data": {
      "text/html": [
       "<span style=white-space:pre-wrap>'Inter-quartile range:  36.9'</span>"
      ],
      "text/latex": [
       "'Inter-quartile range:  36.9'"
      ],
      "text/markdown": [
       "<span style=white-space:pre-wrap>'Inter-quartile range:  36.9'</span>"
      ],
      "text/plain": [
       "[1] \"Inter-quartile range:  36.9\""
      ]
     },
     "metadata": {},
     "output_type": "display_data"
    },
    {
     "data": {
      "text/html": [
       "<span style=white-space:pre-wrap>'Range:  86.3'</span>"
      ],
      "text/latex": [
       "'Range:  86.3'"
      ],
      "text/markdown": [
       "<span style=white-space:pre-wrap>'Range:  86.3'</span>"
      ],
      "text/plain": [
       "[1] \"Range:  86.3\""
      ]
     },
     "metadata": {},
     "output_type": "display_data"
    }
   ],
   "source": [
    "\"BMI\"\n",
    "print(summary(data_sub$BMI))\n",
    "paste(\"Standard Deviation: \",sd(data_sub$BMI,na.rm = TRUE))\n",
    "paste(\"Variance: \",var(data_sub$BMI,na.rm=TRUE))\n",
    "paste(\"Inter-quartile range: \",IQR(data_sub$BMI,na.rm=TRUE))\n",
    "paste(\"Range: \",max(data_sub$BMI,na.rm=TRUE)-min(data_sub$BMI,na.rm=TRUE))"
   ]
  },
  {
   "cell_type": "code",
   "execution_count": 11,
   "id": "unlimited-panic",
   "metadata": {},
   "outputs": [
    {
     "data": {
      "text/html": [
       "'GDP'"
      ],
      "text/latex": [
       "'GDP'"
      ],
      "text/markdown": [
       "'GDP'"
      ],
      "text/plain": [
       "[1] \"GDP\""
      ]
     },
     "metadata": {},
     "output_type": "display_data"
    },
    {
     "name": "stdout",
     "output_type": "stream",
     "text": [
      "     Min.   1st Qu.    Median      Mean   3rd Qu.      Max.      NA's \n",
      "     1.68    463.94   1766.95   7483.16   5910.81 119172.74       448 \n"
     ]
    },
    {
     "data": {
      "text/html": [
       "<span style=white-space:pre-wrap>'Standard Deviation:  14270.169341516'</span>"
      ],
      "text/latex": [
       "'Standard Deviation:  14270.169341516'"
      ],
      "text/markdown": [
       "<span style=white-space:pre-wrap>'Standard Deviation:  14270.169341516'</span>"
      ],
      "text/plain": [
       "[1] \"Standard Deviation:  14270.169341516\""
      ]
     },
     "metadata": {},
     "output_type": "display_data"
    },
    {
     "data": {
      "text/html": [
       "<span style=white-space:pre-wrap>'Variance:  203637733.035543'</span>"
      ],
      "text/latex": [
       "'Variance:  203637733.035543'"
      ],
      "text/markdown": [
       "<span style=white-space:pre-wrap>'Variance:  203637733.035543'</span>"
      ],
      "text/plain": [
       "[1] \"Variance:  203637733.035543\""
      ]
     },
     "metadata": {},
     "output_type": "display_data"
    },
    {
     "data": {
      "text/html": [
       "<span style=white-space:pre-wrap>'Inter-quartile range:  5446.870709'</span>"
      ],
      "text/latex": [
       "'Inter-quartile range:  5446.870709'"
      ],
      "text/markdown": [
       "<span style=white-space:pre-wrap>'Inter-quartile range:  5446.870709'</span>"
      ],
      "text/plain": [
       "[1] \"Inter-quartile range:  5446.870709\""
      ]
     },
     "metadata": {},
     "output_type": "display_data"
    },
    {
     "data": {
      "text/html": [
       "<span style=white-space:pre-wrap>'Range:  119171.06045'</span>"
      ],
      "text/latex": [
       "'Range:  119171.06045'"
      ],
      "text/markdown": [
       "<span style=white-space:pre-wrap>'Range:  119171.06045'</span>"
      ],
      "text/plain": [
       "[1] \"Range:  119171.06045\""
      ]
     },
     "metadata": {},
     "output_type": "display_data"
    }
   ],
   "source": [
    "\"GDP\"\n",
    "print(summary(data_sub$GDP))\n",
    "paste(\"Standard Deviation: \",sd(data_sub$GDP,na.rm = TRUE))\n",
    "paste(\"Variance: \",var(data_sub$GDP,na.rm=TRUE))\n",
    "paste(\"Inter-quartile range: \",IQR(data_sub$GDP,na.rm=TRUE))\n",
    "paste(\"Range: \",max(data_sub$GDP,na.rm=TRUE)-min(data_sub$GDP,na.rm=TRUE))"
   ]
  },
  {
   "cell_type": "code",
   "execution_count": 12,
   "id": "loose-blame",
   "metadata": {},
   "outputs": [
    {
     "data": {
      "text/html": [
       "'Adult.Mortality'"
      ],
      "text/latex": [
       "'Adult.Mortality'"
      ],
      "text/markdown": [
       "'Adult.Mortality'"
      ],
      "text/plain": [
       "[1] \"Adult.Mortality\""
      ]
     },
     "metadata": {},
     "output_type": "display_data"
    },
    {
     "name": "stdout",
     "output_type": "stream",
     "text": [
      "   Min. 1st Qu.  Median    Mean 3rd Qu.    Max.    NA's \n",
      "    1.0    74.0   144.0   164.8   228.0   723.0      10 \n"
     ]
    },
    {
     "data": {
      "text/html": [
       "<span style=white-space:pre-wrap>'Standard Deviation:  124.292079003422'</span>"
      ],
      "text/latex": [
       "'Standard Deviation:  124.292079003422'"
      ],
      "text/markdown": [
       "<span style=white-space:pre-wrap>'Standard Deviation:  124.292079003422'</span>"
      ],
      "text/plain": [
       "[1] \"Standard Deviation:  124.292079003422\""
      ]
     },
     "metadata": {},
     "output_type": "display_data"
    },
    {
     "data": {
      "text/html": [
       "<span style=white-space:pre-wrap>'Variance:  15448.5209029929'</span>"
      ],
      "text/latex": [
       "'Variance:  15448.5209029929'"
      ],
      "text/markdown": [
       "<span style=white-space:pre-wrap>'Variance:  15448.5209029929'</span>"
      ],
      "text/plain": [
       "[1] \"Variance:  15448.5209029929\""
      ]
     },
     "metadata": {},
     "output_type": "display_data"
    },
    {
     "data": {
      "text/html": [
       "<span style=white-space:pre-wrap>'Inter-quartile range:  154'</span>"
      ],
      "text/latex": [
       "'Inter-quartile range:  154'"
      ],
      "text/markdown": [
       "<span style=white-space:pre-wrap>'Inter-quartile range:  154'</span>"
      ],
      "text/plain": [
       "[1] \"Inter-quartile range:  154\""
      ]
     },
     "metadata": {},
     "output_type": "display_data"
    },
    {
     "data": {
      "text/html": [
       "<span style=white-space:pre-wrap>'Range:  722'</span>"
      ],
      "text/latex": [
       "'Range:  722'"
      ],
      "text/markdown": [
       "<span style=white-space:pre-wrap>'Range:  722'</span>"
      ],
      "text/plain": [
       "[1] \"Range:  722\""
      ]
     },
     "metadata": {},
     "output_type": "display_data"
    }
   ],
   "source": [
    "\"Adult.Mortality\"\n",
    "print(summary(data_sub$Adult.Mortality))\n",
    "paste(\"Standard Deviation: \",sd(data_sub$Adult.Mortality,na.rm = TRUE))\n",
    "paste(\"Variance: \",var(data_sub$Adult.Mortality,na.rm=TRUE))\n",
    "paste(\"Inter-quartile range: \",IQR(data_sub$Adult.Mortality,na.rm=TRUE))\n",
    "paste(\"Range: \",max(data_sub$Adult.Mortality,na.rm=TRUE)-min(data_sub$Adult.Mortality,na.rm=TRUE))"
   ]
  },
  {
   "cell_type": "code",
   "execution_count": 13,
   "id": "hairy-monitoring",
   "metadata": {},
   "outputs": [
    {
     "data": {
      "text/html": [
       "'Measles'"
      ],
      "text/latex": [
       "'Measles'"
      ],
      "text/markdown": [
       "'Measles'"
      ],
      "text/plain": [
       "[1] \"Measles\""
      ]
     },
     "metadata": {},
     "output_type": "display_data"
    },
    {
     "name": "stdout",
     "output_type": "stream",
     "text": [
      "    Min.  1st Qu.   Median     Mean  3rd Qu.     Max. \n",
      "     0.0      0.0     17.0   2419.6    360.2 212183.0 \n"
     ]
    },
    {
     "data": {
      "text/html": [
       "<span style=white-space:pre-wrap>'Standard Deviation:  11467.2724892346'</span>"
      ],
      "text/latex": [
       "'Standard Deviation:  11467.2724892346'"
      ],
      "text/markdown": [
       "<span style=white-space:pre-wrap>'Standard Deviation:  11467.2724892346'</span>"
      ],
      "text/plain": [
       "[1] \"Standard Deviation:  11467.2724892346\""
      ]
     },
     "metadata": {},
     "output_type": "display_data"
    },
    {
     "data": {
      "text/html": [
       "<span style=white-space:pre-wrap>'Variance:  131498338.342357'</span>"
      ],
      "text/latex": [
       "'Variance:  131498338.342357'"
      ],
      "text/markdown": [
       "<span style=white-space:pre-wrap>'Variance:  131498338.342357'</span>"
      ],
      "text/plain": [
       "[1] \"Variance:  131498338.342357\""
      ]
     },
     "metadata": {},
     "output_type": "display_data"
    },
    {
     "data": {
      "text/html": [
       "<span style=white-space:pre-wrap>'Inter-quartile range:  360.25'</span>"
      ],
      "text/latex": [
       "'Inter-quartile range:  360.25'"
      ],
      "text/markdown": [
       "<span style=white-space:pre-wrap>'Inter-quartile range:  360.25'</span>"
      ],
      "text/plain": [
       "[1] \"Inter-quartile range:  360.25\""
      ]
     },
     "metadata": {},
     "output_type": "display_data"
    },
    {
     "data": {
      "text/html": [
       "<span style=white-space:pre-wrap>'Range:  212183'</span>"
      ],
      "text/latex": [
       "'Range:  212183'"
      ],
      "text/markdown": [
       "<span style=white-space:pre-wrap>'Range:  212183'</span>"
      ],
      "text/plain": [
       "[1] \"Range:  212183\""
      ]
     },
     "metadata": {},
     "output_type": "display_data"
    }
   ],
   "source": [
    "\"Measles\"\n",
    "print(summary(data_sub$Measles))\n",
    "paste(\"Standard Deviation: \",sd(data_sub$Measles,na.rm = TRUE))\n",
    "paste(\"Variance: \",var(data_sub$Measles,na.rm=TRUE))\n",
    "paste(\"Inter-quartile range: \",IQR(data_sub$Measles,na.rm=TRUE))\n",
    "paste(\"Range: \",max(data_sub$Measles,na.rm=TRUE)-min(data_sub$Measles,na.rm=TRUE))"
   ]
  },
  {
   "cell_type": "markdown",
   "id": "endangered-quantum",
   "metadata": {},
   "source": [
    "#### For more descriptive statistics, we can use stat.desc() from the package {pastecs}"
   ]
  },
  {
   "cell_type": "code",
   "execution_count": 14,
   "id": "instant-catholic",
   "metadata": {},
   "outputs": [
    {
     "data": {
      "text/html": [
       "<table>\n",
       "<thead><tr><th></th><th scope=col>Country</th><th scope=col>Year</th><th scope=col>Status</th><th scope=col>Life.expectancy</th><th scope=col>Adult.Mortality</th><th scope=col>infant.deaths</th><th scope=col>Alcohol</th><th scope=col>percentage.expenditure</th><th scope=col>Hepatitis.B</th><th scope=col>Measles</th><th scope=col>GDP</th><th scope=col>BMI</th></tr></thead>\n",
       "<tbody>\n",
       "\t<tr><th scope=row>nbr.val</th><td>NA          </td><td>2.938000e+03</td><td>NA          </td><td>2.928000e+03</td><td>2.928000e+03</td><td> 2938.000000</td><td>2.744000e+03</td><td>2.938000e+03</td><td>2.385000e+03</td><td>2.938000e+03</td><td>2.490000e+03</td><td>2.904000e+03</td></tr>\n",
       "\t<tr><th scope=row>nbr.null</th><td>NA          </td><td>0.000000e+00</td><td>NA          </td><td>0.000000e+00</td><td>0.000000e+00</td><td>  848.000000</td><td>0.000000e+00</td><td>6.110000e+02</td><td>0.000000e+00</td><td>9.830000e+02</td><td>0.000000e+00</td><td>0.000000e+00</td></tr>\n",
       "\t<tr><th scope=row>nbr.na</th><td>NA          </td><td>0.000000e+00</td><td>NA          </td><td>1.000000e+01</td><td>1.000000e+01</td><td>    0.000000</td><td>1.940000e+02</td><td>0.000000e+00</td><td>5.530000e+02</td><td>0.000000e+00</td><td>4.480000e+02</td><td>3.400000e+01</td></tr>\n",
       "\t<tr><th scope=row>min</th><td>NA          </td><td>2.000000e+03</td><td>NA          </td><td>3.630000e+01</td><td>1.000000e+00</td><td>    0.000000</td><td>1.000000e-02</td><td>0.000000e+00</td><td>1.000000e+00</td><td>0.000000e+00</td><td>1.681350e+00</td><td>1.000000e+00</td></tr>\n",
       "\t<tr><th scope=row>max</th><td>NA          </td><td>2.015000e+03</td><td>NA          </td><td>8.900000e+01</td><td>7.230000e+02</td><td> 1800.000000</td><td>1.787000e+01</td><td>1.947991e+04</td><td>9.900000e+01</td><td>2.121830e+05</td><td>1.191727e+05</td><td>8.730000e+01</td></tr>\n",
       "\t<tr><th scope=row>range</th><td>NA          </td><td>1.500000e+01</td><td>NA          </td><td>5.270000e+01</td><td>7.220000e+02</td><td> 1800.000000</td><td>1.786000e+01</td><td>1.947991e+04</td><td>9.800000e+01</td><td>2.121830e+05</td><td>1.191711e+05</td><td>8.630000e+01</td></tr>\n",
       "\t<tr><th scope=row>sum</th><td>NA          </td><td>5.898090e+06</td><td>NA          </td><td>2.026906e+05</td><td>4.825240e+05</td><td>89033.000000</td><td>1.263025e+04</td><td>2.168982e+06</td><td>1.930430e+05</td><td>7.108762e+06</td><td>1.863306e+07</td><td>1.112849e+05</td></tr>\n",
       "\t<tr><th scope=row>median</th><td>NA          </td><td>2.008000e+03</td><td>NA          </td><td>7.210000e+01</td><td>1.440000e+02</td><td>    3.000000</td><td>3.755000e+00</td><td>6.491291e+01</td><td>9.200000e+01</td><td>1.700000e+01</td><td>1.766948e+03</td><td>4.350000e+01</td></tr>\n",
       "\t<tr><th scope=row>mean</th><td>NA          </td><td>2.007519e+03</td><td>NA          </td><td>6.922493e+01</td><td>1.647964e+02</td><td>   30.303948</td><td>4.602861e+00</td><td>7.382513e+02</td><td>8.094046e+01</td><td>2.419592e+03</td><td>7.483158e+03</td><td>3.832125e+01</td></tr>\n",
       "\t<tr><th scope=row>SE.mean</th><td>NA          </td><td>8.512100e-02</td><td>NA          </td><td>1.760061e-01</td><td>2.296984e+00</td><td>    2.175632</td><td>7.736092e-02</td><td>3.667515e+01</td><td>5.133463e-01</td><td>2.115603e+02</td><td>2.859759e+02</td><td>3.719519e-01</td></tr>\n",
       "\t<tr><th scope=row>CI.mean</th><td>NA          </td><td>1.669029e-01</td><td>NA          </td><td>3.451084e-01</td><td>4.503868e+00</td><td>    4.265919</td><td>1.516915e-01</td><td>7.191161e+01</td><td>1.006651e+00</td><td>4.148216e+02</td><td>5.607752e+02</td><td>7.293165e-01</td></tr>\n",
       "\t<tr><th scope=row>var</th><td>NA          </td><td>2.128753e+01</td><td>NA          </td><td>9.070405e+01</td><td>1.544852e+04</td><td>13906.659712</td><td>1.642205e+01</td><td>3.951805e+06</td><td>6.285057e+02</td><td>1.314983e+08</td><td>2.036377e+08</td><td>4.017633e+02</td></tr>\n",
       "\t<tr><th scope=row>std.dev</th><td>NA          </td><td>4.613841e+00</td><td>NA          </td><td>9.523867e+00</td><td>1.242921e+02</td><td>  117.926501</td><td>4.052413e+00</td><td>1.987915e+03</td><td>2.507002e+01</td><td>1.146727e+04</td><td>1.427017e+04</td><td>2.004403e+01</td></tr>\n",
       "\t<tr><th scope=row>coef.var</th><td>NA          </td><td>2.298280e-03</td><td>NA          </td><td>1.375786e-01</td><td>7.542158e-01</td><td>    3.891457</td><td>8.804117e-01</td><td>2.692735e+00</td><td>3.097340e-01</td><td>4.739341e+00</td><td>1.906971e+00</td><td>5.230528e-01</td></tr>\n",
       "</tbody>\n",
       "</table>\n"
      ],
      "text/latex": [
       "\\begin{tabular}{r|llllllllllll}\n",
       "  & Country & Year & Status & Life.expectancy & Adult.Mortality & infant.deaths & Alcohol & percentage.expenditure & Hepatitis.B & Measles & GDP & BMI\\\\\n",
       "\\hline\n",
       "\tnbr.val & NA           & 2.938000e+03 & NA           & 2.928000e+03 & 2.928000e+03 &  2938.000000 & 2.744000e+03 & 2.938000e+03 & 2.385000e+03 & 2.938000e+03 & 2.490000e+03 & 2.904000e+03\\\\\n",
       "\tnbr.null & NA           & 0.000000e+00 & NA           & 0.000000e+00 & 0.000000e+00 &   848.000000 & 0.000000e+00 & 6.110000e+02 & 0.000000e+00 & 9.830000e+02 & 0.000000e+00 & 0.000000e+00\\\\\n",
       "\tnbr.na & NA           & 0.000000e+00 & NA           & 1.000000e+01 & 1.000000e+01 &     0.000000 & 1.940000e+02 & 0.000000e+00 & 5.530000e+02 & 0.000000e+00 & 4.480000e+02 & 3.400000e+01\\\\\n",
       "\tmin & NA           & 2.000000e+03 & NA           & 3.630000e+01 & 1.000000e+00 &     0.000000 & 1.000000e-02 & 0.000000e+00 & 1.000000e+00 & 0.000000e+00 & 1.681350e+00 & 1.000000e+00\\\\\n",
       "\tmax & NA           & 2.015000e+03 & NA           & 8.900000e+01 & 7.230000e+02 &  1800.000000 & 1.787000e+01 & 1.947991e+04 & 9.900000e+01 & 2.121830e+05 & 1.191727e+05 & 8.730000e+01\\\\\n",
       "\trange & NA           & 1.500000e+01 & NA           & 5.270000e+01 & 7.220000e+02 &  1800.000000 & 1.786000e+01 & 1.947991e+04 & 9.800000e+01 & 2.121830e+05 & 1.191711e+05 & 8.630000e+01\\\\\n",
       "\tsum & NA           & 5.898090e+06 & NA           & 2.026906e+05 & 4.825240e+05 & 89033.000000 & 1.263025e+04 & 2.168982e+06 & 1.930430e+05 & 7.108762e+06 & 1.863306e+07 & 1.112849e+05\\\\\n",
       "\tmedian & NA           & 2.008000e+03 & NA           & 7.210000e+01 & 1.440000e+02 &     3.000000 & 3.755000e+00 & 6.491291e+01 & 9.200000e+01 & 1.700000e+01 & 1.766948e+03 & 4.350000e+01\\\\\n",
       "\tmean & NA           & 2.007519e+03 & NA           & 6.922493e+01 & 1.647964e+02 &    30.303948 & 4.602861e+00 & 7.382513e+02 & 8.094046e+01 & 2.419592e+03 & 7.483158e+03 & 3.832125e+01\\\\\n",
       "\tSE.mean & NA           & 8.512100e-02 & NA           & 1.760061e-01 & 2.296984e+00 &     2.175632 & 7.736092e-02 & 3.667515e+01 & 5.133463e-01 & 2.115603e+02 & 2.859759e+02 & 3.719519e-01\\\\\n",
       "\tCI.mean & NA           & 1.669029e-01 & NA           & 3.451084e-01 & 4.503868e+00 &     4.265919 & 1.516915e-01 & 7.191161e+01 & 1.006651e+00 & 4.148216e+02 & 5.607752e+02 & 7.293165e-01\\\\\n",
       "\tvar & NA           & 2.128753e+01 & NA           & 9.070405e+01 & 1.544852e+04 & 13906.659712 & 1.642205e+01 & 3.951805e+06 & 6.285057e+02 & 1.314983e+08 & 2.036377e+08 & 4.017633e+02\\\\\n",
       "\tstd.dev & NA           & 4.613841e+00 & NA           & 9.523867e+00 & 1.242921e+02 &   117.926501 & 4.052413e+00 & 1.987915e+03 & 2.507002e+01 & 1.146727e+04 & 1.427017e+04 & 2.004403e+01\\\\\n",
       "\tcoef.var & NA           & 2.298280e-03 & NA           & 1.375786e-01 & 7.542158e-01 &     3.891457 & 8.804117e-01 & 2.692735e+00 & 3.097340e-01 & 4.739341e+00 & 1.906971e+00 & 5.230528e-01\\\\\n",
       "\\end{tabular}\n"
      ],
      "text/markdown": [
       "\n",
       "| <!--/--> | Country | Year | Status | Life.expectancy | Adult.Mortality | infant.deaths | Alcohol | percentage.expenditure | Hepatitis.B | Measles | GDP | BMI |\n",
       "|---|---|---|---|---|---|---|---|---|---|---|---|---|\n",
       "| nbr.val | NA           | 2.938000e+03 | NA           | 2.928000e+03 | 2.928000e+03 |  2938.000000 | 2.744000e+03 | 2.938000e+03 | 2.385000e+03 | 2.938000e+03 | 2.490000e+03 | 2.904000e+03 |\n",
       "| nbr.null | NA           | 0.000000e+00 | NA           | 0.000000e+00 | 0.000000e+00 |   848.000000 | 0.000000e+00 | 6.110000e+02 | 0.000000e+00 | 9.830000e+02 | 0.000000e+00 | 0.000000e+00 |\n",
       "| nbr.na | NA           | 0.000000e+00 | NA           | 1.000000e+01 | 1.000000e+01 |     0.000000 | 1.940000e+02 | 0.000000e+00 | 5.530000e+02 | 0.000000e+00 | 4.480000e+02 | 3.400000e+01 |\n",
       "| min | NA           | 2.000000e+03 | NA           | 3.630000e+01 | 1.000000e+00 |     0.000000 | 1.000000e-02 | 0.000000e+00 | 1.000000e+00 | 0.000000e+00 | 1.681350e+00 | 1.000000e+00 |\n",
       "| max | NA           | 2.015000e+03 | NA           | 8.900000e+01 | 7.230000e+02 |  1800.000000 | 1.787000e+01 | 1.947991e+04 | 9.900000e+01 | 2.121830e+05 | 1.191727e+05 | 8.730000e+01 |\n",
       "| range | NA           | 1.500000e+01 | NA           | 5.270000e+01 | 7.220000e+02 |  1800.000000 | 1.786000e+01 | 1.947991e+04 | 9.800000e+01 | 2.121830e+05 | 1.191711e+05 | 8.630000e+01 |\n",
       "| sum | NA           | 5.898090e+06 | NA           | 2.026906e+05 | 4.825240e+05 | 89033.000000 | 1.263025e+04 | 2.168982e+06 | 1.930430e+05 | 7.108762e+06 | 1.863306e+07 | 1.112849e+05 |\n",
       "| median | NA           | 2.008000e+03 | NA           | 7.210000e+01 | 1.440000e+02 |     3.000000 | 3.755000e+00 | 6.491291e+01 | 9.200000e+01 | 1.700000e+01 | 1.766948e+03 | 4.350000e+01 |\n",
       "| mean | NA           | 2.007519e+03 | NA           | 6.922493e+01 | 1.647964e+02 |    30.303948 | 4.602861e+00 | 7.382513e+02 | 8.094046e+01 | 2.419592e+03 | 7.483158e+03 | 3.832125e+01 |\n",
       "| SE.mean | NA           | 8.512100e-02 | NA           | 1.760061e-01 | 2.296984e+00 |     2.175632 | 7.736092e-02 | 3.667515e+01 | 5.133463e-01 | 2.115603e+02 | 2.859759e+02 | 3.719519e-01 |\n",
       "| CI.mean | NA           | 1.669029e-01 | NA           | 3.451084e-01 | 4.503868e+00 |     4.265919 | 1.516915e-01 | 7.191161e+01 | 1.006651e+00 | 4.148216e+02 | 5.607752e+02 | 7.293165e-01 |\n",
       "| var | NA           | 2.128753e+01 | NA           | 9.070405e+01 | 1.544852e+04 | 13906.659712 | 1.642205e+01 | 3.951805e+06 | 6.285057e+02 | 1.314983e+08 | 2.036377e+08 | 4.017633e+02 |\n",
       "| std.dev | NA           | 4.613841e+00 | NA           | 9.523867e+00 | 1.242921e+02 |   117.926501 | 4.052413e+00 | 1.987915e+03 | 2.507002e+01 | 1.146727e+04 | 1.427017e+04 | 2.004403e+01 |\n",
       "| coef.var | NA           | 2.298280e-03 | NA           | 1.375786e-01 | 7.542158e-01 |     3.891457 | 8.804117e-01 | 2.692735e+00 | 3.097340e-01 | 4.739341e+00 | 1.906971e+00 | 5.230528e-01 |\n",
       "\n"
      ],
      "text/plain": [
       "         Country Year         Status Life.expectancy Adult.Mortality\n",
       "nbr.val  NA      2.938000e+03 NA     2.928000e+03    2.928000e+03   \n",
       "nbr.null NA      0.000000e+00 NA     0.000000e+00    0.000000e+00   \n",
       "nbr.na   NA      0.000000e+00 NA     1.000000e+01    1.000000e+01   \n",
       "min      NA      2.000000e+03 NA     3.630000e+01    1.000000e+00   \n",
       "max      NA      2.015000e+03 NA     8.900000e+01    7.230000e+02   \n",
       "range    NA      1.500000e+01 NA     5.270000e+01    7.220000e+02   \n",
       "sum      NA      5.898090e+06 NA     2.026906e+05    4.825240e+05   \n",
       "median   NA      2.008000e+03 NA     7.210000e+01    1.440000e+02   \n",
       "mean     NA      2.007519e+03 NA     6.922493e+01    1.647964e+02   \n",
       "SE.mean  NA      8.512100e-02 NA     1.760061e-01    2.296984e+00   \n",
       "CI.mean  NA      1.669029e-01 NA     3.451084e-01    4.503868e+00   \n",
       "var      NA      2.128753e+01 NA     9.070405e+01    1.544852e+04   \n",
       "std.dev  NA      4.613841e+00 NA     9.523867e+00    1.242921e+02   \n",
       "coef.var NA      2.298280e-03 NA     1.375786e-01    7.542158e-01   \n",
       "         infant.deaths Alcohol      percentage.expenditure Hepatitis.B \n",
       "nbr.val   2938.000000  2.744000e+03 2.938000e+03           2.385000e+03\n",
       "nbr.null   848.000000  0.000000e+00 6.110000e+02           0.000000e+00\n",
       "nbr.na       0.000000  1.940000e+02 0.000000e+00           5.530000e+02\n",
       "min          0.000000  1.000000e-02 0.000000e+00           1.000000e+00\n",
       "max       1800.000000  1.787000e+01 1.947991e+04           9.900000e+01\n",
       "range     1800.000000  1.786000e+01 1.947991e+04           9.800000e+01\n",
       "sum      89033.000000  1.263025e+04 2.168982e+06           1.930430e+05\n",
       "median       3.000000  3.755000e+00 6.491291e+01           9.200000e+01\n",
       "mean        30.303948  4.602861e+00 7.382513e+02           8.094046e+01\n",
       "SE.mean      2.175632  7.736092e-02 3.667515e+01           5.133463e-01\n",
       "CI.mean      4.265919  1.516915e-01 7.191161e+01           1.006651e+00\n",
       "var      13906.659712  1.642205e+01 3.951805e+06           6.285057e+02\n",
       "std.dev    117.926501  4.052413e+00 1.987915e+03           2.507002e+01\n",
       "coef.var     3.891457  8.804117e-01 2.692735e+00           3.097340e-01\n",
       "         Measles      GDP          BMI         \n",
       "nbr.val  2.938000e+03 2.490000e+03 2.904000e+03\n",
       "nbr.null 9.830000e+02 0.000000e+00 0.000000e+00\n",
       "nbr.na   0.000000e+00 4.480000e+02 3.400000e+01\n",
       "min      0.000000e+00 1.681350e+00 1.000000e+00\n",
       "max      2.121830e+05 1.191727e+05 8.730000e+01\n",
       "range    2.121830e+05 1.191711e+05 8.630000e+01\n",
       "sum      7.108762e+06 1.863306e+07 1.112849e+05\n",
       "median   1.700000e+01 1.766948e+03 4.350000e+01\n",
       "mean     2.419592e+03 7.483158e+03 3.832125e+01\n",
       "SE.mean  2.115603e+02 2.859759e+02 3.719519e-01\n",
       "CI.mean  4.148216e+02 5.607752e+02 7.293165e-01\n",
       "var      1.314983e+08 2.036377e+08 4.017633e+02\n",
       "std.dev  1.146727e+04 1.427017e+04 2.004403e+01\n",
       "coef.var 4.739341e+00 1.906971e+00 5.230528e-01"
      ]
     },
     "metadata": {},
     "output_type": "display_data"
    }
   ],
   "source": [
    "#Install package if not already installed\n",
    "#install.packages(\"pastecs\")\n",
    "#Importing pastecs package\n",
    "library(pastecs)\n",
    "#Printing the detailed descriptive statistics\n",
    "stat.desc(data_sub)"
   ]
  },
  {
   "cell_type": "markdown",
   "id": "imperial-ownership",
   "metadata": {},
   "source": [
    "### Task 1.4: Find outliers in data (if any present)\n",
    "Boxplots are really useful in descriptive statistics. A boxplot graphically represents the\n",
    "distribution of a quantitative variable by visually displaying five common location summary\n",
    "(minimum, median, first/third quartiles and maximum) and any observation that was classified as\n",
    "a suspected outlier using the interquartile range (IQR) criterion.\n",
    "The IQR Criterion utilizes the Interquartile range, First Quartile and Third Quartile values to find\n",
    "out the outliers. All observations 1.5 IQR above Third quartile and 1.5 IQR below First Quartile are\n",
    "considered outliers.\n"
   ]
  },
  {
   "cell_type": "code",
   "execution_count": 15,
   "id": "timely-sailing",
   "metadata": {},
   "outputs": [
    {
     "data": {
      "image/png": "[encoded data removed]",
      "text/plain": [
       "plot without title"
      ]
     },
     "metadata": {},
     "output_type": "display_data"
    }
   ],
   "source": [
    "#Generating boxplot for data to find out outliers\n",
    "boxplot(data_sub$Life.expectancy,xlab = \"Life.expectancy\")"
   ]
  },
  {
   "cell_type": "code",
   "execution_count": 16,
   "id": "phantom-nicaragua",
   "metadata": {},
   "outputs": [
    {
     "data": {
      "image/png": "[encoded data removed]",
      "text/plain": [
       "plot without title"
      ]
     },
     "metadata": {},
     "output_type": "display_data"
    }
   ],
   "source": [
    "boxplot(data_sub$Adult.Mortality,xlab = \"Adult.Mortality\")"
   ]
  },
  {
   "cell_type": "code",
   "execution_count": 17,
   "id": "spatial-trustee",
   "metadata": {},
   "outputs": [
    {
     "data": {
      "image/png": "[encoded data removed]",
      "text/plain": [
       "plot without title"
      ]
     },
     "metadata": {},
     "output_type": "display_data"
    }
   ],
   "source": [
    "boxplot(data_sub$infant.deaths,xlab = \"Infant Deaths\")"
   ]
  },
  {
   "cell_type": "code",
   "execution_count": 18,
   "id": "italic-skiing",
   "metadata": {},
   "outputs": [
    {
     "data": {
      "image/png": "[encoded data removed]",
      "text/plain": [
       "plot without title"
      ]
     },
     "metadata": {},
     "output_type": "display_data"
    }
   ],
   "source": [
    "boxplot(data_sub$percentage.expenditure,xlab = \"Percentage Expenditure\")"
   ]
  },
  {
   "cell_type": "markdown",
   "id": "complimentary-intent",
   "metadata": {},
   "source": [
    "From the above boxplots, we can see that the attributes \"percentage.expenditure\" and \"infant.deaths\" have some outliers. Since the binary variables have values either 0 or 1, there is no need to detect\n",
    "outliers in the binary attributes"
   ]
  },
  {
   "cell_type": "code",
   "execution_count": 19,
   "id": "documentary-classics",
   "metadata": {},
   "outputs": [
    {
     "data": {
      "text/plain": [
       "     Min.   1st Qu.    Median      Mean   3rd Qu.      Max. \n",
       "    0.000     4.685    64.913   738.251   441.534 19479.912 "
      ]
     },
     "metadata": {},
     "output_type": "display_data"
    },
    {
     "data": {
      "text/plain": [
       "   Min. 1st Qu.  Median    Mean 3rd Qu.    Max. \n",
       "    0.0     0.0     3.0    30.3    22.0  1800.0 "
      ]
     },
     "metadata": {},
     "output_type": "display_data"
    }
   ],
   "source": [
    "summary(data_sub$percentage.expenditure)\n",
    "summary(data_sub$infant.deaths)"
   ]
  },
  {
   "cell_type": "code",
   "execution_count": 20,
   "id": "differential-christianity",
   "metadata": {},
   "outputs": [],
   "source": [
    "#Removing the outliers from the dataset\n",
    "IQR_EF = IQR(data_sub$percentage.expenditure)\n",
    "UL_EF = 441.534 + 1.5*IQR_EF #Upper Limit\n",
    "LL_EF = 4.685 - 1.5*IQR_EF #Lower Limit\n",
    "IQR_P = IQR(data_sub$infant.deaths)\n",
    "UL_P = 22.0  + 1.5*IQR_P #Upper Limit\n",
    "LL_P = 0.0 - 1.5*IQR_P #Lower Limit"
   ]
  },
  {
   "cell_type": "code",
   "execution_count": 21,
   "id": "special-bracket",
   "metadata": {},
   "outputs": [],
   "source": [
    "data_clean <- subset(data_sub,((percentage.expenditure > LL_EF) & (percentage.expenditure < UL_EF)& (infant.deaths > LL_P) & (infant.deaths < UL_P) ))"
   ]
  },
  {
   "cell_type": "code",
   "execution_count": 22,
   "id": "copyrighted-report",
   "metadata": {},
   "outputs": [
    {
     "data": {
      "text/html": [
       "<span style=white-space:pre-wrap>'No. of outliers removed =  715'</span>"
      ],
      "text/latex": [
       "'No. of outliers removed =  715'"
      ],
      "text/markdown": [
       "<span style=white-space:pre-wrap>'No. of outliers removed =  715'</span>"
      ],
      "text/plain": [
       "[1] \"No. of outliers removed =  715\""
      ]
     },
     "metadata": {},
     "output_type": "display_data"
    }
   ],
   "source": [
    "paste(\"No. of outliers removed = \",nrow(data_sub) - nrow(data_clean))"
   ]
  },
  {
   "cell_type": "markdown",
   "id": "latest-confidentiality",
   "metadata": {},
   "source": [
    "Hence, we removed the 715 outliers from our data.\n",
    "### Task 1.5: Perform correlation and regression analysis on the data\n",
    "1.5.1: Draw scatter plots for the dependent variable with respect to all independent\n",
    "variables.\n",
    "Here, we are considering the 'Life Expectancy' as the dependent variable and all other attributes as\n",
    "independent variables.\n"
   ]
  },
  {
   "cell_type": "code",
   "execution_count": 20,
   "id": "limited-rebound",
   "metadata": {},
   "outputs": [
    {
     "data": {
      "image/png": "[encoded data removed]",
      "text/plain": [
       "Plot with title \"Adult Mortality v/s Life Expectancy\""
      ]
     },
     "metadata": {},
     "output_type": "display_data"
    }
   ],
   "source": [
    "#Adult Mortality v/s Life Expectancy\n",
    "plot((data_sub$Life.expectancy),(data_sub$Adult.Mortality),xlab=\"Life Expectancy\",ylab=\"Adult.Mortality\",main = \"Adult Mortality v/s Life Expectancy\")"
   ]
  },
  {
   "cell_type": "code",
   "execution_count": 21,
   "id": "optional-peoples",
   "metadata": {},
   "outputs": [
    {
     "data": {
      "image/png": "[encoded data removed]",
      "text/plain": [
       "Plot with title \"Infant Deaths  v/s Life Expectancy\""
      ]
     },
     "metadata": {},
     "output_type": "display_data"
    }
   ],
   "source": [
    "#Infant Deaths v/s Life Expectancy\n",
    "plot((data_sub$Life.expectancy),(data_sub$infant.deaths),xlab=\"Life Expectancy\",ylab=\"infant.deaths \",main = \"Infant Deaths  v/s Life Expectancy\")"
   ]
  },
  {
   "cell_type": "markdown",
   "id": "daily-testament",
   "metadata": {},
   "source": [
    "### 1.5.2: Calculate the correlation coefficient of each variable with respect to all others, and provide output in a matrix format"
   ]
  },
  {
   "cell_type": "markdown",
   "id": "pacific-maine",
   "metadata": {},
   "source": [
    "Correlation coefficients are used to measure the strength of the relationship between two\n",
    "variables. Values always range between -1 (strong negative relationship) and +1 (strong positive\n",
    "relationship). Values at or close to zero imply weak or no linear relationship.\n",
    "### 1.5.3: Draw Linear Regression Line for combinations of dependent and independent variables"
   ]
  },
  {
   "cell_type": "code",
   "execution_count": 22,
   "id": "postal-sitting",
   "metadata": {},
   "outputs": [
    {
     "name": "stdout",
     "output_type": "stream",
     "text": [
      "\n",
      "Call:\n",
      "lm(formula = Life.expectancy ~ Adult.Mortality + infant.deaths + \n",
      "    Alcohol, data = data_clean)\n",
      "\n",
      "Residuals:\n",
      "     Min       1Q   Median       3Q      Max \n",
      "-31.1867  -2.2028   0.6688   3.4936  18.9382 \n",
      "\n",
      "Coefficients:\n",
      "                 Estimate Std. Error t value Pr(>|t|)    \n",
      "(Intercept)     75.179891   0.286739  262.19   <2e-16 ***\n",
      "Adult.Mortality -0.040359   0.001066  -37.84   <2e-16 ***\n",
      "infant.deaths   -0.162945   0.010151  -16.05   <2e-16 ***\n",
      "Alcohol          0.466861   0.035173   13.27   <2e-16 ***\n",
      "---\n",
      "Signif. codes:  0 '***' 0.001 '**' 0.01 '*' 0.05 '.' 0.1 ' ' 1\n",
      "\n",
      "Residual standard error: 5.718 on 2030 degrees of freedom\n",
      "  (189 observations deleted due to missingness)\n",
      "Multiple R-squared:  0.5805,\tAdjusted R-squared:  0.5799 \n",
      "F-statistic: 936.3 on 3 and 2030 DF,  p-value: < 2.2e-16\n",
      "\n"
     ]
    }
   ],
   "source": [
    "linear_model <- lm(Life.expectancy~Adult.Mortality+infant.deaths+Alcohol, data = data_clean)\n",
    "print(summary(linear_model))"
   ]
  },
  {
   "cell_type": "code",
   "execution_count": 32,
   "id": "approved-function",
   "metadata": {},
   "outputs": [
    {
     "name": "stderr",
     "output_type": "stream",
     "text": [
      "Warning message:\n",
      "\"In lm.fit(x, y, offset = offset, singular.ok = singular.ok, ...) :\n",
      " extra argument 'na.rm' will be disregarded\""
     ]
    },
    {
     "data": {
      "image/png": "[encoded data removed]",
      "text/plain": [
       "Plot with title \"Adult.Mortality v/s infant.deaths\""
      ]
     },
     "metadata": {},
     "output_type": "display_data"
    }
   ],
   "source": [
    "adult_inf = lm(Adult.Mortality~infant.deaths,data=data_clean,na.rm=TRUE)\n",
    "plot(data_clean$Adult.Mortality,data_clean$infant.deaths,xlab=\"Adult.Mortality\",ylab=\"infant.deaths\",main=\"Adult.Mortality v/s infant.deaths\")\n"
   ]
  },
  {
   "cell_type": "code",
   "execution_count": 36,
   "id": "quantitative-wisconsin",
   "metadata": {},
   "outputs": [
    {
     "ename": "ERROR",
     "evalue": "Error in Omit.na(data_clean): could not find function \"Omit.na\"\n",
     "output_type": "error",
     "traceback": [
      "Error in Omit.na(data_clean): could not find function \"Omit.na\"\nTraceback:\n"
     ]
    }
   ],
   "source": [
    "data_clean<-Omit.na(data_clean) \n",
    "plot(Adult.Mortality~infant.deaths, data=data_clean)\n",
    "abline(lm(Adult.Mortality~infant.deaths, data=data_clean))"
   ]
  },
  {
   "cell_type": "code",
   "execution_count": 29,
   "id": "christian-wyoming",
   "metadata": {},
   "outputs": [
    {
     "data": {
      "text/plain": [
       "\n",
       "Call:\n",
       "lm(formula = Adult.Mortality ~ infant.deaths, data = data_clean, \n",
       "    na.rm = TRUE)\n",
       "\n",
       "Residuals:\n",
       "    Min      1Q  Median      3Q     Max \n",
       "-262.76  -76.13   -7.61   57.61  552.26 \n",
       "\n",
       "Coefficients:\n",
       "              Estimate Std. Error t value Pr(>|t|)    \n",
       "(Intercept)   141.1287     3.0689   45.99   <2e-16 ***\n",
       "infant.deaths   2.8044     0.1825   15.37   <2e-16 ***\n",
       "---\n",
       "Signif. codes:  0 '***' 0.001 '**' 0.01 '*' 0.05 '.' 0.1 ' ' 1\n",
       "\n",
       "Residual standard error: 117.5 on 2211 degrees of freedom\n",
       "  (10 observations deleted due to missingness)\n",
       "Multiple R-squared:  0.09651,\tAdjusted R-squared:  0.0961 \n",
       "F-statistic: 236.2 on 1 and 2211 DF,  p-value: < 2.2e-16\n"
      ]
     },
     "metadata": {},
     "output_type": "display_data"
    }
   ],
   "source": [
    "summary (adult_inf)"
   ]
  },
  {
   "cell_type": "markdown",
   "id": "worth-genre",
   "metadata": {},
   "source": [
    "#### So For better visualization take another dataset \n",
    "#### The dataset being used in the following notebook is the Heart Failure Prediction Dataset by Larxel downloaded from Kaggle.\n"
   ]
  },
  {
   "cell_type": "code",
   "execution_count": 24,
   "id": "opening-atlanta",
   "metadata": {},
   "outputs": [
    {
     "data": {
      "text/html": [
       "<table>\n",
       "<thead><tr><th scope=col>age</th><th scope=col>anaemia</th><th scope=col>creatinine_phosphokinase</th><th scope=col>diabetes</th><th scope=col>ejection_fraction</th><th scope=col>high_blood_pressure</th><th scope=col>platelets</th><th scope=col>serum_creatinine</th><th scope=col>serum_sodium</th><th scope=col>sex</th><th scope=col>smoking</th><th scope=col>time</th><th scope=col>DEATH_EVENT</th></tr></thead>\n",
       "<tbody>\n",
       "\t<tr><td>75    </td><td>0     </td><td> 582  </td><td>0     </td><td>20    </td><td>1     </td><td>265000</td><td>1.9   </td><td>130   </td><td>1     </td><td>0     </td><td>4     </td><td>1     </td></tr>\n",
       "\t<tr><td>55    </td><td>0     </td><td>7861  </td><td>0     </td><td>38    </td><td>0     </td><td>263358</td><td>1.1   </td><td>136   </td><td>1     </td><td>0     </td><td>6     </td><td>1     </td></tr>\n",
       "\t<tr><td>65    </td><td>0     </td><td> 146  </td><td>0     </td><td>20    </td><td>0     </td><td>162000</td><td>1.3   </td><td>129   </td><td>1     </td><td>1     </td><td>7     </td><td>1     </td></tr>\n",
       "\t<tr><td>50    </td><td>1     </td><td> 111  </td><td>0     </td><td>20    </td><td>0     </td><td>210000</td><td>1.9   </td><td>137   </td><td>1     </td><td>0     </td><td>7     </td><td>1     </td></tr>\n",
       "\t<tr><td>65    </td><td>1     </td><td> 160  </td><td>1     </td><td>20    </td><td>0     </td><td>327000</td><td>2.7   </td><td>116   </td><td>0     </td><td>0     </td><td>8     </td><td>1     </td></tr>\n",
       "\t<tr><td>90    </td><td>1     </td><td>  47  </td><td>0     </td><td>40    </td><td>1     </td><td>204000</td><td>2.1   </td><td>132   </td><td>1     </td><td>1     </td><td>8     </td><td>1     </td></tr>\n",
       "</tbody>\n",
       "</table>\n"
      ],
      "text/latex": [
       "\\begin{tabular}{r|lllllllllllll}\n",
       " age & anaemia & creatinine\\_phosphokinase & diabetes & ejection\\_fraction & high\\_blood\\_pressure & platelets & serum\\_creatinine & serum\\_sodium & sex & smoking & time & DEATH\\_EVENT\\\\\n",
       "\\hline\n",
       "\t 75     & 0      &  582   & 0      & 20     & 1      & 265000 & 1.9    & 130    & 1      & 0      & 4      & 1     \\\\\n",
       "\t 55     & 0      & 7861   & 0      & 38     & 0      & 263358 & 1.1    & 136    & 1      & 0      & 6      & 1     \\\\\n",
       "\t 65     & 0      &  146   & 0      & 20     & 0      & 162000 & 1.3    & 129    & 1      & 1      & 7      & 1     \\\\\n",
       "\t 50     & 1      &  111   & 0      & 20     & 0      & 210000 & 1.9    & 137    & 1      & 0      & 7      & 1     \\\\\n",
       "\t 65     & 1      &  160   & 1      & 20     & 0      & 327000 & 2.7    & 116    & 0      & 0      & 8      & 1     \\\\\n",
       "\t 90     & 1      &   47   & 0      & 40     & 1      & 204000 & 2.1    & 132    & 1      & 1      & 8      & 1     \\\\\n",
       "\\end{tabular}\n"
      ],
      "text/markdown": [
       "\n",
       "| age | anaemia | creatinine_phosphokinase | diabetes | ejection_fraction | high_blood_pressure | platelets | serum_creatinine | serum_sodium | sex | smoking | time | DEATH_EVENT |\n",
       "|---|---|---|---|---|---|---|---|---|---|---|---|---|\n",
       "| 75     | 0      |  582   | 0      | 20     | 1      | 265000 | 1.9    | 130    | 1      | 0      | 4      | 1      |\n",
       "| 55     | 0      | 7861   | 0      | 38     | 0      | 263358 | 1.1    | 136    | 1      | 0      | 6      | 1      |\n",
       "| 65     | 0      |  146   | 0      | 20     | 0      | 162000 | 1.3    | 129    | 1      | 1      | 7      | 1      |\n",
       "| 50     | 1      |  111   | 0      | 20     | 0      | 210000 | 1.9    | 137    | 1      | 0      | 7      | 1      |\n",
       "| 65     | 1      |  160   | 1      | 20     | 0      | 327000 | 2.7    | 116    | 0      | 0      | 8      | 1      |\n",
       "| 90     | 1      |   47   | 0      | 40     | 1      | 204000 | 2.1    | 132    | 1      | 1      | 8      | 1      |\n",
       "\n"
      ],
      "text/plain": [
       "  age anaemia creatinine_phosphokinase diabetes ejection_fraction\n",
       "1 75  0        582                     0        20               \n",
       "2 55  0       7861                     0        38               \n",
       "3 65  0        146                     0        20               \n",
       "4 50  1        111                     0        20               \n",
       "5 65  1        160                     1        20               \n",
       "6 90  1         47                     0        40               \n",
       "  high_blood_pressure platelets serum_creatinine serum_sodium sex smoking time\n",
       "1 1                   265000    1.9              130          1   0       4   \n",
       "2 0                   263358    1.1              136          1   0       6   \n",
       "3 0                   162000    1.3              129          1   1       7   \n",
       "4 0                   210000    1.9              137          1   0       7   \n",
       "5 0                   327000    2.7              116          0   0       8   \n",
       "6 1                   204000    2.1              132          1   1       8   \n",
       "  DEATH_EVENT\n",
       "1 1          \n",
       "2 1          \n",
       "3 1          \n",
       "4 1          \n",
       "5 1          \n",
       "6 1          "
      ]
     },
     "metadata": {},
     "output_type": "display_data"
    }
   ],
   "source": [
    "data <- read.csv(\"heart_failure_clinical_records_dataset.csv\")\n",
    "head(data)\n",
    "\n"
   ]
  },
  {
   "cell_type": "code",
   "execution_count": 25,
   "id": "incomplete-antigua",
   "metadata": {},
   "outputs": [
    {
     "data": {
      "text/html": [
       "<table>\n",
       "<thead><tr><th scope=col>age</th><th scope=col>anaemia</th><th scope=col>diabetes</th><th scope=col>ejection_fraction</th><th scope=col>high_blood_pressure</th><th scope=col>platelets</th><th scope=col>sex</th><th scope=col>smoking</th><th scope=col>time</th></tr></thead>\n",
       "<tbody>\n",
       "\t<tr><td>75    </td><td>0     </td><td>0     </td><td>20    </td><td>1     </td><td>265000</td><td>1     </td><td>0     </td><td>4     </td></tr>\n",
       "\t<tr><td>55    </td><td>0     </td><td>0     </td><td>38    </td><td>0     </td><td>263358</td><td>1     </td><td>0     </td><td>6     </td></tr>\n",
       "\t<tr><td>65    </td><td>0     </td><td>0     </td><td>20    </td><td>0     </td><td>162000</td><td>1     </td><td>1     </td><td>7     </td></tr>\n",
       "\t<tr><td>50    </td><td>1     </td><td>0     </td><td>20    </td><td>0     </td><td>210000</td><td>1     </td><td>0     </td><td>7     </td></tr>\n",
       "\t<tr><td>65    </td><td>1     </td><td>1     </td><td>20    </td><td>0     </td><td>327000</td><td>0     </td><td>0     </td><td>8     </td></tr>\n",
       "\t<tr><td>90    </td><td>1     </td><td>0     </td><td>40    </td><td>1     </td><td>204000</td><td>1     </td><td>1     </td><td>8     </td></tr>\n",
       "</tbody>\n",
       "</table>\n"
      ],
      "text/latex": [
       "\\begin{tabular}{r|lllllllll}\n",
       " age & anaemia & diabetes & ejection\\_fraction & high\\_blood\\_pressure & platelets & sex & smoking & time\\\\\n",
       "\\hline\n",
       "\t 75     & 0      & 0      & 20     & 1      & 265000 & 1      & 0      & 4     \\\\\n",
       "\t 55     & 0      & 0      & 38     & 0      & 263358 & 1      & 0      & 6     \\\\\n",
       "\t 65     & 0      & 0      & 20     & 0      & 162000 & 1      & 1      & 7     \\\\\n",
       "\t 50     & 1      & 0      & 20     & 0      & 210000 & 1      & 0      & 7     \\\\\n",
       "\t 65     & 1      & 1      & 20     & 0      & 327000 & 0      & 0      & 8     \\\\\n",
       "\t 90     & 1      & 0      & 40     & 1      & 204000 & 1      & 1      & 8     \\\\\n",
       "\\end{tabular}\n"
      ],
      "text/markdown": [
       "\n",
       "| age | anaemia | diabetes | ejection_fraction | high_blood_pressure | platelets | sex | smoking | time |\n",
       "|---|---|---|---|---|---|---|---|---|\n",
       "| 75     | 0      | 0      | 20     | 1      | 265000 | 1      | 0      | 4      |\n",
       "| 55     | 0      | 0      | 38     | 0      | 263358 | 1      | 0      | 6      |\n",
       "| 65     | 0      | 0      | 20     | 0      | 162000 | 1      | 1      | 7      |\n",
       "| 50     | 1      | 0      | 20     | 0      | 210000 | 1      | 0      | 7      |\n",
       "| 65     | 1      | 1      | 20     | 0      | 327000 | 0      | 0      | 8      |\n",
       "| 90     | 1      | 0      | 40     | 1      | 204000 | 1      | 1      | 8      |\n",
       "\n"
      ],
      "text/plain": [
       "  age anaemia diabetes ejection_fraction high_blood_pressure platelets sex\n",
       "1 75  0       0        20                1                   265000    1  \n",
       "2 55  0       0        38                0                   263358    1  \n",
       "3 65  0       0        20                0                   162000    1  \n",
       "4 50  1       0        20                0                   210000    1  \n",
       "5 65  1       1        20                0                   327000    0  \n",
       "6 90  1       0        40                1                   204000    1  \n",
       "  smoking time\n",
       "1 0       4   \n",
       "2 0       6   \n",
       "3 1       7   \n",
       "4 0       7   \n",
       "5 0       8   \n",
       "6 1       8   "
      ]
     },
     "metadata": {},
     "output_type": "display_data"
    }
   ],
   "source": [
    "sub_attr <- c(\"age\",\"anaemia\",\"diabetes\",\"ejection_fraction\",\"high_blood_pressure\",\"platelets\", \"sex\", \"smoking\" ,\"time\")\n",
    "#Subset from dataset\n",
    "data_sub <- data[sub_attr]\n",
    "#Preview of new data\n",
    "head(data_sub)"
   ]
  },
  {
   "cell_type": "code",
   "execution_count": 26,
   "id": "nearby-paris",
   "metadata": {},
   "outputs": [
    {
     "data": {
      "text/html": [
       "<table>\n",
       "<thead><tr><th></th><th scope=col>age</th><th scope=col>anaemia</th><th scope=col>diabetes</th><th scope=col>ejection_fraction</th><th scope=col>high_blood_pressure</th><th scope=col>platelets</th><th scope=col>sex</th><th scope=col>smoking</th><th scope=col>time</th></tr></thead>\n",
       "<tbody>\n",
       "\t<tr><th scope=row>age</th><td> 1.00000000</td><td> 0.08800644</td><td>-0.10101239</td><td> 0.06009836</td><td> 0.09328868</td><td>-0.05235437</td><td> 0.06542952</td><td> 0.01866787</td><td>-0.22406842</td></tr>\n",
       "\t<tr><th scope=row>anaemia</th><td> 0.08800644</td><td> 1.00000000</td><td>-0.01272905</td><td> 0.03155697</td><td> 0.03818200</td><td>-0.04378555</td><td>-0.09476896</td><td>-0.10728984</td><td>-0.14141398</td></tr>\n",
       "\t<tr><th scope=row>diabetes</th><td>-0.10101239</td><td>-0.01272905</td><td> 1.00000000</td><td>-0.00485031</td><td>-0.01273238</td><td> 0.09219283</td><td>-0.15772950</td><td>-0.14717341</td><td> 0.03372551</td></tr>\n",
       "\t<tr><th scope=row>ejection_fraction</th><td> 0.06009836</td><td> 0.03155697</td><td>-0.00485031</td><td> 1.00000000</td><td> 0.02444473</td><td> 0.07217747</td><td>-0.14838597</td><td>-0.06731457</td><td> 0.04172924</td></tr>\n",
       "\t<tr><th scope=row>high_blood_pressure</th><td> 0.09328868</td><td> 0.03818200</td><td>-0.01273238</td><td> 0.02444473</td><td> 1.00000000</td><td> 0.04996348</td><td>-0.10461463</td><td>-0.05571137</td><td>-0.19643948</td></tr>\n",
       "\t<tr><th scope=row>platelets</th><td>-0.05235437</td><td>-0.04378555</td><td> 0.09219283</td><td> 0.07217747</td><td> 0.04996348</td><td> 1.00000000</td><td>-0.12512048</td><td> 0.02823445</td><td> 0.01051391</td></tr>\n",
       "\t<tr><th scope=row>sex</th><td> 0.06542952</td><td>-0.09476896</td><td>-0.15772950</td><td>-0.14838597</td><td>-0.10461463</td><td>-0.12512048</td><td> 1.00000000</td><td> 0.44589171</td><td>-0.01560822</td></tr>\n",
       "\t<tr><th scope=row>smoking</th><td> 0.01866787</td><td>-0.10728984</td><td>-0.14717341</td><td>-0.06731457</td><td>-0.05571137</td><td> 0.02823445</td><td> 0.44589171</td><td> 1.00000000</td><td>-0.02283894</td></tr>\n",
       "\t<tr><th scope=row>time</th><td>-0.22406842</td><td>-0.14141398</td><td> 0.03372551</td><td> 0.04172924</td><td>-0.19643948</td><td> 0.01051391</td><td>-0.01560822</td><td>-0.02283894</td><td> 1.00000000</td></tr>\n",
       "</tbody>\n",
       "</table>\n"
      ],
      "text/latex": [
       "\\begin{tabular}{r|lllllllll}\n",
       "  & age & anaemia & diabetes & ejection\\_fraction & high\\_blood\\_pressure & platelets & sex & smoking & time\\\\\n",
       "\\hline\n",
       "\tage &  1.00000000 &  0.08800644 & -0.10101239 &  0.06009836 &  0.09328868 & -0.05235437 &  0.06542952 &  0.01866787 & -0.22406842\\\\\n",
       "\tanaemia &  0.08800644 &  1.00000000 & -0.01272905 &  0.03155697 &  0.03818200 & -0.04378555 & -0.09476896 & -0.10728984 & -0.14141398\\\\\n",
       "\tdiabetes & -0.10101239 & -0.01272905 &  1.00000000 & -0.00485031 & -0.01273238 &  0.09219283 & -0.15772950 & -0.14717341 &  0.03372551\\\\\n",
       "\tejection\\_fraction &  0.06009836 &  0.03155697 & -0.00485031 &  1.00000000 &  0.02444473 &  0.07217747 & -0.14838597 & -0.06731457 &  0.04172924\\\\\n",
       "\thigh\\_blood\\_pressure &  0.09328868 &  0.03818200 & -0.01273238 &  0.02444473 &  1.00000000 &  0.04996348 & -0.10461463 & -0.05571137 & -0.19643948\\\\\n",
       "\tplatelets & -0.05235437 & -0.04378555 &  0.09219283 &  0.07217747 &  0.04996348 &  1.00000000 & -0.12512048 &  0.02823445 &  0.01051391\\\\\n",
       "\tsex &  0.06542952 & -0.09476896 & -0.15772950 & -0.14838597 & -0.10461463 & -0.12512048 &  1.00000000 &  0.44589171 & -0.01560822\\\\\n",
       "\tsmoking &  0.01866787 & -0.10728984 & -0.14717341 & -0.06731457 & -0.05571137 &  0.02823445 &  0.44589171 &  1.00000000 & -0.02283894\\\\\n",
       "\ttime & -0.22406842 & -0.14141398 &  0.03372551 &  0.04172924 & -0.19643948 &  0.01051391 & -0.01560822 & -0.02283894 &  1.00000000\\\\\n",
       "\\end{tabular}\n"
      ],
      "text/markdown": [
       "\n",
       "| <!--/--> | age | anaemia | diabetes | ejection_fraction | high_blood_pressure | platelets | sex | smoking | time |\n",
       "|---|---|---|---|---|---|---|---|---|---|\n",
       "| age |  1.00000000 |  0.08800644 | -0.10101239 |  0.06009836 |  0.09328868 | -0.05235437 |  0.06542952 |  0.01866787 | -0.22406842 |\n",
       "| anaemia |  0.08800644 |  1.00000000 | -0.01272905 |  0.03155697 |  0.03818200 | -0.04378555 | -0.09476896 | -0.10728984 | -0.14141398 |\n",
       "| diabetes | -0.10101239 | -0.01272905 |  1.00000000 | -0.00485031 | -0.01273238 |  0.09219283 | -0.15772950 | -0.14717341 |  0.03372551 |\n",
       "| ejection_fraction |  0.06009836 |  0.03155697 | -0.00485031 |  1.00000000 |  0.02444473 |  0.07217747 | -0.14838597 | -0.06731457 |  0.04172924 |\n",
       "| high_blood_pressure |  0.09328868 |  0.03818200 | -0.01273238 |  0.02444473 |  1.00000000 |  0.04996348 | -0.10461463 | -0.05571137 | -0.19643948 |\n",
       "| platelets | -0.05235437 | -0.04378555 |  0.09219283 |  0.07217747 |  0.04996348 |  1.00000000 | -0.12512048 |  0.02823445 |  0.01051391 |\n",
       "| sex |  0.06542952 | -0.09476896 | -0.15772950 | -0.14838597 | -0.10461463 | -0.12512048 |  1.00000000 |  0.44589171 | -0.01560822 |\n",
       "| smoking |  0.01866787 | -0.10728984 | -0.14717341 | -0.06731457 | -0.05571137 |  0.02823445 |  0.44589171 |  1.00000000 | -0.02283894 |\n",
       "| time | -0.22406842 | -0.14141398 |  0.03372551 |  0.04172924 | -0.19643948 |  0.01051391 | -0.01560822 | -0.02283894 |  1.00000000 |\n",
       "\n"
      ],
      "text/plain": [
       "                    age         anaemia     diabetes    ejection_fraction\n",
       "age                  1.00000000  0.08800644 -0.10101239  0.06009836      \n",
       "anaemia              0.08800644  1.00000000 -0.01272905  0.03155697      \n",
       "diabetes            -0.10101239 -0.01272905  1.00000000 -0.00485031      \n",
       "ejection_fraction    0.06009836  0.03155697 -0.00485031  1.00000000      \n",
       "high_blood_pressure  0.09328868  0.03818200 -0.01273238  0.02444473      \n",
       "platelets           -0.05235437 -0.04378555  0.09219283  0.07217747      \n",
       "sex                  0.06542952 -0.09476896 -0.15772950 -0.14838597      \n",
       "smoking              0.01866787 -0.10728984 -0.14717341 -0.06731457      \n",
       "time                -0.22406842 -0.14141398  0.03372551  0.04172924      \n",
       "                    high_blood_pressure platelets   sex         smoking    \n",
       "age                  0.09328868         -0.05235437  0.06542952  0.01866787\n",
       "anaemia              0.03818200         -0.04378555 -0.09476896 -0.10728984\n",
       "diabetes            -0.01273238          0.09219283 -0.15772950 -0.14717341\n",
       "ejection_fraction    0.02444473          0.07217747 -0.14838597 -0.06731457\n",
       "high_blood_pressure  1.00000000          0.04996348 -0.10461463 -0.05571137\n",
       "platelets            0.04996348          1.00000000 -0.12512048  0.02823445\n",
       "sex                 -0.10461463         -0.12512048  1.00000000  0.44589171\n",
       "smoking             -0.05571137          0.02823445  0.44589171  1.00000000\n",
       "time                -0.19643948          0.01051391 -0.01560822 -0.02283894\n",
       "                    time       \n",
       "age                 -0.22406842\n",
       "anaemia             -0.14141398\n",
       "diabetes             0.03372551\n",
       "ejection_fraction    0.04172924\n",
       "high_blood_pressure -0.19643948\n",
       "platelets            0.01051391\n",
       "sex                 -0.01560822\n",
       "smoking             -0.02283894\n",
       "time                 1.00000000"
      ]
     },
     "metadata": {},
     "output_type": "display_data"
    }
   ],
   "source": [
    "cor(data_sub)"
   ]
  },
  {
   "cell_type": "code",
   "execution_count": 27,
   "id": "fossil-literacy",
   "metadata": {},
   "outputs": [
    {
     "name": "stdout",
     "output_type": "stream",
     "text": [
      "\n",
      "Call:\n",
      "lm(formula = time ~ age + anaemia + diabetes + ejection_fraction + \n",
      "    high_blood_pressure + platelets + sex + smoking, data = data_sub)\n",
      "\n",
      "Residuals:\n",
      "     Min       1Q   Median       3Q      Max \n",
      "-151.291  -60.228   -9.847   69.276  162.106 \n",
      "\n",
      "Coefficients:\n",
      "                      Estimate Std. Error t value Pr(>|t|)    \n",
      "(Intercept)          2.157e+02  3.026e+01   7.126 8.23e-12 ***\n",
      "age                 -1.296e+00  3.702e-01  -3.501 0.000537 ***\n",
      "anaemia             -1.931e+01  8.830e+00  -2.187 0.029519 *  \n",
      "diabetes             6.086e-01  8.970e+00   0.068 0.945958    \n",
      "ejection_fraction    3.833e-01  3.711e-01   1.033 0.302595    \n",
      "high_blood_pressure -2.878e+01  9.152e+00  -3.145 0.001834 ** \n",
      "platelets           -8.960e-07  4.511e-05  -0.020 0.984166    \n",
      "sex                 -1.398e+00  1.043e+01  -0.134 0.893432    \n",
      "smoking             -5.622e+00  1.045e+01  -0.538 0.590923    \n",
      "---\n",
      "Signif. codes:  0 '***' 0.001 '**' 0.01 '*' 0.05 '.' 0.1 ' ' 1\n",
      "\n",
      "Residual standard error: 74.63 on 290 degrees of freedom\n",
      "Multiple R-squared:  0.1003,\tAdjusted R-squared:  0.07544 \n",
      "F-statistic:  4.04 on 8 and 290 DF,  p-value: 0.0001432\n",
      "\n"
     ]
    }
   ],
   "source": [
    "linear_model <- lm(time~age+anaemia+diabetes+ejection_fraction+high_blood_pressure + platelets + sex + smoking, data = data_sub)\n",
    "print(summary(linear_model))"
   ]
  },
  {
   "cell_type": "code",
   "execution_count": 28,
   "id": "anonymous-produce",
   "metadata": {},
   "outputs": [
    {
     "data": {
      "image/png": "[encoded data removed]",
      "text/plain": [
       "Plot with title \"Age v/s Time\""
      ]
     },
     "metadata": {},
     "output_type": "display_data"
    }
   ],
   "source": [
    "#Plotting the regression line for age v/s time\n",
    "age_time = lm(time~age,data=data_sub)\n",
    "plot(data_sub$age,data_sub$time,xlab=\"Age\",ylab=\"Time\",main=\"Age v/s Time\")\n",
    "abline(age_time)"
   ]
  },
  {
   "cell_type": "markdown",
   "id": "satellite-wonder",
   "metadata": {},
   "source": [
    "#### 1.5.4: Draw at least one line by using quadratic and exponential regression equations."
   ]
  },
  {
   "cell_type": "code",
   "execution_count": 29,
   "id": "velvet-associate",
   "metadata": {},
   "outputs": [
    {
     "data": {
      "image/png": "[encoded data removed]",
      "text/plain": [
       "Plot with title \"Age v/s Time\""
      ]
     },
     "metadata": {},
     "output_type": "display_data"
    }
   ],
   "source": [
    "#Plotting quadratic regression equation for time and age\n",
    "quad_lm <- lm(data_sub$time~data_sub$age+I(data_sub$age^2))\n",
    "plot(data_sub$age,data_sub$time,xlab=\"Age\",ylab=\"Time\",main=\"Age v/s Time\")\n",
    "lines(smooth.spline(data_sub$age, predict(quad_lm)),col=\"red\")"
   ]
  },
  {
   "cell_type": "code",
   "execution_count": 30,
   "id": "steady-cause",
   "metadata": {},
   "outputs": [
    {
     "data": {
      "text/plain": [
       "\n",
       "Call:\n",
       "lm(formula = data_sub$time ~ data_sub$age + I(data_sub$age^2))\n",
       "\n",
       "Residuals:\n",
       "    Min      1Q  Median      3Q     Max \n",
       "-138.34  -58.53  -14.87   69.97  182.40 \n",
       "\n",
       "Coefficients:\n",
       "                   Estimate Std. Error t value Pr(>|t|)\n",
       "(Intercept)       123.14750   97.02828   1.269    0.205\n",
       "data_sub$age        1.68691    3.11316   0.542    0.588\n",
       "I(data_sub$age^2)  -0.02486    0.02440  -1.019    0.309\n",
       "\n",
       "Residual standard error: 75.76 on 296 degrees of freedom\n",
       "Multiple R-squared:  0.05352,\tAdjusted R-squared:  0.04713 \n",
       "F-statistic:  8.37 on 2 and 296 DF,  p-value: 0.0002912\n"
      ]
     },
     "metadata": {},
     "output_type": "display_data"
    }
   ],
   "source": [
    "summary(quad_lm)\n"
   ]
  },
  {
   "cell_type": "code",
   "execution_count": 31,
   "id": "alleged-broadcast",
   "metadata": {},
   "outputs": [
    {
     "name": "stderr",
     "output_type": "stream",
     "text": [
      "Registered S3 methods overwritten by 'ggplot2':\n",
      "  method         from \n",
      "  [.quosures     rlang\n",
      "  c.quosures     rlang\n",
      "  print.quosures rlang\n"
     ]
    },
    {
     "data": {
      "image/png": "[encoded data removed]",
      "text/plain": [
       "plot without title"
      ]
     },
     "metadata": {},
     "output_type": "display_data"
    }
   ],
   "source": [
    "#Plotting exponential regression line for time v/s age\n",
    "library(ggplot2)\n",
    "exp_plot <- ggplot(data_sub,aes(x=age,y=time)) + geom_point() + stat_smooth(method=\"lm\",formula = y ~ x,size = 1)\n",
    "print(exp_plot+labs(y=\"Time\",x=\"Age\") + ggtitle(\"Time v/s Age\"))"
   ]
  },
  {
   "cell_type": "markdown",
   "id": "ecological-honolulu",
   "metadata": {},
   "source": [
    "## END OF NOTEBOOK"
   ]
  }
 ],
 "metadata": {
  "kernelspec": {
   "display_name": "R",
   "language": "R",
   "name": "ir"
  },
  "language_info": {
   "codemirror_mode": "r",
   "file_extension": ".r",
   "mimetype": "text/x-r-source",
   "name": "R",
   "pygments_lexer": "r",
   "version": "3.6.1"
  }
 },
 "nbformat": 4,
 "nbformat_minor": 5
}
