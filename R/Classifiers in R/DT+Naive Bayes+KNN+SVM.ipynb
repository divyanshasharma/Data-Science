{
 "cells": [
  {
   "cell_type": "markdown",
   "id": "random-intersection",
   "metadata": {},
   "source": [
    "## Implement the following classifiers in R\n",
    "### 1. Decision Trees\n",
    "### 2. Naive Bayes Classifiers\n",
    "### 3. K-NN Classifiers\n",
    "### 4. Support Vector Machines(SVM’s)"
   ]
  },
  {
   "cell_type": "markdown",
   "id": "protective-reader",
   "metadata": {},
   "source": [
    "## Decision Tree"
   ]
  },
  {
   "cell_type": "code",
   "execution_count": 1,
   "id": "material-recommendation",
   "metadata": {},
   "outputs": [
    {
     "name": "stderr",
     "output_type": "stream",
     "text": [
      "Warning message:\n",
      "\"package 'caTools' was built under R version 3.6.3\""
     ]
    }
   ],
   "source": [
    "#install.packages(\"party\")\n",
    "#install.packages('caTools')\n",
    "#install.packages('e1071')\n",
    "#install.packages('caret')\n",
    "library(caTools)\n",
    "\n"
   ]
  },
  {
   "cell_type": "code",
   "execution_count": 2,
   "id": "breathing-clerk",
   "metadata": {},
   "outputs": [
    {
     "name": "stderr",
     "output_type": "stream",
     "text": [
      "Warning message:\n",
      "\"package 'party' was built under R version 3.6.3\"Loading required package: grid\n",
      "Loading required package: mvtnorm\n",
      "Warning message:\n",
      "\"package 'mvtnorm' was built under R version 3.6.3\"Loading required package: modeltools\n",
      "Warning message:\n",
      "\"package 'modeltools' was built under R version 3.6.3\"Loading required package: stats4\n",
      "Loading required package: strucchange\n",
      "Warning message:\n",
      "\"package 'strucchange' was built under R version 3.6.3\"Loading required package: zoo\n",
      "\n",
      "Attaching package: 'zoo'\n",
      "\n",
      "The following objects are masked from 'package:base':\n",
      "\n",
      "    as.Date, as.Date.numeric\n",
      "\n",
      "Loading required package: sandwich\n",
      "Warning message:\n",
      "\"package 'sandwich' was built under R version 3.6.3\""
     ]
    }
   ],
   "source": [
    "library(party)"
   ]
  },
  {
   "cell_type": "code",
   "execution_count": 3,
   "id": "moral-sunset",
   "metadata": {},
   "outputs": [
    {
     "data": {
      "text/html": [
       "<table>\n",
       "<thead><tr><th scope=col>Sepal.Length</th><th scope=col>Sepal.Width</th><th scope=col>Petal.Length</th><th scope=col>Petal.Width</th><th scope=col>Species</th></tr></thead>\n",
       "<tbody>\n",
       "\t<tr><td>5.1   </td><td>3.5   </td><td>1.4   </td><td>0.2   </td><td>setosa</td></tr>\n",
       "\t<tr><td>4.9   </td><td>3.0   </td><td>1.4   </td><td>0.2   </td><td>setosa</td></tr>\n",
       "\t<tr><td>4.7   </td><td>3.2   </td><td>1.3   </td><td>0.2   </td><td>setosa</td></tr>\n",
       "\t<tr><td>4.6   </td><td>3.1   </td><td>1.5   </td><td>0.2   </td><td>setosa</td></tr>\n",
       "\t<tr><td>5.0   </td><td>3.6   </td><td>1.4   </td><td>0.2   </td><td>setosa</td></tr>\n",
       "\t<tr><td>5.4   </td><td>3.9   </td><td>1.7   </td><td>0.4   </td><td>setosa</td></tr>\n",
       "</tbody>\n",
       "</table>\n"
      ],
      "text/latex": [
       "\\begin{tabular}{r|lllll}\n",
       " Sepal.Length & Sepal.Width & Petal.Length & Petal.Width & Species\\\\\n",
       "\\hline\n",
       "\t 5.1    & 3.5    & 1.4    & 0.2    & setosa\\\\\n",
       "\t 4.9    & 3.0    & 1.4    & 0.2    & setosa\\\\\n",
       "\t 4.7    & 3.2    & 1.3    & 0.2    & setosa\\\\\n",
       "\t 4.6    & 3.1    & 1.5    & 0.2    & setosa\\\\\n",
       "\t 5.0    & 3.6    & 1.4    & 0.2    & setosa\\\\\n",
       "\t 5.4    & 3.9    & 1.7    & 0.4    & setosa\\\\\n",
       "\\end{tabular}\n"
      ],
      "text/markdown": [
       "\n",
       "| Sepal.Length | Sepal.Width | Petal.Length | Petal.Width | Species |\n",
       "|---|---|---|---|---|\n",
       "| 5.1    | 3.5    | 1.4    | 0.2    | setosa |\n",
       "| 4.9    | 3.0    | 1.4    | 0.2    | setosa |\n",
       "| 4.7    | 3.2    | 1.3    | 0.2    | setosa |\n",
       "| 4.6    | 3.1    | 1.5    | 0.2    | setosa |\n",
       "| 5.0    | 3.6    | 1.4    | 0.2    | setosa |\n",
       "| 5.4    | 3.9    | 1.7    | 0.4    | setosa |\n",
       "\n"
      ],
      "text/plain": [
       "  Sepal.Length Sepal.Width Petal.Length Petal.Width Species\n",
       "1 5.1          3.5         1.4          0.2         setosa \n",
       "2 4.9          3.0         1.4          0.2         setosa \n",
       "3 4.7          3.2         1.3          0.2         setosa \n",
       "4 4.6          3.1         1.5          0.2         setosa \n",
       "5 5.0          3.6         1.4          0.2         setosa \n",
       "6 5.4          3.9         1.7          0.4         setosa "
      ]
     },
     "metadata": {},
     "output_type": "display_data"
    }
   ],
   "source": [
    "input.dat = data.frame(iris)\n",
    "head(input.dat)"
   ]
  },
  {
   "cell_type": "code",
   "execution_count": 4,
   "id": "wrapped-tours",
   "metadata": {},
   "outputs": [
    {
     "data": {
      "text/html": [
       "FALSE"
      ],
      "text/latex": [
       "FALSE"
      ],
      "text/markdown": [
       "FALSE"
      ],
      "text/plain": [
       "[1] FALSE"
      ]
     },
     "metadata": {},
     "output_type": "display_data"
    }
   ],
   "source": [
    "is.null(input.dat)"
   ]
  },
  {
   "cell_type": "code",
   "execution_count": 5,
   "id": "sustainable-valuable",
   "metadata": {},
   "outputs": [
    {
     "data": {
      "text/html": [
       "<ol class=list-inline>\n",
       "\t<li>112</li>\n",
       "\t<li>5</li>\n",
       "</ol>\n"
      ],
      "text/latex": [
       "\\begin{enumerate*}\n",
       "\\item 112\n",
       "\\item 5\n",
       "\\end{enumerate*}\n"
      ],
      "text/markdown": [
       "1. 112\n",
       "2. 5\n",
       "\n",
       "\n"
      ],
      "text/plain": [
       "[1] 112   5"
      ]
     },
     "metadata": {},
     "output_type": "display_data"
    }
   ],
   "source": [
    "#Spliting the dataset in train and test dataset\n",
    "split = sample.int(n=nrow(input.dat), size=round(.75*(nrow(input.dat))),replace=FALSE)\n",
    "train_cl = input.dat[split,]\n",
    "test_cl = input.dat[-split,]\n",
    "dim(train_cl)\n"
   ]
  },
  {
   "cell_type": "code",
   "execution_count": 6,
   "id": "guilty-words",
   "metadata": {},
   "outputs": [
    {
     "data": {
      "text/html": [
       "<ol class=list-inline>\n",
       "\t<li>38</li>\n",
       "\t<li>5</li>\n",
       "</ol>\n"
      ],
      "text/latex": [
       "\\begin{enumerate*}\n",
       "\\item 38\n",
       "\\item 5\n",
       "\\end{enumerate*}\n"
      ],
      "text/markdown": [
       "1. 38\n",
       "2. 5\n",
       "\n",
       "\n"
      ],
      "text/plain": [
       "[1] 38  5"
      ]
     },
     "metadata": {},
     "output_type": "display_data"
    }
   ],
   "source": [
    "dim(test_cl)"
   ]
  },
  {
   "cell_type": "code",
   "execution_count": 7,
   "id": "systematic-collectible",
   "metadata": {},
   "outputs": [
    {
     "data": {
      "text/plain": [
       "    Length      Class       Mode \n",
       "         1 BinaryTree         S4 "
      ]
     },
     "metadata": {},
     "output_type": "display_data"
    }
   ],
   "source": [
    "# Create the tree.\n",
    "output.tree=ctree(Species~. , data = train_cl)\n",
    "summary(output.tree)"
   ]
  },
  {
   "cell_type": "code",
   "execution_count": 8,
   "id": "instrumental-distributor",
   "metadata": {},
   "outputs": [
    {
     "data": {
      "text/html": [
       "<ol class=list-inline>\n",
       "\t<li>setosa</li>\n",
       "\t<li>setosa</li>\n",
       "\t<li>setosa</li>\n",
       "\t<li>setosa</li>\n",
       "\t<li>setosa</li>\n",
       "\t<li>setosa</li>\n",
       "\t<li>setosa</li>\n",
       "\t<li>setosa</li>\n",
       "\t<li>setosa</li>\n",
       "\t<li>setosa</li>\n",
       "\t<li>setosa</li>\n",
       "\t<li>setosa</li>\n",
       "\t<li>setosa</li>\n",
       "\t<li>setosa</li>\n",
       "\t<li>setosa</li>\n",
       "\t<li>versicolor</li>\n",
       "\t<li>versicolor</li>\n",
       "\t<li>versicolor</li>\n",
       "\t<li>versicolor</li>\n",
       "\t<li>versicolor</li>\n",
       "\t<li>versicolor</li>\n",
       "\t<li>versicolor</li>\n",
       "\t<li>versicolor</li>\n",
       "\t<li>versicolor</li>\n",
       "\t<li>versicolor</li>\n",
       "\t<li>versicolor</li>\n",
       "\t<li>versicolor</li>\n",
       "\t<li>virginica</li>\n",
       "\t<li>virginica</li>\n",
       "\t<li>virginica</li>\n",
       "\t<li>virginica</li>\n",
       "\t<li>virginica</li>\n",
       "\t<li>virginica</li>\n",
       "\t<li>virginica</li>\n",
       "\t<li>virginica</li>\n",
       "\t<li>virginica</li>\n",
       "\t<li>virginica</li>\n",
       "\t<li>virginica</li>\n",
       "</ol>\n",
       "\n",
       "<details>\n",
       "\t<summary style=display:list-item;cursor:pointer>\n",
       "\t\t<strong>Levels</strong>:\n",
       "\t</summary>\n",
       "\t<ol class=list-inline>\n",
       "\t\t<li>'setosa'</li>\n",
       "\t\t<li>'versicolor'</li>\n",
       "\t\t<li>'virginica'</li>\n",
       "\t</ol>\n",
       "</details>"
      ],
      "text/latex": [
       "\\begin{enumerate*}\n",
       "\\item setosa\n",
       "\\item setosa\n",
       "\\item setosa\n",
       "\\item setosa\n",
       "\\item setosa\n",
       "\\item setosa\n",
       "\\item setosa\n",
       "\\item setosa\n",
       "\\item setosa\n",
       "\\item setosa\n",
       "\\item setosa\n",
       "\\item setosa\n",
       "\\item setosa\n",
       "\\item setosa\n",
       "\\item setosa\n",
       "\\item versicolor\n",
       "\\item versicolor\n",
       "\\item versicolor\n",
       "\\item versicolor\n",
       "\\item versicolor\n",
       "\\item versicolor\n",
       "\\item versicolor\n",
       "\\item versicolor\n",
       "\\item versicolor\n",
       "\\item versicolor\n",
       "\\item versicolor\n",
       "\\item versicolor\n",
       "\\item virginica\n",
       "\\item virginica\n",
       "\\item virginica\n",
       "\\item virginica\n",
       "\\item virginica\n",
       "\\item virginica\n",
       "\\item virginica\n",
       "\\item virginica\n",
       "\\item virginica\n",
       "\\item virginica\n",
       "\\item virginica\n",
       "\\end{enumerate*}\n",
       "\n",
       "\\emph{Levels}: \\begin{enumerate*}\n",
       "\\item 'setosa'\n",
       "\\item 'versicolor'\n",
       "\\item 'virginica'\n",
       "\\end{enumerate*}\n"
      ],
      "text/markdown": [
       "1. setosa\n",
       "2. setosa\n",
       "3. setosa\n",
       "4. setosa\n",
       "5. setosa\n",
       "6. setosa\n",
       "7. setosa\n",
       "8. setosa\n",
       "9. setosa\n",
       "10. setosa\n",
       "11. setosa\n",
       "12. setosa\n",
       "13. setosa\n",
       "14. setosa\n",
       "15. setosa\n",
       "16. versicolor\n",
       "17. versicolor\n",
       "18. versicolor\n",
       "19. versicolor\n",
       "20. versicolor\n",
       "21. versicolor\n",
       "22. versicolor\n",
       "23. versicolor\n",
       "24. versicolor\n",
       "25. versicolor\n",
       "26. versicolor\n",
       "27. versicolor\n",
       "28. virginica\n",
       "29. virginica\n",
       "30. virginica\n",
       "31. virginica\n",
       "32. virginica\n",
       "33. virginica\n",
       "34. virginica\n",
       "35. virginica\n",
       "36. virginica\n",
       "37. virginica\n",
       "38. virginica\n",
       "\n",
       "\n",
       "\n",
       "**Levels**: 1. 'setosa'\n",
       "2. 'versicolor'\n",
       "3. 'virginica'\n",
       "\n",
       "\n"
      ],
      "text/plain": [
       " [1] setosa     setosa     setosa     setosa     setosa     setosa    \n",
       " [7] setosa     setosa     setosa     setosa     setosa     setosa    \n",
       "[13] setosa     setosa     setosa     versicolor versicolor versicolor\n",
       "[19] versicolor versicolor versicolor versicolor versicolor versicolor\n",
       "[25] versicolor versicolor versicolor virginica  virginica  virginica \n",
       "[31] virginica  virginica  virginica  virginica  virginica  virginica \n",
       "[37] virginica  virginica \n",
       "Levels: setosa versicolor virginica"
      ]
     },
     "metadata": {},
     "output_type": "display_data"
    }
   ],
   "source": [
    "#Predicting the values for the test cases\n",
    "y_predict=predict(output.tree,test_cl)\n",
    "y_predict\n"
   ]
  },
  {
   "cell_type": "code",
   "execution_count": 9,
   "id": "composite-canon",
   "metadata": {},
   "outputs": [
    {
     "data": {
      "text/plain": [
       "            \n",
       "y_predict    setosa versicolor virginica\n",
       "  setosa         15          0         0\n",
       "  versicolor      0         12         0\n",
       "  virginica       0          0        11"
      ]
     },
     "metadata": {},
     "output_type": "display_data"
    }
   ],
   "source": [
    "#Evaluating the model\n",
    "table_mat=table(y_predict,test_cl$Species)\n",
    "table_mat"
   ]
  },
  {
   "cell_type": "code",
   "execution_count": 10,
   "id": "pretty-chamber",
   "metadata": {},
   "outputs": [
    {
     "name": "stderr",
     "output_type": "stream",
     "text": [
      "Warning message:\n",
      "\"package 'e1071' was built under R version 3.6.3\""
     ]
    }
   ],
   "source": [
    "library(e1071)"
   ]
  },
  {
   "cell_type": "code",
   "execution_count": 11,
   "id": "solid-shadow",
   "metadata": {},
   "outputs": [
    {
     "name": "stderr",
     "output_type": "stream",
     "text": [
      "Loading required package: lattice\n",
      "Loading required package: ggplot2\n",
      "Registered S3 methods overwritten by 'ggplot2':\n",
      "  method         from \n",
      "  [.quosures     rlang\n",
      "  c.quosures     rlang\n",
      "  print.quosures rlang\n"
     ]
    }
   ],
   "source": [
    "library(caret)"
   ]
  },
  {
   "cell_type": "code",
   "execution_count": 12,
   "id": "polish-success",
   "metadata": {},
   "outputs": [
    {
     "data": {
      "text/plain": [
       "Confusion Matrix and Statistics\n",
       "\n",
       "            \n",
       "y_predict    setosa versicolor virginica\n",
       "  setosa         15          0         0\n",
       "  versicolor      0         12         0\n",
       "  virginica       0          0        11\n",
       "\n",
       "Overall Statistics\n",
       "                                     \n",
       "               Accuracy : 1          \n",
       "                 95% CI : (0.9075, 1)\n",
       "    No Information Rate : 0.3947     \n",
       "    P-Value [Acc > NIR] : 4.568e-16  \n",
       "                                     \n",
       "                  Kappa : 1          \n",
       "                                     \n",
       " Mcnemar's Test P-Value : NA         \n",
       "\n",
       "Statistics by Class:\n",
       "\n",
       "                     Class: setosa Class: versicolor Class: virginica\n",
       "Sensitivity                 1.0000            1.0000           1.0000\n",
       "Specificity                 1.0000            1.0000           1.0000\n",
       "Pos Pred Value              1.0000            1.0000           1.0000\n",
       "Neg Pred Value              1.0000            1.0000           1.0000\n",
       "Prevalence                  0.3947            0.3158           0.2895\n",
       "Detection Rate              0.3947            0.3158           0.2895\n",
       "Detection Prevalence        0.3947            0.3158           0.2895\n",
       "Balanced Accuracy           1.0000            1.0000           1.0000"
      ]
     },
     "metadata": {},
     "output_type": "display_data"
    }
   ],
   "source": [
    "#Creating the confusion matrix\n",
    "confusionMatrix(table_mat)"
   ]
  },
  {
   "cell_type": "code",
   "execution_count": 13,
   "id": "gothic-springfield",
   "metadata": {},
   "outputs": [
    {
     "data": {
      "image/png": "[encoded data removed]",
      "text/plain": [
       "plot without title"
      ]
     },
     "metadata": {},
     "output_type": "display_data"
    }
   ],
   "source": [
    "#Plotting the tree\n",
    "plot(output.tree)"
   ]
  },
  {
   "cell_type": "markdown",
   "id": "material-timber",
   "metadata": {},
   "source": [
    "## Naïve Bayes Classifier "
   ]
  },
  {
   "cell_type": "code",
   "execution_count": 14,
   "id": "august-quarterly",
   "metadata": {},
   "outputs": [
    {
     "name": "stderr",
     "output_type": "stream",
     "text": [
      "Warning message in file(file, \"rt\"):\n",
      "\"cannot open file 'C:\\Users\\DELL\\OneDrive\\bank-full.csv': No such file or directory\""
     ]
    },
    {
     "ename": "ERROR",
     "evalue": "Error in file(file, \"rt\"): cannot open the connection\n",
     "output_type": "error",
     "traceback": [
      "Error in file(file, \"rt\"): cannot open the connection\nTraceback:\n",
      "1. data.frame(read.csv(\"C:\\\\Users\\\\DELL\\\\OneDrive\\\\bank-full.csv\", \n .     header = TRUE, sep = \";\"))",
      "2. read.csv(\"C:\\\\Users\\\\DELL\\\\OneDrive\\\\bank-full.csv\", header = TRUE, \n .     sep = \";\")",
      "3. read.table(file = file, header = header, sep = sep, quote = quote, \n .     dec = dec, fill = fill, comment.char = comment.char, ...)",
      "4. file(file, \"rt\")"
     ]
    }
   ],
   "source": [
    "#Load the dataset\n",
    "data=data.frame(read.csv(\"C:\\\\Users\\\\DELL\\\\OneDrive\\\\bank-full.csv\",header =TRUE, sep = ';'))\n",
    "head(data)"
   ]
  },
  {
   "cell_type": "code",
   "execution_count": null,
   "id": "swiss-essay",
   "metadata": {},
   "outputs": [],
   "source": [
    "is.null(data)"
   ]
  },
  {
   "cell_type": "code",
   "execution_count": null,
   "id": "ancient-madison",
   "metadata": {},
   "outputs": [],
   "source": [
    "#Spliting the dataset in train and test dataset\n",
    "split = sample.int(n=nrow(data), size=round(.90*(nrow(data))),replace=FALSE)\n",
    "train_cl = data[split,]\n",
    "test_cl = data[-split,]\n",
    "dim(train_cl)\n"
   ]
  },
  {
   "cell_type": "code",
   "execution_count": null,
   "id": "excited-subject",
   "metadata": {},
   "outputs": [],
   "source": [
    "dim(test_cl)"
   ]
  },
  {
   "cell_type": "code",
   "execution_count": null,
   "id": "located-effectiveness",
   "metadata": {},
   "outputs": [],
   "source": [
    "#Creating the model\n",
    "nB=naiveBayes(y~. , data = train_cl)\n",
    "summary(nB)"
   ]
  },
  {
   "cell_type": "code",
   "execution_count": 15,
   "id": "toxic-tutorial",
   "metadata": {},
   "outputs": [
    {
     "ename": "ERROR",
     "evalue": "Error in predict(nB, test_cl): object 'nB' not found\n",
     "output_type": "error",
     "traceback": [
      "Error in predict(nB, test_cl): object 'nB' not found\nTraceback:\n",
      "1. predict(nB, test_cl)"
     ]
    }
   ],
   "source": [
    "#Predicting the values for the test cases\n",
    "y_predict=predict(nB,test_cl)\n",
    "y_predict"
   ]
  },
  {
   "cell_type": "code",
   "execution_count": 16,
   "id": "personalized-hopkins",
   "metadata": {},
   "outputs": [
    {
     "ename": "ERROR",
     "evalue": "Error in table(y_predict, test_cl$y): all arguments must have the same length\n",
     "output_type": "error",
     "traceback": [
      "Error in table(y_predict, test_cl$y): all arguments must have the same length\nTraceback:\n",
      "1. table(y_predict, test_cl$y)",
      "2. stop(\"all arguments must have the same length\")"
     ]
    }
   ],
   "source": [
    "#Evaluating the model\n",
    "table_mat=table(y_predict,test_cl$y)\n",
    "table_mat"
   ]
  },
  {
   "cell_type": "code",
   "execution_count": 17,
   "id": "confused-registrar",
   "metadata": {},
   "outputs": [
    {
     "data": {
      "text/plain": [
       "Confusion Matrix and Statistics\n",
       "\n",
       "            \n",
       "y_predict    setosa versicolor virginica\n",
       "  setosa         15          0         0\n",
       "  versicolor      0         12         0\n",
       "  virginica       0          0        11\n",
       "\n",
       "Overall Statistics\n",
       "                                     \n",
       "               Accuracy : 1          \n",
       "                 95% CI : (0.9075, 1)\n",
       "    No Information Rate : 0.3947     \n",
       "    P-Value [Acc > NIR] : 4.568e-16  \n",
       "                                     \n",
       "                  Kappa : 1          \n",
       "                                     \n",
       " Mcnemar's Test P-Value : NA         \n",
       "\n",
       "Statistics by Class:\n",
       "\n",
       "                     Class: setosa Class: versicolor Class: virginica\n",
       "Sensitivity                 1.0000            1.0000           1.0000\n",
       "Specificity                 1.0000            1.0000           1.0000\n",
       "Pos Pred Value              1.0000            1.0000           1.0000\n",
       "Neg Pred Value              1.0000            1.0000           1.0000\n",
       "Prevalence                  0.3947            0.3158           0.2895\n",
       "Detection Rate              0.3947            0.3158           0.2895\n",
       "Detection Prevalence        0.3947            0.3158           0.2895\n",
       "Balanced Accuracy           1.0000            1.0000           1.0000"
      ]
     },
     "metadata": {},
     "output_type": "display_data"
    }
   ],
   "source": [
    "#Creating the confusion matrix\n",
    "confusionMatrix(table_mat)"
   ]
  },
  {
   "cell_type": "markdown",
   "id": "final-advocacy",
   "metadata": {},
   "source": [
    "## KNN Classifier"
   ]
  },
  {
   "cell_type": "code",
   "execution_count": 18,
   "id": "academic-triumph",
   "metadata": {},
   "outputs": [
    {
     "data": {
      "text/html": [
       "<table>\n",
       "<thead><tr><th scope=col>Sepal.Length</th><th scope=col>Sepal.Width</th><th scope=col>Petal.Length</th><th scope=col>Petal.Width</th><th scope=col>Species</th></tr></thead>\n",
       "<tbody>\n",
       "\t<tr><td>5.1   </td><td>3.5   </td><td>1.4   </td><td>0.2   </td><td>setosa</td></tr>\n",
       "\t<tr><td>4.9   </td><td>3.0   </td><td>1.4   </td><td>0.2   </td><td>setosa</td></tr>\n",
       "\t<tr><td>4.7   </td><td>3.2   </td><td>1.3   </td><td>0.2   </td><td>setosa</td></tr>\n",
       "\t<tr><td>4.6   </td><td>3.1   </td><td>1.5   </td><td>0.2   </td><td>setosa</td></tr>\n",
       "\t<tr><td>5.0   </td><td>3.6   </td><td>1.4   </td><td>0.2   </td><td>setosa</td></tr>\n",
       "\t<tr><td>5.4   </td><td>3.9   </td><td>1.7   </td><td>0.4   </td><td>setosa</td></tr>\n",
       "</tbody>\n",
       "</table>\n"
      ],
      "text/latex": [
       "\\begin{tabular}{r|lllll}\n",
       " Sepal.Length & Sepal.Width & Petal.Length & Petal.Width & Species\\\\\n",
       "\\hline\n",
       "\t 5.1    & 3.5    & 1.4    & 0.2    & setosa\\\\\n",
       "\t 4.9    & 3.0    & 1.4    & 0.2    & setosa\\\\\n",
       "\t 4.7    & 3.2    & 1.3    & 0.2    & setosa\\\\\n",
       "\t 4.6    & 3.1    & 1.5    & 0.2    & setosa\\\\\n",
       "\t 5.0    & 3.6    & 1.4    & 0.2    & setosa\\\\\n",
       "\t 5.4    & 3.9    & 1.7    & 0.4    & setosa\\\\\n",
       "\\end{tabular}\n"
      ],
      "text/markdown": [
       "\n",
       "| Sepal.Length | Sepal.Width | Petal.Length | Petal.Width | Species |\n",
       "|---|---|---|---|---|\n",
       "| 5.1    | 3.5    | 1.4    | 0.2    | setosa |\n",
       "| 4.9    | 3.0    | 1.4    | 0.2    | setosa |\n",
       "| 4.7    | 3.2    | 1.3    | 0.2    | setosa |\n",
       "| 4.6    | 3.1    | 1.5    | 0.2    | setosa |\n",
       "| 5.0    | 3.6    | 1.4    | 0.2    | setosa |\n",
       "| 5.4    | 3.9    | 1.7    | 0.4    | setosa |\n",
       "\n"
      ],
      "text/plain": [
       "  Sepal.Length Sepal.Width Petal.Length Petal.Width Species\n",
       "1 5.1          3.5         1.4          0.2         setosa \n",
       "2 4.9          3.0         1.4          0.2         setosa \n",
       "3 4.7          3.2         1.3          0.2         setosa \n",
       "4 4.6          3.1         1.5          0.2         setosa \n",
       "5 5.0          3.6         1.4          0.2         setosa \n",
       "6 5.4          3.9         1.7          0.4         setosa "
      ]
     },
     "metadata": {},
     "output_type": "display_data"
    }
   ],
   "source": [
    "df = data.frame(iris)\n",
    "head(df)"
   ]
  },
  {
   "cell_type": "code",
   "execution_count": 19,
   "id": "unlimited-capture",
   "metadata": {},
   "outputs": [
    {
     "data": {
      "text/html": [
       "FALSE"
      ],
      "text/latex": [
       "FALSE"
      ],
      "text/markdown": [
       "FALSE"
      ],
      "text/plain": [
       "[1] FALSE"
      ]
     },
     "metadata": {},
     "output_type": "display_data"
    }
   ],
   "source": [
    "is.null(df)"
   ]
  },
  {
   "cell_type": "code",
   "execution_count": 20,
   "id": "superb-korean",
   "metadata": {},
   "outputs": [
    {
     "data": {
      "text/html": [
       "<ol class=list-inline>\n",
       "\t<li>112</li>\n",
       "\t<li>5</li>\n",
       "</ol>\n"
      ],
      "text/latex": [
       "\\begin{enumerate*}\n",
       "\\item 112\n",
       "\\item 5\n",
       "\\end{enumerate*}\n"
      ],
      "text/markdown": [
       "1. 112\n",
       "2. 5\n",
       "\n",
       "\n"
      ],
      "text/plain": [
       "[1] 112   5"
      ]
     },
     "metadata": {},
     "output_type": "display_data"
    }
   ],
   "source": [
    "library(caret)\n",
    "df$Species=as.numeric(as.factor(df$Species))\n",
    "split = sample.int(n=nrow(df), size=round(.75*(nrow(df))),replace=FALSE)\n",
    "train_cl = df[split,]\n",
    "test_cl = df[-split,]\n",
    "dim(train_cl)"
   ]
  },
  {
   "cell_type": "code",
   "execution_count": 21,
   "id": "charged-communication",
   "metadata": {},
   "outputs": [
    {
     "data": {
      "text/html": [
       "<ol class=list-inline>\n",
       "\t<li>38</li>\n",
       "\t<li>5</li>\n",
       "</ol>\n"
      ],
      "text/latex": [
       "\\begin{enumerate*}\n",
       "\\item 38\n",
       "\\item 5\n",
       "\\end{enumerate*}\n"
      ],
      "text/markdown": [
       "1. 38\n",
       "2. 5\n",
       "\n",
       "\n"
      ],
      "text/plain": [
       "[1] 38  5"
      ]
     },
     "metadata": {},
     "output_type": "display_data"
    }
   ],
   "source": [
    "dim(test_cl)"
   ]
  },
  {
   "cell_type": "code",
   "execution_count": 22,
   "id": "first-spencer",
   "metadata": {},
   "outputs": [
    {
     "ename": "ERROR",
     "evalue": "Error in knn(train = train_cl, test = test_cl, cl = train_cl$Species, : could not find function \"knn\"\n",
     "output_type": "error",
     "traceback": [
      "Error in knn(train = train_cl, test = test_cl, cl = train_cl$Species, : could not find function \"knn\"\nTraceback:\n"
     ]
    }
   ],
   "source": [
    "kn= knn(train = train_cl,test = test_cl, cl = train_cl$Species, k =5)\n",
    "kn"
   ]
  },
  {
   "cell_type": "code",
   "execution_count": 23,
   "id": "integral-remainder",
   "metadata": {},
   "outputs": [
    {
     "ename": "ERROR",
     "evalue": "Error in summary(kn): object 'kn' not found\n",
     "output_type": "error",
     "traceback": [
      "Error in summary(kn): object 'kn' not found\nTraceback:\n",
      "1. summary(kn)"
     ]
    }
   ],
   "source": [
    "summary(kn)"
   ]
  },
  {
   "cell_type": "code",
   "execution_count": 24,
   "id": "southwest-robinson",
   "metadata": {},
   "outputs": [
    {
     "ename": "ERROR",
     "evalue": "Error in table(kn, test_cl$Species): object 'kn' not found\n",
     "output_type": "error",
     "traceback": [
      "Error in table(kn, test_cl$Species): object 'kn' not found\nTraceback:\n",
      "1. table(kn, test_cl$Species)"
     ]
    }
   ],
   "source": [
    "table_mat=table(kn,test_cl$Species)\n",
    "table_mat\n"
   ]
  },
  {
   "cell_type": "code",
   "execution_count": 25,
   "id": "executive-executive",
   "metadata": {},
   "outputs": [
    {
     "data": {
      "text/plain": [
       "Confusion Matrix and Statistics\n",
       "\n",
       "            \n",
       "y_predict    setosa versicolor virginica\n",
       "  setosa         15          0         0\n",
       "  versicolor      0         12         0\n",
       "  virginica       0          0        11\n",
       "\n",
       "Overall Statistics\n",
       "                                     \n",
       "               Accuracy : 1          \n",
       "                 95% CI : (0.9075, 1)\n",
       "    No Information Rate : 0.3947     \n",
       "    P-Value [Acc > NIR] : 4.568e-16  \n",
       "                                     \n",
       "                  Kappa : 1          \n",
       "                                     \n",
       " Mcnemar's Test P-Value : NA         \n",
       "\n",
       "Statistics by Class:\n",
       "\n",
       "                     Class: setosa Class: versicolor Class: virginica\n",
       "Sensitivity                 1.0000            1.0000           1.0000\n",
       "Specificity                 1.0000            1.0000           1.0000\n",
       "Pos Pred Value              1.0000            1.0000           1.0000\n",
       "Neg Pred Value              1.0000            1.0000           1.0000\n",
       "Prevalence                  0.3947            0.3158           0.2895\n",
       "Detection Rate              0.3947            0.3158           0.2895\n",
       "Detection Prevalence        0.3947            0.3158           0.2895\n",
       "Balanced Accuracy           1.0000            1.0000           1.0000"
      ]
     },
     "metadata": {},
     "output_type": "display_data"
    }
   ],
   "source": [
    "confusionMatrix(table_mat)"
   ]
  },
  {
   "cell_type": "markdown",
   "id": "brave-quality",
   "metadata": {},
   "source": [
    "## SVM Classifier\n"
   ]
  },
  {
   "cell_type": "code",
   "execution_count": 26,
   "id": "collect-phrase",
   "metadata": {},
   "outputs": [
    {
     "data": {
      "text/html": [
       "<table>\n",
       "<thead><tr><th scope=col>Sepal.Length</th><th scope=col>Sepal.Width</th><th scope=col>Petal.Length</th><th scope=col>Petal.Width</th><th scope=col>Species</th></tr></thead>\n",
       "<tbody>\n",
       "\t<tr><td>5.1   </td><td>3.5   </td><td>1.4   </td><td>0.2   </td><td>setosa</td></tr>\n",
       "\t<tr><td>4.9   </td><td>3.0   </td><td>1.4   </td><td>0.2   </td><td>setosa</td></tr>\n",
       "\t<tr><td>4.7   </td><td>3.2   </td><td>1.3   </td><td>0.2   </td><td>setosa</td></tr>\n",
       "\t<tr><td>4.6   </td><td>3.1   </td><td>1.5   </td><td>0.2   </td><td>setosa</td></tr>\n",
       "\t<tr><td>5.0   </td><td>3.6   </td><td>1.4   </td><td>0.2   </td><td>setosa</td></tr>\n",
       "\t<tr><td>5.4   </td><td>3.9   </td><td>1.7   </td><td>0.4   </td><td>setosa</td></tr>\n",
       "</tbody>\n",
       "</table>\n"
      ],
      "text/latex": [
       "\\begin{tabular}{r|lllll}\n",
       " Sepal.Length & Sepal.Width & Petal.Length & Petal.Width & Species\\\\\n",
       "\\hline\n",
       "\t 5.1    & 3.5    & 1.4    & 0.2    & setosa\\\\\n",
       "\t 4.9    & 3.0    & 1.4    & 0.2    & setosa\\\\\n",
       "\t 4.7    & 3.2    & 1.3    & 0.2    & setosa\\\\\n",
       "\t 4.6    & 3.1    & 1.5    & 0.2    & setosa\\\\\n",
       "\t 5.0    & 3.6    & 1.4    & 0.2    & setosa\\\\\n",
       "\t 5.4    & 3.9    & 1.7    & 0.4    & setosa\\\\\n",
       "\\end{tabular}\n"
      ],
      "text/markdown": [
       "\n",
       "| Sepal.Length | Sepal.Width | Petal.Length | Petal.Width | Species |\n",
       "|---|---|---|---|---|\n",
       "| 5.1    | 3.5    | 1.4    | 0.2    | setosa |\n",
       "| 4.9    | 3.0    | 1.4    | 0.2    | setosa |\n",
       "| 4.7    | 3.2    | 1.3    | 0.2    | setosa |\n",
       "| 4.6    | 3.1    | 1.5    | 0.2    | setosa |\n",
       "| 5.0    | 3.6    | 1.4    | 0.2    | setosa |\n",
       "| 5.4    | 3.9    | 1.7    | 0.4    | setosa |\n",
       "\n"
      ],
      "text/plain": [
       "  Sepal.Length Sepal.Width Petal.Length Petal.Width Species\n",
       "1 5.1          3.5         1.4          0.2         setosa \n",
       "2 4.9          3.0         1.4          0.2         setosa \n",
       "3 4.7          3.2         1.3          0.2         setosa \n",
       "4 4.6          3.1         1.5          0.2         setosa \n",
       "5 5.0          3.6         1.4          0.2         setosa \n",
       "6 5.4          3.9         1.7          0.4         setosa "
      ]
     },
     "metadata": {},
     "output_type": "display_data"
    }
   ],
   "source": [
    "data = data.frame(iris)\n",
    "head(data)"
   ]
  },
  {
   "cell_type": "code",
   "execution_count": 27,
   "id": "raising-arizona",
   "metadata": {},
   "outputs": [
    {
     "data": {
      "text/html": [
       "FALSE"
      ],
      "text/latex": [
       "FALSE"
      ],
      "text/markdown": [
       "FALSE"
      ],
      "text/plain": [
       "[1] FALSE"
      ]
     },
     "metadata": {},
     "output_type": "display_data"
    }
   ],
   "source": [
    "is.null(data)"
   ]
  },
  {
   "cell_type": "code",
   "execution_count": 28,
   "id": "under-instrumentation",
   "metadata": {},
   "outputs": [
    {
     "data": {
      "text/html": [
       "<ol class=list-inline>\n",
       "\t<li>135</li>\n",
       "\t<li>5</li>\n",
       "</ol>\n"
      ],
      "text/latex": [
       "\\begin{enumerate*}\n",
       "\\item 135\n",
       "\\item 5\n",
       "\\end{enumerate*}\n"
      ],
      "text/markdown": [
       "1. 135\n",
       "2. 5\n",
       "\n",
       "\n"
      ],
      "text/plain": [
       "[1] 135   5"
      ]
     },
     "metadata": {},
     "output_type": "display_data"
    }
   ],
   "source": [
    "split = sample.int(n=nrow(data), size=round(.90*(nrow(data))),replace=FALSE)\n",
    "train_cl = data[split,]\n",
    "test_cl = data[-split,]\n",
    "dim(train_cl)\n"
   ]
  },
  {
   "cell_type": "code",
   "execution_count": 29,
   "id": "upset-seeking",
   "metadata": {},
   "outputs": [
    {
     "data": {
      "text/html": [
       "<ol class=list-inline>\n",
       "\t<li>15</li>\n",
       "\t<li>5</li>\n",
       "</ol>\n"
      ],
      "text/latex": [
       "\\begin{enumerate*}\n",
       "\\item 15\n",
       "\\item 5\n",
       "\\end{enumerate*}\n"
      ],
      "text/markdown": [
       "1. 15\n",
       "2. 5\n",
       "\n",
       "\n"
      ],
      "text/plain": [
       "[1] 15  5"
      ]
     },
     "metadata": {},
     "output_type": "display_data"
    }
   ],
   "source": [
    "dim(test_cl)"
   ]
  },
  {
   "cell_type": "code",
   "execution_count": 30,
   "id": "handy-relative",
   "metadata": {},
   "outputs": [
    {
     "data": {
      "text/plain": [
       "\n",
       "Call:\n",
       "svm(formula = Species ~ ., data = train_cl)\n",
       "\n",
       "\n",
       "Parameters:\n",
       "   SVM-Type:  C-classification \n",
       " SVM-Kernel:  radial \n",
       "       cost:  1 \n",
       "\n",
       "Number of Support Vectors:  49\n",
       "\n",
       " ( 20 9 20 )\n",
       "\n",
       "\n",
       "Number of Classes:  3 \n",
       "\n",
       "Levels: \n",
       " setosa versicolor virginica\n",
       "\n",
       "\n"
      ]
     },
     "metadata": {},
     "output_type": "display_data"
    }
   ],
   "source": [
    "# Create the SVM model.\n",
    "sv=svm(formula=Species~. , data = train_cl)\n",
    "summary(sv)"
   ]
  },
  {
   "cell_type": "code",
   "execution_count": 31,
   "id": "diagnostic-grain",
   "metadata": {},
   "outputs": [
    {
     "data": {
      "text/html": [
       "<dl class=dl-horizontal>\n",
       "\t<dt>12</dt>\n",
       "\t\t<dd>setosa</dd>\n",
       "\t<dt>31</dt>\n",
       "\t\t<dd>setosa</dd>\n",
       "\t<dt>38</dt>\n",
       "\t\t<dd>setosa</dd>\n",
       "\t<dt>47</dt>\n",
       "\t\t<dd>setosa</dd>\n",
       "\t<dt>48</dt>\n",
       "\t\t<dd>setosa</dd>\n",
       "\t<dt>52</dt>\n",
       "\t\t<dd>versicolor</dd>\n",
       "\t<dt>58</dt>\n",
       "\t\t<dd>versicolor</dd>\n",
       "\t<dt>72</dt>\n",
       "\t\t<dd>versicolor</dd>\n",
       "\t<dt>78</dt>\n",
       "\t\t<dd>virginica</dd>\n",
       "\t<dt>85</dt>\n",
       "\t\t<dd>versicolor</dd>\n",
       "\t<dt>99</dt>\n",
       "\t\t<dd>versicolor</dd>\n",
       "\t<dt>118</dt>\n",
       "\t\t<dd>virginica</dd>\n",
       "\t<dt>119</dt>\n",
       "\t\t<dd>virginica</dd>\n",
       "\t<dt>126</dt>\n",
       "\t\t<dd>virginica</dd>\n",
       "\t<dt>149</dt>\n",
       "\t\t<dd>virginica</dd>\n",
       "</dl>\n",
       "\n",
       "<details>\n",
       "\t<summary style=display:list-item;cursor:pointer>\n",
       "\t\t<strong>Levels</strong>:\n",
       "\t</summary>\n",
       "\t<ol class=list-inline>\n",
       "\t\t<li>'setosa'</li>\n",
       "\t\t<li>'versicolor'</li>\n",
       "\t\t<li>'virginica'</li>\n",
       "\t</ol>\n",
       "</details>"
      ],
      "text/latex": [
       "\\begin{description*}\n",
       "\\item[12] setosa\n",
       "\\item[31] setosa\n",
       "\\item[38] setosa\n",
       "\\item[47] setosa\n",
       "\\item[48] setosa\n",
       "\\item[52] versicolor\n",
       "\\item[58] versicolor\n",
       "\\item[72] versicolor\n",
       "\\item[78] virginica\n",
       "\\item[85] versicolor\n",
       "\\item[99] versicolor\n",
       "\\item[118] virginica\n",
       "\\item[119] virginica\n",
       "\\item[126] virginica\n",
       "\\item[149] virginica\n",
       "\\end{description*}\n",
       "\n",
       "\\emph{Levels}: \\begin{enumerate*}\n",
       "\\item 'setosa'\n",
       "\\item 'versicolor'\n",
       "\\item 'virginica'\n",
       "\\end{enumerate*}\n"
      ],
      "text/markdown": [
       "12\n",
       ":   setosa31\n",
       ":   setosa38\n",
       ":   setosa47\n",
       ":   setosa48\n",
       ":   setosa52\n",
       ":   versicolor58\n",
       ":   versicolor72\n",
       ":   versicolor78\n",
       ":   virginica85\n",
       ":   versicolor99\n",
       ":   versicolor118\n",
       ":   virginica119\n",
       ":   virginica126\n",
       ":   virginica149\n",
       ":   virginica\n",
       "\n",
       "\n",
       "**Levels**: 1. 'setosa'\n",
       "2. 'versicolor'\n",
       "3. 'virginica'\n",
       "\n",
       "\n"
      ],
      "text/plain": [
       "        12         31         38         47         48         52         58 \n",
       "    setosa     setosa     setosa     setosa     setosa versicolor versicolor \n",
       "        72         78         85         99        118        119        126 \n",
       "versicolor  virginica versicolor versicolor  virginica  virginica  virginica \n",
       "       149 \n",
       " virginica \n",
       "Levels: setosa versicolor virginica"
      ]
     },
     "metadata": {},
     "output_type": "display_data"
    }
   ],
   "source": [
    "#Predicting the values for the test cases\n",
    "y_predict=predict(sv,test_cl)\n",
    "y_predict"
   ]
  },
  {
   "cell_type": "code",
   "execution_count": 32,
   "id": "sought-comedy",
   "metadata": {},
   "outputs": [
    {
     "data": {
      "text/plain": [
       "            \n",
       "y_predict    setosa versicolor virginica\n",
       "  setosa          5          0         0\n",
       "  versicolor      0          5         0\n",
       "  virginica       0          1         4"
      ]
     },
     "metadata": {},
     "output_type": "display_data"
    }
   ],
   "source": [
    "#Evaluating the model\n",
    "table_mat=table(y_predict,test_cl$Species)\n",
    "table_mat"
   ]
  },
  {
   "cell_type": "markdown",
   "id": "experienced-cathedral",
   "metadata": {},
   "source": [
    "# Creating the confusion matrix\n"
   ]
  },
  {
   "cell_type": "code",
   "execution_count": 33,
   "id": "surprising-moderator",
   "metadata": {},
   "outputs": [
    {
     "data": {
      "text/plain": [
       "Confusion Matrix and Statistics\n",
       "\n",
       "            \n",
       "y_predict    setosa versicolor virginica\n",
       "  setosa          5          0         0\n",
       "  versicolor      0          5         0\n",
       "  virginica       0          1         4\n",
       "\n",
       "Overall Statistics\n",
       "                                          \n",
       "               Accuracy : 0.9333          \n",
       "                 95% CI : (0.6805, 0.9983)\n",
       "    No Information Rate : 0.4             \n",
       "    P-Value [Acc > NIR] : 2.523e-05       \n",
       "                                          \n",
       "                  Kappa : 0.9             \n",
       "                                          \n",
       " Mcnemar's Test P-Value : NA              \n",
       "\n",
       "Statistics by Class:\n",
       "\n",
       "                     Class: setosa Class: versicolor Class: virginica\n",
       "Sensitivity                 1.0000            0.8333           1.0000\n",
       "Specificity                 1.0000            1.0000           0.9091\n",
       "Pos Pred Value              1.0000            1.0000           0.8000\n",
       "Neg Pred Value              1.0000            0.9000           1.0000\n",
       "Prevalence                  0.3333            0.4000           0.2667\n",
       "Detection Rate              0.3333            0.3333           0.2667\n",
       "Detection Prevalence        0.3333            0.3333           0.3333\n",
       "Balanced Accuracy           1.0000            0.9167           0.9545"
      ]
     },
     "metadata": {},
     "output_type": "display_data"
    }
   ],
   "source": [
    "confusionMatrix(table_mat)"
   ]
  },
  {
   "cell_type": "code",
   "execution_count": null,
   "id": "frozen-morrison",
   "metadata": {},
   "outputs": [],
   "source": []
  }
 ],
 "metadata": {
  "kernelspec": {
   "display_name": "R",
   "language": "R",
   "name": "ir"
  },
  "language_info": {
   "codemirror_mode": "r",
   "file_extension": ".r",
   "mimetype": "text/x-r-source",
   "name": "R",
   "pygments_lexer": "r",
   "version": "3.6.1"
  }
 },
 "nbformat": 4,
 "nbformat_minor": 5
}
