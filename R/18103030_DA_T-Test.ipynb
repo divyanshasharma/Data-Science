{
 "cells": [
  {
   "cell_type": "markdown",
   "id": "dedicated-budget",
   "metadata": {},
   "source": [
    "### AIM: \n",
    "Know the significance of different types of t-test\n",
    "\n",
    "Select a suitable dataset for following test of significance (Hypothesis testing), and interpret output parameters and their significance with respect to the selected data set and Hypothesis.\n",
    "• One sample t-test\n",
    "• Two sample t-test\n",
    "• Paired t-test\n",
    "You need to perform above given task using two different methods.\n",
    "1. Use inbuilt function i.e. t.test() or wilcox.test().\n",
    "2. Design your own functions to perform the above stated task.\n",
    "\n"
   ]
  },
  {
   "cell_type": "markdown",
   "id": "extreme-telling",
   "metadata": {},
   "source": [
    "T-Test:\n",
    "In statistics, t-tests are a type of hypothesis test that allows you to compare means. They are called t-tests because each t-test boils your sample data down to one number, the t-value. \n",
    "\n",
    "\n",
    "T-test is further of three kinds:\n",
    "•One sample t-test\n",
    "A 1-sample t-test compares one sample mean to a null hypothesis value. \t\n",
    " \n",
    "Here,\n",
    "x= mean of sample, µ = sample mean, s = standard deviation, n = sample size\n",
    "\n",
    "•Paired t-test\n",
    "A paired t-test simply calculates the difference between paired observations (e.g., before and after) and then performs a 1-sample t-test on the differences.\n",
    "\n",
    "•Two sample t-test\n",
    "The 2-sample t-test takes your sample data from two groups and boils it down to the t-value. The process is very similar to the 1-sample t-test. Unlike the paired t-test, the 2-sample t-test requires independent groups for each sample. The formula is below:\n",
    " \n"
   ]
  },
  {
   "cell_type": "code",
   "execution_count": 1,
   "id": "ecological-island",
   "metadata": {},
   "outputs": [
    {
     "data": {
      "text/html": [
       "<table>\n",
       "<thead><tr><th scope=col>Sepal.Length</th><th scope=col>Sepal.Width</th><th scope=col>Petal.Length</th><th scope=col>Petal.Width</th><th scope=col>Species</th></tr></thead>\n",
       "<tbody>\n",
       "\t<tr><td>5.1   </td><td>3.5   </td><td>1.4   </td><td>0.2   </td><td>setosa</td></tr>\n",
       "\t<tr><td>4.9   </td><td>3.0   </td><td>1.4   </td><td>0.2   </td><td>setosa</td></tr>\n",
       "\t<tr><td>4.7   </td><td>3.2   </td><td>1.3   </td><td>0.2   </td><td>setosa</td></tr>\n",
       "\t<tr><td>4.6   </td><td>3.1   </td><td>1.5   </td><td>0.2   </td><td>setosa</td></tr>\n",
       "\t<tr><td>5.0   </td><td>3.6   </td><td>1.4   </td><td>0.2   </td><td>setosa</td></tr>\n",
       "\t<tr><td>5.4   </td><td>3.9   </td><td>1.7   </td><td>0.4   </td><td>setosa</td></tr>\n",
       "</tbody>\n",
       "</table>\n"
      ],
      "text/latex": [
       "\\begin{tabular}{r|lllll}\n",
       " Sepal.Length & Sepal.Width & Petal.Length & Petal.Width & Species\\\\\n",
       "\\hline\n",
       "\t 5.1    & 3.5    & 1.4    & 0.2    & setosa\\\\\n",
       "\t 4.9    & 3.0    & 1.4    & 0.2    & setosa\\\\\n",
       "\t 4.7    & 3.2    & 1.3    & 0.2    & setosa\\\\\n",
       "\t 4.6    & 3.1    & 1.5    & 0.2    & setosa\\\\\n",
       "\t 5.0    & 3.6    & 1.4    & 0.2    & setosa\\\\\n",
       "\t 5.4    & 3.9    & 1.7    & 0.4    & setosa\\\\\n",
       "\\end{tabular}\n"
      ],
      "text/markdown": [
       "\n",
       "| Sepal.Length | Sepal.Width | Petal.Length | Petal.Width | Species |\n",
       "|---|---|---|---|---|\n",
       "| 5.1    | 3.5    | 1.4    | 0.2    | setosa |\n",
       "| 4.9    | 3.0    | 1.4    | 0.2    | setosa |\n",
       "| 4.7    | 3.2    | 1.3    | 0.2    | setosa |\n",
       "| 4.6    | 3.1    | 1.5    | 0.2    | setosa |\n",
       "| 5.0    | 3.6    | 1.4    | 0.2    | setosa |\n",
       "| 5.4    | 3.9    | 1.7    | 0.4    | setosa |\n",
       "\n"
      ],
      "text/plain": [
       "  Sepal.Length Sepal.Width Petal.Length Petal.Width Species\n",
       "1 5.1          3.5         1.4          0.2         setosa \n",
       "2 4.9          3.0         1.4          0.2         setosa \n",
       "3 4.7          3.2         1.3          0.2         setosa \n",
       "4 4.6          3.1         1.5          0.2         setosa \n",
       "5 5.0          3.6         1.4          0.2         setosa \n",
       "6 5.4          3.9         1.7          0.4         setosa "
      ]
     },
     "metadata": {},
     "output_type": "display_data"
    }
   ],
   "source": [
    "library(datasets)\n",
    "#Preview of the dataset\n",
    "head(iris)\n"
   ]
  },
  {
   "cell_type": "code",
   "execution_count": 2,
   "id": "appropriate-transaction",
   "metadata": {},
   "outputs": [
    {
     "name": "stdout",
     "output_type": "stream",
     "text": [
      "'data.frame':\t150 obs. of  5 variables:\n",
      " $ Sepal.Length: num  5.1 4.9 4.7 4.6 5 5.4 4.6 5 4.4 4.9 ...\n",
      " $ Sepal.Width : num  3.5 3 3.2 3.1 3.6 3.9 3.4 3.4 2.9 3.1 ...\n",
      " $ Petal.Length: num  1.4 1.4 1.3 1.5 1.4 1.7 1.4 1.5 1.4 1.5 ...\n",
      " $ Petal.Width : num  0.2 0.2 0.2 0.2 0.2 0.4 0.3 0.2 0.2 0.1 ...\n",
      " $ Species     : Factor w/ 3 levels \"setosa\",\"versicolor\",..: 1 1 1 1 1 1 1 1 1 1 ...\n"
     ]
    }
   ],
   "source": [
    "str(iris)"
   ]
  },
  {
   "cell_type": "code",
   "execution_count": 3,
   "id": "threatened-calgary",
   "metadata": {},
   "outputs": [
    {
     "data": {
      "image/png": "[encoded data removed]",
      "text/plain": [
       "plot without title"
      ]
     },
     "metadata": {},
     "output_type": "display_data"
    }
   ],
   "source": [
    "boxplot(iris)"
   ]
  },
  {
   "cell_type": "code",
   "execution_count": 4,
   "id": "rapid-pickup",
   "metadata": {},
   "outputs": [
    {
     "name": "stdout",
     "output_type": "stream",
     "text": [
      "[1] \"Population: \"\n",
      "  [1] 5.1 4.9 4.7 4.6 5.0 5.4 4.6 5.0 4.4 4.9 5.4 4.8 4.8 4.3 5.8 5.7 5.4 5.1\n",
      " [19] 5.7 5.1 5.4 5.1 4.6 5.1 4.8 5.0 5.0 5.2 5.2 4.7 4.8 5.4 5.2 5.5 4.9 5.0\n",
      " [37] 5.5 4.9 4.4 5.1 5.0 4.5 4.4 5.0 5.1 4.8 5.1 4.6 5.3 5.0 7.0 6.4 6.9 5.5\n",
      " [55] 6.5 5.7 6.3 4.9 6.6 5.2 5.0 5.9 6.0 6.1 5.6 6.7 5.6 5.8 6.2 5.6 5.9 6.1\n",
      " [73] 6.3 6.1 6.4 6.6 6.8 6.7 6.0 5.7 5.5 5.5 5.8 6.0 5.4 6.0 6.7 6.3 5.6 5.5\n",
      " [91] 5.5 6.1 5.8 5.0 5.6 5.7 5.7 6.2 5.1 5.7 6.3 5.8 7.1 6.3 6.5 7.6 4.9 7.3\n",
      "[109] 6.7 7.2 6.5 6.4 6.8 5.7 5.8 6.4 6.5 7.7 7.7 6.0 6.9 5.6 7.7 6.3 6.7 7.2\n",
      "[127] 6.2 6.1 6.4 7.2 7.4 7.9 6.4 6.3 6.1 7.7 6.3 6.4 6.0 6.9 6.7 6.9 5.8 6.8\n",
      "[145] 6.7 6.7 6.3 6.5 6.2 5.9\n"
     ]
    },
    {
     "data": {
      "text/html": [
       "<span style=white-space:pre-wrap>'Size of population =  150'</span>"
      ],
      "text/latex": [
       "'Size of population =  150'"
      ],
      "text/markdown": [
       "<span style=white-space:pre-wrap>'Size of population =  150'</span>"
      ],
      "text/plain": [
       "[1] \"Size of population =  150\""
      ]
     },
     "metadata": {},
     "output_type": "display_data"
    }
   ],
   "source": [
    "# Getting subset of data for conducting one-sample t-test\n",
    "one_sample_data = iris$Sepal.Length\n",
    "print(\"Population: \")\n",
    "print(one_sample_data)\n",
    "paste(\"Size of population = \",length(one_sample_data))"
   ]
  },
  {
   "cell_type": "code",
   "execution_count": 5,
   "id": "super-puzzle",
   "metadata": {},
   "outputs": [
    {
     "data": {
      "text/html": [
       "<span style=white-space:pre-wrap>'Mean of population =  5.84333333333333'</span>"
      ],
      "text/latex": [
       "'Mean of population =  5.84333333333333'"
      ],
      "text/markdown": [
       "<span style=white-space:pre-wrap>'Mean of population =  5.84333333333333'</span>"
      ],
      "text/plain": [
       "[1] \"Mean of population =  5.84333333333333\""
      ]
     },
     "metadata": {},
     "output_type": "display_data"
    },
    {
     "data": {
      "text/html": [
       "<span style=white-space:pre-wrap>'Standard Deviation of population =  0.828066127977863'</span>"
      ],
      "text/latex": [
       "'Standard Deviation of population =  0.828066127977863'"
      ],
      "text/markdown": [
       "<span style=white-space:pre-wrap>'Standard Deviation of population =  0.828066127977863'</span>"
      ],
      "text/plain": [
       "[1] \"Standard Deviation of population =  0.828066127977863\""
      ]
     },
     "metadata": {},
     "output_type": "display_data"
    }
   ],
   "source": [
    "#Getting the mean and standard deviation of the population\n",
    "mean_p = mean(one_sample_data)\n",
    "std_p = sd(one_sample_data)\n",
    "paste(\"Mean of population = \",mean_p)\n",
    "paste(\"Standard Deviation of population = \",std_p)"
   ]
  },
  {
   "cell_type": "code",
   "execution_count": 6,
   "id": "meaning-afghanistan",
   "metadata": {},
   "outputs": [
    {
     "name": "stdout",
     "output_type": "stream",
     "text": [
      "[1] \"Sample: \"\n",
      " [1] 5.8 5.4 5.0 5.0 5.0 5.1 4.6 4.8 5.8 6.4 5.2 5.4 5.0 5.6 4.7 6.1 6.5 7.7 6.5\n",
      "[20] 4.5\n"
     ]
    }
   ],
   "source": [
    "# Getting a sample of size 20 from the population\n",
    "one_sample = sample(one_sample_data, size=20, replace=F)\n",
    "print(\"Sample: \")\n",
    "print(one_sample)"
   ]
  },
  {
   "cell_type": "code",
   "execution_count": 7,
   "id": "prescription-holmes",
   "metadata": {},
   "outputs": [
    {
     "data": {
      "text/plain": [
       "\n",
       "\tOne Sample t-test\n",
       "\n",
       "data:  one_sample\n",
       "t = -1.8722, df = 19, p-value = 0.07665\n",
       "alternative hypothesis: true mean is not equal to 5.843333\n",
       "95 percent confidence interval:\n",
       " 5.126767 5.883233\n",
       "sample estimates:\n",
       "mean of x \n",
       "    5.505 \n"
      ]
     },
     "metadata": {},
     "output_type": "display_data"
    }
   ],
   "source": [
    "# Applying t-test using inbuilt function t.test()\n",
    "t.test(one_sample,mu=mean_p)"
   ]
  },
  {
   "cell_type": "code",
   "execution_count": 8,
   "id": "purple-apparatus",
   "metadata": {},
   "outputs": [
    {
     "name": "stderr",
     "output_type": "stream",
     "text": [
      "Warning message in wilcox.test.default(one_sample, mu = mean_p):\n",
      "\"cannot compute exact p-value with ties\""
     ]
    },
    {
     "data": {
      "text/plain": [
       "\n",
       "\tWilcoxon signed rank test with continuity correction\n",
       "\n",
       "data:  one_sample\n",
       "V = 50, p-value = 0.04166\n",
       "alternative hypothesis: true location is not equal to 5.843333\n"
      ]
     },
     "metadata": {},
     "output_type": "display_data"
    }
   ],
   "source": [
    "# Applying t-test using inbuilt function wilcox.test()\n",
    "wilcox.test(one_sample,mu=mean_p)"
   ]
  },
  {
   "cell_type": "code",
   "execution_count": 9,
   "id": "sealed-replacement",
   "metadata": {},
   "outputs": [
    {
     "name": "stdout",
     "output_type": "stream",
     "text": [
      "[1] \"Results of one-sample t-test:\"\n",
      "[1] \"t =  -1.87223105270198  df =  19  p-value =  0.0766489900464631\"\n",
      "[1] \"True mean =  5.84333333333333\"\n",
      "[1] \" - NULL Hypothesis: Sample mean is equal to true mean.\"\n",
      "[1] \" - Alternate Hypothesis: Sample mean is not equal to true mean.\"\n",
      "[1] \"Mean of sample =  5.505\"\n",
      "[1] \"Standard Deviation of sample =  0.80816556406925\"\n"
     ]
    }
   ],
   "source": [
    "# Using user-defined function to conduct one-sample t-test\n",
    "one_sample_t_test <- function(sampl, mu = 0, two_tailed=TRUE){\n",
    " n <- length(sampl)\n",
    " x_bar <- mean(sampl)\n",
    " s <- sd(sampl)\n",
    " t <- (x_bar - mu) / (s / sqrt(n))\n",
    " p_value <- pt(-abs(t),df=n-1)\n",
    " if(two_tailed == TRUE){\n",
    " p_value <- 2*p_value\n",
    " }\n",
    "\n",
    " print(\"Results of one-sample t-test:\")\n",
    " print(paste(\"t = \",t,\" df = \",n-1,\" p-value = \",p_value))\n",
    " print(paste(\"True mean = \",mu))\n",
    " print(paste(\" - NULL Hypothesis: Sample mean is equal to true mean.\"))\n",
    " print(paste(\" - Alternate Hypothesis: Sample mean is not equal to true mean.\"))\n",
    " print(paste(\"Mean of sample = \",x_bar))\n",
    " print(paste(\"Standard Deviation of sample = \",s))\n",
    "\n",
    "}\n",
    "one_sample_t_test(one_sample,mu=mean_p)"
   ]
  },
  {
   "cell_type": "code",
   "execution_count": 10,
   "id": "quarterly-vegetarian",
   "metadata": {},
   "outputs": [
    {
     "name": "stdout",
     "output_type": "stream",
     "text": [
      "[1] \"Results of one-sample t-test:\"\n",
      "[1] \"t =  -1.87223105270198  df =  19  p-value =  0.0383244950232315\"\n",
      "[1] \"True mean =  5.84333333333333\"\n",
      "[1] \" - NULL Hypothesis: Sample mean is equal to true mean.\"\n",
      "[1] \" - Alternate Hypothesis: Sample mean is not equal to true mean.\"\n",
      "[1] \"Mean of sample =  5.505\"\n",
      "[1] \"Standard Deviation of sample =  0.80816556406925\"\n"
     ]
    }
   ],
   "source": [
    "# One-tailed one-sample t-test\n",
    "one_sample_t_test(one_sample,mu=mean_p,two_tailed=FALSE)"
   ]
  },
  {
   "cell_type": "markdown",
   "id": "concrete-smile",
   "metadata": {},
   "source": [
    "### 2: Two sample t-test\n",
    "Dataset Used: The dataset used for this task is the same as above i.e. the ToothGrowth dataset from\n",
    "built-in datasets package of R.\n"
   ]
  },
  {
   "cell_type": "code",
   "execution_count": 11,
   "id": "disciplinary-monday",
   "metadata": {},
   "outputs": [
    {
     "name": "stdout",
     "output_type": "stream",
     "text": [
      "[1] \"Sample 1: \"\n",
      " [1] 5.1 4.9 4.7 4.6 5.0 5.4 4.6 5.0 4.4 4.9 5.4 4.8 4.8 4.3 5.8 5.7 5.4 5.1 5.7\n",
      "[20] 5.1 5.4 5.1 4.6 5.1 4.8 5.0 5.0 5.2 5.2 4.7 4.8 5.4 5.2 5.5 4.9 5.0 5.5 4.9\n",
      "[39] 4.4 5.1 5.0 4.5 4.4 5.0 5.1 4.8 5.1 4.6 5.3 5.0\n",
      "[1] \"Sample 2: \"\n",
      " [1] 7.0 6.4 6.9 5.5 6.5 5.7 6.3 4.9 6.6 5.2 5.0 5.9 6.0 6.1 5.6 6.7 5.6 5.8 6.2\n",
      "[20] 5.6 5.9 6.1 6.3 6.1 6.4 6.6 6.8 6.7 6.0 5.7 5.5 5.5 5.8 6.0 5.4 6.0 6.7 6.3\n",
      "[39] 5.6 5.5 5.5 6.1 5.8 5.0 5.6 5.7 5.7 6.2 5.1 5.7\n"
     ]
    }
   ],
   "source": [
    "#For two sample t-test, we'll compare the samples based on categories i.e. 'setosa' and 'versicolor'\n",
    "\n",
    "two_sample_1 = subset(iris,Species==\"setosa\",Sepal.Length,drop=T)\n",
    "two_sample_2 = subset(iris,Species==\"versicolor\",Sepal.Length,drop=T)\n",
    "print(\"Sample 1: \")\n",
    "print(two_sample_1)\n",
    "print(\"Sample 2: \")\n",
    "print(two_sample_2)"
   ]
  },
  {
   "cell_type": "code",
   "execution_count": 12,
   "id": "adjusted-initial",
   "metadata": {},
   "outputs": [
    {
     "data": {
      "text/plain": [
       "\n",
       "\tWelch Two Sample t-test\n",
       "\n",
       "data:  two_sample_1 and two_sample_2\n",
       "t = -10.521, df = 86.538, p-value < 2.2e-16\n",
       "alternative hypothesis: true difference in means is not equal to 0\n",
       "95 percent confidence interval:\n",
       " -1.1057074 -0.7542926\n",
       "sample estimates:\n",
       "mean of x mean of y \n",
       "    5.006     5.936 \n"
      ]
     },
     "metadata": {},
     "output_type": "display_data"
    }
   ],
   "source": [
    "# Performing t-test on two samples using t.test() function\n",
    "t.test(two_sample_1,two_sample_2)"
   ]
  },
  {
   "cell_type": "code",
   "execution_count": 13,
   "id": "imposed-rotation",
   "metadata": {},
   "outputs": [
    {
     "data": {
      "text/plain": [
       "\n",
       "\tWilcoxon rank sum test with continuity correction\n",
       "\n",
       "data:  two_sample_1 and two_sample_2\n",
       "W = 168.5, p-value = 8.346e-14\n",
       "alternative hypothesis: true location shift is not equal to 0\n"
      ]
     },
     "metadata": {},
     "output_type": "display_data"
    }
   ],
   "source": [
    "# Performing t-test on two samples using wilcox.test() function\n",
    "wilcox.test(two_sample_1, two_sample_2)"
   ]
  },
  {
   "cell_type": "code",
   "execution_count": 14,
   "id": "brilliant-temperature",
   "metadata": {},
   "outputs": [
    {
     "name": "stdout",
     "output_type": "stream",
     "text": [
      "[1] \"Results of two-sample t-test:\"\n",
      "[1] \"t =  -10.5209862675491  df =  98  p-value =  8.98523503748708e-18\"\n",
      "[1] \" - NULL Hypothesis: Difference in means of two samples is 0.\"\n",
      "[1] \" - Alternate Hypothesis: Difference in both sample means is not zero.\"\n",
      "[1] \"Mean of sample 1 =  5.006\"\n",
      "[1] \"Standard Deviation of sample 1 =  0.352489687213451\"\n",
      "[1] \"Mean of sample 2 =  5.936\"\n",
      "[1] \"Standard Deviation of sample 2 =  0.516171147063863\"\n"
     ]
    }
   ],
   "source": [
    "# User-defined function to conduct two-sample test\n",
    "two_sample_t_test <- function(sample1, sample2, two_tailed=TRUE){\n",
    " x_bar <- mean(sample1)\n",
    " y_bar <- mean(sample2)\n",
    " sx <- sd(sample1)\n",
    " sy <- sd(sample2)\n",
    " n1 <- length(sample1)\n",
    " n2 <- length(sample2)\n",
    "\n",
    " df <- n1+n2-2\n",
    "\n",
    " ss <- ((n1-1)*sx*sx + (n2-1)*sy*sy) / (n1+n2-2)\n",
    " s <- sqrt(ss)\n",
    "\n",
    " t <- (x_bar - y_bar) / (s * sqrt(1/n1 + 1/n2))\n",
    "\n",
    " p_value <- pt(-abs(t),df=df)\n",
    " if(two_tailed == TRUE){\n",
    " p_value <- 2*p_value\n",
    " }\n",
    "\n",
    " print(\"Results of two-sample t-test:\")\n",
    " print(paste(\"t = \",t,\" df = \",n1+n2-2,\" p-value = \",p_value))\n",
    "\n",
    " print(paste(\" - NULL Hypothesis: Difference in means of two samples is 0.\"))\n",
    " print(paste(\" - Alternate Hypothesis: Difference in both sample means is not zero.\"))\n",
    " print(paste(\"Mean of sample 1 = \",x_bar))\n",
    " print(paste(\"Standard Deviation of sample 1 = \",sx))\n",
    " print(paste(\"Mean of sample 2 = \",y_bar))\n",
    " print(paste(\"Standard Deviation of sample 2 = \",sy))\n",
    "\n",
    "}\n",
    "two_sample_t_test(two_sample_1, two_sample_2)"
   ]
  },
  {
   "cell_type": "markdown",
   "id": "cordless-divide",
   "metadata": {},
   "source": [
    "### 3. Paired t-test\n",
    "We will perform a 2 sample paired t-test to know if sepal length and sepal width mean are equal."
   ]
  },
  {
   "cell_type": "code",
   "execution_count": 15,
   "id": "earlier-david",
   "metadata": {},
   "outputs": [],
   "source": [
    "data_1=iris$Sepal.Length\n",
    "data_2=iris$Sepal.Width\n"
   ]
  },
  {
   "cell_type": "code",
   "execution_count": 16,
   "id": "ordered-blank",
   "metadata": {},
   "outputs": [
    {
     "data": {
      "text/plain": [
       "\n",
       "\tPaired t-test\n",
       "\n",
       "data:  data_1 and data_2\n",
       "t = 34.815, df = 149, p-value < 2.2e-16\n",
       "alternative hypothesis: true difference in means is not equal to 0\n",
       "95 percent confidence interval:\n",
       " 2.627874 2.944126\n",
       "sample estimates:\n",
       "mean of the differences \n",
       "                  2.786 \n"
      ]
     },
     "metadata": {},
     "output_type": "display_data"
    }
   ],
   "source": [
    "# Paired t-test using t.test() function\n",
    "t.test(data_1, data_2, paired = TRUE)\n"
   ]
  },
  {
   "cell_type": "code",
   "execution_count": 17,
   "id": "honest-electric",
   "metadata": {},
   "outputs": [
    {
     "data": {
      "text/plain": [
       "\n",
       "\tWilcoxon signed rank test with continuity correction\n",
       "\n",
       "data:  data_1 and data_2\n",
       "V = 11325, p-value < 2.2e-16\n",
       "alternative hypothesis: true location shift is not equal to 0\n"
      ]
     },
     "metadata": {},
     "output_type": "display_data"
    }
   ],
   "source": [
    "# Paired t-test using wilcox.test() function\n",
    "wilcox.test(data_1, data_2, paired = TRUE)"
   ]
  },
  {
   "cell_type": "code",
   "execution_count": 18,
   "id": "recognized-rendering",
   "metadata": {},
   "outputs": [
    {
     "name": "stdout",
     "output_type": "stream",
     "text": [
      "[1] \"Results of paired t-test:\"\n",
      "[1] \"t =  34.8151925708282  df =  149  p-value =  1.8495537347988e-73\"\n",
      "[1] \" - NULL Hypothesis: Difference in means of two samples is 0.\"\n",
      "[1] \" - Alternate Hypothesis: Difference in both sample means is not zero.\"\n",
      "[1] \"Mean of differences =  2.786\"\n",
      "[1] \"Standard Deviation of differences =  0.980071905319868\"\n"
     ]
    }
   ],
   "source": [
    "# User-defined function to conduct paired t-test\n",
    "paired_t_test <- function(X, Y, two_tailed=TRUE){\n",
    " D <- X-Y\n",
    " d_bar = mean(D)\n",
    " std_d = sd(D)\n",
    " n = length(D)\n",
    " df = n-1\n",
    "\n",
    " t <- d_bar / (std_d / sqrt(n))\n",
    "\n",
    " p_value <- pt(-abs(t),df=df)\n",
    " if(two_tailed == TRUE){\n",
    " p_value <- 2*p_value\n",
    " }\n",
    "\n",
    " print(\"Results of paired t-test:\")\n",
    " print(paste(\"t = \",t,\" df = \",df,\" p-value = \",p_value))\n",
    "\n",
    " print(paste(\" - NULL Hypothesis: Difference in means of two samples is 0.\"))\n",
    " print(paste(\" - Alternate Hypothesis: Difference in both sample means is not zero.\"))\n",
    " print(paste(\"Mean of differences = \",d_bar))\n",
    " print(paste(\"Standard Deviation of differences = \",std_d))\n",
    "}\n",
    "paired_t_test(data_1, data_2)"
   ]
  },
  {
   "cell_type": "code",
   "execution_count": 21,
   "id": "racial-deputy",
   "metadata": {},
   "outputs": [
    {
     "data": {
      "text/html": [
       "<table>\n",
       "<thead><tr><th scope=col>Sepal.Length</th><th scope=col>Sepal.Width</th><th scope=col>Petal.Length</th><th scope=col>Petal.Width</th><th scope=col>Species</th></tr></thead>\n",
       "<tbody>\n",
       "\t<tr><td>FALSE</td><td>FALSE</td><td>FALSE</td><td>FALSE</td><td>FALSE</td></tr>\n",
       "\t<tr><td>FALSE</td><td>FALSE</td><td>FALSE</td><td>FALSE</td><td>FALSE</td></tr>\n",
       "\t<tr><td>FALSE</td><td>FALSE</td><td>FALSE</td><td>FALSE</td><td>FALSE</td></tr>\n",
       "\t<tr><td>FALSE</td><td>FALSE</td><td>FALSE</td><td>FALSE</td><td>FALSE</td></tr>\n",
       "\t<tr><td>FALSE</td><td>FALSE</td><td>FALSE</td><td>FALSE</td><td>FALSE</td></tr>\n",
       "\t<tr><td>FALSE</td><td>FALSE</td><td>FALSE</td><td>FALSE</td><td>FALSE</td></tr>\n",
       "\t<tr><td>FALSE</td><td>FALSE</td><td>FALSE</td><td>FALSE</td><td>FALSE</td></tr>\n",
       "\t<tr><td>FALSE</td><td>FALSE</td><td>FALSE</td><td>FALSE</td><td>FALSE</td></tr>\n",
       "\t<tr><td>FALSE</td><td>FALSE</td><td>FALSE</td><td>FALSE</td><td>FALSE</td></tr>\n",
       "\t<tr><td>FALSE</td><td>FALSE</td><td>FALSE</td><td>FALSE</td><td>FALSE</td></tr>\n",
       "\t<tr><td>FALSE</td><td>FALSE</td><td>FALSE</td><td>FALSE</td><td>FALSE</td></tr>\n",
       "\t<tr><td>FALSE</td><td>FALSE</td><td>FALSE</td><td>FALSE</td><td>FALSE</td></tr>\n",
       "\t<tr><td>FALSE</td><td>FALSE</td><td>FALSE</td><td>FALSE</td><td>FALSE</td></tr>\n",
       "\t<tr><td>FALSE</td><td>FALSE</td><td>FALSE</td><td>FALSE</td><td>FALSE</td></tr>\n",
       "\t<tr><td>FALSE</td><td>FALSE</td><td>FALSE</td><td>FALSE</td><td>FALSE</td></tr>\n",
       "\t<tr><td>FALSE</td><td>FALSE</td><td>FALSE</td><td>FALSE</td><td>FALSE</td></tr>\n",
       "\t<tr><td>FALSE</td><td>FALSE</td><td>FALSE</td><td>FALSE</td><td>FALSE</td></tr>\n",
       "\t<tr><td>FALSE</td><td>FALSE</td><td>FALSE</td><td>FALSE</td><td>FALSE</td></tr>\n",
       "\t<tr><td>FALSE</td><td>FALSE</td><td>FALSE</td><td>FALSE</td><td>FALSE</td></tr>\n",
       "\t<tr><td>FALSE</td><td>FALSE</td><td>FALSE</td><td>FALSE</td><td>FALSE</td></tr>\n",
       "\t<tr><td>FALSE</td><td>FALSE</td><td>FALSE</td><td>FALSE</td><td>FALSE</td></tr>\n",
       "\t<tr><td>FALSE</td><td>FALSE</td><td>FALSE</td><td>FALSE</td><td>FALSE</td></tr>\n",
       "\t<tr><td>FALSE</td><td>FALSE</td><td>FALSE</td><td>FALSE</td><td>FALSE</td></tr>\n",
       "\t<tr><td>FALSE</td><td>FALSE</td><td>FALSE</td><td>FALSE</td><td>FALSE</td></tr>\n",
       "\t<tr><td>FALSE</td><td>FALSE</td><td>FALSE</td><td>FALSE</td><td>FALSE</td></tr>\n",
       "\t<tr><td>FALSE</td><td>FALSE</td><td>FALSE</td><td>FALSE</td><td>FALSE</td></tr>\n",
       "\t<tr><td>FALSE</td><td>FALSE</td><td>FALSE</td><td>FALSE</td><td>FALSE</td></tr>\n",
       "\t<tr><td>FALSE</td><td>FALSE</td><td>FALSE</td><td>FALSE</td><td>FALSE</td></tr>\n",
       "\t<tr><td>FALSE</td><td>FALSE</td><td>FALSE</td><td>FALSE</td><td>FALSE</td></tr>\n",
       "\t<tr><td>FALSE</td><td>FALSE</td><td>FALSE</td><td>FALSE</td><td>FALSE</td></tr>\n",
       "\t<tr><td>...</td><td>...</td><td>...</td><td>...</td><td>...</td></tr>\n",
       "\t<tr><td>FALSE</td><td>FALSE</td><td>FALSE</td><td>FALSE</td><td>FALSE</td></tr>\n",
       "\t<tr><td>FALSE</td><td>FALSE</td><td>FALSE</td><td>FALSE</td><td>FALSE</td></tr>\n",
       "\t<tr><td>FALSE</td><td>FALSE</td><td>FALSE</td><td>FALSE</td><td>FALSE</td></tr>\n",
       "\t<tr><td>FALSE</td><td>FALSE</td><td>FALSE</td><td>FALSE</td><td>FALSE</td></tr>\n",
       "\t<tr><td>FALSE</td><td>FALSE</td><td>FALSE</td><td>FALSE</td><td>FALSE</td></tr>\n",
       "\t<tr><td>FALSE</td><td>FALSE</td><td>FALSE</td><td>FALSE</td><td>FALSE</td></tr>\n",
       "\t<tr><td>FALSE</td><td>FALSE</td><td>FALSE</td><td>FALSE</td><td>FALSE</td></tr>\n",
       "\t<tr><td>FALSE</td><td>FALSE</td><td>FALSE</td><td>FALSE</td><td>FALSE</td></tr>\n",
       "\t<tr><td>FALSE</td><td>FALSE</td><td>FALSE</td><td>FALSE</td><td>FALSE</td></tr>\n",
       "\t<tr><td>FALSE</td><td>FALSE</td><td>FALSE</td><td>FALSE</td><td>FALSE</td></tr>\n",
       "\t<tr><td>FALSE</td><td>FALSE</td><td>FALSE</td><td>FALSE</td><td>FALSE</td></tr>\n",
       "\t<tr><td>FALSE</td><td>FALSE</td><td>FALSE</td><td>FALSE</td><td>FALSE</td></tr>\n",
       "\t<tr><td>FALSE</td><td>FALSE</td><td>FALSE</td><td>FALSE</td><td>FALSE</td></tr>\n",
       "\t<tr><td>FALSE</td><td>FALSE</td><td>FALSE</td><td>FALSE</td><td>FALSE</td></tr>\n",
       "\t<tr><td>FALSE</td><td>FALSE</td><td>FALSE</td><td>FALSE</td><td>FALSE</td></tr>\n",
       "\t<tr><td>FALSE</td><td>FALSE</td><td>FALSE</td><td>FALSE</td><td>FALSE</td></tr>\n",
       "\t<tr><td>FALSE</td><td>FALSE</td><td>FALSE</td><td>FALSE</td><td>FALSE</td></tr>\n",
       "\t<tr><td>FALSE</td><td>FALSE</td><td>FALSE</td><td>FALSE</td><td>FALSE</td></tr>\n",
       "\t<tr><td>FALSE</td><td>FALSE</td><td>FALSE</td><td>FALSE</td><td>FALSE</td></tr>\n",
       "\t<tr><td>FALSE</td><td>FALSE</td><td>FALSE</td><td>FALSE</td><td>FALSE</td></tr>\n",
       "\t<tr><td>FALSE</td><td>FALSE</td><td>FALSE</td><td>FALSE</td><td>FALSE</td></tr>\n",
       "\t<tr><td>FALSE</td><td>FALSE</td><td>FALSE</td><td>FALSE</td><td>FALSE</td></tr>\n",
       "\t<tr><td>FALSE</td><td>FALSE</td><td>FALSE</td><td>FALSE</td><td>FALSE</td></tr>\n",
       "\t<tr><td>FALSE</td><td>FALSE</td><td>FALSE</td><td>FALSE</td><td>FALSE</td></tr>\n",
       "\t<tr><td>FALSE</td><td>FALSE</td><td>FALSE</td><td>FALSE</td><td>FALSE</td></tr>\n",
       "\t<tr><td>FALSE</td><td>FALSE</td><td>FALSE</td><td>FALSE</td><td>FALSE</td></tr>\n",
       "\t<tr><td>FALSE</td><td>FALSE</td><td>FALSE</td><td>FALSE</td><td>FALSE</td></tr>\n",
       "\t<tr><td>FALSE</td><td>FALSE</td><td>FALSE</td><td>FALSE</td><td>FALSE</td></tr>\n",
       "\t<tr><td>FALSE</td><td>FALSE</td><td>FALSE</td><td>FALSE</td><td>FALSE</td></tr>\n",
       "\t<tr><td>FALSE</td><td>FALSE</td><td>FALSE</td><td>FALSE</td><td>FALSE</td></tr>\n",
       "</tbody>\n",
       "</table>\n"
      ],
      "text/latex": [
       "\\begin{tabular}{lllll}\n",
       " Sepal.Length & Sepal.Width & Petal.Length & Petal.Width & Species\\\\\n",
       "\\hline\n",
       "\t FALSE & FALSE & FALSE & FALSE & FALSE\\\\\n",
       "\t FALSE & FALSE & FALSE & FALSE & FALSE\\\\\n",
       "\t FALSE & FALSE & FALSE & FALSE & FALSE\\\\\n",
       "\t FALSE & FALSE & FALSE & FALSE & FALSE\\\\\n",
       "\t FALSE & FALSE & FALSE & FALSE & FALSE\\\\\n",
       "\t FALSE & FALSE & FALSE & FALSE & FALSE\\\\\n",
       "\t FALSE & FALSE & FALSE & FALSE & FALSE\\\\\n",
       "\t FALSE & FALSE & FALSE & FALSE & FALSE\\\\\n",
       "\t FALSE & FALSE & FALSE & FALSE & FALSE\\\\\n",
       "\t FALSE & FALSE & FALSE & FALSE & FALSE\\\\\n",
       "\t FALSE & FALSE & FALSE & FALSE & FALSE\\\\\n",
       "\t FALSE & FALSE & FALSE & FALSE & FALSE\\\\\n",
       "\t FALSE & FALSE & FALSE & FALSE & FALSE\\\\\n",
       "\t FALSE & FALSE & FALSE & FALSE & FALSE\\\\\n",
       "\t FALSE & FALSE & FALSE & FALSE & FALSE\\\\\n",
       "\t FALSE & FALSE & FALSE & FALSE & FALSE\\\\\n",
       "\t FALSE & FALSE & FALSE & FALSE & FALSE\\\\\n",
       "\t FALSE & FALSE & FALSE & FALSE & FALSE\\\\\n",
       "\t FALSE & FALSE & FALSE & FALSE & FALSE\\\\\n",
       "\t FALSE & FALSE & FALSE & FALSE & FALSE\\\\\n",
       "\t FALSE & FALSE & FALSE & FALSE & FALSE\\\\\n",
       "\t FALSE & FALSE & FALSE & FALSE & FALSE\\\\\n",
       "\t FALSE & FALSE & FALSE & FALSE & FALSE\\\\\n",
       "\t FALSE & FALSE & FALSE & FALSE & FALSE\\\\\n",
       "\t FALSE & FALSE & FALSE & FALSE & FALSE\\\\\n",
       "\t FALSE & FALSE & FALSE & FALSE & FALSE\\\\\n",
       "\t FALSE & FALSE & FALSE & FALSE & FALSE\\\\\n",
       "\t FALSE & FALSE & FALSE & FALSE & FALSE\\\\\n",
       "\t FALSE & FALSE & FALSE & FALSE & FALSE\\\\\n",
       "\t FALSE & FALSE & FALSE & FALSE & FALSE\\\\\n",
       "\t ... & ... & ... & ... & ...\\\\\n",
       "\t FALSE & FALSE & FALSE & FALSE & FALSE\\\\\n",
       "\t FALSE & FALSE & FALSE & FALSE & FALSE\\\\\n",
       "\t FALSE & FALSE & FALSE & FALSE & FALSE\\\\\n",
       "\t FALSE & FALSE & FALSE & FALSE & FALSE\\\\\n",
       "\t FALSE & FALSE & FALSE & FALSE & FALSE\\\\\n",
       "\t FALSE & FALSE & FALSE & FALSE & FALSE\\\\\n",
       "\t FALSE & FALSE & FALSE & FALSE & FALSE\\\\\n",
       "\t FALSE & FALSE & FALSE & FALSE & FALSE\\\\\n",
       "\t FALSE & FALSE & FALSE & FALSE & FALSE\\\\\n",
       "\t FALSE & FALSE & FALSE & FALSE & FALSE\\\\\n",
       "\t FALSE & FALSE & FALSE & FALSE & FALSE\\\\\n",
       "\t FALSE & FALSE & FALSE & FALSE & FALSE\\\\\n",
       "\t FALSE & FALSE & FALSE & FALSE & FALSE\\\\\n",
       "\t FALSE & FALSE & FALSE & FALSE & FALSE\\\\\n",
       "\t FALSE & FALSE & FALSE & FALSE & FALSE\\\\\n",
       "\t FALSE & FALSE & FALSE & FALSE & FALSE\\\\\n",
       "\t FALSE & FALSE & FALSE & FALSE & FALSE\\\\\n",
       "\t FALSE & FALSE & FALSE & FALSE & FALSE\\\\\n",
       "\t FALSE & FALSE & FALSE & FALSE & FALSE\\\\\n",
       "\t FALSE & FALSE & FALSE & FALSE & FALSE\\\\\n",
       "\t FALSE & FALSE & FALSE & FALSE & FALSE\\\\\n",
       "\t FALSE & FALSE & FALSE & FALSE & FALSE\\\\\n",
       "\t FALSE & FALSE & FALSE & FALSE & FALSE\\\\\n",
       "\t FALSE & FALSE & FALSE & FALSE & FALSE\\\\\n",
       "\t FALSE & FALSE & FALSE & FALSE & FALSE\\\\\n",
       "\t FALSE & FALSE & FALSE & FALSE & FALSE\\\\\n",
       "\t FALSE & FALSE & FALSE & FALSE & FALSE\\\\\n",
       "\t FALSE & FALSE & FALSE & FALSE & FALSE\\\\\n",
       "\t FALSE & FALSE & FALSE & FALSE & FALSE\\\\\n",
       "\t FALSE & FALSE & FALSE & FALSE & FALSE\\\\\n",
       "\\end{tabular}\n"
      ],
      "text/markdown": [
       "\n",
       "| Sepal.Length | Sepal.Width | Petal.Length | Petal.Width | Species |\n",
       "|---|---|---|---|---|\n",
       "| FALSE | FALSE | FALSE | FALSE | FALSE |\n",
       "| FALSE | FALSE | FALSE | FALSE | FALSE |\n",
       "| FALSE | FALSE | FALSE | FALSE | FALSE |\n",
       "| FALSE | FALSE | FALSE | FALSE | FALSE |\n",
       "| FALSE | FALSE | FALSE | FALSE | FALSE |\n",
       "| FALSE | FALSE | FALSE | FALSE | FALSE |\n",
       "| FALSE | FALSE | FALSE | FALSE | FALSE |\n",
       "| FALSE | FALSE | FALSE | FALSE | FALSE |\n",
       "| FALSE | FALSE | FALSE | FALSE | FALSE |\n",
       "| FALSE | FALSE | FALSE | FALSE | FALSE |\n",
       "| FALSE | FALSE | FALSE | FALSE | FALSE |\n",
       "| FALSE | FALSE | FALSE | FALSE | FALSE |\n",
       "| FALSE | FALSE | FALSE | FALSE | FALSE |\n",
       "| FALSE | FALSE | FALSE | FALSE | FALSE |\n",
       "| FALSE | FALSE | FALSE | FALSE | FALSE |\n",
       "| FALSE | FALSE | FALSE | FALSE | FALSE |\n",
       "| FALSE | FALSE | FALSE | FALSE | FALSE |\n",
       "| FALSE | FALSE | FALSE | FALSE | FALSE |\n",
       "| FALSE | FALSE | FALSE | FALSE | FALSE |\n",
       "| FALSE | FALSE | FALSE | FALSE | FALSE |\n",
       "| FALSE | FALSE | FALSE | FALSE | FALSE |\n",
       "| FALSE | FALSE | FALSE | FALSE | FALSE |\n",
       "| FALSE | FALSE | FALSE | FALSE | FALSE |\n",
       "| FALSE | FALSE | FALSE | FALSE | FALSE |\n",
       "| FALSE | FALSE | FALSE | FALSE | FALSE |\n",
       "| FALSE | FALSE | FALSE | FALSE | FALSE |\n",
       "| FALSE | FALSE | FALSE | FALSE | FALSE |\n",
       "| FALSE | FALSE | FALSE | FALSE | FALSE |\n",
       "| FALSE | FALSE | FALSE | FALSE | FALSE |\n",
       "| FALSE | FALSE | FALSE | FALSE | FALSE |\n",
       "| ... | ... | ... | ... | ... |\n",
       "| FALSE | FALSE | FALSE | FALSE | FALSE |\n",
       "| FALSE | FALSE | FALSE | FALSE | FALSE |\n",
       "| FALSE | FALSE | FALSE | FALSE | FALSE |\n",
       "| FALSE | FALSE | FALSE | FALSE | FALSE |\n",
       "| FALSE | FALSE | FALSE | FALSE | FALSE |\n",
       "| FALSE | FALSE | FALSE | FALSE | FALSE |\n",
       "| FALSE | FALSE | FALSE | FALSE | FALSE |\n",
       "| FALSE | FALSE | FALSE | FALSE | FALSE |\n",
       "| FALSE | FALSE | FALSE | FALSE | FALSE |\n",
       "| FALSE | FALSE | FALSE | FALSE | FALSE |\n",
       "| FALSE | FALSE | FALSE | FALSE | FALSE |\n",
       "| FALSE | FALSE | FALSE | FALSE | FALSE |\n",
       "| FALSE | FALSE | FALSE | FALSE | FALSE |\n",
       "| FALSE | FALSE | FALSE | FALSE | FALSE |\n",
       "| FALSE | FALSE | FALSE | FALSE | FALSE |\n",
       "| FALSE | FALSE | FALSE | FALSE | FALSE |\n",
       "| FALSE | FALSE | FALSE | FALSE | FALSE |\n",
       "| FALSE | FALSE | FALSE | FALSE | FALSE |\n",
       "| FALSE | FALSE | FALSE | FALSE | FALSE |\n",
       "| FALSE | FALSE | FALSE | FALSE | FALSE |\n",
       "| FALSE | FALSE | FALSE | FALSE | FALSE |\n",
       "| FALSE | FALSE | FALSE | FALSE | FALSE |\n",
       "| FALSE | FALSE | FALSE | FALSE | FALSE |\n",
       "| FALSE | FALSE | FALSE | FALSE | FALSE |\n",
       "| FALSE | FALSE | FALSE | FALSE | FALSE |\n",
       "| FALSE | FALSE | FALSE | FALSE | FALSE |\n",
       "| FALSE | FALSE | FALSE | FALSE | FALSE |\n",
       "| FALSE | FALSE | FALSE | FALSE | FALSE |\n",
       "| FALSE | FALSE | FALSE | FALSE | FALSE |\n",
       "| FALSE | FALSE | FALSE | FALSE | FALSE |\n",
       "\n"
      ],
      "text/plain": [
       "      Sepal.Length Sepal.Width Petal.Length Petal.Width Species\n",
       " [1,] FALSE        FALSE       FALSE        FALSE       FALSE  \n",
       " [2,] FALSE        FALSE       FALSE        FALSE       FALSE  \n",
       " [3,] FALSE        FALSE       FALSE        FALSE       FALSE  \n",
       " [4,] FALSE        FALSE       FALSE        FALSE       FALSE  \n",
       " [5,] FALSE        FALSE       FALSE        FALSE       FALSE  \n",
       " [6,] FALSE        FALSE       FALSE        FALSE       FALSE  \n",
       " [7,] FALSE        FALSE       FALSE        FALSE       FALSE  \n",
       " [8,] FALSE        FALSE       FALSE        FALSE       FALSE  \n",
       " [9,] FALSE        FALSE       FALSE        FALSE       FALSE  \n",
       "[10,] FALSE        FALSE       FALSE        FALSE       FALSE  \n",
       "[11,] FALSE        FALSE       FALSE        FALSE       FALSE  \n",
       "[12,] FALSE        FALSE       FALSE        FALSE       FALSE  \n",
       "[13,] FALSE        FALSE       FALSE        FALSE       FALSE  \n",
       "[14,] FALSE        FALSE       FALSE        FALSE       FALSE  \n",
       "[15,] FALSE        FALSE       FALSE        FALSE       FALSE  \n",
       "[16,] FALSE        FALSE       FALSE        FALSE       FALSE  \n",
       "[17,] FALSE        FALSE       FALSE        FALSE       FALSE  \n",
       "[18,] FALSE        FALSE       FALSE        FALSE       FALSE  \n",
       "[19,] FALSE        FALSE       FALSE        FALSE       FALSE  \n",
       "[20,] FALSE        FALSE       FALSE        FALSE       FALSE  \n",
       "[21,] FALSE        FALSE       FALSE        FALSE       FALSE  \n",
       "[22,] FALSE        FALSE       FALSE        FALSE       FALSE  \n",
       "[23,] FALSE        FALSE       FALSE        FALSE       FALSE  \n",
       "[24,] FALSE        FALSE       FALSE        FALSE       FALSE  \n",
       "[25,] FALSE        FALSE       FALSE        FALSE       FALSE  \n",
       "[26,] FALSE        FALSE       FALSE        FALSE       FALSE  \n",
       "[27,] FALSE        FALSE       FALSE        FALSE       FALSE  \n",
       "[28,] FALSE        FALSE       FALSE        FALSE       FALSE  \n",
       "[29,] FALSE        FALSE       FALSE        FALSE       FALSE  \n",
       "[30,] FALSE        FALSE       FALSE        FALSE       FALSE  \n",
       "[31,] ...          ...         ...          ...         ...    \n",
       "[32,] FALSE        FALSE       FALSE        FALSE       FALSE  \n",
       "[33,] FALSE        FALSE       FALSE        FALSE       FALSE  \n",
       "[34,] FALSE        FALSE       FALSE        FALSE       FALSE  \n",
       "[35,] FALSE        FALSE       FALSE        FALSE       FALSE  \n",
       "[36,] FALSE        FALSE       FALSE        FALSE       FALSE  \n",
       "[37,] FALSE        FALSE       FALSE        FALSE       FALSE  \n",
       "[38,] FALSE        FALSE       FALSE        FALSE       FALSE  \n",
       "[39,] FALSE        FALSE       FALSE        FALSE       FALSE  \n",
       "[40,] FALSE        FALSE       FALSE        FALSE       FALSE  \n",
       "[41,] FALSE        FALSE       FALSE        FALSE       FALSE  \n",
       "[42,] FALSE        FALSE       FALSE        FALSE       FALSE  \n",
       "[43,] FALSE        FALSE       FALSE        FALSE       FALSE  \n",
       "[44,] FALSE        FALSE       FALSE        FALSE       FALSE  \n",
       "[45,] FALSE        FALSE       FALSE        FALSE       FALSE  \n",
       "[46,] FALSE        FALSE       FALSE        FALSE       FALSE  \n",
       "[47,] FALSE        FALSE       FALSE        FALSE       FALSE  \n",
       "[48,] FALSE        FALSE       FALSE        FALSE       FALSE  \n",
       "[49,] FALSE        FALSE       FALSE        FALSE       FALSE  \n",
       "[50,] FALSE        FALSE       FALSE        FALSE       FALSE  \n",
       "[51,] FALSE        FALSE       FALSE        FALSE       FALSE  \n",
       "[52,] FALSE        FALSE       FALSE        FALSE       FALSE  \n",
       "[53,] FALSE        FALSE       FALSE        FALSE       FALSE  \n",
       "[54,] FALSE        FALSE       FALSE        FALSE       FALSE  \n",
       "[55,] FALSE        FALSE       FALSE        FALSE       FALSE  \n",
       "[56,] FALSE        FALSE       FALSE        FALSE       FALSE  \n",
       "[57,] FALSE        FALSE       FALSE        FALSE       FALSE  \n",
       "[58,] FALSE        FALSE       FALSE        FALSE       FALSE  \n",
       "[59,] FALSE        FALSE       FALSE        FALSE       FALSE  \n",
       "[60,] FALSE        FALSE       FALSE        FALSE       FALSE  \n",
       "[61,] FALSE        FALSE       FALSE        FALSE       FALSE  "
      ]
     },
     "metadata": {},
     "output_type": "display_data"
    }
   ],
   "source": []
  },
  {
   "cell_type": "code",
   "execution_count": 22,
   "id": "hungry-player",
   "metadata": {},
   "outputs": [
    {
     "data": {
      "text/plain": [
       "\n",
       "\tOne Sample t-test\n",
       "\n",
       "data:  one_sample\n",
       "t = -1.8722, df = 19, p-value = 0.07665\n",
       "alternative hypothesis: true mean is not equal to 5.843333\n",
       "95 percent confidence interval:\n",
       " 5.126767 5.883233\n",
       "sample estimates:\n",
       "mean of x \n",
       "    5.505 \n"
      ]
     },
     "metadata": {},
     "output_type": "display_data"
    }
   ],
   "source": [
    "t.test(one_sample, mu=mean_p)"
   ]
  },
  {
   "cell_type": "code",
   "execution_count": 24,
   "id": "union-worcester",
   "metadata": {},
   "outputs": [
    {
     "name": "stderr",
     "output_type": "stream",
     "text": [
      "Warning message in wilcox.test.default(one_sample, mu = mean_p):\n",
      "\"cannot compute exact p-value with ties\""
     ]
    },
    {
     "data": {
      "text/plain": [
       "\n",
       "\tWilcoxon signed rank test with continuity correction\n",
       "\n",
       "data:  one_sample\n",
       "V = 50, p-value = 0.04166\n",
       "alternative hypothesis: true location is not equal to 5.843333\n"
      ]
     },
     "metadata": {},
     "output_type": "display_data"
    }
   ],
   "source": [
    "wilcox.test(one_sample,mu=mean_p)"
   ]
  },
  {
   "cell_type": "code",
   "execution_count": 25,
   "id": "impaired-orbit",
   "metadata": {},
   "outputs": [
    {
     "ename": "ERROR",
     "evalue": "Error in library(plotrix): there is no package called 'plotrix'\n",
     "output_type": "error",
     "traceback": [
      "Error in library(plotrix): there is no package called 'plotrix'\nTraceback:\n",
      "1. library(plotrix)"
     ]
    }
   ],
   "source": [
    "library(plotrix)"
   ]
  },
  {
   "cell_type": "code",
   "execution_count": null,
   "id": "human-stationery",
   "metadata": {},
   "outputs": [],
   "source": []
  }
 ],
 "metadata": {
  "kernelspec": {
   "display_name": "R",
   "language": "R",
   "name": "ir"
  },
  "language_info": {
   "codemirror_mode": "r",
   "file_extension": ".r",
   "mimetype": "text/x-r-source",
   "name": "R",
   "pygments_lexer": "r",
   "version": "3.6.1"
  }
 },
 "nbformat": 4,
 "nbformat_minor": 5
}
