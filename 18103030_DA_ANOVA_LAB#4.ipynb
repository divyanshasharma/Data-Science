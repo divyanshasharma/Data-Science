{
 "cells": [
  {
   "cell_type": "markdown",
   "id": "declared-donor",
   "metadata": {},
   "source": [
    "### Select a suitable dataset for following test of significance (Hypothesis testing), and interpret output parameters and their significance with respect to the selected data set and Hypothesis.\n",
    "\n",
    "##### ● One Way ANOVA\n",
    "\n",
    "##### ● Two Way ANOVA\n",
    "\n",
    "##### Task to be performed using two different methods.\n",
    "##### 1. Use inbuilt function aov().\n",
    "##### 2. Design your own functions to perform the above stated task."
   ]
  },
  {
   "cell_type": "code",
   "execution_count": 1,
   "id": "regulated-delay",
   "metadata": {},
   "outputs": [],
   "source": [
    "#Importing the datasets pakage\n",
    "library(datasets)"
   ]
  },
  {
   "cell_type": "code",
   "execution_count": 2,
   "id": "actual-cargo",
   "metadata": {},
   "outputs": [
    {
     "data": {
      "text/html": [
       "<table>\n",
       "<thead><tr><th></th><th scope=col>mpg</th><th scope=col>cyl</th><th scope=col>disp</th><th scope=col>hp</th><th scope=col>drat</th><th scope=col>wt</th><th scope=col>qsec</th><th scope=col>vs</th><th scope=col>am</th><th scope=col>gear</th><th scope=col>carb</th></tr></thead>\n",
       "<tbody>\n",
       "\t<tr><th scope=row>Mazda RX4</th><td>21.0 </td><td>6    </td><td>160  </td><td>110  </td><td>3.90 </td><td>2.620</td><td>16.46</td><td>0    </td><td>1    </td><td>4    </td><td>4    </td></tr>\n",
       "\t<tr><th scope=row>Mazda RX4 Wag</th><td>21.0 </td><td>6    </td><td>160  </td><td>110  </td><td>3.90 </td><td>2.875</td><td>17.02</td><td>0    </td><td>1    </td><td>4    </td><td>4    </td></tr>\n",
       "\t<tr><th scope=row>Datsun 710</th><td>22.8 </td><td>4    </td><td>108  </td><td> 93  </td><td>3.85 </td><td>2.320</td><td>18.61</td><td>1    </td><td>1    </td><td>4    </td><td>1    </td></tr>\n",
       "\t<tr><th scope=row>Hornet 4 Drive</th><td>21.4 </td><td>6    </td><td>258  </td><td>110  </td><td>3.08 </td><td>3.215</td><td>19.44</td><td>1    </td><td>0    </td><td>3    </td><td>1    </td></tr>\n",
       "\t<tr><th scope=row>Hornet Sportabout</th><td>18.7 </td><td>8    </td><td>360  </td><td>175  </td><td>3.15 </td><td>3.440</td><td>17.02</td><td>0    </td><td>0    </td><td>3    </td><td>2    </td></tr>\n",
       "\t<tr><th scope=row>Valiant</th><td>18.1 </td><td>6    </td><td>225  </td><td>105  </td><td>2.76 </td><td>3.460</td><td>20.22</td><td>1    </td><td>0    </td><td>3    </td><td>1    </td></tr>\n",
       "</tbody>\n",
       "</table>\n"
      ],
      "text/latex": [
       "\\begin{tabular}{r|lllllllllll}\n",
       "  & mpg & cyl & disp & hp & drat & wt & qsec & vs & am & gear & carb\\\\\n",
       "\\hline\n",
       "\tMazda RX4 & 21.0  & 6     & 160   & 110   & 3.90  & 2.620 & 16.46 & 0     & 1     & 4     & 4    \\\\\n",
       "\tMazda RX4 Wag & 21.0  & 6     & 160   & 110   & 3.90  & 2.875 & 17.02 & 0     & 1     & 4     & 4    \\\\\n",
       "\tDatsun 710 & 22.8  & 4     & 108   &  93   & 3.85  & 2.320 & 18.61 & 1     & 1     & 4     & 1    \\\\\n",
       "\tHornet 4 Drive & 21.4  & 6     & 258   & 110   & 3.08  & 3.215 & 19.44 & 1     & 0     & 3     & 1    \\\\\n",
       "\tHornet Sportabout & 18.7  & 8     & 360   & 175   & 3.15  & 3.440 & 17.02 & 0     & 0     & 3     & 2    \\\\\n",
       "\tValiant & 18.1  & 6     & 225   & 105   & 2.76  & 3.460 & 20.22 & 1     & 0     & 3     & 1    \\\\\n",
       "\\end{tabular}\n"
      ],
      "text/markdown": [
       "\n",
       "| <!--/--> | mpg | cyl | disp | hp | drat | wt | qsec | vs | am | gear | carb |\n",
       "|---|---|---|---|---|---|---|---|---|---|---|---|\n",
       "| Mazda RX4 | 21.0  | 6     | 160   | 110   | 3.90  | 2.620 | 16.46 | 0     | 1     | 4     | 4     |\n",
       "| Mazda RX4 Wag | 21.0  | 6     | 160   | 110   | 3.90  | 2.875 | 17.02 | 0     | 1     | 4     | 4     |\n",
       "| Datsun 710 | 22.8  | 4     | 108   |  93   | 3.85  | 2.320 | 18.61 | 1     | 1     | 4     | 1     |\n",
       "| Hornet 4 Drive | 21.4  | 6     | 258   | 110   | 3.08  | 3.215 | 19.44 | 1     | 0     | 3     | 1     |\n",
       "| Hornet Sportabout | 18.7  | 8     | 360   | 175   | 3.15  | 3.440 | 17.02 | 0     | 0     | 3     | 2     |\n",
       "| Valiant | 18.1  | 6     | 225   | 105   | 2.76  | 3.460 | 20.22 | 1     | 0     | 3     | 1     |\n",
       "\n"
      ],
      "text/plain": [
       "                  mpg  cyl disp hp  drat wt    qsec  vs am gear carb\n",
       "Mazda RX4         21.0 6   160  110 3.90 2.620 16.46 0  1  4    4   \n",
       "Mazda RX4 Wag     21.0 6   160  110 3.90 2.875 17.02 0  1  4    4   \n",
       "Datsun 710        22.8 4   108   93 3.85 2.320 18.61 1  1  4    1   \n",
       "Hornet 4 Drive    21.4 6   258  110 3.08 3.215 19.44 1  0  3    1   \n",
       "Hornet Sportabout 18.7 8   360  175 3.15 3.440 17.02 0  0  3    2   \n",
       "Valiant           18.1 6   225  105 2.76 3.460 20.22 1  0  3    1   "
      ]
     },
     "metadata": {},
     "output_type": "display_data"
    }
   ],
   "source": [
    "#Getting the top few rows of the mtcars dataset\n",
    "head(mtcars)"
   ]
  },
  {
   "cell_type": "code",
   "execution_count": 3,
   "id": "restricted-third",
   "metadata": {},
   "outputs": [
    {
     "name": "stdout",
     "output_type": "stream",
     "text": [
      "'data.frame':\t32 obs. of  11 variables:\n",
      " $ mpg : num  21 21 22.8 21.4 18.7 18.1 14.3 24.4 22.8 19.2 ...\n",
      " $ cyl : num  6 6 4 6 8 6 8 4 4 6 ...\n",
      " $ disp: num  160 160 108 258 360 ...\n",
      " $ hp  : num  110 110 93 110 175 105 245 62 95 123 ...\n",
      " $ drat: num  3.9 3.9 3.85 3.08 3.15 2.76 3.21 3.69 3.92 3.92 ...\n",
      " $ wt  : num  2.62 2.88 2.32 3.21 3.44 ...\n",
      " $ qsec: num  16.5 17 18.6 19.4 17 ...\n",
      " $ vs  : num  0 0 1 1 0 1 0 1 1 1 ...\n",
      " $ am  : num  1 1 1 0 0 0 0 0 0 0 ...\n",
      " $ gear: num  4 4 4 3 3 3 3 4 4 4 ...\n",
      " $ carb: num  4 4 1 1 2 1 4 2 2 4 ...\n"
     ]
    }
   ],
   "source": [
    "#Printing the structure of data\n",
    "str(mtcars)"
   ]
  },
  {
   "cell_type": "markdown",
   "id": "informal-contents",
   "metadata": {},
   "source": [
    "Considering the columns: 'mpg', 'vs' and 'am', where 'mpg' is the dependent variable and 'vs' and 'am' are the independent variables.\n",
    "\n",
    "### One-way Anova testing\n"
   ]
  },
  {
   "cell_type": "code",
   "execution_count": 4,
   "id": "registered-conservation",
   "metadata": {},
   "outputs": [
    {
     "data": {
      "text/plain": [
       "            Df Sum Sq Mean Sq F value   Pr(>F)    \n",
       "vs           1  496.5   496.5   23.66 3.42e-05 ***\n",
       "Residuals   30  629.5    21.0                     \n",
       "---\n",
       "Signif. codes:  0 '***' 0.001 '**' 0.01 '*' 0.05 '.' 0.1 ' ' 1"
      ]
     },
     "metadata": {},
     "output_type": "display_data"
    }
   ],
   "source": [
    "#Using aov function on columns: mpg and vs\n",
    "summary(aov(formula = mpg~vs,data = mtcars))"
   ]
  },
  {
   "cell_type": "code",
   "execution_count": 5,
   "id": "prime-morocco",
   "metadata": {},
   "outputs": [
    {
     "data": {
      "text/plain": [
       "Call:\n",
       "   aov(formula = mpg ~ vs, data = mtcars)\n",
       "\n",
       "Terms:\n",
       "                      vs Residuals\n",
       "Sum of Squares  496.5279  629.5193\n",
       "Deg. of Freedom        1        30\n",
       "\n",
       "Residual standard error: 4.580827\n",
       "Estimated effects may be unbalanced"
      ]
     },
     "metadata": {},
     "output_type": "display_data"
    }
   ],
   "source": [
    "aov(formula = mpg~vs,data = mtcars)"
   ]
  },
  {
   "cell_type": "code",
   "execution_count": 6,
   "id": "graphic-chicago",
   "metadata": {},
   "outputs": [
    {
     "name": "stdout",
     "output_type": "stream",
     "text": [
      "[1] \"Calculated F-value =  23.6622410013536\"\n",
      "[1] \"Tabulated F-value with 5% significance level:  4.17087678576669\"\n"
     ]
    },
    {
     "data": {
      "text/html": [
       "<table>\n",
       "<thead><tr><th scope=col>Source.of.variation</th><th scope=col>Degree.of.Freedom</th><th scope=col>Sum.of.Squares</th><th scope=col>Mean.sum.of.Squares</th></tr></thead>\n",
       "<tbody>\n",
       "\t<tr><td>Between Classes</td><td> 1             </td><td> 496.5279      </td><td>496.52790      </td></tr>\n",
       "\t<tr><td>Within Classes </td><td>30             </td><td> 629.5193      </td><td> 20.98398      </td></tr>\n",
       "\t<tr><td>Total          </td><td>31             </td><td>1126.0472      </td><td>517.51188      </td></tr>\n",
       "</tbody>\n",
       "</table>\n"
      ],
      "text/latex": [
       "\\begin{tabular}{r|llll}\n",
       " Source.of.variation & Degree.of.Freedom & Sum.of.Squares & Mean.sum.of.Squares\\\\\n",
       "\\hline\n",
       "\t Between Classes &  1              &  496.5279       & 496.52790      \\\\\n",
       "\t Within Classes  & 30              &  629.5193       &  20.98398      \\\\\n",
       "\t Total           & 31              & 1126.0472       & 517.51188      \\\\\n",
       "\\end{tabular}\n"
      ],
      "text/markdown": [
       "\n",
       "| Source.of.variation | Degree.of.Freedom | Sum.of.Squares | Mean.sum.of.Squares |\n",
       "|---|---|---|---|\n",
       "| Between Classes |  1              |  496.5279       | 496.52790       |\n",
       "| Within Classes  | 30              |  629.5193       |  20.98398       |\n",
       "| Total           | 31              | 1126.0472       | 517.51188       |\n",
       "\n"
      ],
      "text/plain": [
       "  Source.of.variation Degree.of.Freedom Sum.of.Squares Mean.sum.of.Squares\n",
       "1 Between Classes      1                 496.5279      496.52790          \n",
       "2 Within Classes      30                 629.5193       20.98398          \n",
       "3 Total               31                1126.0472      517.51188          "
      ]
     },
     "metadata": {},
     "output_type": "display_data"
    }
   ],
   "source": [
    "#Writing custom function for one-way anova\n",
    "one_way_anova <- function(x, y) {\n",
    " # x is the first attribute (categorical) , y is the second attribute (numer\n",
    " n <- length(y)\n",
    "\n",
    " #Getting number of unique classes in the categorical attribute\n",
    " k <- length(unique(x))\n",
    " classes <- unique(x)\n",
    "\n",
    " #Getting mean of data corresponding to each class and\n",
    " #calculating the value of sum of squares within classes (WSS) alongside.\n",
    "\n",
    " yi <- c()\n",
    " ni <- c()\n",
    " wss <- 0\n",
    " for(i in c(1:k)){\n",
    " yi[i] <- mean(y[x==classes[i]])\n",
    " ni[i] <- length(y[x==classes[i]])\n",
    " wss = wss + sum((y[x==classes[i]]-yi[i])**2)\n",
    " }\n",
    "\n",
    " #Overall mean of data\n",
    " y_overall <- mean(y)\n",
    "\n",
    " #Calculating anova parameters\n",
    " bss <- sum(ni*(yi-y_overall)**2)\n",
    " msb <- bss / (k-1)\n",
    " msw <- wss / (n-k)\n",
    "\n",
    " #Putting together in the dataframe\n",
    " anova <- data.frame(\n",
    " \"Source of variation\" = c(\"Between Classes\",\"Within Classes\",\"Total\"),\n",
    " \"Degree of Freedom\" = c(k-1,n-k,n-1),\n",
    " \"Sum of Squares\" = c(bss, wss, bss+wss),\n",
    " \"Mean sum of Squares\" = c(msb, msw, msb+msw),\n",
    " stringsAsFactors = FALSE\n",
    " )\n",
    "\n",
    " #Calculating and printing f-ratio\n",
    " f_ratio <- msb/msw\n",
    " print(paste(\"Calculated F-value = \",f_ratio))\n",
    " print(paste(\"Tabulated F-value with 5% significance level: \",(qf(0.95,k-1 ,n-k))))\n",
    " return(anova)\n",
    "}\n",
    "one_way_anova(mtcars$vs,mtcars$mpg)"
   ]
  },
  {
   "cell_type": "markdown",
   "id": "pregnant-harvey",
   "metadata": {},
   "source": [
    "### Two-way Anova Testing\n"
   ]
  },
  {
   "cell_type": "code",
   "execution_count": 7,
   "id": "dramatic-peeing",
   "metadata": {},
   "outputs": [
    {
     "data": {
      "text/plain": [
       "Call:\n",
       "   aov(formula = mpg ~ vs + am, data = mtcars)\n",
       "\n",
       "Terms:\n",
       "                      vs       am Residuals\n",
       "Sum of Squares  496.5279 276.0333  353.4860\n",
       "Deg. of Freedom        1        1        29\n",
       "\n",
       "Residual standard error: 3.491299\n",
       "Estimated effects may be unbalanced"
      ]
     },
     "metadata": {},
     "output_type": "display_data"
    }
   ],
   "source": [
    "\n",
    "# Using built-in aov function\n",
    "aov(mpg~vs+am,data = mtcars)\n"
   ]
  },
  {
   "cell_type": "code",
   "execution_count": 8,
   "id": "swiss-relative",
   "metadata": {},
   "outputs": [
    {
     "data": {
      "text/plain": [
       "                     Df Sum Sq Mean Sq F value   Pr(>F)    \n",
       "as.factor(mtcars$vs)  1  496.5   496.5   40.73 5.61e-07 ***\n",
       "as.factor(mtcars$am)  1  276.0   276.0   22.65 4.96e-05 ***\n",
       "Residuals            29  353.5    12.2                     \n",
       "---\n",
       "Signif. codes:  0 '***' 0.001 '**' 0.01 '*' 0.05 '.' 0.1 ' ' 1"
      ]
     },
     "metadata": {},
     "output_type": "display_data"
    }
   ],
   "source": [
    "summary(aov(mtcars$mpg~as.factor(mtcars$vs)+as.factor(mtcars$am)))"
   ]
  },
  {
   "cell_type": "code",
   "execution_count": null,
   "id": "egyptian-bikini",
   "metadata": {},
   "outputs": [],
   "source": []
  }
 ],
 "metadata": {
  "kernelspec": {
   "display_name": "R",
   "language": "R",
   "name": "ir"
  },
  "language_info": {
   "codemirror_mode": "r",
   "file_extension": ".r",
   "mimetype": "text/x-r-source",
   "name": "R",
   "pygments_lexer": "r",
   "version": "3.6.1"
  }
 },
 "nbformat": 4,
 "nbformat_minor": 5
}
