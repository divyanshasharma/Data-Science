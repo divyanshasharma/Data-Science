{
 "cells": [
  {
   "cell_type": "markdown",
   "id": "civil-wellington",
   "metadata": {},
   "source": [
    "#### Task:\n",
    "To check the understanding of proximity measures, distance matrix, distance measures, cosine similarity and graphical analysis of data.\n",
    "#### Dataset Details:\n",
    "The dataset being used in the following notebook is the <a href=\"https://stat.ethz.ch/R-manual/R-devel/library/datasets/html/mtcars.html\">Motor Trend Car Road Tests</a> dataset available in the built-in datasets package of R.\n",
    "\n",
    "#### Importing and exploring the datase"
   ]
  },
  {
   "cell_type": "code",
   "execution_count": 1,
   "id": "according-climb",
   "metadata": {},
   "outputs": [
    {
     "data": {
      "text/html": [
       "<table>\n",
       "<thead><tr><th></th><th scope=col>mpg</th><th scope=col>cyl</th><th scope=col>disp</th><th scope=col>hp</th><th scope=col>drat</th><th scope=col>wt</th><th scope=col>qsec</th><th scope=col>vs</th><th scope=col>am</th><th scope=col>gear</th><th scope=col>carb</th></tr></thead>\n",
       "<tbody>\n",
       "\t<tr><th scope=row>Mazda RX4</th><td>21.0 </td><td>6    </td><td>160  </td><td>110  </td><td>3.90 </td><td>2.620</td><td>16.46</td><td>0    </td><td>1    </td><td>4    </td><td>4    </td></tr>\n",
       "\t<tr><th scope=row>Mazda RX4 Wag</th><td>21.0 </td><td>6    </td><td>160  </td><td>110  </td><td>3.90 </td><td>2.875</td><td>17.02</td><td>0    </td><td>1    </td><td>4    </td><td>4    </td></tr>\n",
       "\t<tr><th scope=row>Datsun 710</th><td>22.8 </td><td>4    </td><td>108  </td><td> 93  </td><td>3.85 </td><td>2.320</td><td>18.61</td><td>1    </td><td>1    </td><td>4    </td><td>1    </td></tr>\n",
       "\t<tr><th scope=row>Hornet 4 Drive</th><td>21.4 </td><td>6    </td><td>258  </td><td>110  </td><td>3.08 </td><td>3.215</td><td>19.44</td><td>1    </td><td>0    </td><td>3    </td><td>1    </td></tr>\n",
       "\t<tr><th scope=row>Hornet Sportabout</th><td>18.7 </td><td>8    </td><td>360  </td><td>175  </td><td>3.15 </td><td>3.440</td><td>17.02</td><td>0    </td><td>0    </td><td>3    </td><td>2    </td></tr>\n",
       "\t<tr><th scope=row>Valiant</th><td>18.1 </td><td>6    </td><td>225  </td><td>105  </td><td>2.76 </td><td>3.460</td><td>20.22</td><td>1    </td><td>0    </td><td>3    </td><td>1    </td></tr>\n",
       "</tbody>\n",
       "</table>\n"
      ],
      "text/latex": [
       "\\begin{tabular}{r|lllllllllll}\n",
       "  & mpg & cyl & disp & hp & drat & wt & qsec & vs & am & gear & carb\\\\\n",
       "\\hline\n",
       "\tMazda RX4 & 21.0  & 6     & 160   & 110   & 3.90  & 2.620 & 16.46 & 0     & 1     & 4     & 4    \\\\\n",
       "\tMazda RX4 Wag & 21.0  & 6     & 160   & 110   & 3.90  & 2.875 & 17.02 & 0     & 1     & 4     & 4    \\\\\n",
       "\tDatsun 710 & 22.8  & 4     & 108   &  93   & 3.85  & 2.320 & 18.61 & 1     & 1     & 4     & 1    \\\\\n",
       "\tHornet 4 Drive & 21.4  & 6     & 258   & 110   & 3.08  & 3.215 & 19.44 & 1     & 0     & 3     & 1    \\\\\n",
       "\tHornet Sportabout & 18.7  & 8     & 360   & 175   & 3.15  & 3.440 & 17.02 & 0     & 0     & 3     & 2    \\\\\n",
       "\tValiant & 18.1  & 6     & 225   & 105   & 2.76  & 3.460 & 20.22 & 1     & 0     & 3     & 1    \\\\\n",
       "\\end{tabular}\n"
      ],
      "text/markdown": [
       "\n",
       "| <!--/--> | mpg | cyl | disp | hp | drat | wt | qsec | vs | am | gear | carb |\n",
       "|---|---|---|---|---|---|---|---|---|---|---|---|\n",
       "| Mazda RX4 | 21.0  | 6     | 160   | 110   | 3.90  | 2.620 | 16.46 | 0     | 1     | 4     | 4     |\n",
       "| Mazda RX4 Wag | 21.0  | 6     | 160   | 110   | 3.90  | 2.875 | 17.02 | 0     | 1     | 4     | 4     |\n",
       "| Datsun 710 | 22.8  | 4     | 108   |  93   | 3.85  | 2.320 | 18.61 | 1     | 1     | 4     | 1     |\n",
       "| Hornet 4 Drive | 21.4  | 6     | 258   | 110   | 3.08  | 3.215 | 19.44 | 1     | 0     | 3     | 1     |\n",
       "| Hornet Sportabout | 18.7  | 8     | 360   | 175   | 3.15  | 3.440 | 17.02 | 0     | 0     | 3     | 2     |\n",
       "| Valiant | 18.1  | 6     | 225   | 105   | 2.76  | 3.460 | 20.22 | 1     | 0     | 3     | 1     |\n",
       "\n"
      ],
      "text/plain": [
       "                  mpg  cyl disp hp  drat wt    qsec  vs am gear carb\n",
       "Mazda RX4         21.0 6   160  110 3.90 2.620 16.46 0  1  4    4   \n",
       "Mazda RX4 Wag     21.0 6   160  110 3.90 2.875 17.02 0  1  4    4   \n",
       "Datsun 710        22.8 4   108   93 3.85 2.320 18.61 1  1  4    1   \n",
       "Hornet 4 Drive    21.4 6   258  110 3.08 3.215 19.44 1  0  3    1   \n",
       "Hornet Sportabout 18.7 8   360  175 3.15 3.440 17.02 0  0  3    2   \n",
       "Valiant           18.1 6   225  105 2.76 3.460 20.22 1  0  3    1   "
      ]
     },
     "metadata": {},
     "output_type": "display_data"
    }
   ],
   "source": [
    "#Importing the datasets package\n",
    "library(datasets)\n",
    "#Preview of the dataset \n",
    "head(mtcars)"
   ]
  },
  {
   "cell_type": "code",
   "execution_count": 2,
   "id": "leading-attraction",
   "metadata": {},
   "outputs": [
    {
     "name": "stdout",
     "output_type": "stream",
     "text": [
      "'data.frame':\t32 obs. of  11 variables:\n",
      " $ mpg : num  21 21 22.8 21.4 18.7 18.1 14.3 24.4 22.8 19.2 ...\n",
      " $ cyl : num  6 6 4 6 8 6 8 4 4 6 ...\n",
      " $ disp: num  160 160 108 258 360 ...\n",
      " $ hp  : num  110 110 93 110 175 105 245 62 95 123 ...\n",
      " $ drat: num  3.9 3.9 3.85 3.08 3.15 2.76 3.21 3.69 3.92 3.92 ...\n",
      " $ wt  : num  2.62 2.88 2.32 3.21 3.44 ...\n",
      " $ qsec: num  16.5 17 18.6 19.4 17 ...\n",
      " $ vs  : num  0 0 1 1 0 1 0 1 1 1 ...\n",
      " $ am  : num  1 1 1 0 0 0 0 0 0 0 ...\n",
      " $ gear: num  4 4 4 3 3 3 3 4 4 4 ...\n",
      " $ carb: num  4 4 1 1 2 1 4 2 2 4 ...\n"
     ]
    }
   ],
   "source": [
    "#Exploring the structure of data\n",
    "str(mtcars)"
   ]
  },
  {
   "cell_type": "markdown",
   "id": "civic-spine",
   "metadata": {},
   "source": [
    "##### Here we can see that the data consists of 32 observations and 11 attributes i.e. mpg, cyl, disp...\n",
    "##### [ 1]\tmpg\tMiles/(US) gallon\n",
    "##### [ 2]\tcyl\tNumber of cylinders\n",
    "##### [ 3]\tdisp\tDisplacement (cu.in.)\n",
    "##### [ 4]\thp\tGross horsepower\n",
    "##### [ 5]\tdrat\tRear axle ratio\n",
    "##### [ 6]\twt\tWeight (1000 lbs)\n",
    "##### [ 7]\tqsec\t1/4 mile time\n",
    "##### [ 8]\tvs\tEngine (0 = V-shaped, 1 = straight)\n",
    "##### [ 9]\tam\tTransmission (0 = automatic, 1 = manual)\n",
    "##### [10]\tgear\tNumber of forward gears\n",
    "##### [11]\tcarb\tNumber of carburetors\n"
   ]
  },
  {
   "cell_type": "code",
   "execution_count": 3,
   "id": "chinese-boston",
   "metadata": {},
   "outputs": [
    {
     "data": {
      "text/plain": [
       "      mpg             cyl             disp             hp       \n",
       " Min.   :10.40   Min.   :4.000   Min.   : 71.1   Min.   : 52.0  \n",
       " 1st Qu.:15.43   1st Qu.:4.000   1st Qu.:120.8   1st Qu.: 96.5  \n",
       " Median :19.20   Median :6.000   Median :196.3   Median :123.0  \n",
       " Mean   :20.09   Mean   :6.188   Mean   :230.7   Mean   :146.7  \n",
       " 3rd Qu.:22.80   3rd Qu.:8.000   3rd Qu.:326.0   3rd Qu.:180.0  \n",
       " Max.   :33.90   Max.   :8.000   Max.   :472.0   Max.   :335.0  \n",
       "      drat             wt             qsec             vs        \n",
       " Min.   :2.760   Min.   :1.513   Min.   :14.50   Min.   :0.0000  \n",
       " 1st Qu.:3.080   1st Qu.:2.581   1st Qu.:16.89   1st Qu.:0.0000  \n",
       " Median :3.695   Median :3.325   Median :17.71   Median :0.0000  \n",
       " Mean   :3.597   Mean   :3.217   Mean   :17.85   Mean   :0.4375  \n",
       " 3rd Qu.:3.920   3rd Qu.:3.610   3rd Qu.:18.90   3rd Qu.:1.0000  \n",
       " Max.   :4.930   Max.   :5.424   Max.   :22.90   Max.   :1.0000  \n",
       "       am              gear            carb      \n",
       " Min.   :0.0000   Min.   :3.000   Min.   :1.000  \n",
       " 1st Qu.:0.0000   1st Qu.:3.000   1st Qu.:2.000  \n",
       " Median :0.0000   Median :4.000   Median :2.000  \n",
       " Mean   :0.4062   Mean   :3.688   Mean   :2.812  \n",
       " 3rd Qu.:1.0000   3rd Qu.:4.000   3rd Qu.:4.000  \n",
       " Max.   :1.0000   Max.   :5.000   Max.   :8.000  "
      ]
     },
     "metadata": {},
     "output_type": "display_data"
    }
   ],
   "source": [
    "summary(mtcars)\n"
   ]
  },
  {
   "cell_type": "code",
   "execution_count": 4,
   "id": "divided-romance",
   "metadata": {},
   "outputs": [
    {
     "data": {
      "text/html": [
       "<table>\n",
       "<thead><tr><th></th><th scope=col>mpg</th><th scope=col>cyl</th><th scope=col>disp</th><th scope=col>hp</th><th scope=col>drat</th><th scope=col>wt</th><th scope=col>qsec</th><th scope=col>vs</th><th scope=col>am</th><th scope=col>gear</th><th scope=col>carb</th></tr></thead>\n",
       "<tbody>\n",
       "\t<tr><th scope=row>Mazda RX4</th><td>FALSE</td><td>FALSE</td><td>FALSE</td><td>FALSE</td><td>FALSE</td><td>FALSE</td><td>FALSE</td><td>FALSE</td><td>FALSE</td><td>FALSE</td><td>FALSE</td></tr>\n",
       "\t<tr><th scope=row>Mazda RX4 Wag</th><td>FALSE</td><td>FALSE</td><td>FALSE</td><td>FALSE</td><td>FALSE</td><td>FALSE</td><td>FALSE</td><td>FALSE</td><td>FALSE</td><td>FALSE</td><td>FALSE</td></tr>\n",
       "\t<tr><th scope=row>Datsun 710</th><td>FALSE</td><td>FALSE</td><td>FALSE</td><td>FALSE</td><td>FALSE</td><td>FALSE</td><td>FALSE</td><td>FALSE</td><td>FALSE</td><td>FALSE</td><td>FALSE</td></tr>\n",
       "\t<tr><th scope=row>Hornet 4 Drive</th><td>FALSE</td><td>FALSE</td><td>FALSE</td><td>FALSE</td><td>FALSE</td><td>FALSE</td><td>FALSE</td><td>FALSE</td><td>FALSE</td><td>FALSE</td><td>FALSE</td></tr>\n",
       "\t<tr><th scope=row>Hornet Sportabout</th><td>FALSE</td><td>FALSE</td><td>FALSE</td><td>FALSE</td><td>FALSE</td><td>FALSE</td><td>FALSE</td><td>FALSE</td><td>FALSE</td><td>FALSE</td><td>FALSE</td></tr>\n",
       "\t<tr><th scope=row>Valiant</th><td>FALSE</td><td>FALSE</td><td>FALSE</td><td>FALSE</td><td>FALSE</td><td>FALSE</td><td>FALSE</td><td>FALSE</td><td>FALSE</td><td>FALSE</td><td>FALSE</td></tr>\n",
       "\t<tr><th scope=row>Duster 360</th><td>FALSE</td><td>FALSE</td><td>FALSE</td><td>FALSE</td><td>FALSE</td><td>FALSE</td><td>FALSE</td><td>FALSE</td><td>FALSE</td><td>FALSE</td><td>FALSE</td></tr>\n",
       "\t<tr><th scope=row>Merc 240D</th><td>FALSE</td><td>FALSE</td><td>FALSE</td><td>FALSE</td><td>FALSE</td><td>FALSE</td><td>FALSE</td><td>FALSE</td><td>FALSE</td><td>FALSE</td><td>FALSE</td></tr>\n",
       "\t<tr><th scope=row>Merc 230</th><td>FALSE</td><td>FALSE</td><td>FALSE</td><td>FALSE</td><td>FALSE</td><td>FALSE</td><td>FALSE</td><td>FALSE</td><td>FALSE</td><td>FALSE</td><td>FALSE</td></tr>\n",
       "\t<tr><th scope=row>Merc 280</th><td>FALSE</td><td>FALSE</td><td>FALSE</td><td>FALSE</td><td>FALSE</td><td>FALSE</td><td>FALSE</td><td>FALSE</td><td>FALSE</td><td>FALSE</td><td>FALSE</td></tr>\n",
       "\t<tr><th scope=row>Merc 280C</th><td>FALSE</td><td>FALSE</td><td>FALSE</td><td>FALSE</td><td>FALSE</td><td>FALSE</td><td>FALSE</td><td>FALSE</td><td>FALSE</td><td>FALSE</td><td>FALSE</td></tr>\n",
       "\t<tr><th scope=row>Merc 450SE</th><td>FALSE</td><td>FALSE</td><td>FALSE</td><td>FALSE</td><td>FALSE</td><td>FALSE</td><td>FALSE</td><td>FALSE</td><td>FALSE</td><td>FALSE</td><td>FALSE</td></tr>\n",
       "\t<tr><th scope=row>Merc 450SL</th><td>FALSE</td><td>FALSE</td><td>FALSE</td><td>FALSE</td><td>FALSE</td><td>FALSE</td><td>FALSE</td><td>FALSE</td><td>FALSE</td><td>FALSE</td><td>FALSE</td></tr>\n",
       "\t<tr><th scope=row>Merc 450SLC</th><td>FALSE</td><td>FALSE</td><td>FALSE</td><td>FALSE</td><td>FALSE</td><td>FALSE</td><td>FALSE</td><td>FALSE</td><td>FALSE</td><td>FALSE</td><td>FALSE</td></tr>\n",
       "\t<tr><th scope=row>Cadillac Fleetwood</th><td>FALSE</td><td>FALSE</td><td>FALSE</td><td>FALSE</td><td>FALSE</td><td>FALSE</td><td>FALSE</td><td>FALSE</td><td>FALSE</td><td>FALSE</td><td>FALSE</td></tr>\n",
       "\t<tr><th scope=row>Lincoln Continental</th><td>FALSE</td><td>FALSE</td><td>FALSE</td><td>FALSE</td><td>FALSE</td><td>FALSE</td><td>FALSE</td><td>FALSE</td><td>FALSE</td><td>FALSE</td><td>FALSE</td></tr>\n",
       "\t<tr><th scope=row>Chrysler Imperial</th><td>FALSE</td><td>FALSE</td><td>FALSE</td><td>FALSE</td><td>FALSE</td><td>FALSE</td><td>FALSE</td><td>FALSE</td><td>FALSE</td><td>FALSE</td><td>FALSE</td></tr>\n",
       "\t<tr><th scope=row>Fiat 128</th><td>FALSE</td><td>FALSE</td><td>FALSE</td><td>FALSE</td><td>FALSE</td><td>FALSE</td><td>FALSE</td><td>FALSE</td><td>FALSE</td><td>FALSE</td><td>FALSE</td></tr>\n",
       "\t<tr><th scope=row>Honda Civic</th><td>FALSE</td><td>FALSE</td><td>FALSE</td><td>FALSE</td><td>FALSE</td><td>FALSE</td><td>FALSE</td><td>FALSE</td><td>FALSE</td><td>FALSE</td><td>FALSE</td></tr>\n",
       "\t<tr><th scope=row>Toyota Corolla</th><td>FALSE</td><td>FALSE</td><td>FALSE</td><td>FALSE</td><td>FALSE</td><td>FALSE</td><td>FALSE</td><td>FALSE</td><td>FALSE</td><td>FALSE</td><td>FALSE</td></tr>\n",
       "\t<tr><th scope=row>Toyota Corona</th><td>FALSE</td><td>FALSE</td><td>FALSE</td><td>FALSE</td><td>FALSE</td><td>FALSE</td><td>FALSE</td><td>FALSE</td><td>FALSE</td><td>FALSE</td><td>FALSE</td></tr>\n",
       "\t<tr><th scope=row>Dodge Challenger</th><td>FALSE</td><td>FALSE</td><td>FALSE</td><td>FALSE</td><td>FALSE</td><td>FALSE</td><td>FALSE</td><td>FALSE</td><td>FALSE</td><td>FALSE</td><td>FALSE</td></tr>\n",
       "\t<tr><th scope=row>AMC Javelin</th><td>FALSE</td><td>FALSE</td><td>FALSE</td><td>FALSE</td><td>FALSE</td><td>FALSE</td><td>FALSE</td><td>FALSE</td><td>FALSE</td><td>FALSE</td><td>FALSE</td></tr>\n",
       "\t<tr><th scope=row>Camaro Z28</th><td>FALSE</td><td>FALSE</td><td>FALSE</td><td>FALSE</td><td>FALSE</td><td>FALSE</td><td>FALSE</td><td>FALSE</td><td>FALSE</td><td>FALSE</td><td>FALSE</td></tr>\n",
       "\t<tr><th scope=row>Pontiac Firebird</th><td>FALSE</td><td>FALSE</td><td>FALSE</td><td>FALSE</td><td>FALSE</td><td>FALSE</td><td>FALSE</td><td>FALSE</td><td>FALSE</td><td>FALSE</td><td>FALSE</td></tr>\n",
       "\t<tr><th scope=row>Fiat X1-9</th><td>FALSE</td><td>FALSE</td><td>FALSE</td><td>FALSE</td><td>FALSE</td><td>FALSE</td><td>FALSE</td><td>FALSE</td><td>FALSE</td><td>FALSE</td><td>FALSE</td></tr>\n",
       "\t<tr><th scope=row>Porsche 914-2</th><td>FALSE</td><td>FALSE</td><td>FALSE</td><td>FALSE</td><td>FALSE</td><td>FALSE</td><td>FALSE</td><td>FALSE</td><td>FALSE</td><td>FALSE</td><td>FALSE</td></tr>\n",
       "\t<tr><th scope=row>Lotus Europa</th><td>FALSE</td><td>FALSE</td><td>FALSE</td><td>FALSE</td><td>FALSE</td><td>FALSE</td><td>FALSE</td><td>FALSE</td><td>FALSE</td><td>FALSE</td><td>FALSE</td></tr>\n",
       "\t<tr><th scope=row>Ford Pantera L</th><td>FALSE</td><td>FALSE</td><td>FALSE</td><td>FALSE</td><td>FALSE</td><td>FALSE</td><td>FALSE</td><td>FALSE</td><td>FALSE</td><td>FALSE</td><td>FALSE</td></tr>\n",
       "\t<tr><th scope=row>Ferrari Dino</th><td>FALSE</td><td>FALSE</td><td>FALSE</td><td>FALSE</td><td>FALSE</td><td>FALSE</td><td>FALSE</td><td>FALSE</td><td>FALSE</td><td>FALSE</td><td>FALSE</td></tr>\n",
       "\t<tr><th scope=row>Maserati Bora</th><td>FALSE</td><td>FALSE</td><td>FALSE</td><td>FALSE</td><td>FALSE</td><td>FALSE</td><td>FALSE</td><td>FALSE</td><td>FALSE</td><td>FALSE</td><td>FALSE</td></tr>\n",
       "\t<tr><th scope=row>Volvo 142E</th><td>FALSE</td><td>FALSE</td><td>FALSE</td><td>FALSE</td><td>FALSE</td><td>FALSE</td><td>FALSE</td><td>FALSE</td><td>FALSE</td><td>FALSE</td><td>FALSE</td></tr>\n",
       "</tbody>\n",
       "</table>\n"
      ],
      "text/latex": [
       "\\begin{tabular}{r|lllllllllll}\n",
       "  & mpg & cyl & disp & hp & drat & wt & qsec & vs & am & gear & carb\\\\\n",
       "\\hline\n",
       "\tMazda RX4 & FALSE & FALSE & FALSE & FALSE & FALSE & FALSE & FALSE & FALSE & FALSE & FALSE & FALSE\\\\\n",
       "\tMazda RX4 Wag & FALSE & FALSE & FALSE & FALSE & FALSE & FALSE & FALSE & FALSE & FALSE & FALSE & FALSE\\\\\n",
       "\tDatsun 710 & FALSE & FALSE & FALSE & FALSE & FALSE & FALSE & FALSE & FALSE & FALSE & FALSE & FALSE\\\\\n",
       "\tHornet 4 Drive & FALSE & FALSE & FALSE & FALSE & FALSE & FALSE & FALSE & FALSE & FALSE & FALSE & FALSE\\\\\n",
       "\tHornet Sportabout & FALSE & FALSE & FALSE & FALSE & FALSE & FALSE & FALSE & FALSE & FALSE & FALSE & FALSE\\\\\n",
       "\tValiant & FALSE & FALSE & FALSE & FALSE & FALSE & FALSE & FALSE & FALSE & FALSE & FALSE & FALSE\\\\\n",
       "\tDuster 360 & FALSE & FALSE & FALSE & FALSE & FALSE & FALSE & FALSE & FALSE & FALSE & FALSE & FALSE\\\\\n",
       "\tMerc 240D & FALSE & FALSE & FALSE & FALSE & FALSE & FALSE & FALSE & FALSE & FALSE & FALSE & FALSE\\\\\n",
       "\tMerc 230 & FALSE & FALSE & FALSE & FALSE & FALSE & FALSE & FALSE & FALSE & FALSE & FALSE & FALSE\\\\\n",
       "\tMerc 280 & FALSE & FALSE & FALSE & FALSE & FALSE & FALSE & FALSE & FALSE & FALSE & FALSE & FALSE\\\\\n",
       "\tMerc 280C & FALSE & FALSE & FALSE & FALSE & FALSE & FALSE & FALSE & FALSE & FALSE & FALSE & FALSE\\\\\n",
       "\tMerc 450SE & FALSE & FALSE & FALSE & FALSE & FALSE & FALSE & FALSE & FALSE & FALSE & FALSE & FALSE\\\\\n",
       "\tMerc 450SL & FALSE & FALSE & FALSE & FALSE & FALSE & FALSE & FALSE & FALSE & FALSE & FALSE & FALSE\\\\\n",
       "\tMerc 450SLC & FALSE & FALSE & FALSE & FALSE & FALSE & FALSE & FALSE & FALSE & FALSE & FALSE & FALSE\\\\\n",
       "\tCadillac Fleetwood & FALSE & FALSE & FALSE & FALSE & FALSE & FALSE & FALSE & FALSE & FALSE & FALSE & FALSE\\\\\n",
       "\tLincoln Continental & FALSE & FALSE & FALSE & FALSE & FALSE & FALSE & FALSE & FALSE & FALSE & FALSE & FALSE\\\\\n",
       "\tChrysler Imperial & FALSE & FALSE & FALSE & FALSE & FALSE & FALSE & FALSE & FALSE & FALSE & FALSE & FALSE\\\\\n",
       "\tFiat 128 & FALSE & FALSE & FALSE & FALSE & FALSE & FALSE & FALSE & FALSE & FALSE & FALSE & FALSE\\\\\n",
       "\tHonda Civic & FALSE & FALSE & FALSE & FALSE & FALSE & FALSE & FALSE & FALSE & FALSE & FALSE & FALSE\\\\\n",
       "\tToyota Corolla & FALSE & FALSE & FALSE & FALSE & FALSE & FALSE & FALSE & FALSE & FALSE & FALSE & FALSE\\\\\n",
       "\tToyota Corona & FALSE & FALSE & FALSE & FALSE & FALSE & FALSE & FALSE & FALSE & FALSE & FALSE & FALSE\\\\\n",
       "\tDodge Challenger & FALSE & FALSE & FALSE & FALSE & FALSE & FALSE & FALSE & FALSE & FALSE & FALSE & FALSE\\\\\n",
       "\tAMC Javelin & FALSE & FALSE & FALSE & FALSE & FALSE & FALSE & FALSE & FALSE & FALSE & FALSE & FALSE\\\\\n",
       "\tCamaro Z28 & FALSE & FALSE & FALSE & FALSE & FALSE & FALSE & FALSE & FALSE & FALSE & FALSE & FALSE\\\\\n",
       "\tPontiac Firebird & FALSE & FALSE & FALSE & FALSE & FALSE & FALSE & FALSE & FALSE & FALSE & FALSE & FALSE\\\\\n",
       "\tFiat X1-9 & FALSE & FALSE & FALSE & FALSE & FALSE & FALSE & FALSE & FALSE & FALSE & FALSE & FALSE\\\\\n",
       "\tPorsche 914-2 & FALSE & FALSE & FALSE & FALSE & FALSE & FALSE & FALSE & FALSE & FALSE & FALSE & FALSE\\\\\n",
       "\tLotus Europa & FALSE & FALSE & FALSE & FALSE & FALSE & FALSE & FALSE & FALSE & FALSE & FALSE & FALSE\\\\\n",
       "\tFord Pantera L & FALSE & FALSE & FALSE & FALSE & FALSE & FALSE & FALSE & FALSE & FALSE & FALSE & FALSE\\\\\n",
       "\tFerrari Dino & FALSE & FALSE & FALSE & FALSE & FALSE & FALSE & FALSE & FALSE & FALSE & FALSE & FALSE\\\\\n",
       "\tMaserati Bora & FALSE & FALSE & FALSE & FALSE & FALSE & FALSE & FALSE & FALSE & FALSE & FALSE & FALSE\\\\\n",
       "\tVolvo 142E & FALSE & FALSE & FALSE & FALSE & FALSE & FALSE & FALSE & FALSE & FALSE & FALSE & FALSE\\\\\n",
       "\\end{tabular}\n"
      ],
      "text/markdown": [
       "\n",
       "| <!--/--> | mpg | cyl | disp | hp | drat | wt | qsec | vs | am | gear | carb |\n",
       "|---|---|---|---|---|---|---|---|---|---|---|---|\n",
       "| Mazda RX4 | FALSE | FALSE | FALSE | FALSE | FALSE | FALSE | FALSE | FALSE | FALSE | FALSE | FALSE |\n",
       "| Mazda RX4 Wag | FALSE | FALSE | FALSE | FALSE | FALSE | FALSE | FALSE | FALSE | FALSE | FALSE | FALSE |\n",
       "| Datsun 710 | FALSE | FALSE | FALSE | FALSE | FALSE | FALSE | FALSE | FALSE | FALSE | FALSE | FALSE |\n",
       "| Hornet 4 Drive | FALSE | FALSE | FALSE | FALSE | FALSE | FALSE | FALSE | FALSE | FALSE | FALSE | FALSE |\n",
       "| Hornet Sportabout | FALSE | FALSE | FALSE | FALSE | FALSE | FALSE | FALSE | FALSE | FALSE | FALSE | FALSE |\n",
       "| Valiant | FALSE | FALSE | FALSE | FALSE | FALSE | FALSE | FALSE | FALSE | FALSE | FALSE | FALSE |\n",
       "| Duster 360 | FALSE | FALSE | FALSE | FALSE | FALSE | FALSE | FALSE | FALSE | FALSE | FALSE | FALSE |\n",
       "| Merc 240D | FALSE | FALSE | FALSE | FALSE | FALSE | FALSE | FALSE | FALSE | FALSE | FALSE | FALSE |\n",
       "| Merc 230 | FALSE | FALSE | FALSE | FALSE | FALSE | FALSE | FALSE | FALSE | FALSE | FALSE | FALSE |\n",
       "| Merc 280 | FALSE | FALSE | FALSE | FALSE | FALSE | FALSE | FALSE | FALSE | FALSE | FALSE | FALSE |\n",
       "| Merc 280C | FALSE | FALSE | FALSE | FALSE | FALSE | FALSE | FALSE | FALSE | FALSE | FALSE | FALSE |\n",
       "| Merc 450SE | FALSE | FALSE | FALSE | FALSE | FALSE | FALSE | FALSE | FALSE | FALSE | FALSE | FALSE |\n",
       "| Merc 450SL | FALSE | FALSE | FALSE | FALSE | FALSE | FALSE | FALSE | FALSE | FALSE | FALSE | FALSE |\n",
       "| Merc 450SLC | FALSE | FALSE | FALSE | FALSE | FALSE | FALSE | FALSE | FALSE | FALSE | FALSE | FALSE |\n",
       "| Cadillac Fleetwood | FALSE | FALSE | FALSE | FALSE | FALSE | FALSE | FALSE | FALSE | FALSE | FALSE | FALSE |\n",
       "| Lincoln Continental | FALSE | FALSE | FALSE | FALSE | FALSE | FALSE | FALSE | FALSE | FALSE | FALSE | FALSE |\n",
       "| Chrysler Imperial | FALSE | FALSE | FALSE | FALSE | FALSE | FALSE | FALSE | FALSE | FALSE | FALSE | FALSE |\n",
       "| Fiat 128 | FALSE | FALSE | FALSE | FALSE | FALSE | FALSE | FALSE | FALSE | FALSE | FALSE | FALSE |\n",
       "| Honda Civic | FALSE | FALSE | FALSE | FALSE | FALSE | FALSE | FALSE | FALSE | FALSE | FALSE | FALSE |\n",
       "| Toyota Corolla | FALSE | FALSE | FALSE | FALSE | FALSE | FALSE | FALSE | FALSE | FALSE | FALSE | FALSE |\n",
       "| Toyota Corona | FALSE | FALSE | FALSE | FALSE | FALSE | FALSE | FALSE | FALSE | FALSE | FALSE | FALSE |\n",
       "| Dodge Challenger | FALSE | FALSE | FALSE | FALSE | FALSE | FALSE | FALSE | FALSE | FALSE | FALSE | FALSE |\n",
       "| AMC Javelin | FALSE | FALSE | FALSE | FALSE | FALSE | FALSE | FALSE | FALSE | FALSE | FALSE | FALSE |\n",
       "| Camaro Z28 | FALSE | FALSE | FALSE | FALSE | FALSE | FALSE | FALSE | FALSE | FALSE | FALSE | FALSE |\n",
       "| Pontiac Firebird | FALSE | FALSE | FALSE | FALSE | FALSE | FALSE | FALSE | FALSE | FALSE | FALSE | FALSE |\n",
       "| Fiat X1-9 | FALSE | FALSE | FALSE | FALSE | FALSE | FALSE | FALSE | FALSE | FALSE | FALSE | FALSE |\n",
       "| Porsche 914-2 | FALSE | FALSE | FALSE | FALSE | FALSE | FALSE | FALSE | FALSE | FALSE | FALSE | FALSE |\n",
       "| Lotus Europa | FALSE | FALSE | FALSE | FALSE | FALSE | FALSE | FALSE | FALSE | FALSE | FALSE | FALSE |\n",
       "| Ford Pantera L | FALSE | FALSE | FALSE | FALSE | FALSE | FALSE | FALSE | FALSE | FALSE | FALSE | FALSE |\n",
       "| Ferrari Dino | FALSE | FALSE | FALSE | FALSE | FALSE | FALSE | FALSE | FALSE | FALSE | FALSE | FALSE |\n",
       "| Maserati Bora | FALSE | FALSE | FALSE | FALSE | FALSE | FALSE | FALSE | FALSE | FALSE | FALSE | FALSE |\n",
       "| Volvo 142E | FALSE | FALSE | FALSE | FALSE | FALSE | FALSE | FALSE | FALSE | FALSE | FALSE | FALSE |\n",
       "\n"
      ],
      "text/plain": [
       "                    mpg   cyl   disp  hp    drat  wt    qsec  vs    am    gear \n",
       "Mazda RX4           FALSE FALSE FALSE FALSE FALSE FALSE FALSE FALSE FALSE FALSE\n",
       "Mazda RX4 Wag       FALSE FALSE FALSE FALSE FALSE FALSE FALSE FALSE FALSE FALSE\n",
       "Datsun 710          FALSE FALSE FALSE FALSE FALSE FALSE FALSE FALSE FALSE FALSE\n",
       "Hornet 4 Drive      FALSE FALSE FALSE FALSE FALSE FALSE FALSE FALSE FALSE FALSE\n",
       "Hornet Sportabout   FALSE FALSE FALSE FALSE FALSE FALSE FALSE FALSE FALSE FALSE\n",
       "Valiant             FALSE FALSE FALSE FALSE FALSE FALSE FALSE FALSE FALSE FALSE\n",
       "Duster 360          FALSE FALSE FALSE FALSE FALSE FALSE FALSE FALSE FALSE FALSE\n",
       "Merc 240D           FALSE FALSE FALSE FALSE FALSE FALSE FALSE FALSE FALSE FALSE\n",
       "Merc 230            FALSE FALSE FALSE FALSE FALSE FALSE FALSE FALSE FALSE FALSE\n",
       "Merc 280            FALSE FALSE FALSE FALSE FALSE FALSE FALSE FALSE FALSE FALSE\n",
       "Merc 280C           FALSE FALSE FALSE FALSE FALSE FALSE FALSE FALSE FALSE FALSE\n",
       "Merc 450SE          FALSE FALSE FALSE FALSE FALSE FALSE FALSE FALSE FALSE FALSE\n",
       "Merc 450SL          FALSE FALSE FALSE FALSE FALSE FALSE FALSE FALSE FALSE FALSE\n",
       "Merc 450SLC         FALSE FALSE FALSE FALSE FALSE FALSE FALSE FALSE FALSE FALSE\n",
       "Cadillac Fleetwood  FALSE FALSE FALSE FALSE FALSE FALSE FALSE FALSE FALSE FALSE\n",
       "Lincoln Continental FALSE FALSE FALSE FALSE FALSE FALSE FALSE FALSE FALSE FALSE\n",
       "Chrysler Imperial   FALSE FALSE FALSE FALSE FALSE FALSE FALSE FALSE FALSE FALSE\n",
       "Fiat 128            FALSE FALSE FALSE FALSE FALSE FALSE FALSE FALSE FALSE FALSE\n",
       "Honda Civic         FALSE FALSE FALSE FALSE FALSE FALSE FALSE FALSE FALSE FALSE\n",
       "Toyota Corolla      FALSE FALSE FALSE FALSE FALSE FALSE FALSE FALSE FALSE FALSE\n",
       "Toyota Corona       FALSE FALSE FALSE FALSE FALSE FALSE FALSE FALSE FALSE FALSE\n",
       "Dodge Challenger    FALSE FALSE FALSE FALSE FALSE FALSE FALSE FALSE FALSE FALSE\n",
       "AMC Javelin         FALSE FALSE FALSE FALSE FALSE FALSE FALSE FALSE FALSE FALSE\n",
       "Camaro Z28          FALSE FALSE FALSE FALSE FALSE FALSE FALSE FALSE FALSE FALSE\n",
       "Pontiac Firebird    FALSE FALSE FALSE FALSE FALSE FALSE FALSE FALSE FALSE FALSE\n",
       "Fiat X1-9           FALSE FALSE FALSE FALSE FALSE FALSE FALSE FALSE FALSE FALSE\n",
       "Porsche 914-2       FALSE FALSE FALSE FALSE FALSE FALSE FALSE FALSE FALSE FALSE\n",
       "Lotus Europa        FALSE FALSE FALSE FALSE FALSE FALSE FALSE FALSE FALSE FALSE\n",
       "Ford Pantera L      FALSE FALSE FALSE FALSE FALSE FALSE FALSE FALSE FALSE FALSE\n",
       "Ferrari Dino        FALSE FALSE FALSE FALSE FALSE FALSE FALSE FALSE FALSE FALSE\n",
       "Maserati Bora       FALSE FALSE FALSE FALSE FALSE FALSE FALSE FALSE FALSE FALSE\n",
       "Volvo 142E          FALSE FALSE FALSE FALSE FALSE FALSE FALSE FALSE FALSE FALSE\n",
       "                    carb \n",
       "Mazda RX4           FALSE\n",
       "Mazda RX4 Wag       FALSE\n",
       "Datsun 710          FALSE\n",
       "Hornet 4 Drive      FALSE\n",
       "Hornet Sportabout   FALSE\n",
       "Valiant             FALSE\n",
       "Duster 360          FALSE\n",
       "Merc 240D           FALSE\n",
       "Merc 230            FALSE\n",
       "Merc 280            FALSE\n",
       "Merc 280C           FALSE\n",
       "Merc 450SE          FALSE\n",
       "Merc 450SL          FALSE\n",
       "Merc 450SLC         FALSE\n",
       "Cadillac Fleetwood  FALSE\n",
       "Lincoln Continental FALSE\n",
       "Chrysler Imperial   FALSE\n",
       "Fiat 128            FALSE\n",
       "Honda Civic         FALSE\n",
       "Toyota Corolla      FALSE\n",
       "Toyota Corona       FALSE\n",
       "Dodge Challenger    FALSE\n",
       "AMC Javelin         FALSE\n",
       "Camaro Z28          FALSE\n",
       "Pontiac Firebird    FALSE\n",
       "Fiat X1-9           FALSE\n",
       "Porsche 914-2       FALSE\n",
       "Lotus Europa        FALSE\n",
       "Ford Pantera L      FALSE\n",
       "Ferrari Dino        FALSE\n",
       "Maserati Bora       FALSE\n",
       "Volvo 142E          FALSE"
      ]
     },
     "metadata": {},
     "output_type": "display_data"
    }
   ],
   "source": [
    "dat=is.na(mtcars)\n",
    "dat"
   ]
  },
  {
   "cell_type": "code",
   "execution_count": 5,
   "id": "white-stationery",
   "metadata": {},
   "outputs": [
    {
     "data": {
      "image/png": "[encoded data removed]",
      "text/plain": [
       "plot without title"
      ]
     },
     "metadata": {},
     "output_type": "display_data"
    }
   ],
   "source": [
    "require(stats); require(graphics)\n",
    "pairs(mtcars, panel = panel.smooth, main = \"Motor Trend Car Road Tests data\")"
   ]
  },
  {
   "cell_type": "markdown",
   "id": "julian-rocket",
   "metadata": {},
   "source": [
    "### Task 2.1 Calculate Distance measure of data using distance measure eg.Jaccard Similarity,\n",
    "\n",
    "#### Euclidean, Manhattan, Supermum, Chebyshev, Minkowski Distance Measure."
   ]
  },
  {
   "cell_type": "code",
   "execution_count": 6,
   "id": "positive-gates",
   "metadata": {},
   "outputs": [
    {
     "name": "stdout",
     "output_type": "stream",
     "text": [
      "            mpg        cyl      disp       hp        drat          wt\n",
      "mpg     0.00000   89.32586 1391.4955 824.3755   98.511658  102.877138\n",
      "cyl    89.32586    0.00000 1441.2518 878.1765   19.078540   18.058047\n",
      "disp 1391.49546 1441.25177    0.0000 656.6404 1459.404217 1458.014195\n",
      "hp    824.37547  878.17652  656.6404   0.0000  895.520090  895.374454\n",
      "drat   98.51166   19.07854 1459.4042 895.5201    0.000000    8.139647\n",
      "wt    102.87714   18.05805 1458.0142 895.3745    8.139647    0.000000\n",
      "qsec   33.26109   68.31076 1390.0784 826.0673   81.255418   83.655198\n",
      "vs    115.62314   34.78505 1475.1043 911.9945   18.130932   17.371962\n",
      "am    115.84951   34.71311 1475.0962 911.5882   18.179403   17.641289\n",
      "gear   98.08420   18.86796 1459.0335 894.7100    2.981728    8.929562\n",
      "carb  105.32099   21.21320 1460.6606 896.1362   10.689747    8.596341\n",
      "           qsec          vs          am        gear        carb\n",
      "mpg    33.26109  115.623138  115.849514   98.084199  105.320986\n",
      "cyl    68.31076   34.785054   34.713110   18.867962   21.213203\n",
      "disp 1390.07839 1475.104291 1475.096156 1459.033540 1460.660559\n",
      "hp    826.06729  911.994518  911.588175  894.710009  896.136150\n",
      "drat   81.25542   18.130932   18.179403    2.981728   10.689747\n",
      "wt     83.65520   17.371962   17.641289    8.929562    8.596341\n",
      "qsec    0.00000   98.823784   99.272958   80.935531   86.787904\n",
      "vs     98.82378    0.000000    3.605551   18.920888   17.262677\n",
      "am     99.27296    3.605551    0.000000   18.734994   16.462078\n",
      "gear   80.93553   18.920888   18.734994    0.000000   10.099505\n",
      "carb   86.78790   17.262677   16.462078   10.099505    0.000000\n"
     ]
    }
   ],
   "source": [
    "#Euclidean distance using user-defined function\n",
    "dist.euclidean <- function(x,y) {\n",
    " return(sqrt(sum((x-y)**2)))\n",
    "}\n",
    "attributes = c(\"mpg\",\"cyl\",\"disp\",\"hp\",\"drat\",\"wt\",\"qsec\",\"vs\",\"am\",\"gear\",\"carb\")\n",
    "euclidean.dist <- matrix(nrow = 11,ncol = 11,dimnames = list(attributes,attributes))\n",
    "for(i in c(1:11)){\n",
    " for(j in c(1:11)){\n",
    " euclidean.dist[i,j] <- dist.euclidean(mtcars[i],mtcars[j])\n",
    " }\n",
    "}\n",
    "print(euclidean.dist)"
   ]
  },
  {
   "cell_type": "code",
   "execution_count": 7,
   "id": "forbidden-craps",
   "metadata": {},
   "outputs": [
    {
     "name": "stdout",
     "output_type": "stream",
     "text": [
      "            mpg        cyl      disp       hp        drat          wt\n",
      "mpg     0.00000   89.32586 1391.4955 824.3755   98.511658  102.877138\n",
      "cyl    89.32586    0.00000 1441.2518 878.1765   19.078540   18.058047\n",
      "disp 1391.49546 1441.25177    0.0000 656.6404 1459.404217 1458.014195\n",
      "hp    824.37547  878.17652  656.6404   0.0000  895.520090  895.374454\n",
      "drat   98.51166   19.07854 1459.4042 895.5201    0.000000    8.139647\n",
      "wt    102.87714   18.05805 1458.0142 895.3745    8.139647    0.000000\n",
      "qsec   33.26109   68.31076 1390.0784 826.0673   81.255418   83.655198\n",
      "vs    115.62314   34.78505 1475.1043 911.9945   18.130932   17.371962\n",
      "am    115.84951   34.71311 1475.0962 911.5882   18.179403   17.641289\n",
      "gear   98.08420   18.86796 1459.0335 894.7100    2.981728    8.929562\n",
      "carb  105.32099   21.21320 1460.6606 896.1362   10.689747    8.596341\n",
      "           qsec          vs          am        gear        carb\n",
      "mpg    33.26109  115.623138  115.849514   98.084199  105.320986\n",
      "cyl    68.31076   34.785054   34.713110   18.867962   21.213203\n",
      "disp 1390.07839 1475.104291 1475.096156 1459.033540 1460.660559\n",
      "hp    826.06729  911.994518  911.588175  894.710009  896.136150\n",
      "drat   81.25542   18.130932   18.179403    2.981728   10.689747\n",
      "wt     83.65520   17.371962   17.641289    8.929562    8.596341\n",
      "qsec    0.00000   98.823784   99.272958   80.935531   86.787904\n",
      "vs     98.82378    0.000000    3.605551   18.920888   17.262677\n",
      "am     99.27296    3.605551    0.000000   18.734994   16.462078\n",
      "gear   80.93553   18.920888   18.734994    0.000000   10.099505\n",
      "carb   86.78790   17.262677   16.462078   10.099505    0.000000\n"
     ]
    }
   ],
   "source": [
    "#Euclidean distance using built-in dist function\n",
    "print(as.matrix(dist(t(mtcars),diag = TRUE, upper = TRUE,method = \"euclidean\")))\n"
   ]
  },
  {
   "cell_type": "code",
   "execution_count": 8,
   "id": "western-interference",
   "metadata": {},
   "outputs": [
    {
     "name": "stdout",
     "output_type": "stream",
     "text": [
      "          mpg      cyl     disp       hp     drat       wt     qsec       vs\n",
      "mpg     0.000  444.900 6740.200 4051.100  527.810  539.948  136.260  628.900\n",
      "cyl   444.900    0.000 7185.100 4496.000   86.610   95.048  373.160  184.000\n",
      "disp 6740.200 7185.100    0.000 2852.900 7268.010 7280.148 6811.940 7369.100\n",
      "hp   4051.100 4496.000 2852.900    0.000 4578.910 4591.048 4122.840 4680.000\n",
      "drat  527.810   86.610 7268.010 4578.910    0.000   37.466  456.070  101.090\n",
      "wt    539.948   95.048 7280.148 4591.048   37.466    0.000  468.208   88.952\n",
      "qsec  136.260  373.160 6811.940 4122.840  456.070  468.208    0.000  557.160\n",
      "vs    628.900  184.000 7369.100 4680.000  101.090   88.952  557.160    0.000\n",
      "am    629.900  185.000 7370.100 4681.000  102.090   89.952  558.160   13.000\n",
      "gear  524.900   84.000 7265.100 4576.000   10.830   42.896  453.160  104.000\n",
      "carb  552.900  108.000 7293.100 4604.000   47.290   40.106  481.160   76.000\n",
      "           am     gear     carb\n",
      "mpg   629.900  524.900  552.900\n",
      "cyl   185.000   84.000  108.000\n",
      "disp 7370.100 7265.100 7293.100\n",
      "hp   4681.000 4576.000 4604.000\n",
      "drat  102.090   10.830   47.290\n",
      "wt     89.952   42.896   40.106\n",
      "qsec  558.160  453.160  481.160\n",
      "vs     13.000  104.000   76.000\n",
      "am      0.000  105.000   77.000\n",
      "gear  105.000    0.000   46.000\n",
      "carb   77.000   46.000    0.000\n"
     ]
    }
   ],
   "source": [
    "#Manhattan distance using user-defined function\n",
    "dist.manhattan <- function(x,y) {\n",
    " return(sum(abs(x-y)))\n",
    "}\n",
    "attributes = c(\"mpg\",\"cyl\",\"disp\",\"hp\",\"drat\",\"wt\",\"qsec\",\"vs\",\"am\",\"gear\",\"carb\")\n",
    "manhattan.dist <- matrix(nrow = 11,ncol = 11,dimnames = list(attributes,attributes))\n",
    "for(i in c(1:11)){\n",
    " for(j in c(1:11)){\n",
    " manhattan.dist[i,j] <- dist.manhattan(mtcars[i],mtcars[j])\n",
    " }\n",
    "}\n",
    "print(manhattan.dist)"
   ]
  },
  {
   "cell_type": "code",
   "execution_count": 9,
   "id": "imperial-isaac",
   "metadata": {},
   "outputs": [
    {
     "name": "stdout",
     "output_type": "stream",
     "text": [
      "          mpg      cyl     disp       hp     drat       wt     qsec       vs\n",
      "mpg     0.000  444.900 6740.200 4051.100  527.810  539.948  136.260  628.900\n",
      "cyl   444.900    0.000 7185.100 4496.000   86.610   95.048  373.160  184.000\n",
      "disp 6740.200 7185.100    0.000 2852.900 7268.010 7280.148 6811.940 7369.100\n",
      "hp   4051.100 4496.000 2852.900    0.000 4578.910 4591.048 4122.840 4680.000\n",
      "drat  527.810   86.610 7268.010 4578.910    0.000   37.466  456.070  101.090\n",
      "wt    539.948   95.048 7280.148 4591.048   37.466    0.000  468.208   88.952\n",
      "qsec  136.260  373.160 6811.940 4122.840  456.070  468.208    0.000  557.160\n",
      "vs    628.900  184.000 7369.100 4680.000  101.090   88.952  557.160    0.000\n",
      "am    629.900  185.000 7370.100 4681.000  102.090   89.952  558.160   13.000\n",
      "gear  524.900   84.000 7265.100 4576.000   10.830   42.896  453.160  104.000\n",
      "carb  552.900  108.000 7293.100 4604.000   47.290   40.106  481.160   76.000\n",
      "           am     gear     carb\n",
      "mpg   629.900  524.900  552.900\n",
      "cyl   185.000   84.000  108.000\n",
      "disp 7370.100 7265.100 7293.100\n",
      "hp   4681.000 4576.000 4604.000\n",
      "drat  102.090   10.830   47.290\n",
      "wt     89.952   42.896   40.106\n",
      "qsec  558.160  453.160  481.160\n",
      "vs     13.000  104.000   76.000\n",
      "am      0.000  105.000   77.000\n",
      "gear  105.000    0.000   46.000\n",
      "carb   77.000   46.000    0.000\n"
     ]
    }
   ],
   "source": [
    "#Manhattan distance using built-in dist function\n",
    "print(as.matrix(dist(t(mtcars),diag = TRUE, upper = TRUE,method = \"manhattan\")))"
   ]
  },
  {
   "cell_type": "code",
   "execution_count": 10,
   "id": "continuing-matrix",
   "metadata": {},
   "outputs": [
    {
     "name": "stdout",
     "output_type": "stream",
     "text": [
      "           mpg        cyl     disp       hp       drat         wt      qsec\n",
      "mpg    0.00000  32.134165 500.5923 323.9525  31.934983  34.574733  15.08229\n",
      "cyl   32.13416   0.000000 505.4365 331.3089   6.187067   5.515058  20.08795\n",
      "disp 500.59226 505.436509   0.0000 279.2780 511.143300 508.864862 494.37187\n",
      "hp   323.95246 331.308861 279.2780   0.0000 336.029910 335.987979 324.13741\n",
      "drat  31.93498   6.187067 511.1433 336.0299   0.000000   3.351441  21.03468\n",
      "wt    34.57473   5.515058 508.8649 335.9880   3.351441   0.000000  22.02490\n",
      "qsec  15.08229  20.087951 494.3719 324.1374  21.034682  22.024899   0.00000\n",
      "vs    35.66360  10.178988 514.6938 339.8389   4.900969   5.940426  24.75020\n",
      "am    35.65877  10.075667 514.6690 338.8925   4.700314   5.943260  25.41560\n",
      "gear  32.01533   6.267952 511.1698 334.7393   1.532039   3.541263  21.05447\n",
      "carb  35.28756   6.912349 510.3005 332.1206   4.493534   4.443132  23.46376\n",
      "             vs         am       gear       carb\n",
      "mpg   35.663604  35.658773  32.015335  35.287561\n",
      "cyl   10.178988  10.075667   6.267952   6.912349\n",
      "disp 514.693774 514.668961 511.169815 510.300522\n",
      "hp   339.838921 338.892530 334.739254 332.120640\n",
      "drat   4.900969   4.700314   1.532039   4.493534\n",
      "wt     5.940426   5.943260   3.541263   4.443132\n",
      "qsec  24.750204  25.415600  21.054470  23.463761\n",
      "vs     0.000000   1.262605   5.713499   8.032946\n",
      "am     1.262605   0.000000   4.930103   7.025056\n",
      "gear   5.713499   4.930103   0.000000   3.584285\n",
      "carb   8.032946   7.025056   3.584285   0.000000\n"
     ]
    }
   ],
   "source": [
    "#Minkowski distance using user-defined function\n",
    "dist.minkowski <- function(x,y,p) {\n",
    " return(sum(abs(x-y)**p)**(1/p))\n",
    "}\n",
    "attributes = c(\"mpg\",\"cyl\",\"disp\",\"hp\",\"drat\",\"wt\",\"qsec\",\"vs\",\"am\",\"gear\",\"carb\")\n",
    "minkowski.dist <- matrix(nrow = 11,ncol = 11,dimnames = list(attributes,attributes))\n",
    "for(i in c(1:11)){\n",
    " for(j in c(1:11)){\n",
    " minkowski.dist[i,j] <- dist.minkowski(mtcars[i],mtcars[j],11)\n",
    " }\n",
    "}\n",
    "print(minkowski.dist)"
   ]
  },
  {
   "cell_type": "code",
   "execution_count": 11,
   "id": "powerful-ukraine",
   "metadata": {},
   "outputs": [
    {
     "name": "stdout",
     "output_type": "stream",
     "text": [
      "         mpg    cyl   disp     hp    drat      wt   qsec      vs      am\n",
      "mpg    0.000  29.90 461.60 320.00  29.680  32.065  14.00  32.900  32.900\n",
      "cyl   29.900   0.00 464.00 327.00   5.240   4.830  18.90   8.000   8.000\n",
      "disp 461.600 464.00   0.00 267.00 469.070 466.750 454.02 472.000 472.000\n",
      "hp   320.000 327.00 267.00   0.00 331.460 331.430 320.40 335.000 334.000\n",
      "drat  29.680   5.24 469.07 331.46   0.000   3.315  18.98   4.430   3.930\n",
      "wt    32.065   4.83 466.75 331.43   3.315   0.000  19.75   5.424   5.424\n",
      "qsec  14.000  18.90 454.02 320.40  18.980  19.750   0.00  21.900  22.900\n",
      "vs    32.900   8.00 472.00 335.00   4.430   5.424  21.90   0.000   1.000\n",
      "am    32.900   8.00 472.00 334.00   3.930   5.424  22.90   1.000   0.000\n",
      "gear  29.900   5.00 469.00 330.00   1.460   3.487  18.90   5.000   4.000\n",
      "carb  32.900   6.00 468.00 327.00   4.460   4.430  20.90   8.000   7.000\n",
      "        gear   carb\n",
      "mpg   29.900  32.90\n",
      "cyl    5.000   6.00\n",
      "disp 469.000 468.00\n",
      "hp   330.000 327.00\n",
      "drat   1.460   4.46\n",
      "wt     3.487   4.43\n",
      "qsec  18.900  20.90\n",
      "vs     5.000   8.00\n",
      "am     4.000   7.00\n",
      "gear   0.000   3.00\n",
      "carb   3.000   0.00\n"
     ]
    }
   ],
   "source": [
    "#Chebyshev/Supremum distance using user-defined function\n",
    "dist.chebyshev <- function(x,y,p) {\n",
    " return(max(abs(x-y)))\n",
    "}\n",
    "attributes = c(\"mpg\",\"cyl\",\"disp\",\"hp\",\"drat\",\"wt\",\"qsec\",\"vs\",\"am\",\"gear\",\"carb\")\n",
    "chebyshev.dist <- matrix(nrow = 11,ncol = 11,dimnames = list(attributes,attributes))\n",
    "for(i in c(1:11)){\n",
    " for(j in c(1:11)){\n",
    " chebyshev.dist[i,j] <- dist.chebyshev(mtcars[i],mtcars[j],11)\n",
    " }\n",
    "}\n",
    "print(chebyshev.dist)\n"
   ]
  },
  {
   "cell_type": "code",
   "execution_count": 12,
   "id": "analyzed-camcorder",
   "metadata": {},
   "outputs": [
    {
     "name": "stdout",
     "output_type": "stream",
     "text": [
      "         mpg    cyl   disp     hp    drat      wt   qsec      vs      am\n",
      "mpg    0.000  29.90 461.60 320.00  29.680  32.065  14.00  32.900  32.900\n",
      "cyl   29.900   0.00 464.00 327.00   5.240   4.830  18.90   8.000   8.000\n",
      "disp 461.600 464.00   0.00 267.00 469.070 466.750 454.02 472.000 472.000\n",
      "hp   320.000 327.00 267.00   0.00 331.460 331.430 320.40 335.000 334.000\n",
      "drat  29.680   5.24 469.07 331.46   0.000   3.315  18.98   4.430   3.930\n",
      "wt    32.065   4.83 466.75 331.43   3.315   0.000  19.75   5.424   5.424\n",
      "qsec  14.000  18.90 454.02 320.40  18.980  19.750   0.00  21.900  22.900\n",
      "vs    32.900   8.00 472.00 335.00   4.430   5.424  21.90   0.000   1.000\n",
      "am    32.900   8.00 472.00 334.00   3.930   5.424  22.90   1.000   0.000\n",
      "gear  29.900   5.00 469.00 330.00   1.460   3.487  18.90   5.000   4.000\n",
      "carb  32.900   6.00 468.00 327.00   4.460   4.430  20.90   8.000   7.000\n",
      "        gear   carb\n",
      "mpg   29.900  32.90\n",
      "cyl    5.000   6.00\n",
      "disp 469.000 468.00\n",
      "hp   330.000 327.00\n",
      "drat   1.460   4.46\n",
      "wt     3.487   4.43\n",
      "qsec  18.900  20.90\n",
      "vs     5.000   8.00\n",
      "am     4.000   7.00\n",
      "gear   0.000   3.00\n",
      "carb   3.000   0.00\n"
     ]
    }
   ],
   "source": [
    "#Chebyshev distance using built-in dist function\n",
    "print(as.matrix(dist(t(mtcars),diag = TRUE, upper = TRUE,method = \"maximum\")))"
   ]
  },
  {
   "cell_type": "code",
   "execution_count": 13,
   "id": "forbidden-house",
   "metadata": {},
   "outputs": [
    {
     "name": "stdout",
     "output_type": "stream",
     "text": [
      "           1         2          3         4          5         6         7\n",
      "1  1.1000000 0.7500000 0.18750000 0.2500000 0.05263158 0.1764706 0.1666667\n",
      "2  0.7500000 1.1000000 0.18750000 0.2500000 0.11111111 0.1764706 0.1666667\n",
      "3  0.3125000 0.3125000 1.37500000 0.1764706 0.00000000 0.1764706 0.1176471\n",
      "4  0.3125000 0.3125000 0.11764706 1.1000000 0.11111111 0.3125000 0.1111111\n",
      "5  0.1052632 0.1666667 0.00000000 0.1666667 1.10000000 0.1666667 0.3125000\n",
      "6  0.2352941 0.2352941 0.11764706 0.3125000 0.11111111 1.1000000 0.1111111\n",
      "7  0.1666667 0.1666667 0.05882353 0.1666667 0.31250000 0.1666667 1.1000000\n",
      "8  0.2352941 0.2352941 0.18750000 0.1111111 0.11111111 0.1111111 0.1666667\n",
      "9  0.2352941 0.2352941 0.26666667 0.1111111 0.17647059 0.1111111 0.1666667\n",
      "10 0.3125000 0.3125000 0.18750000 0.1764706 0.11111111 0.1764706 0.1666667\n",
      "11 0.3125000 0.3125000 0.18750000 0.1764706 0.11111111 0.1764706 0.1666667\n",
      "           8         9        10        11\n",
      "1  0.2352941 0.2352941 0.3125000 0.3125000\n",
      "2  0.2352941 0.2352941 0.3125000 0.3125000\n",
      "3  0.3125000 0.4000000 0.3125000 0.3125000\n",
      "4  0.1666667 0.1666667 0.2352941 0.2352941\n",
      "5  0.1666667 0.2352941 0.1666667 0.1666667\n",
      "6  0.1666667 0.1666667 0.2352941 0.2352941\n",
      "7  0.1666667 0.1666667 0.1666667 0.1666667\n",
      "8  1.1000000 0.3125000 0.2352941 0.2352941\n",
      "9  0.3125000 1.1000000 0.3125000 0.3125000\n",
      "10 0.2352941 0.3125000 1.1000000 0.7500000\n",
      "11 0.2352941 0.3125000 0.7500000 1.1000000\n"
     ]
    }
   ],
   "source": [
    "#Jaccard Similarity\n",
    "jaccard.similarity <- function(x,y) {\n",
    " intersection <- length(intersect(x,y))\n",
    " union <- length(union(x,y))\n",
    " return(intersection/union)\n",
    "}\n",
    "#Printing Jaccard Similarity for first 5 rows of weather dataset\n",
    "attr <- c(\"1\",\"2\",\"3\",\"4\",\"5\",\"6\",\"7\",\"8\",\"9\",\"10\",\"11\")\n",
    "jaccard <- matrix(nrow = 11,ncol = 11,dimnames = list(attr,attr))\n",
    "for(i in c(1:11)){\n",
    " for(j in c(1:11)){\n",
    " jaccard[i,j] <- jaccard.similarity(mtcars[i,],mtcars[j,])\n",
    " }\n",
    "}\n",
    "print(jaccard)\n"
   ]
  },
  {
   "cell_type": "code",
   "execution_count": 14,
   "id": "supposed-philip",
   "metadata": {},
   "outputs": [],
   "source": [
    " #install.packages(\"lsa\")"
   ]
  },
  {
   "cell_type": "markdown",
   "id": "leading-cradle",
   "metadata": {},
   "source": [
    "###  2.2 Calculate cosine similarity of 2 vectors, matrix using cosine function in R."
   ]
  },
  {
   "cell_type": "code",
   "execution_count": 15,
   "id": "configured-noise",
   "metadata": {},
   "outputs": [
    {
     "name": "stderr",
     "output_type": "stream",
     "text": [
      "Warning message:\n",
      "\"package 'lsa' was built under R version 3.6.3\"Loading required package: SnowballC\n",
      "Warning message:\n",
      "\"package 'SnowballC' was built under R version 3.6.3\""
     ]
    },
    {
     "name": "stdout",
     "output_type": "stream",
     "text": [
      " [1] 1 1 1 0 0 0 0 0 0 0 0 0\n",
      " [1] 0 0 1 1 1 1 1 0 1 0 0 0\n"
     ]
    },
    {
     "data": {
      "text/html": [
       "<span style=white-space:pre-wrap>'The cosine similarity value of two vectors =  0.235702260395516'</span>"
      ],
      "text/latex": [
       "'The cosine similarity value of two vectors =  0.235702260395516'"
      ],
      "text/markdown": [
       "<span style=white-space:pre-wrap>'The cosine similarity value of two vectors =  0.235702260395516'</span>"
      ],
      "text/plain": [
       "[1] \"The cosine similarity value of two vectors =  0.235702260395516\""
      ]
     },
     "metadata": {},
     "output_type": "display_data"
    },
    {
     "name": "stdout",
     "output_type": "stream",
     "text": [
      "[1] \"Matrix\"\n"
     ]
    },
    {
     "data": {
      "text/html": [
       "<table>\n",
       "<thead><tr><th scope=col>vec1</th><th scope=col>vec2</th><th scope=col>vec3</th></tr></thead>\n",
       "<tbody>\n",
       "\t<tr><td>1</td><td>0</td><td>0</td></tr>\n",
       "\t<tr><td>1</td><td>0</td><td>1</td></tr>\n",
       "\t<tr><td>1</td><td>1</td><td>0</td></tr>\n",
       "\t<tr><td>0</td><td>1</td><td>1</td></tr>\n",
       "\t<tr><td>0</td><td>1</td><td>1</td></tr>\n",
       "\t<tr><td>0</td><td>1</td><td>0</td></tr>\n",
       "\t<tr><td>0</td><td>1</td><td>0</td></tr>\n",
       "\t<tr><td>0</td><td>0</td><td>1</td></tr>\n",
       "\t<tr><td>0</td><td>1</td><td>0</td></tr>\n",
       "\t<tr><td>0</td><td>0</td><td>0</td></tr>\n",
       "\t<tr><td>0</td><td>0</td><td>0</td></tr>\n",
       "\t<tr><td>0</td><td>0</td><td>0</td></tr>\n",
       "</tbody>\n",
       "</table>\n"
      ],
      "text/latex": [
       "\\begin{tabular}{lll}\n",
       " vec1 & vec2 & vec3\\\\\n",
       "\\hline\n",
       "\t 1 & 0 & 0\\\\\n",
       "\t 1 & 0 & 1\\\\\n",
       "\t 1 & 1 & 0\\\\\n",
       "\t 0 & 1 & 1\\\\\n",
       "\t 0 & 1 & 1\\\\\n",
       "\t 0 & 1 & 0\\\\\n",
       "\t 0 & 1 & 0\\\\\n",
       "\t 0 & 0 & 1\\\\\n",
       "\t 0 & 1 & 0\\\\\n",
       "\t 0 & 0 & 0\\\\\n",
       "\t 0 & 0 & 0\\\\\n",
       "\t 0 & 0 & 0\\\\\n",
       "\\end{tabular}\n"
      ],
      "text/markdown": [
       "\n",
       "| vec1 | vec2 | vec3 |\n",
       "|---|---|---|\n",
       "| 1 | 0 | 0 |\n",
       "| 1 | 0 | 1 |\n",
       "| 1 | 1 | 0 |\n",
       "| 0 | 1 | 1 |\n",
       "| 0 | 1 | 1 |\n",
       "| 0 | 1 | 0 |\n",
       "| 0 | 1 | 0 |\n",
       "| 0 | 0 | 1 |\n",
       "| 0 | 1 | 0 |\n",
       "| 0 | 0 | 0 |\n",
       "| 0 | 0 | 0 |\n",
       "| 0 | 0 | 0 |\n",
       "\n"
      ],
      "text/plain": [
       "      vec1 vec2 vec3\n",
       " [1,] 1    0    0   \n",
       " [2,] 1    0    1   \n",
       " [3,] 1    1    0   \n",
       " [4,] 0    1    1   \n",
       " [5,] 0    1    1   \n",
       " [6,] 0    1    0   \n",
       " [7,] 0    1    0   \n",
       " [8,] 0    0    1   \n",
       " [9,] 0    1    0   \n",
       "[10,] 0    0    0   \n",
       "[11,] 0    0    0   \n",
       "[12,] 0    0    0   "
      ]
     },
     "metadata": {},
     "output_type": "display_data"
    },
    {
     "data": {
      "text/html": [
       "'The cosine similarity matrix is as follows:'"
      ],
      "text/latex": [
       "'The cosine similarity matrix is as follows:'"
      ],
      "text/markdown": [
       "'The cosine similarity matrix is as follows:'"
      ],
      "text/plain": [
       "[1] \"The cosine similarity matrix is as follows:\""
      ]
     },
     "metadata": {},
     "output_type": "display_data"
    },
    {
     "data": {
      "text/html": [
       "<table>\n",
       "<thead><tr><th></th><th scope=col>vec1</th><th scope=col>vec2</th><th scope=col>vec3</th></tr></thead>\n",
       "<tbody>\n",
       "\t<tr><th scope=row>vec1</th><td>1.0000000</td><td>0.2357023</td><td>0.2886751</td></tr>\n",
       "\t<tr><th scope=row>vec2</th><td>0.2357023</td><td>1.0000000</td><td>0.4082483</td></tr>\n",
       "\t<tr><th scope=row>vec3</th><td>0.2886751</td><td>0.4082483</td><td>1.0000000</td></tr>\n",
       "</tbody>\n",
       "</table>\n"
      ],
      "text/latex": [
       "\\begin{tabular}{r|lll}\n",
       "  & vec1 & vec2 & vec3\\\\\n",
       "\\hline\n",
       "\tvec1 & 1.0000000 & 0.2357023 & 0.2886751\\\\\n",
       "\tvec2 & 0.2357023 & 1.0000000 & 0.4082483\\\\\n",
       "\tvec3 & 0.2886751 & 0.4082483 & 1.0000000\\\\\n",
       "\\end{tabular}\n"
      ],
      "text/markdown": [
       "\n",
       "| <!--/--> | vec1 | vec2 | vec3 |\n",
       "|---|---|---|---|\n",
       "| vec1 | 1.0000000 | 0.2357023 | 0.2886751 |\n",
       "| vec2 | 0.2357023 | 1.0000000 | 0.4082483 |\n",
       "| vec3 | 0.2886751 | 0.4082483 | 1.0000000 |\n",
       "\n"
      ],
      "text/plain": [
       "     vec1      vec2      vec3     \n",
       "vec1 1.0000000 0.2357023 0.2886751\n",
       "vec2 0.2357023 1.0000000 0.4082483\n",
       "vec3 0.2886751 0.4082483 1.0000000"
      ]
     },
     "metadata": {},
     "output_type": "display_data"
    }
   ],
   "source": [
    "library(lsa)\n",
    "#Generating two vectors\n",
    "vec1 = c( 1, 1, 1, 0, 0, 0, 0, 0, 0, 0, 0, 0 )\n",
    "vec2 = c( 0, 0, 1, 1, 1, 1, 1, 0, 1, 0, 0, 0 )\n",
    "print(vec1)\n",
    "print(vec2)\n",
    "paste(\"The cosine similarity value of two vectors = \",cosine(vec1,vec2))\n",
    "vec3 = c( 0, 1, 0, 1, 1, 0, 0, 1, 0, 0, 0, 0 )\n",
    "matrix = cbind(vec1,vec2, vec3)\n",
    "print(\"Matrix\")\n",
    "matrix\n",
    "paste(\"The cosine similarity matrix is as follows:\")\n",
    "cosine(matrix)"
   ]
  },
  {
   "cell_type": "code",
   "execution_count": 16,
   "id": "indirect-outreach",
   "metadata": {},
   "outputs": [
    {
     "data": {
      "text/html": [
       "<table>\n",
       "<thead><tr><th scope=col>age</th><th scope=col>anaemia</th><th scope=col>creatinine_phosphokinase</th><th scope=col>diabetes</th><th scope=col>ejection_fraction</th><th scope=col>high_blood_pressure</th><th scope=col>platelets</th><th scope=col>serum_creatinine</th><th scope=col>serum_sodium</th><th scope=col>sex</th><th scope=col>smoking</th><th scope=col>time</th><th scope=col>DEATH_EVENT</th></tr></thead>\n",
       "<tbody>\n",
       "\t<tr><td>75    </td><td>0     </td><td> 582  </td><td>0     </td><td>20    </td><td>1     </td><td>265000</td><td>1.9   </td><td>130   </td><td>1     </td><td>0     </td><td>4     </td><td>1     </td></tr>\n",
       "\t<tr><td>55    </td><td>0     </td><td>7861  </td><td>0     </td><td>38    </td><td>0     </td><td>263358</td><td>1.1   </td><td>136   </td><td>1     </td><td>0     </td><td>6     </td><td>1     </td></tr>\n",
       "\t<tr><td>65    </td><td>0     </td><td> 146  </td><td>0     </td><td>20    </td><td>0     </td><td>162000</td><td>1.3   </td><td>129   </td><td>1     </td><td>1     </td><td>7     </td><td>1     </td></tr>\n",
       "\t<tr><td>50    </td><td>1     </td><td> 111  </td><td>0     </td><td>20    </td><td>0     </td><td>210000</td><td>1.9   </td><td>137   </td><td>1     </td><td>0     </td><td>7     </td><td>1     </td></tr>\n",
       "\t<tr><td>65    </td><td>1     </td><td> 160  </td><td>1     </td><td>20    </td><td>0     </td><td>327000</td><td>2.7   </td><td>116   </td><td>0     </td><td>0     </td><td>8     </td><td>1     </td></tr>\n",
       "\t<tr><td>90    </td><td>1     </td><td>  47  </td><td>0     </td><td>40    </td><td>1     </td><td>204000</td><td>2.1   </td><td>132   </td><td>1     </td><td>1     </td><td>8     </td><td>1     </td></tr>\n",
       "</tbody>\n",
       "</table>\n"
      ],
      "text/latex": [
       "\\begin{tabular}{r|lllllllllllll}\n",
       " age & anaemia & creatinine\\_phosphokinase & diabetes & ejection\\_fraction & high\\_blood\\_pressure & platelets & serum\\_creatinine & serum\\_sodium & sex & smoking & time & DEATH\\_EVENT\\\\\n",
       "\\hline\n",
       "\t 75     & 0      &  582   & 0      & 20     & 1      & 265000 & 1.9    & 130    & 1      & 0      & 4      & 1     \\\\\n",
       "\t 55     & 0      & 7861   & 0      & 38     & 0      & 263358 & 1.1    & 136    & 1      & 0      & 6      & 1     \\\\\n",
       "\t 65     & 0      &  146   & 0      & 20     & 0      & 162000 & 1.3    & 129    & 1      & 1      & 7      & 1     \\\\\n",
       "\t 50     & 1      &  111   & 0      & 20     & 0      & 210000 & 1.9    & 137    & 1      & 0      & 7      & 1     \\\\\n",
       "\t 65     & 1      &  160   & 1      & 20     & 0      & 327000 & 2.7    & 116    & 0      & 0      & 8      & 1     \\\\\n",
       "\t 90     & 1      &   47   & 0      & 40     & 1      & 204000 & 2.1    & 132    & 1      & 1      & 8      & 1     \\\\\n",
       "\\end{tabular}\n"
      ],
      "text/markdown": [
       "\n",
       "| age | anaemia | creatinine_phosphokinase | diabetes | ejection_fraction | high_blood_pressure | platelets | serum_creatinine | serum_sodium | sex | smoking | time | DEATH_EVENT |\n",
       "|---|---|---|---|---|---|---|---|---|---|---|---|---|\n",
       "| 75     | 0      |  582   | 0      | 20     | 1      | 265000 | 1.9    | 130    | 1      | 0      | 4      | 1      |\n",
       "| 55     | 0      | 7861   | 0      | 38     | 0      | 263358 | 1.1    | 136    | 1      | 0      | 6      | 1      |\n",
       "| 65     | 0      |  146   | 0      | 20     | 0      | 162000 | 1.3    | 129    | 1      | 1      | 7      | 1      |\n",
       "| 50     | 1      |  111   | 0      | 20     | 0      | 210000 | 1.9    | 137    | 1      | 0      | 7      | 1      |\n",
       "| 65     | 1      |  160   | 1      | 20     | 0      | 327000 | 2.7    | 116    | 0      | 0      | 8      | 1      |\n",
       "| 90     | 1      |   47   | 0      | 40     | 1      | 204000 | 2.1    | 132    | 1      | 1      | 8      | 1      |\n",
       "\n"
      ],
      "text/plain": [
       "  age anaemia creatinine_phosphokinase diabetes ejection_fraction\n",
       "1 75  0        582                     0        20               \n",
       "2 55  0       7861                     0        38               \n",
       "3 65  0        146                     0        20               \n",
       "4 50  1        111                     0        20               \n",
       "5 65  1        160                     1        20               \n",
       "6 90  1         47                     0        40               \n",
       "  high_blood_pressure platelets serum_creatinine serum_sodium sex smoking time\n",
       "1 1                   265000    1.9              130          1   0       4   \n",
       "2 0                   263358    1.1              136          1   0       6   \n",
       "3 0                   162000    1.3              129          1   1       7   \n",
       "4 0                   210000    1.9              137          1   0       7   \n",
       "5 0                   327000    2.7              116          0   0       8   \n",
       "6 1                   204000    2.1              132          1   1       8   \n",
       "  DEATH_EVENT\n",
       "1 1          \n",
       "2 1          \n",
       "3 1          \n",
       "4 1          \n",
       "5 1          \n",
       "6 1          "
      ]
     },
     "metadata": {},
     "output_type": "display_data"
    }
   ],
   "source": [
    "data <- read.csv(\"heart_failure_clinical_records_dataset.csv\")\n",
    "head(data)"
   ]
  },
  {
   "cell_type": "code",
   "execution_count": 17,
   "id": "liable-submission",
   "metadata": {},
   "outputs": [
    {
     "name": "stdout",
     "output_type": "stream",
     "text": [
      "\n",
      "Call:\n",
      "lm(formula = time ~ age + anaemia + diabetes + ejection_fraction + \n",
      "    high_blood_pressure + platelets + sex + smoking, data = data)\n",
      "\n",
      "Residuals:\n",
      "     Min       1Q   Median       3Q      Max \n",
      "-151.291  -60.228   -9.847   69.276  162.106 \n",
      "\n",
      "Coefficients:\n",
      "                      Estimate Std. Error t value Pr(>|t|)    \n",
      "(Intercept)          2.157e+02  3.026e+01   7.126 8.23e-12 ***\n",
      "age                 -1.296e+00  3.702e-01  -3.501 0.000537 ***\n",
      "anaemia             -1.931e+01  8.830e+00  -2.187 0.029519 *  \n",
      "diabetes             6.086e-01  8.970e+00   0.068 0.945958    \n",
      "ejection_fraction    3.833e-01  3.711e-01   1.033 0.302595    \n",
      "high_blood_pressure -2.878e+01  9.152e+00  -3.145 0.001834 ** \n",
      "platelets           -8.960e-07  4.511e-05  -0.020 0.984166    \n",
      "sex                 -1.398e+00  1.043e+01  -0.134 0.893432    \n",
      "smoking             -5.622e+00  1.045e+01  -0.538 0.590923    \n",
      "---\n",
      "Signif. codes:  0 '***' 0.001 '**' 0.01 '*' 0.05 '.' 0.1 ' ' 1\n",
      "\n",
      "Residual standard error: 74.63 on 290 degrees of freedom\n",
      "Multiple R-squared:  0.1003,\tAdjusted R-squared:  0.07544 \n",
      "F-statistic:  4.04 on 8 and 290 DF,  p-value: 0.0001432\n",
      "\n"
     ]
    }
   ],
   "source": [
    "linear_model <- lm(time~age+anaemia+diabetes+ejection_fraction+high_blood_pressure+platelets + sex + smoking, data = data)\n",
    "print(summary(linear_model))"
   ]
  },
  {
   "cell_type": "code",
   "execution_count": 18,
   "id": "arbitrary-donor",
   "metadata": {},
   "outputs": [
    {
     "name": "stderr",
     "output_type": "stream",
     "text": [
      "Warning message in abline(linear_model):\n",
      "\"only using the first two of 9 regression coefficients\""
     ]
    },
    {
     "data": {
      "image/png": "[encoded data removed]",
      "text/plain": [
       "plot without title"
      ]
     },
     "metadata": {},
     "output_type": "display_data"
    }
   ],
   "source": [
    "plot(data$time,data$age+data$anaemia+data$diabetes+data$ejection_fraction+ data$smoking)\n",
    "abline(linear_model)"
   ]
  },
  {
   "cell_type": "code",
   "execution_count": 19,
   "id": "efficient-front",
   "metadata": {},
   "outputs": [
    {
     "data": {
      "text/html": [
       "<table>\n",
       "<thead><tr><th></th><th scope=col>age</th><th scope=col>anaemia</th><th scope=col>creatinine_phosphokinase</th><th scope=col>diabetes</th><th scope=col>ejection_fraction</th><th scope=col>high_blood_pressure</th><th scope=col>platelets</th><th scope=col>serum_creatinine</th><th scope=col>serum_sodium</th><th scope=col>sex</th><th scope=col>smoking</th><th scope=col>time</th><th scope=col>DEATH_EVENT</th></tr></thead>\n",
       "<tbody>\n",
       "\t<tr><th scope=row>age</th><td> 1.00000000 </td><td> 0.08800644 </td><td>-0.081583900</td><td>-0.101012385</td><td> 0.06009836 </td><td> 0.093288685</td><td>-0.05235437 </td><td> 0.159187133</td><td>-0.045965841</td><td> 0.065429524</td><td> 0.018667868</td><td>-0.224068420</td><td> 0.253728543</td></tr>\n",
       "\t<tr><th scope=row>anaemia</th><td> 0.08800644 </td><td> 1.00000000 </td><td>-0.190741030</td><td>-0.012729046</td><td> 0.03155697 </td><td> 0.038182003</td><td>-0.04378555 </td><td> 0.052173604</td><td> 0.041881610</td><td>-0.094768961</td><td>-0.107289838</td><td>-0.141413982</td><td> 0.066270098</td></tr>\n",
       "\t<tr><th scope=row>creatinine_phosphokinase</th><td>-0.08158390 </td><td>-0.19074103 </td><td> 1.000000000</td><td>-0.009638514</td><td>-0.04407955 </td><td>-0.070589980</td><td> 0.02446339 </td><td>-0.016408480</td><td> 0.059550156</td><td> 0.079790629</td><td> 0.002421235</td><td>-0.009345653</td><td> 0.062728160</td></tr>\n",
       "\t<tr><th scope=row>diabetes</th><td>-0.10101239 </td><td>-0.01272905 </td><td>-0.009638514</td><td> 1.000000000</td><td>-0.00485031 </td><td>-0.012732382</td><td> 0.09219283 </td><td>-0.046975315</td><td>-0.089550619</td><td>-0.157729504</td><td>-0.147173413</td><td> 0.033725509</td><td>-0.001942883</td></tr>\n",
       "\t<tr><th scope=row>ejection_fraction</th><td> 0.06009836 </td><td> 0.03155697 </td><td>-0.044079554</td><td>-0.004850310</td><td> 1.00000000 </td><td> 0.024444731</td><td> 0.07217747 </td><td>-0.011302475</td><td> 0.175902282</td><td>-0.148385965</td><td>-0.067314567</td><td> 0.041729235</td><td>-0.268603312</td></tr>\n",
       "\t<tr><th scope=row>high_blood_pressure</th><td> 0.09328868 </td><td> 0.03818200 </td><td>-0.070589980</td><td>-0.012732382</td><td> 0.02444473 </td><td> 1.000000000</td><td> 0.04996348 </td><td>-0.004934525</td><td> 0.037109470</td><td>-0.104614629</td><td>-0.055711369</td><td>-0.196439479</td><td> 0.079351058</td></tr>\n",
       "\t<tr><th scope=row>platelets</th><td>-0.05235437 </td><td>-0.04378555 </td><td> 0.024463389</td><td> 0.092192828</td><td> 0.07217747 </td><td> 0.049963481</td><td> 1.00000000 </td><td>-0.041198077</td><td> 0.062124619</td><td>-0.125120483</td><td> 0.028234448</td><td> 0.010513909</td><td>-0.049138868</td></tr>\n",
       "\t<tr><th scope=row>serum_creatinine</th><td> 0.15918713 </td><td> 0.05217360 </td><td>-0.016408480</td><td>-0.046975315</td><td>-0.01130247 </td><td>-0.004934525</td><td>-0.04119808 </td><td> 1.000000000</td><td>-0.189095210</td><td> 0.006969778</td><td>-0.027414135</td><td>-0.149315418</td><td> 0.294277561</td></tr>\n",
       "\t<tr><th scope=row>serum_sodium</th><td>-0.04596584 </td><td> 0.04188161 </td><td> 0.059550156</td><td>-0.089550619</td><td> 0.17590228 </td><td> 0.037109470</td><td> 0.06212462 </td><td>-0.189095210</td><td> 1.000000000</td><td>-0.027566123</td><td> 0.004813195</td><td> 0.087640000</td><td>-0.195203596</td></tr>\n",
       "\t<tr><th scope=row>sex</th><td> 0.06542952 </td><td>-0.09476896 </td><td> 0.079790629</td><td>-0.157729504</td><td>-0.14838597 </td><td>-0.104614629</td><td>-0.12512048 </td><td> 0.006969778</td><td>-0.027566123</td><td> 1.000000000</td><td> 0.445891712</td><td>-0.015608220</td><td>-0.004316376</td></tr>\n",
       "\t<tr><th scope=row>smoking</th><td> 0.01866787 </td><td>-0.10728984 </td><td> 0.002421235</td><td>-0.147173413</td><td>-0.06731457 </td><td>-0.055711369</td><td> 0.02823445 </td><td>-0.027414135</td><td> 0.004813195</td><td> 0.445891712</td><td> 1.000000000</td><td>-0.022838942</td><td>-0.012623153</td></tr>\n",
       "\t<tr><th scope=row>time</th><td>-0.22406842 </td><td>-0.14141398 </td><td>-0.009345653</td><td> 0.033725509</td><td> 0.04172924 </td><td>-0.196439479</td><td> 0.01051391 </td><td>-0.149315418</td><td> 0.087640000</td><td>-0.015608220</td><td>-0.022838942</td><td> 1.000000000</td><td>-0.526963779</td></tr>\n",
       "\t<tr><th scope=row>DEATH_EVENT</th><td> 0.25372854 </td><td> 0.06627010 </td><td> 0.062728160</td><td>-0.001942883</td><td>-0.26860331 </td><td> 0.079351058</td><td>-0.04913887 </td><td> 0.294277561</td><td>-0.195203596</td><td>-0.004316376</td><td>-0.012623153</td><td>-0.526963779</td><td> 1.000000000</td></tr>\n",
       "</tbody>\n",
       "</table>\n"
      ],
      "text/latex": [
       "\\begin{tabular}{r|lllllllllllll}\n",
       "  & age & anaemia & creatinine\\_phosphokinase & diabetes & ejection\\_fraction & high\\_blood\\_pressure & platelets & serum\\_creatinine & serum\\_sodium & sex & smoking & time & DEATH\\_EVENT\\\\\n",
       "\\hline\n",
       "\tage &  1.00000000  &  0.08800644  & -0.081583900 & -0.101012385 &  0.06009836  &  0.093288685 & -0.05235437  &  0.159187133 & -0.045965841 &  0.065429524 &  0.018667868 & -0.224068420 &  0.253728543\\\\\n",
       "\tanaemia &  0.08800644  &  1.00000000  & -0.190741030 & -0.012729046 &  0.03155697  &  0.038182003 & -0.04378555  &  0.052173604 &  0.041881610 & -0.094768961 & -0.107289838 & -0.141413982 &  0.066270098\\\\\n",
       "\tcreatinine\\_phosphokinase & -0.08158390  & -0.19074103  &  1.000000000 & -0.009638514 & -0.04407955  & -0.070589980 &  0.02446339  & -0.016408480 &  0.059550156 &  0.079790629 &  0.002421235 & -0.009345653 &  0.062728160\\\\\n",
       "\tdiabetes & -0.10101239  & -0.01272905  & -0.009638514 &  1.000000000 & -0.00485031  & -0.012732382 &  0.09219283  & -0.046975315 & -0.089550619 & -0.157729504 & -0.147173413 &  0.033725509 & -0.001942883\\\\\n",
       "\tejection\\_fraction &  0.06009836  &  0.03155697  & -0.044079554 & -0.004850310 &  1.00000000  &  0.024444731 &  0.07217747  & -0.011302475 &  0.175902282 & -0.148385965 & -0.067314567 &  0.041729235 & -0.268603312\\\\\n",
       "\thigh\\_blood\\_pressure &  0.09328868  &  0.03818200  & -0.070589980 & -0.012732382 &  0.02444473  &  1.000000000 &  0.04996348  & -0.004934525 &  0.037109470 & -0.104614629 & -0.055711369 & -0.196439479 &  0.079351058\\\\\n",
       "\tplatelets & -0.05235437  & -0.04378555  &  0.024463389 &  0.092192828 &  0.07217747  &  0.049963481 &  1.00000000  & -0.041198077 &  0.062124619 & -0.125120483 &  0.028234448 &  0.010513909 & -0.049138868\\\\\n",
       "\tserum\\_creatinine &  0.15918713  &  0.05217360  & -0.016408480 & -0.046975315 & -0.01130247  & -0.004934525 & -0.04119808  &  1.000000000 & -0.189095210 &  0.006969778 & -0.027414135 & -0.149315418 &  0.294277561\\\\\n",
       "\tserum\\_sodium & -0.04596584  &  0.04188161  &  0.059550156 & -0.089550619 &  0.17590228  &  0.037109470 &  0.06212462  & -0.189095210 &  1.000000000 & -0.027566123 &  0.004813195 &  0.087640000 & -0.195203596\\\\\n",
       "\tsex &  0.06542952  & -0.09476896  &  0.079790629 & -0.157729504 & -0.14838597  & -0.104614629 & -0.12512048  &  0.006969778 & -0.027566123 &  1.000000000 &  0.445891712 & -0.015608220 & -0.004316376\\\\\n",
       "\tsmoking &  0.01866787  & -0.10728984  &  0.002421235 & -0.147173413 & -0.06731457  & -0.055711369 &  0.02823445  & -0.027414135 &  0.004813195 &  0.445891712 &  1.000000000 & -0.022838942 & -0.012623153\\\\\n",
       "\ttime & -0.22406842  & -0.14141398  & -0.009345653 &  0.033725509 &  0.04172924  & -0.196439479 &  0.01051391  & -0.149315418 &  0.087640000 & -0.015608220 & -0.022838942 &  1.000000000 & -0.526963779\\\\\n",
       "\tDEATH\\_EVENT &  0.25372854  &  0.06627010  &  0.062728160 & -0.001942883 & -0.26860331  &  0.079351058 & -0.04913887  &  0.294277561 & -0.195203596 & -0.004316376 & -0.012623153 & -0.526963779 &  1.000000000\\\\\n",
       "\\end{tabular}\n"
      ],
      "text/markdown": [
       "\n",
       "| <!--/--> | age | anaemia | creatinine_phosphokinase | diabetes | ejection_fraction | high_blood_pressure | platelets | serum_creatinine | serum_sodium | sex | smoking | time | DEATH_EVENT |\n",
       "|---|---|---|---|---|---|---|---|---|---|---|---|---|---|\n",
       "| age |  1.00000000  |  0.08800644  | -0.081583900 | -0.101012385 |  0.06009836  |  0.093288685 | -0.05235437  |  0.159187133 | -0.045965841 |  0.065429524 |  0.018667868 | -0.224068420 |  0.253728543 |\n",
       "| anaemia |  0.08800644  |  1.00000000  | -0.190741030 | -0.012729046 |  0.03155697  |  0.038182003 | -0.04378555  |  0.052173604 |  0.041881610 | -0.094768961 | -0.107289838 | -0.141413982 |  0.066270098 |\n",
       "| creatinine_phosphokinase | -0.08158390  | -0.19074103  |  1.000000000 | -0.009638514 | -0.04407955  | -0.070589980 |  0.02446339  | -0.016408480 |  0.059550156 |  0.079790629 |  0.002421235 | -0.009345653 |  0.062728160 |\n",
       "| diabetes | -0.10101239  | -0.01272905  | -0.009638514 |  1.000000000 | -0.00485031  | -0.012732382 |  0.09219283  | -0.046975315 | -0.089550619 | -0.157729504 | -0.147173413 |  0.033725509 | -0.001942883 |\n",
       "| ejection_fraction |  0.06009836  |  0.03155697  | -0.044079554 | -0.004850310 |  1.00000000  |  0.024444731 |  0.07217747  | -0.011302475 |  0.175902282 | -0.148385965 | -0.067314567 |  0.041729235 | -0.268603312 |\n",
       "| high_blood_pressure |  0.09328868  |  0.03818200  | -0.070589980 | -0.012732382 |  0.02444473  |  1.000000000 |  0.04996348  | -0.004934525 |  0.037109470 | -0.104614629 | -0.055711369 | -0.196439479 |  0.079351058 |\n",
       "| platelets | -0.05235437  | -0.04378555  |  0.024463389 |  0.092192828 |  0.07217747  |  0.049963481 |  1.00000000  | -0.041198077 |  0.062124619 | -0.125120483 |  0.028234448 |  0.010513909 | -0.049138868 |\n",
       "| serum_creatinine |  0.15918713  |  0.05217360  | -0.016408480 | -0.046975315 | -0.01130247  | -0.004934525 | -0.04119808  |  1.000000000 | -0.189095210 |  0.006969778 | -0.027414135 | -0.149315418 |  0.294277561 |\n",
       "| serum_sodium | -0.04596584  |  0.04188161  |  0.059550156 | -0.089550619 |  0.17590228  |  0.037109470 |  0.06212462  | -0.189095210 |  1.000000000 | -0.027566123 |  0.004813195 |  0.087640000 | -0.195203596 |\n",
       "| sex |  0.06542952  | -0.09476896  |  0.079790629 | -0.157729504 | -0.14838597  | -0.104614629 | -0.12512048  |  0.006969778 | -0.027566123 |  1.000000000 |  0.445891712 | -0.015608220 | -0.004316376 |\n",
       "| smoking |  0.01866787  | -0.10728984  |  0.002421235 | -0.147173413 | -0.06731457  | -0.055711369 |  0.02823445  | -0.027414135 |  0.004813195 |  0.445891712 |  1.000000000 | -0.022838942 | -0.012623153 |\n",
       "| time | -0.22406842  | -0.14141398  | -0.009345653 |  0.033725509 |  0.04172924  | -0.196439479 |  0.01051391  | -0.149315418 |  0.087640000 | -0.015608220 | -0.022838942 |  1.000000000 | -0.526963779 |\n",
       "| DEATH_EVENT |  0.25372854  |  0.06627010  |  0.062728160 | -0.001942883 | -0.26860331  |  0.079351058 | -0.04913887  |  0.294277561 | -0.195203596 | -0.004316376 | -0.012623153 | -0.526963779 |  1.000000000 |\n",
       "\n"
      ],
      "text/plain": [
       "                         age         anaemia     creatinine_phosphokinase\n",
       "age                       1.00000000  0.08800644 -0.081583900            \n",
       "anaemia                   0.08800644  1.00000000 -0.190741030            \n",
       "creatinine_phosphokinase -0.08158390 -0.19074103  1.000000000            \n",
       "diabetes                 -0.10101239 -0.01272905 -0.009638514            \n",
       "ejection_fraction         0.06009836  0.03155697 -0.044079554            \n",
       "high_blood_pressure       0.09328868  0.03818200 -0.070589980            \n",
       "platelets                -0.05235437 -0.04378555  0.024463389            \n",
       "serum_creatinine          0.15918713  0.05217360 -0.016408480            \n",
       "serum_sodium             -0.04596584  0.04188161  0.059550156            \n",
       "sex                       0.06542952 -0.09476896  0.079790629            \n",
       "smoking                   0.01866787 -0.10728984  0.002421235            \n",
       "time                     -0.22406842 -0.14141398 -0.009345653            \n",
       "DEATH_EVENT               0.25372854  0.06627010  0.062728160            \n",
       "                         diabetes     ejection_fraction high_blood_pressure\n",
       "age                      -0.101012385  0.06009836        0.093288685       \n",
       "anaemia                  -0.012729046  0.03155697        0.038182003       \n",
       "creatinine_phosphokinase -0.009638514 -0.04407955       -0.070589980       \n",
       "diabetes                  1.000000000 -0.00485031       -0.012732382       \n",
       "ejection_fraction        -0.004850310  1.00000000        0.024444731       \n",
       "high_blood_pressure      -0.012732382  0.02444473        1.000000000       \n",
       "platelets                 0.092192828  0.07217747        0.049963481       \n",
       "serum_creatinine         -0.046975315 -0.01130247       -0.004934525       \n",
       "serum_sodium             -0.089550619  0.17590228        0.037109470       \n",
       "sex                      -0.157729504 -0.14838597       -0.104614629       \n",
       "smoking                  -0.147173413 -0.06731457       -0.055711369       \n",
       "time                      0.033725509  0.04172924       -0.196439479       \n",
       "DEATH_EVENT              -0.001942883 -0.26860331        0.079351058       \n",
       "                         platelets   serum_creatinine serum_sodium sex         \n",
       "age                      -0.05235437  0.159187133     -0.045965841  0.065429524\n",
       "anaemia                  -0.04378555  0.052173604      0.041881610 -0.094768961\n",
       "creatinine_phosphokinase  0.02446339 -0.016408480      0.059550156  0.079790629\n",
       "diabetes                  0.09219283 -0.046975315     -0.089550619 -0.157729504\n",
       "ejection_fraction         0.07217747 -0.011302475      0.175902282 -0.148385965\n",
       "high_blood_pressure       0.04996348 -0.004934525      0.037109470 -0.104614629\n",
       "platelets                 1.00000000 -0.041198077      0.062124619 -0.125120483\n",
       "serum_creatinine         -0.04119808  1.000000000     -0.189095210  0.006969778\n",
       "serum_sodium              0.06212462 -0.189095210      1.000000000 -0.027566123\n",
       "sex                      -0.12512048  0.006969778     -0.027566123  1.000000000\n",
       "smoking                   0.02823445 -0.027414135      0.004813195  0.445891712\n",
       "time                      0.01051391 -0.149315418      0.087640000 -0.015608220\n",
       "DEATH_EVENT              -0.04913887  0.294277561     -0.195203596 -0.004316376\n",
       "                         smoking      time         DEATH_EVENT \n",
       "age                       0.018667868 -0.224068420  0.253728543\n",
       "anaemia                  -0.107289838 -0.141413982  0.066270098\n",
       "creatinine_phosphokinase  0.002421235 -0.009345653  0.062728160\n",
       "diabetes                 -0.147173413  0.033725509 -0.001942883\n",
       "ejection_fraction        -0.067314567  0.041729235 -0.268603312\n",
       "high_blood_pressure      -0.055711369 -0.196439479  0.079351058\n",
       "platelets                 0.028234448  0.010513909 -0.049138868\n",
       "serum_creatinine         -0.027414135 -0.149315418  0.294277561\n",
       "serum_sodium              0.004813195  0.087640000 -0.195203596\n",
       "sex                       0.445891712 -0.015608220 -0.004316376\n",
       "smoking                   1.000000000 -0.022838942 -0.012623153\n",
       "time                     -0.022838942  1.000000000 -0.526963779\n",
       "DEATH_EVENT              -0.012623153 -0.526963779  1.000000000"
      ]
     },
     "metadata": {},
     "output_type": "display_data"
    }
   ],
   "source": [
    "cor(data)"
   ]
  },
  {
   "cell_type": "code",
   "execution_count": 20,
   "id": "difficult-needle",
   "metadata": {},
   "outputs": [
    {
     "data": {
      "image/png": "[encoded data removed]",
      "text/plain": [
       "Plot with title \"BoxPlot\""
      ]
     },
     "metadata": {},
     "output_type": "display_data"
    }
   ],
   "source": [
    "boxplot(mtcars,col=\"yellow\",main=\"BoxPlot\")"
   ]
  },
  {
   "cell_type": "code",
   "execution_count": 21,
   "id": "mental-hanging",
   "metadata": {},
   "outputs": [
    {
     "data": {
      "image/png": "[encoded data removed]",
      "text/plain": [
       "Plot with title \"Histogram of mtcars$mpg\""
      ]
     },
     "metadata": {},
     "output_type": "display_data"
    }
   ],
   "source": [
    "hist(mtcars$mpg, breaks=25)"
   ]
  },
  {
   "cell_type": "code",
   "execution_count": 22,
   "id": "japanese-graduate",
   "metadata": {},
   "outputs": [],
   "source": [
    "#install.packages(\"plotrix\")"
   ]
  },
  {
   "cell_type": "markdown",
   "id": "premium-restriction",
   "metadata": {},
   "source": [
    "### Visualization in R"
   ]
  },
  {
   "cell_type": "code",
   "execution_count": 25,
   "id": "known-acquisition",
   "metadata": {},
   "outputs": [
    {
     "data": {
      "image/png": "[encoded data removed]",
      "text/plain": [
       "Plot with title \"3D PIE OPINIONS\""
      ]
     },
     "metadata": {},
     "output_type": "display_data"
    },
    {
     "data": {
      "image/png": "[encoded data removed]",
      "text/plain": [
       "Plot with title \"3D PIE OPINIONS\""
      ]
     },
     "metadata": {},
     "output_type": "display_data"
    }
   ],
   "source": [
    "pieval<-c(2,4,6,8)\n",
    " pielabels<-\n",
    "  c(\"We hate\\n pies\",\"We oppose\\n  pies\",\"We don't\\n  care\",\"We just love pies\")\n",
    " # grab the radial positions of the labels\n",
    " lp<-pie3D(pieval,radius=0.9,labels=pielabels,explode=0.1,main=\"3D PIE OPINIONS\")\n",
    " # lengthen the last label and move it to the left\n",
    " pielabels[4]<-\"We cannot survive without our pies\"\n",
    " lp[4]<-4.8\n",
    " # specify some new colors\n",
    " pie3D(pieval,radius=0.9,labels=pielabels,explode=0.1,main=\"3D PIE OPINIONS\",\n",
    "  col=c(\"brown\",\"#ddaa00\",\"pink\",\"#dd00dd\"),labelpos=lp)"
   ]
  }
 ],
 "metadata": {
  "kernelspec": {
   "display_name": "R",
   "language": "R",
   "name": "ir"
  },
  "language_info": {
   "codemirror_mode": "r",
   "file_extension": ".r",
   "mimetype": "text/x-r-source",
   "name": "R",
   "pygments_lexer": "r",
   "version": "3.6.1"
  }
 },
 "nbformat": 4,
 "nbformat_minor": 5
}
