{
 "cells": [
  {
   "cell_type": "code",
   "execution_count": 2,
   "metadata": {},
   "outputs": [],
   "source": [
    "# Importing necessary libraries\n",
    "import numpy as np\n",
    "import pandas as pd\n",
    "import matplotlib.pyplot as plt\n",
    "import seaborn as sns\n",
    "%matplotlib inline\n",
    "from sklearn.ensemble import RandomForestClassifier\n",
    "from sklearn.datasets import make_classification\n",
    "from sklearn.metrics import confusion_matrix, classification_report"
   ]
  },
  {
   "cell_type": "code",
   "execution_count": 3,
   "metadata": {},
   "outputs": [
    {
     "data": {
      "text/html": [
       "<div>\n",
       "<style scoped>\n",
       "    .dataframe tbody tr th:only-of-type {\n",
       "        vertical-align: middle;\n",
       "    }\n",
       "\n",
       "    .dataframe tbody tr th {\n",
       "        vertical-align: top;\n",
       "    }\n",
       "\n",
       "    .dataframe thead th {\n",
       "        text-align: right;\n",
       "    }\n",
       "</style>\n",
       "<table border=\"1\" class=\"dataframe\">\n",
       "  <thead>\n",
       "    <tr style=\"text-align: right;\">\n",
       "      <th></th>\n",
       "      <th>Buying Price</th>\n",
       "      <th>Maintenance Cost</th>\n",
       "      <th>Doors</th>\n",
       "      <th>Persons</th>\n",
       "      <th>Lug_Boot</th>\n",
       "      <th>Safety</th>\n",
       "      <th>Decision</th>\n",
       "    </tr>\n",
       "  </thead>\n",
       "  <tbody>\n",
       "    <tr>\n",
       "      <th>0</th>\n",
       "      <td>vhigh</td>\n",
       "      <td>vhigh</td>\n",
       "      <td>2</td>\n",
       "      <td>2</td>\n",
       "      <td>small</td>\n",
       "      <td>low</td>\n",
       "      <td>unacc</td>\n",
       "    </tr>\n",
       "    <tr>\n",
       "      <th>1</th>\n",
       "      <td>vhigh</td>\n",
       "      <td>vhigh</td>\n",
       "      <td>2</td>\n",
       "      <td>2</td>\n",
       "      <td>small</td>\n",
       "      <td>med</td>\n",
       "      <td>unacc</td>\n",
       "    </tr>\n",
       "    <tr>\n",
       "      <th>2</th>\n",
       "      <td>vhigh</td>\n",
       "      <td>vhigh</td>\n",
       "      <td>2</td>\n",
       "      <td>2</td>\n",
       "      <td>small</td>\n",
       "      <td>high</td>\n",
       "      <td>unacc</td>\n",
       "    </tr>\n",
       "    <tr>\n",
       "      <th>3</th>\n",
       "      <td>vhigh</td>\n",
       "      <td>vhigh</td>\n",
       "      <td>2</td>\n",
       "      <td>2</td>\n",
       "      <td>med</td>\n",
       "      <td>low</td>\n",
       "      <td>unacc</td>\n",
       "    </tr>\n",
       "    <tr>\n",
       "      <th>4</th>\n",
       "      <td>vhigh</td>\n",
       "      <td>vhigh</td>\n",
       "      <td>2</td>\n",
       "      <td>2</td>\n",
       "      <td>med</td>\n",
       "      <td>med</td>\n",
       "      <td>unacc</td>\n",
       "    </tr>\n",
       "  </tbody>\n",
       "</table>\n",
       "</div>"
      ],
      "text/plain": [
       "  Buying Price Maintenance Cost Doors Persons Lug_Boot Safety Decision\n",
       "0        vhigh            vhigh     2       2    small    low    unacc\n",
       "1        vhigh            vhigh     2       2    small    med    unacc\n",
       "2        vhigh            vhigh     2       2    small   high    unacc\n",
       "3        vhigh            vhigh     2       2      med    low    unacc\n",
       "4        vhigh            vhigh     2       2      med    med    unacc"
      ]
     },
     "execution_count": 3,
     "metadata": {},
     "output_type": "execute_result"
    }
   ],
   "source": [
    "car_ = pd.read_csv(\"car_evaluation.csv\",header=None)\n",
    "car_.columns = [\"Buying Price\",\"Maintenance Cost\",\"Doors\",\"Persons\",\"Lug_Boot\",\"Safety\",\"Decision\"]\n",
    "car_.head()"
   ]
  },
  {
   "cell_type": "code",
   "execution_count": 4,
   "metadata": {},
   "outputs": [
    {
     "name": "stdout",
     "output_type": "stream",
     "text": [
      "<class 'pandas.core.frame.DataFrame'>\n",
      "RangeIndex: 1728 entries, 0 to 1727\n",
      "Data columns (total 7 columns):\n",
      " #   Column            Non-Null Count  Dtype \n",
      "---  ------            --------------  ----- \n",
      " 0   Buying Price      1728 non-null   object\n",
      " 1   Maintenance Cost  1728 non-null   object\n",
      " 2   Doors             1728 non-null   object\n",
      " 3   Persons           1728 non-null   object\n",
      " 4   Lug_Boot          1728 non-null   object\n",
      " 5   Safety            1728 non-null   object\n",
      " 6   Decision          1728 non-null   object\n",
      "dtypes: object(7)\n",
      "memory usage: 94.6+ KB\n"
     ]
    }
   ],
   "source": [
    "# Getting dataset information\n",
    "car_.info()"
   ]
  },
  {
   "cell_type": "code",
   "execution_count": 5,
   "metadata": {},
   "outputs": [
    {
     "name": "stdout",
     "output_type": "stream",
     "text": [
      "Buying Price\n",
      "\n",
      "high     432\n",
      "low      432\n",
      "med      432\n",
      "vhigh    432\n",
      "Name: Buying Price, dtype: int64\n",
      "Maintenance Cost\n",
      "\n",
      "high     432\n",
      "low      432\n",
      "med      432\n",
      "vhigh    432\n",
      "Name: Maintenance Cost, dtype: int64\n",
      "Doors\n",
      "\n",
      "3        432\n",
      "5more    432\n",
      "2        432\n",
      "4        432\n",
      "Name: Doors, dtype: int64\n",
      "Persons\n",
      "\n",
      "more    576\n",
      "2       576\n",
      "4       576\n",
      "Name: Persons, dtype: int64\n",
      "Lug_Boot\n",
      "\n",
      "med      576\n",
      "small    576\n",
      "big      576\n",
      "Name: Lug_Boot, dtype: int64\n",
      "Safety\n",
      "\n",
      "high    576\n",
      "low     576\n",
      "med     576\n",
      "Name: Safety, dtype: int64\n",
      "Decision\n",
      "\n",
      "unacc    1210\n",
      "acc       384\n",
      "good       69\n",
      "vgood      65\n",
      "Name: Decision, dtype: int64\n"
     ]
    }
   ],
   "source": [
    "# Checking number of unique values for each column\n",
    "for col in car_.columns:\n",
    " print(col)\n",
    " print()\n",
    " print(car_[col].value_counts())"
   ]
  },
  {
   "cell_type": "code",
   "execution_count": 6,
   "metadata": {},
   "outputs": [
    {
     "data": {
      "image/png": "[encoded data removed]",
      "text/plain": [
       "<Figure size 1440x720 with 6 Axes>"
      ]
     },
     "metadata": {
      "needs_background": "light"
     },
     "output_type": "display_data"
    }
   ],
   "source": [
    "fig,axes = plt.subplots(nrows=2,ncols=3,figsize=(20,10))\n",
    "for r in range(6):\n",
    "    i = r//3\n",
    "    j = r%3\n",
    "    sns.countplot(x=car_.columns[r],data=car_,hue='Decision',ax=axes[i][j])\n",
    "fig.suptitle(\"Countplots of different Columns based on Decision\")\n",
    "fig.tight_layout()"
   ]
  },
  {
   "cell_type": "markdown",
   "metadata": {},
   "source": [
    "# Encoding the categorical variables"
   ]
  },
  {
   "cell_type": "code",
   "execution_count": 7,
   "metadata": {},
   "outputs": [],
   "source": [
    "encode1 = {'vhigh':3,'high':2,'med':1,'low':0}\n",
    "encode2 = {'2':0,'3':1,'4':2,'5more':3}\n",
    "encode3 = {'2':0,'4':1,'more':2}\n",
    "encode4 = {'small':0,'med':1,'big':2}\n",
    "encode5 = {'unacc':0,'acc':1,'good':2,'vgood':3}\n"
   ]
  },
  {
   "cell_type": "code",
   "execution_count": 8,
   "metadata": {},
   "outputs": [],
   "source": [
    "car_['Buying Price'] = car_['Buying Price'].apply(lambda bp:encode1[bp])\n",
    "car_['Maintenance Cost'] = car_['Maintenance Cost'].apply(lambda mtc:encode1[mtc])\n",
    "car_['Doors'] = car_['Doors'].apply(lambda d:encode2[d])\n",
    "car_['Persons'] = car_['Persons'].apply(lambda p:encode3[p])\n",
    "car_['Lug_Boot'] = car_['Lug_Boot'].apply(lambda lb:encode4[lb])\n",
    "car_['Safety'] = car_['Safety'].apply(lambda s:encode1[s])\n",
    "car_['Decision'] = car_['Decision'].apply(lambda d:encode5[d])"
   ]
  },
  {
   "cell_type": "code",
   "execution_count": 9,
   "metadata": {},
   "outputs": [
    {
     "data": {
      "text/html": [
       "<div>\n",
       "<style scoped>\n",
       "    .dataframe tbody tr th:only-of-type {\n",
       "        vertical-align: middle;\n",
       "    }\n",
       "\n",
       "    .dataframe tbody tr th {\n",
       "        vertical-align: top;\n",
       "    }\n",
       "\n",
       "    .dataframe thead th {\n",
       "        text-align: right;\n",
       "    }\n",
       "</style>\n",
       "<table border=\"1\" class=\"dataframe\">\n",
       "  <thead>\n",
       "    <tr style=\"text-align: right;\">\n",
       "      <th></th>\n",
       "      <th>Buying Price</th>\n",
       "      <th>Maintenance Cost</th>\n",
       "      <th>Doors</th>\n",
       "      <th>Persons</th>\n",
       "      <th>Lug_Boot</th>\n",
       "      <th>Safety</th>\n",
       "      <th>Decision</th>\n",
       "    </tr>\n",
       "  </thead>\n",
       "  <tbody>\n",
       "    <tr>\n",
       "      <th>0</th>\n",
       "      <td>3</td>\n",
       "      <td>3</td>\n",
       "      <td>0</td>\n",
       "      <td>0</td>\n",
       "      <td>0</td>\n",
       "      <td>0</td>\n",
       "      <td>0</td>\n",
       "    </tr>\n",
       "    <tr>\n",
       "      <th>1</th>\n",
       "      <td>3</td>\n",
       "      <td>3</td>\n",
       "      <td>0</td>\n",
       "      <td>0</td>\n",
       "      <td>0</td>\n",
       "      <td>1</td>\n",
       "      <td>0</td>\n",
       "    </tr>\n",
       "    <tr>\n",
       "      <th>2</th>\n",
       "      <td>3</td>\n",
       "      <td>3</td>\n",
       "      <td>0</td>\n",
       "      <td>0</td>\n",
       "      <td>0</td>\n",
       "      <td>2</td>\n",
       "      <td>0</td>\n",
       "    </tr>\n",
       "    <tr>\n",
       "      <th>3</th>\n",
       "      <td>3</td>\n",
       "      <td>3</td>\n",
       "      <td>0</td>\n",
       "      <td>0</td>\n",
       "      <td>1</td>\n",
       "      <td>0</td>\n",
       "      <td>0</td>\n",
       "    </tr>\n",
       "    <tr>\n",
       "      <th>4</th>\n",
       "      <td>3</td>\n",
       "      <td>3</td>\n",
       "      <td>0</td>\n",
       "      <td>0</td>\n",
       "      <td>1</td>\n",
       "      <td>1</td>\n",
       "      <td>0</td>\n",
       "    </tr>\n",
       "  </tbody>\n",
       "</table>\n",
       "</div>"
      ],
      "text/plain": [
       "   Buying Price  Maintenance Cost  Doors  Persons  Lug_Boot  Safety  Decision\n",
       "0             3                 3      0        0         0       0         0\n",
       "1             3                 3      0        0         0       1         0\n",
       "2             3                 3      0        0         0       2         0\n",
       "3             3                 3      0        0         1       0         0\n",
       "4             3                 3      0        0         1       1         0"
      ]
     },
     "execution_count": 9,
     "metadata": {},
     "output_type": "execute_result"
    }
   ],
   "source": [
    "car_.head()"
   ]
  },
  {
   "cell_type": "markdown",
   "metadata": {},
   "source": [
    "# Train-test split\n"
   ]
  },
  {
   "cell_type": "code",
   "execution_count": 10,
   "metadata": {},
   "outputs": [],
   "source": [
    "from sklearn.model_selection import train_test_split\n",
    "X = car_.drop('Decision',axis=1)\n",
    "y = car_['Decision']\n",
    "X_train, X_test, y_train, y_test = train_test_split(X,y,test_size=0.3,random_state=101)"
   ]
  },
  {
   "cell_type": "code",
   "execution_count": 11,
   "metadata": {},
   "outputs": [
    {
     "data": {
      "text/plain": [
       "(1209, 6)"
      ]
     },
     "execution_count": 11,
     "metadata": {},
     "output_type": "execute_result"
    }
   ],
   "source": [
    "X_train.shape"
   ]
  },
  {
   "cell_type": "code",
   "execution_count": 12,
   "metadata": {},
   "outputs": [
    {
     "data": {
      "text/plain": [
       "(519, 6)"
      ]
     },
     "execution_count": 12,
     "metadata": {},
     "output_type": "execute_result"
    }
   ],
   "source": [
    "X_test.shape"
   ]
  },
  {
   "cell_type": "code",
   "execution_count": 13,
   "metadata": {},
   "outputs": [
    {
     "data": {
      "text/plain": [
       "(1209,)"
      ]
     },
     "execution_count": 13,
     "metadata": {},
     "output_type": "execute_result"
    }
   ],
   "source": [
    "y_train.shape\n"
   ]
  },
  {
   "cell_type": "code",
   "execution_count": 14,
   "metadata": {},
   "outputs": [
    {
     "data": {
      "text/plain": [
       "(519,)"
      ]
     },
     "execution_count": 14,
     "metadata": {},
     "output_type": "execute_result"
    }
   ],
   "source": [
    "y_test.shape"
   ]
  },
  {
   "cell_type": "markdown",
   "metadata": {},
   "source": [
    "# Training the Random Forest Classifier"
   ]
  },
  {
   "cell_type": "code",
   "execution_count": 15,
   "metadata": {},
   "outputs": [
    {
     "name": "stdout",
     "output_type": "stream",
     "text": [
      "Training Score = 1.000\n",
      "Test Score = 0.973\n"
     ]
    }
   ],
   "source": [
    "# Initialising and training the model\n",
    "rfc = RandomForestClassifier()\n",
    "rfc.fit(X_train,y_train)\n",
    "# Getting training and test score\n",
    "print(\"Training Score = {:.3f}\".format(rfc.score(X_train,y_train)))\n",
    "print(\"Test Score = {:.3f}\".format(rfc.score(X_test,y_test)))"
   ]
  },
  {
   "cell_type": "code",
   "execution_count": 16,
   "metadata": {},
   "outputs": [
    {
     "name": "stdout",
     "output_type": "stream",
     "text": [
      "Model performance on training data\n",
      "\n",
      "[[836   0   0   0]\n",
      " [  0 276   0   0]\n",
      " [  0   0  48   0]\n",
      " [  0   0   0  49]]\n",
      "              precision    recall  f1-score   support\n",
      "\n",
      "           0       1.00      1.00      1.00       836\n",
      "           1       1.00      1.00      1.00       276\n",
      "           2       1.00      1.00      1.00        48\n",
      "           3       1.00      1.00      1.00        49\n",
      "\n",
      "    accuracy                           1.00      1209\n",
      "   macro avg       1.00      1.00      1.00      1209\n",
      "weighted avg       1.00      1.00      1.00      1209\n",
      "\n"
     ]
    }
   ],
   "source": [
    "print(\"Model performance on training data\\n\")\n",
    "print(confusion_matrix(y_train,rfc.predict(X_train)))\n",
    "print(classification_report(y_train,rfc.predict(X_train)))"
   ]
  },
  {
   "cell_type": "code",
   "execution_count": 17,
   "metadata": {},
   "outputs": [
    {
     "name": "stdout",
     "output_type": "stream",
     "text": [
      "Model performance on test data\n",
      "\n",
      "[[367   4   3   0]\n",
      " [  1 104   3   0]\n",
      " [  0   1  19   1]\n",
      " [  0   1   0  15]]\n",
      "              precision    recall  f1-score   support\n",
      "\n",
      "           0       1.00      0.98      0.99       374\n",
      "           1       0.95      0.96      0.95       108\n",
      "           2       0.76      0.90      0.83        21\n",
      "           3       0.94      0.94      0.94        16\n",
      "\n",
      "    accuracy                           0.97       519\n",
      "   macro avg       0.91      0.95      0.93       519\n",
      "weighted avg       0.98      0.97      0.97       519\n",
      "\n"
     ]
    }
   ],
   "source": [
    "# Getting predictions\n",
    "rfc_predictions = rfc.predict(X_test)\n",
    "print(\"Model performance on test data\\n\")\n",
    "print(confusion_matrix(y_test,rfc_predictions))\n",
    "print(classification_report(y_test,rfc_predictions))"
   ]
  },
  {
   "cell_type": "markdown",
   "metadata": {},
   "source": [
    "# Visualising the feature scores\n"
   ]
  },
  {
   "cell_type": "code",
   "execution_count": 18,
   "metadata": {},
   "outputs": [
    {
     "data": {
      "text/plain": [
       "Safety              0.306544\n",
       "Persons             0.242110\n",
       "Maintenance Cost    0.157265\n",
       "Buying Price        0.153123\n",
       "Lug_Boot            0.084079\n",
       "Doors               0.056880\n",
       "dtype: float64"
      ]
     },
     "execution_count": 18,
     "metadata": {},
     "output_type": "execute_result"
    }
   ],
   "source": [
    "feature_scores = pd.Series(rfc.feature_importances_, index=X_train.columns).sort_values(ascending=False)\n",
    "feature_scores"
   ]
  },
  {
   "cell_type": "code",
   "execution_count": 19,
   "metadata": {},
   "outputs": [
    {
     "data": {
      "image/png": "[encoded data removed]",
      "text/plain": [
       "<Figure size 432x288 with 1 Axes>"
      ]
     },
     "metadata": {
      "needs_background": "light"
     },
     "output_type": "display_data"
    }
   ],
   "source": [
    "sns.barplot(x=feature_scores, y=feature_scores.index)\n",
    "plt.xlabel('Feature Importance Score')\n",
    "plt.ylabel('Features')\n",
    "plt.title(\"Important Features\")\n",
    "plt.show()"
   ]
  },
  {
   "cell_type": "markdown",
   "metadata": {},
   "source": [
    "# END"
   ]
  }
 ],
 "metadata": {
  "kernelspec": {
   "display_name": "Python 3",
   "language": "python",
   "name": "python3"
  },
  "language_info": {
   "codemirror_mode": {
    "name": "ipython",
    "version": 3
   },
   "file_extension": ".py",
   "mimetype": "text/x-python",
   "name": "python",
   "nbconvert_exporter": "python",
   "pygments_lexer": "ipython3",
   "version": "3.8.5"
  }
 },
 "nbformat": 4,
 "nbformat_minor": 4
}
