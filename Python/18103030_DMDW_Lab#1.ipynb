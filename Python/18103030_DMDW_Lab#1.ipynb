{
 "cells": [
  {
   "cell_type": "code",
   "execution_count": null,
   "metadata": {},
   "outputs": [],
   "source": [
    "#Creating vectors corresponding to various bee species and for plant names.\n",
    "\n",
    "import numpy as np\n",
    "import pandas as pd\n",
    "from scipy import stats"
   ]
  },
  {
   "cell_type": "markdown",
   "metadata": {},
   "source": [
    "## Question 1\n",
    "#### a) Make simple numeric vector. Join the bee vectors together to make a data frame. Each row of the resulting data frame relates to a specific plant so you could assign names to the rows. The plant names are Thistle, Vipers Bugloss, Golden Rain, Yellow Alfalfa, and blackberry."
   ]
  },
  {
   "cell_type": "code",
   "execution_count": 4,
   "metadata": {},
   "outputs": [],
   "source": [
    "#Creating the dataframe\n",
    "\n",
    "BuffTail=[ 10, 1, 37, 5, 12] \n",
    "Garden_bee=[ 8 ,3 ,19 ,6 ,4] \n",
    "Red_tail=[ 18 ,9 ,1 ,2 ,4 ]\n",
    "Honeybee=[ 12 ,13 ,16 ,9 ,10 ]\n",
    "Carder_bee=[ 8 ,27 ,6 ,32 ,23]\n",
    "plant_names=['Thistle', 'Vipers Bugloss', 'Golden Rain', 'Yellow Alfalfa', 'blackberry']"
   ]
  },
  {
   "cell_type": "markdown",
   "metadata": {},
   "source": [
    "#### b) Make the matrix object from the original data."
   ]
  },
  {
   "cell_type": "code",
   "execution_count": 7,
   "metadata": {},
   "outputs": [
    {
     "name": "stdout",
     "output_type": "stream",
     "text": [
      "The data in the form of dataframe is:\n",
      "\n",
      "       Plant Name  BuffTail  Garden Bee  Red Tail  Honeybee  Carder Bee\n",
      "0         Thistle        10           8        18        12           8\n",
      "1  Vipers Bugloss         1           3         9        13          27\n",
      "2     Golden Rain        37          19         1        16           6\n",
      "3  Yellow Alfalfa         5           6         2         9          32\n",
      "4      blackberry        12           4         4        10          23\n"
     ]
    }
   ],
   "source": [
    "#Creating the dataframe\n",
    "bee_data = pd.DataFrame({\"Plant Name\": plant_names,\n",
    " \"BuffTail\": BuffTail,\n",
    " \"Garden Bee\": Garden_bee,\n",
    " \"Red Tail\": Red_tail,\n",
    " \"Honeybee\": Honeybee,\n",
    " \"Carder Bee\": Carder_bee})\n",
    "print(\"The data in the form of dataframe is:\\n\")\n",
    "print(bee_data)"
   ]
  },
  {
   "cell_type": "markdown",
   "metadata": {},
   "source": [
    "#### c) Display the data for Blackberry only"
   ]
  },
  {
   "cell_type": "code",
   "execution_count": 9,
   "metadata": {},
   "outputs": [
    {
     "name": "stdout",
     "output_type": "stream",
     "text": [
      "   Plant Name  BuffTail  Garden Bee  Red Tail  Honeybee  Carder Bee\n",
      "4  blackberry        12           4         4        10          23\n"
     ]
    }
   ],
   "source": [
    "print(bee_data[bee_data[\"Plant Name\"]==\"blackberry\"])"
   ]
  },
  {
   "cell_type": "markdown",
   "metadata": {},
   "source": [
    "#### d) Display the data for Golden rain and Alfalfa"
   ]
  },
  {
   "cell_type": "code",
   "execution_count": 13,
   "metadata": {},
   "outputs": [
    {
     "name": "stdout",
     "output_type": "stream",
     "text": [
      "       Plant Name  BuffTail  Garden Bee  Red Tail  Honeybee  Carder Bee\n",
      "2     Golden Rain        37          19         1        16           6\n",
      "3  Yellow Alfalfa         5           6         2         9          32\n"
     ]
    }
   ],
   "source": [
    "print(bee_data[(bee_data[\"Plant Name\"]==\"Golden Rain\") | (bee_data[\"Plant Name\"]==\"Yellow Alfalfa\")])"
   ]
  },
  {
   "cell_type": "markdown",
   "metadata": {},
   "source": [
    "#### e) Display the data for the red tail bee only"
   ]
  },
  {
   "cell_type": "code",
   "execution_count": 15,
   "metadata": {},
   "outputs": [
    {
     "name": "stdout",
     "output_type": "stream",
     "text": [
      "       Plant Name  Red Tail\n",
      "0         Thistle        18\n",
      "1  Vipers Bugloss         9\n",
      "2     Golden Rain         1\n",
      "3  Yellow Alfalfa         2\n",
      "4      blackberry         4\n"
     ]
    }
   ],
   "source": [
    "print(bee_data[[\"Plant Name\",\"Red Tail\"]])"
   ]
  },
  {
   "cell_type": "markdown",
   "metadata": {},
   "source": [
    "#### f) Reorder the data so that the bufftail column is sorted in decreasing abundance"
   ]
  },
  {
   "cell_type": "code",
   "execution_count": 16,
   "metadata": {},
   "outputs": [
    {
     "data": {
      "text/html": [
       "<div>\n",
       "<style scoped>\n",
       "    .dataframe tbody tr th:only-of-type {\n",
       "        vertical-align: middle;\n",
       "    }\n",
       "\n",
       "    .dataframe tbody tr th {\n",
       "        vertical-align: top;\n",
       "    }\n",
       "\n",
       "    .dataframe thead th {\n",
       "        text-align: right;\n",
       "    }\n",
       "</style>\n",
       "<table border=\"1\" class=\"dataframe\">\n",
       "  <thead>\n",
       "    <tr style=\"text-align: right;\">\n",
       "      <th></th>\n",
       "      <th>Plant Name</th>\n",
       "      <th>BuffTail</th>\n",
       "      <th>Garden Bee</th>\n",
       "      <th>Red Tail</th>\n",
       "      <th>Honeybee</th>\n",
       "      <th>Carder Bee</th>\n",
       "    </tr>\n",
       "  </thead>\n",
       "  <tbody>\n",
       "    <tr>\n",
       "      <th>2</th>\n",
       "      <td>Golden Rain</td>\n",
       "      <td>37</td>\n",
       "      <td>19</td>\n",
       "      <td>1</td>\n",
       "      <td>16</td>\n",
       "      <td>6</td>\n",
       "    </tr>\n",
       "    <tr>\n",
       "      <th>4</th>\n",
       "      <td>blackberry</td>\n",
       "      <td>12</td>\n",
       "      <td>4</td>\n",
       "      <td>4</td>\n",
       "      <td>10</td>\n",
       "      <td>23</td>\n",
       "    </tr>\n",
       "    <tr>\n",
       "      <th>0</th>\n",
       "      <td>Thistle</td>\n",
       "      <td>10</td>\n",
       "      <td>8</td>\n",
       "      <td>18</td>\n",
       "      <td>12</td>\n",
       "      <td>8</td>\n",
       "    </tr>\n",
       "    <tr>\n",
       "      <th>3</th>\n",
       "      <td>Yellow Alfalfa</td>\n",
       "      <td>5</td>\n",
       "      <td>6</td>\n",
       "      <td>2</td>\n",
       "      <td>9</td>\n",
       "      <td>32</td>\n",
       "    </tr>\n",
       "    <tr>\n",
       "      <th>1</th>\n",
       "      <td>Vipers Bugloss</td>\n",
       "      <td>1</td>\n",
       "      <td>3</td>\n",
       "      <td>9</td>\n",
       "      <td>13</td>\n",
       "      <td>27</td>\n",
       "    </tr>\n",
       "  </tbody>\n",
       "</table>\n",
       "</div>"
      ],
      "text/plain": [
       "       Plant Name  BuffTail  Garden Bee  Red Tail  Honeybee  Carder Bee\n",
       "2     Golden Rain        37          19         1        16           6\n",
       "4      blackberry        12           4         4        10          23\n",
       "0         Thistle        10           8        18        12           8\n",
       "3  Yellow Alfalfa         5           6         2         9          32\n",
       "1  Vipers Bugloss         1           3         9        13          27"
      ]
     },
     "execution_count": 16,
     "metadata": {},
     "output_type": "execute_result"
    }
   ],
   "source": [
    "bee_data.sort_values(by=[\"BuffTail\"],ascending=False)"
   ]
  },
  {
   "cell_type": "markdown",
   "metadata": {},
   "source": [
    "### Question 2\n",
    "#### Create a data item sample and perform the given operations on the sample"
   ]
  },
  {
   "cell_type": "code",
   "execution_count": 17,
   "metadata": {},
   "outputs": [
    {
     "name": "stdout",
     "output_type": "stream",
     "text": [
      "The sample generated is:\n",
      "\n",
      "[87 65 97 21 74 90 36 90 43  4 22 53 52 41 93 49 61 75 75 24]\n"
     ]
    }
   ],
   "source": [
    "sample_data = np.random.randint(100,size=20)\n",
    "print(\"The sample generated is:\\n\")\n",
    "print(sample_data)"
   ]
  },
  {
   "cell_type": "markdown",
   "metadata": {},
   "source": [
    "#### a) Determine the largest and smallest value in sample"
   ]
  },
  {
   "cell_type": "code",
   "execution_count": 18,
   "metadata": {},
   "outputs": [
    {
     "name": "stdout",
     "output_type": "stream",
     "text": [
      "Largest value in sample =  97\n",
      "Smallest value in sample =  4\n"
     ]
    }
   ],
   "source": [
    "print(\"Largest value in sample = \",np.max(sample_data))\n",
    "print(\"Smallest value in sample = \",np.min(sample_data))"
   ]
  },
  {
   "cell_type": "markdown",
   "metadata": {},
   "source": [
    "#### b) No of items in sample"
   ]
  },
  {
   "cell_type": "code",
   "execution_count": 20,
   "metadata": {},
   "outputs": [
    {
     "name": "stdout",
     "output_type": "stream",
     "text": [
      "No. of items in sample =  20\n"
     ]
    }
   ],
   "source": [
    "print(\"No. of items in sample = \",len(sample_data))"
   ]
  },
  {
   "cell_type": "markdown",
   "metadata": {},
   "source": [
    "#### c) Mean, Median, Mode of the sample"
   ]
  },
  {
   "cell_type": "code",
   "execution_count": 21,
   "metadata": {},
   "outputs": [
    {
     "name": "stdout",
     "output_type": "stream",
     "text": [
      "Mean =  57.6\n",
      "Median =  57.0\n",
      "Mode =  75\n"
     ]
    }
   ],
   "source": [
    "print(\"Mean = \",np.mean(sample_data))\n",
    "print(\"Median = \",np.median(sample_data))\n",
    "print(\"Mode = \",stats.mode(sample_data).mode[0])"
   ]
  },
  {
   "cell_type": "markdown",
   "metadata": {},
   "source": [
    "#### d) Determine the standard deviation of sample"
   ]
  },
  {
   "cell_type": "code",
   "execution_count": 22,
   "metadata": {},
   "outputs": [
    {
     "name": "stdout",
     "output_type": "stream",
     "text": [
      "Standard Deviation = 26.833561075638098\n"
     ]
    }
   ],
   "source": [
    "print(\"Standard Deviation =\",np.std(sample_data))"
   ]
  },
  {
   "cell_type": "markdown",
   "metadata": {},
   "source": [
    "#### e) Calculate the standard deviation but remove the NA with an additional instruction."
   ]
  },
  {
   "cell_type": "code",
   "execution_count": 23,
   "metadata": {},
   "outputs": [
    {
     "name": "stdout",
     "output_type": "stream",
     "text": [
      "Standard Deviation (NA ignored) = 26.833561075638098\n"
     ]
    }
   ],
   "source": [
    "print(\"Standard Deviation (NA ignored) =\",np.nanstd(sample_data))"
   ]
  },
  {
   "cell_type": "markdown",
   "metadata": {},
   "source": [
    "## END OF NOTEBOOK"
   ]
  },
  {
   "cell_type": "code",
   "execution_count": null,
   "metadata": {},
   "outputs": [],
   "source": []
  }
 ],
 "metadata": {
  "kernelspec": {
   "display_name": "Python 3",
   "language": "python",
   "name": "python3"
  },
  "language_info": {
   "codemirror_mode": {
    "name": "ipython",
    "version": 3
   },
   "file_extension": ".py",
   "mimetype": "text/x-python",
   "name": "python",
   "nbconvert_exporter": "python",
   "pygments_lexer": "ipython3",
   "version": "3.8.5"
  }
 },
 "nbformat": 4,
 "nbformat_minor": 4
}
