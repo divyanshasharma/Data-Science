{
 "cells": [
  {
   "cell_type": "code",
   "execution_count": 29,
   "metadata": {},
   "outputs": [
    {
     "name": "stdout",
     "output_type": "stream",
     "text": [
      "Distinct Real Roots Exists: root1 = 3.1400 and root2 = 2.7200\n"
     ]
    }
   ],
   "source": [
    "import math\n",
    "\n",
    "a = 1\n",
    "b = -5.86\n",
    "c = 8.5408\n",
    "discriminant = (b * b) - (4 * a * c)\n",
    "\n",
    "if(discriminant > 0):\n",
    "    root1 = (-b + math.sqrt(discriminant) )/ (2 * a)\n",
    "    root2 = (-b - math.sqrt(discriminant) )/ (2 * a)\n",
    "    print(\"Distinct Real Roots Exists: root1 = %.4f and root2 = %.4f\" %(root1, root2))\n",
    "elif(discriminant == 0):\n",
    "    root1 = root2 = -b / (2 * a)\n",
    "    print(\"Two Equal and Real Roots Exists: root1 = %.4f and root2 = %.4f\" %(root1, root2))\n",
    "elif(discriminant < 0):\n",
    "    root1 = root2 = -b / (2 * a)\n",
    "    imaginary = math.sqrt(-discriminant) / (2 * a)\n",
    "    print(\"Two Distinct Complex Roots Exists: root1 = %.4f+%.4f and root2 = %.4f-%.4f\" %(root1, imaginary, root2, imaginary))\n",
    "\n",
    "    "
   ]
  },
  {
   "cell_type": "code",
   "execution_count": 42,
   "metadata": {},
   "outputs": [
    {
     "name": "stdout",
     "output_type": "stream",
     "text": [
      "Inverse of  1\n",
      "1.0\n",
      "Inverse of  2\n",
      "0.5\n",
      "Inverse of  3\n",
      "0.3333333333333333\n",
      "Inverse of  4\n",
      "0.25\n",
      "Inverse of  5\n",
      "0.2\n",
      "Inverse of  6\n",
      "0.16666666666666666\n",
      "Inverse of  7\n",
      "0.14285714285714285\n",
      "Inverse of  8\n",
      "0.125\n",
      "Inverse of  9\n",
      "0.1111111111111111\n",
      "Inverse of  10\n",
      "0.1\n"
     ]
    }
   ],
   "source": [
    "from fractions import Fraction\n",
    "arr = list(range(1, 11))\n",
    "for val in arr:\n",
    "    print(\"Inverse of \",val)\n",
    "    print(1/val)\n",
    "\t"
   ]
  },
  {
   "cell_type": "code",
   "execution_count": 36,
   "metadata": {},
   "outputs": [
    {
     "name": "stdout",
     "output_type": "stream",
     "text": [
      "10th triangular number =  55.0\n"
     ]
    }
   ],
   "source": [
    "n = 10\n",
    "s=(n*(n+1))/2.0\n",
    "print(\"10th triangular number = \",s)"
   ]
  },
  {
   "cell_type": "code",
   "execution_count": 39,
   "metadata": {},
   "outputs": [
    {
     "name": "stdout",
     "output_type": "stream",
     "text": [
      "Factorial of 10 is  3628800\n"
     ]
    }
   ],
   "source": [
    "fac=1;\n",
    "n=10\n",
    "if(n<0):\n",
    "    print(\"Fac dos't exists for -ve numbers\")\n",
    "elif (n==0):\n",
    "    print(\"1\")\n",
    "else:\n",
    "    for i in range(1,n+1):\n",
    "        fac*=i\n",
    "    print(\"Factorial of 10 is \",fac)"
   ]
  },
  {
   "cell_type": "code",
   "execution_count": 27,
   "metadata": {},
   "outputs": [
    {
     "name": "stdout",
     "output_type": "stream",
     "text": [
      "3628800\n",
      "362880\n",
      "40320\n",
      "5040\n",
      "720\n",
      "120\n",
      "24\n",
      "6\n",
      "2\n",
      "1\n",
      "1\n"
     ]
    }
   ],
   "source": [
    "for n in reversed(range(11)):\n",
    "    fac=1\n",
    "    if(n<0):\n",
    "        print(\"Fac dos't exists for -ve numbers\")\n",
    "    elif (n==0):\n",
    "        print(\"1\")\n",
    "    else:\n",
    "        for i in range(1,n+1):\n",
    "            fac*=i\n",
    "        print(fac)"
   ]
  },
  {
   "cell_type": "code",
   "execution_count": 44,
   "metadata": {},
   "outputs": [
    {
     "name": "stdout",
     "output_type": "stream",
     "text": [
      "2.7182818011463845\n"
     ]
    }
   ],
   "source": [
    "e=0\n",
    "for n in reversed(range(11)):\n",
    "    fac=1\n",
    "    if(n<0):\n",
    "        fac=0\n",
    "    if (n==0):\n",
    "        fac=1\n",
    "    else:\n",
    "        for i in range(1,n+1):\n",
    "            fac*=i\n",
    "    e+=1/fac\n",
    "print(e)"
   ]
  },
  {
   "cell_type": "code",
   "execution_count": null,
   "metadata": {},
   "outputs": [],
   "source": []
  }
 ],
 "metadata": {
  "kernelspec": {
   "display_name": "Python 3",
   "language": "python",
   "name": "python3"
  },
  "language_info": {
   "codemirror_mode": {
    "name": "ipython",
    "version": 3
   },
   "file_extension": ".py",
   "mimetype": "text/x-python",
   "name": "python",
   "nbconvert_exporter": "python",
   "pygments_lexer": "ipython3",
   "version": "3.8.5"
  }
 },
 "nbformat": 4,
 "nbformat_minor": 4
}
