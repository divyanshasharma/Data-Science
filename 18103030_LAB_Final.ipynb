{
 "cells": [
  {
   "cell_type": "markdown",
   "id": "aefc8a0b",
   "metadata": {},
   "source": [
    "## Divyansha Sharma     \n",
    "## 18103030  -G2 \n",
    "## CSE 3rd Year"
   ]
  },
  {
   "cell_type": "code",
   "execution_count": 2,
   "id": "9ef3f4a4",
   "metadata": {},
   "outputs": [
    {
     "name": "stderr",
     "output_type": "stream",
     "text": [
      "Warning message:\n",
      "\"package 'party' was built under R version 3.6.3\"Loading required package: grid\n",
      "Loading required package: mvtnorm\n",
      "Loading required package: modeltools\n",
      "Loading required package: stats4\n",
      "Loading required package: strucchange\n",
      "Warning message:\n",
      "\"package 'strucchange' was built under R version 3.6.2\"Loading required package: zoo\n",
      "Warning message:\n",
      "\"package 'zoo' was built under R version 3.6.2\"\n",
      "Attaching package: 'zoo'\n",
      "\n",
      "The following objects are masked from 'package:base':\n",
      "\n",
      "    as.Date, as.Date.numeric\n",
      "\n",
      "Loading required package: sandwich\n",
      "Warning message:\n",
      "\"package 'sandwich' was built under R version 3.6.2\"Warning message:\n",
      "\"package 'caret' was built under R version 3.6.3\"Loading required package: lattice\n",
      "Loading required package: ggplot2\n",
      "Warning message:\n",
      "\"package 'ggplot2' was built under R version 3.6.3\"Warning message:\n",
      "\"package 'e1071' was built under R version 3.6.3\"Warning message:\n",
      "\"package 'caTools' was built under R version 3.6.3\"Warning message:\n",
      "\"package 'class' was built under R version 3.6.3\"Warning message:\n",
      "\"package 'glmnet' was built under R version 3.6.3\"Loading required package: Matrix\n",
      "Loaded glmnet 4.1-1\n"
     ]
    }
   ],
   "source": [
    "library(party)\n",
    "library(caret)\n",
    "library(e1071)\n",
    "library(caTools)\n",
    "library(class)\n",
    "\n",
    "library(glmnet)"
   ]
  },
  {
   "cell_type": "code",
   "execution_count": 3,
   "id": "ea42c107",
   "metadata": {},
   "outputs": [
    {
     "name": "stdout",
     "output_type": "stream",
     "text": [
      "  Item_Identifier Item_Weight Item_Fat_Content Item_Visibility\n",
      "1           FDA15       9.300          Low Fat      0.01604730\n",
      "2           DRC01       5.920          Regular      0.01927822\n",
      "3           FDN15      17.500          Low Fat      0.01676007\n",
      "4           FDX07      19.200          Regular      0.00000000\n",
      "5           NCD19       8.930          Low Fat      0.00000000\n",
      "6           FDP36      10.395          Regular      0.00000000\n",
      "              Item_Type Item_MRP Outlet_Identifier Outlet_Establishment_Year\n",
      "1                 Dairy 249.8092            OUT049                      1999\n",
      "2           Soft Drinks  48.2692            OUT018                      2009\n",
      "3                  Meat 141.6180            OUT049                      1999\n",
      "4 Fruits and Vegetables 182.0950            OUT010                      1998\n",
      "5             Household  53.8614            OUT013                      1987\n",
      "6          Baking Goods  51.4008            OUT018                      2009\n",
      "  Outlet_Size Outlet_Location_Type       Outlet_Type Item_Outlet_Sales\n",
      "1      Medium               Tier 1 Supermarket Type1         3735.1380\n",
      "2      Medium               Tier 3 Supermarket Type2          443.4228\n",
      "3      Medium               Tier 1 Supermarket Type1         2097.2700\n",
      "4                           Tier 3     Grocery Store          732.3800\n",
      "5        High               Tier 3 Supermarket Type1          994.7052\n",
      "6      Medium               Tier 3 Supermarket Type2          556.6088\n"
     ]
    }
   ],
   "source": [
    "train = read.csv(\"Train.csv\")\n",
    "train = data.frame(train)\n",
    "print(head(train))"
   ]
  },
  {
   "cell_type": "code",
   "execution_count": 5,
   "id": "155780dd",
   "metadata": {},
   "outputs": [
    {
     "name": "stdout",
     "output_type": "stream",
     "text": [
      "  Item_Identifier Item_Weight Item_Fat_Content Item_Visibility\n",
      "1           FDW58      20.750          Low Fat     0.007564836\n",
      "2           FDW14       8.300              reg     0.038427677\n",
      "3           NCN55      14.600          Low Fat     0.099574908\n",
      "4           FDQ58       7.315          Low Fat     0.015388393\n",
      "5           FDY38          NA          Regular     0.118599314\n",
      "6           FDH56       9.800          Regular     0.063817206\n",
      "              Item_Type Item_MRP Outlet_Identifier Outlet_Establishment_Year\n",
      "1           Snack Foods 107.8622            OUT049                      1999\n",
      "2                 Dairy  87.3198            OUT017                      2007\n",
      "3                Others 241.7538            OUT010                      1998\n",
      "4           Snack Foods 155.0340            OUT017                      2007\n",
      "5                 Dairy 234.2300            OUT027                      1985\n",
      "6 Fruits and Vegetables 117.1492            OUT046                      1997\n",
      "  Outlet_Size Outlet_Location_Type       Outlet_Type\n",
      "1      Medium               Tier 1 Supermarket Type1\n",
      "2                           Tier 2 Supermarket Type1\n",
      "3                           Tier 3     Grocery Store\n",
      "4                           Tier 2 Supermarket Type1\n",
      "5      Medium               Tier 3 Supermarket Type3\n",
      "6       Small               Tier 1 Supermarket Type1\n"
     ]
    }
   ],
   "source": [
    "test = read.csv(\"Test.csv\")\n",
    "test = data.frame(test)\n",
    "print(head(test))"
   ]
  },
  {
   "cell_type": "code",
   "execution_count": 6,
   "id": "057a78e5",
   "metadata": {},
   "outputs": [
    {
     "name": "stdout",
     "output_type": "stream",
     "text": [
      "  Item_Identifier Item_Weight Item_Fat_Content Item_Visibility\n",
      "1           FDA15       9.300          Low Fat      0.01604730\n",
      "2           DRC01       5.920          Regular      0.01927822\n",
      "3           FDN15      17.500          Low Fat      0.01676007\n",
      "4           FDX07      19.200          Regular      0.00000000\n",
      "5           NCD19       8.930          Low Fat      0.00000000\n",
      "6           FDP36      10.395          Regular      0.00000000\n",
      "              Item_Type Item_MRP Outlet_Identifier Outlet_Establishment_Year\n",
      "1                 Dairy 249.8092            OUT049                      1999\n",
      "2           Soft Drinks  48.2692            OUT018                      2009\n",
      "3                  Meat 141.6180            OUT049                      1999\n",
      "4 Fruits and Vegetables 182.0950            OUT010                      1998\n",
      "5             Household  53.8614            OUT013                      1987\n",
      "6          Baking Goods  51.4008            OUT018                      2009\n",
      "  Outlet_Size Outlet_Location_Type       Outlet_Type Item_Outlet_Sales\n",
      "1      Medium               Tier 1 Supermarket Type1         3735.1380\n",
      "2      Medium               Tier 3 Supermarket Type2          443.4228\n",
      "3      Medium               Tier 1 Supermarket Type1         2097.2700\n",
      "4                           Tier 3     Grocery Store          732.3800\n",
      "5        High               Tier 3 Supermarket Type1          994.7052\n",
      "6      Medium               Tier 3 Supermarket Type2          556.6088\n"
     ]
    }
   ],
   "source": [
    "x <- sapply( train, is.character)\n",
    "train[x] <- lapply( train[i], factor)\n",
    "train[x] <- lapply(train[i], as.numeric)\n",
    "train  = na.omit(train)\n",
    "print(head(train))"
   ]
  },
  {
   "cell_type": "code",
   "execution_count": 7,
   "id": "5b7d70d5",
   "metadata": {},
   "outputs": [
    {
     "name": "stdout",
     "output_type": "stream",
     "text": [
      "  Item_Identifier Item_Weight Item_Fat_Content Item_Visibility\n",
      "1           FDW58      20.750          Low Fat     0.007564836\n",
      "2           FDW14       8.300              reg     0.038427677\n",
      "3           NCN55      14.600          Low Fat     0.099574908\n",
      "4           FDQ58       7.315          Low Fat     0.015388393\n",
      "6           FDH56       9.800          Regular     0.063817206\n",
      "7           FDL48      19.350          Regular     0.082601537\n",
      "              Item_Type Item_MRP Outlet_Identifier Outlet_Establishment_Year\n",
      "1           Snack Foods 107.8622            OUT049                      1999\n",
      "2                 Dairy  87.3198            OUT017                      2007\n",
      "3                Others 241.7538            OUT010                      1998\n",
      "4           Snack Foods 155.0340            OUT017                      2007\n",
      "6 Fruits and Vegetables 117.1492            OUT046                      1997\n",
      "7          Baking Goods  50.1034            OUT018                      2009\n",
      "  Outlet_Size Outlet_Location_Type       Outlet_Type\n",
      "1      Medium               Tier 1 Supermarket Type1\n",
      "2                           Tier 2 Supermarket Type1\n",
      "3                           Tier 3     Grocery Store\n",
      "4                           Tier 2 Supermarket Type1\n",
      "6       Small               Tier 1 Supermarket Type1\n",
      "7      Medium               Tier 3 Supermarket Type2\n"
     ]
    }
   ],
   "source": [
    "y <- sapply( test, is.character)\n",
    "test[y] <- lapply( test[i], factor)\n",
    "test[y] <- lapply(test[i], as.numeric)\n",
    "test  = na.omit(test)\n",
    "print(head(test))"
   ]
  },
  {
   "cell_type": "code",
   "execution_count": 9,
   "id": "fd9a0395",
   "metadata": {},
   "outputs": [
    {
     "name": "stdout",
     "output_type": "stream",
     "text": [
      "\n",
      "Call:  glmnet(x = train[, 1:10], y = train$Item_Outlet_Sales, alpha = 0,      lambda = 0.1) \n",
      "\n",
      "  Df %Dev Lambda\n",
      "1 10   42    0.1\n"
     ]
    }
   ],
   "source": [
    "# Ridge Regression \n",
    "ridgeReg = glmnet(train[,1:10], train$Item_Outlet_Sales, alpha = 0, lambda = 0.1)\n",
    "\n",
    "#Model\n",
    "print((ridgeReg))"
   ]
  },
  {
   "cell_type": "code",
   "execution_count": 13,
   "id": "b63b7e01",
   "metadata": {},
   "outputs": [],
   "source": [
    "# Multiple regression \n",
    "multreg <- lm(train$Item_Outlet_Sales ~ train$Item_Weight+ train$Item_Visibility, data = train)"
   ]
  },
  {
   "cell_type": "code",
   "execution_count": 14,
   "id": "7fe37a4c",
   "metadata": {},
   "outputs": [
    {
     "name": "stdout",
     "output_type": "stream",
     "text": [
      "\n",
      "Call:\n",
      "lm(formula = train$Item_Outlet_Sales ~ train$Item_Weight + train$Item_Visibility, \n",
      "    data = train)\n",
      "\n",
      "Coefficients:\n",
      "          (Intercept)      train$Item_Weight  train$Item_Visibility  \n",
      "             2235.506                  4.269              -2685.388  \n",
      "\n"
     ]
    }
   ],
   "source": [
    "print(multreg)"
   ]
  },
  {
   "cell_type": "code",
   "execution_count": 15,
   "id": "cd3bc7d7",
   "metadata": {},
   "outputs": [
    {
     "name": "stdout",
     "output_type": "stream",
     "text": [
      "\n",
      "Call:\n",
      "lm(formula = train$Item_Outlet_Sales ~ train$Item_Weight + train$Item_Visibility, \n",
      "    data = train)\n",
      "\n",
      "Residuals:\n",
      "    Min      1Q  Median      3Q     Max \n",
      "-2275.6 -1194.3  -335.4   831.3  8010.1 \n",
      "\n",
      "Coefficients:\n",
      "                       Estimate Std. Error t value Pr(>|t|)    \n",
      "(Intercept)            2235.506     58.934  37.932  < 2e-16 ***\n",
      "train$Item_Weight         4.269      3.917   1.090    0.276    \n",
      "train$Item_Visibility -2685.388    374.041  -7.179 7.72e-13 ***\n",
      "---\n",
      "Signif. codes:  0 '***' 0.001 '**' 0.01 '*' 0.05 '.' 0.1 ' ' 1\n",
      "\n",
      "Residual standard error: 1528 on 7057 degrees of freedom\n",
      "Multiple R-squared:  0.007449,\tAdjusted R-squared:  0.007168 \n",
      "F-statistic: 26.48 on 2 and 7057 DF,  p-value: 3.487e-12\n",
      "\n"
     ]
    }
   ],
   "source": [
    "print(summary(multreg))"
   ]
  },
  {
   "cell_type": "code",
   "execution_count": null,
   "id": "625e9402",
   "metadata": {},
   "outputs": [],
   "source": []
  }
 ],
 "metadata": {
  "kernelspec": {
   "display_name": "R",
   "language": "R",
   "name": "ir"
  },
  "language_info": {
   "codemirror_mode": "r",
   "file_extension": ".r",
   "mimetype": "text/x-r-source",
   "name": "R",
   "pygments_lexer": "r",
   "version": "3.6.1"
  }
 },
 "nbformat": 4,
 "nbformat_minor": 5
}
